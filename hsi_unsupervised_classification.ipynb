{
 "cells": [
  {
   "cell_type": "code",
   "execution_count": 1,
   "metadata": {},
   "outputs": [],
   "source": [
    "import numpy as np\n",
    "import pandas as pd\n",
    "import matplotlib.pyplot as plt\n",
    "\n",
    "%matplotlib notebook"
   ]
  },
  {
   "cell_type": "code",
   "execution_count": 2,
   "metadata": {},
   "outputs": [],
   "source": [
    "features = pd.read_csv(\"../features/features_all.csv\")"
   ]
  },
  {
   "cell_type": "code",
   "execution_count": 25,
   "metadata": {},
   "outputs": [],
   "source": [
    "cols = features.columns\n",
    "features = features[cols[3:-1]]"
   ]
  },
  {
   "cell_type": "code",
   "execution_count": 26,
   "metadata": {
    "scrolled": true
   },
   "outputs": [
    {
     "data": {
      "text/html": [
       "<div>\n",
       "<style scoped>\n",
       "    .dataframe tbody tr th:only-of-type {\n",
       "        vertical-align: middle;\n",
       "    }\n",
       "\n",
       "    .dataframe tbody tr th {\n",
       "        vertical-align: top;\n",
       "    }\n",
       "\n",
       "    .dataframe thead th {\n",
       "        text-align: right;\n",
       "    }\n",
       "</style>\n",
       "<table border=\"1\" class=\"dataframe\">\n",
       "  <thead>\n",
       "    <tr style=\"text-align: right;\">\n",
       "      <th></th>\n",
       "      <th>2</th>\n",
       "      <th>3</th>\n",
       "      <th>4</th>\n",
       "      <th>5</th>\n",
       "      <th>6</th>\n",
       "      <th>7</th>\n",
       "      <th>8</th>\n",
       "      <th>9</th>\n",
       "      <th>10</th>\n",
       "      <th>11</th>\n",
       "      <th>...</th>\n",
       "      <th>42</th>\n",
       "      <th>43</th>\n",
       "      <th>44</th>\n",
       "      <th>45</th>\n",
       "      <th>46</th>\n",
       "      <th>47</th>\n",
       "      <th>48</th>\n",
       "      <th>49</th>\n",
       "      <th>50</th>\n",
       "      <th>51</th>\n",
       "    </tr>\n",
       "  </thead>\n",
       "  <tbody>\n",
       "    <tr>\n",
       "      <th>count</th>\n",
       "      <td>69211.000000</td>\n",
       "      <td>69211.000000</td>\n",
       "      <td>69211.000000</td>\n",
       "      <td>69211.000000</td>\n",
       "      <td>69211.000000</td>\n",
       "      <td>69211.000000</td>\n",
       "      <td>69211.000000</td>\n",
       "      <td>69211.000000</td>\n",
       "      <td>69211.000000</td>\n",
       "      <td>69211.000000</td>\n",
       "      <td>...</td>\n",
       "      <td>69211.000000</td>\n",
       "      <td>69211.000000</td>\n",
       "      <td>69211.000000</td>\n",
       "      <td>69211.000000</td>\n",
       "      <td>69211.000000</td>\n",
       "      <td>69211.000000</td>\n",
       "      <td>69211.000000</td>\n",
       "      <td>69211.000000</td>\n",
       "      <td>69211.000000</td>\n",
       "      <td>69211.000000</td>\n",
       "    </tr>\n",
       "    <tr>\n",
       "      <th>mean</th>\n",
       "      <td>20382.085032</td>\n",
       "      <td>1538.416939</td>\n",
       "      <td>2149.545279</td>\n",
       "      <td>2288.642601</td>\n",
       "      <td>2488.672156</td>\n",
       "      <td>2979.230919</td>\n",
       "      <td>3707.544789</td>\n",
       "      <td>4781.430582</td>\n",
       "      <td>5105.266605</td>\n",
       "      <td>5378.896914</td>\n",
       "      <td>...</td>\n",
       "      <td>5334.144067</td>\n",
       "      <td>6972.647657</td>\n",
       "      <td>7595.947277</td>\n",
       "      <td>7941.842973</td>\n",
       "      <td>7570.346332</td>\n",
       "      <td>6923.324558</td>\n",
       "      <td>6717.557440</td>\n",
       "      <td>6180.055266</td>\n",
       "      <td>6453.175478</td>\n",
       "      <td>5927.303651</td>\n",
       "    </tr>\n",
       "    <tr>\n",
       "      <th>std</th>\n",
       "      <td>5188.060830</td>\n",
       "      <td>4947.776145</td>\n",
       "      <td>4911.626137</td>\n",
       "      <td>4904.180568</td>\n",
       "      <td>4893.369527</td>\n",
       "      <td>4867.506315</td>\n",
       "      <td>4835.662615</td>\n",
       "      <td>4808.263679</td>\n",
       "      <td>4808.682455</td>\n",
       "      <td>4809.003921</td>\n",
       "      <td>...</td>\n",
       "      <td>5092.697548</td>\n",
       "      <td>5143.115274</td>\n",
       "      <td>5200.259194</td>\n",
       "      <td>5222.354007</td>\n",
       "      <td>5220.413679</td>\n",
       "      <td>5187.553934</td>\n",
       "      <td>5207.223368</td>\n",
       "      <td>5185.069095</td>\n",
       "      <td>5247.016385</td>\n",
       "      <td>5208.690989</td>\n",
       "    </tr>\n",
       "    <tr>\n",
       "      <th>min</th>\n",
       "      <td>7149.000000</td>\n",
       "      <td>0.000000</td>\n",
       "      <td>669.333333</td>\n",
       "      <td>586.000000</td>\n",
       "      <td>873.000000</td>\n",
       "      <td>1116.250000</td>\n",
       "      <td>1495.363636</td>\n",
       "      <td>1986.750000</td>\n",
       "      <td>2068.000000</td>\n",
       "      <td>2145.363636</td>\n",
       "      <td>...</td>\n",
       "      <td>1550.000000</td>\n",
       "      <td>2019.000000</td>\n",
       "      <td>2068.000000</td>\n",
       "      <td>2209.000000</td>\n",
       "      <td>2135.000000</td>\n",
       "      <td>1853.000000</td>\n",
       "      <td>1747.000000</td>\n",
       "      <td>1457.000000</td>\n",
       "      <td>1420.000000</td>\n",
       "      <td>1250.000000</td>\n",
       "    </tr>\n",
       "    <tr>\n",
       "      <th>25%</th>\n",
       "      <td>17486.860063</td>\n",
       "      <td>931.154656</td>\n",
       "      <td>1440.238286</td>\n",
       "      <td>1554.063003</td>\n",
       "      <td>1719.539976</td>\n",
       "      <td>2127.478068</td>\n",
       "      <td>2721.676115</td>\n",
       "      <td>3589.814354</td>\n",
       "      <td>3840.300000</td>\n",
       "      <td>4056.666822</td>\n",
       "      <td>...</td>\n",
       "      <td>3708.000000</td>\n",
       "      <td>4914.000000</td>\n",
       "      <td>5327.000000</td>\n",
       "      <td>5593.000000</td>\n",
       "      <td>5267.000000</td>\n",
       "      <td>4816.000000</td>\n",
       "      <td>4628.000000</td>\n",
       "      <td>4215.000000</td>\n",
       "      <td>4347.000000</td>\n",
       "      <td>3956.000000</td>\n",
       "    </tr>\n",
       "    <tr>\n",
       "      <th>50%</th>\n",
       "      <td>19794.666667</td>\n",
       "      <td>1107.945946</td>\n",
       "      <td>1718.138889</td>\n",
       "      <td>1857.962963</td>\n",
       "      <td>2059.110294</td>\n",
       "      <td>2551.655172</td>\n",
       "      <td>3278.089744</td>\n",
       "      <td>4340.800000</td>\n",
       "      <td>4650.178571</td>\n",
       "      <td>4915.877358</td>\n",
       "      <td>...</td>\n",
       "      <td>4983.000000</td>\n",
       "      <td>6641.000000</td>\n",
       "      <td>7244.000000</td>\n",
       "      <td>7591.000000</td>\n",
       "      <td>7215.000000</td>\n",
       "      <td>6538.000000</td>\n",
       "      <td>6297.000000</td>\n",
       "      <td>5746.000000</td>\n",
       "      <td>5972.000000</td>\n",
       "      <td>5459.000000</td>\n",
       "    </tr>\n",
       "    <tr>\n",
       "      <th>75%</th>\n",
       "      <td>22430.821056</td>\n",
       "      <td>1310.394053</td>\n",
       "      <td>2022.941676</td>\n",
       "      <td>2189.252500</td>\n",
       "      <td>2429.329060</td>\n",
       "      <td>3023.191323</td>\n",
       "      <td>3900.634097</td>\n",
       "      <td>5175.566667</td>\n",
       "      <td>5553.674242</td>\n",
       "      <td>5884.034077</td>\n",
       "      <td>...</td>\n",
       "      <td>6043.000000</td>\n",
       "      <td>8074.000000</td>\n",
       "      <td>8872.000000</td>\n",
       "      <td>9280.000000</td>\n",
       "      <td>8866.000000</td>\n",
       "      <td>8047.000000</td>\n",
       "      <td>7813.000000</td>\n",
       "      <td>7159.000000</td>\n",
       "      <td>7533.000000</td>\n",
       "      <td>6899.000000</td>\n",
       "    </tr>\n",
       "    <tr>\n",
       "      <th>max</th>\n",
       "      <td>65535.000000</td>\n",
       "      <td>65535.000000</td>\n",
       "      <td>65535.000000</td>\n",
       "      <td>65535.000000</td>\n",
       "      <td>65535.000000</td>\n",
       "      <td>65535.000000</td>\n",
       "      <td>65535.000000</td>\n",
       "      <td>65535.000000</td>\n",
       "      <td>65535.000000</td>\n",
       "      <td>65535.000000</td>\n",
       "      <td>...</td>\n",
       "      <td>65535.000000</td>\n",
       "      <td>65535.000000</td>\n",
       "      <td>65535.000000</td>\n",
       "      <td>65535.000000</td>\n",
       "      <td>65535.000000</td>\n",
       "      <td>65535.000000</td>\n",
       "      <td>65535.000000</td>\n",
       "      <td>65535.000000</td>\n",
       "      <td>65535.000000</td>\n",
       "      <td>65535.000000</td>\n",
       "    </tr>\n",
       "  </tbody>\n",
       "</table>\n",
       "<p>8 rows × 50 columns</p>\n",
       "</div>"
      ],
      "text/plain": [
       "                  2             3             4             5             6  \\\n",
       "count  69211.000000  69211.000000  69211.000000  69211.000000  69211.000000   \n",
       "mean   20382.085032   1538.416939   2149.545279   2288.642601   2488.672156   \n",
       "std     5188.060830   4947.776145   4911.626137   4904.180568   4893.369527   \n",
       "min     7149.000000      0.000000    669.333333    586.000000    873.000000   \n",
       "25%    17486.860063    931.154656   1440.238286   1554.063003   1719.539976   \n",
       "50%    19794.666667   1107.945946   1718.138889   1857.962963   2059.110294   \n",
       "75%    22430.821056   1310.394053   2022.941676   2189.252500   2429.329060   \n",
       "max    65535.000000  65535.000000  65535.000000  65535.000000  65535.000000   \n",
       "\n",
       "                  7             8             9            10            11  \\\n",
       "count  69211.000000  69211.000000  69211.000000  69211.000000  69211.000000   \n",
       "mean    2979.230919   3707.544789   4781.430582   5105.266605   5378.896914   \n",
       "std     4867.506315   4835.662615   4808.263679   4808.682455   4809.003921   \n",
       "min     1116.250000   1495.363636   1986.750000   2068.000000   2145.363636   \n",
       "25%     2127.478068   2721.676115   3589.814354   3840.300000   4056.666822   \n",
       "50%     2551.655172   3278.089744   4340.800000   4650.178571   4915.877358   \n",
       "75%     3023.191323   3900.634097   5175.566667   5553.674242   5884.034077   \n",
       "max    65535.000000  65535.000000  65535.000000  65535.000000  65535.000000   \n",
       "\n",
       "           ...                 42            43            44            45  \\\n",
       "count      ...       69211.000000  69211.000000  69211.000000  69211.000000   \n",
       "mean       ...        5334.144067   6972.647657   7595.947277   7941.842973   \n",
       "std        ...        5092.697548   5143.115274   5200.259194   5222.354007   \n",
       "min        ...        1550.000000   2019.000000   2068.000000   2209.000000   \n",
       "25%        ...        3708.000000   4914.000000   5327.000000   5593.000000   \n",
       "50%        ...        4983.000000   6641.000000   7244.000000   7591.000000   \n",
       "75%        ...        6043.000000   8074.000000   8872.000000   9280.000000   \n",
       "max        ...       65535.000000  65535.000000  65535.000000  65535.000000   \n",
       "\n",
       "                 46            47            48            49            50  \\\n",
       "count  69211.000000  69211.000000  69211.000000  69211.000000  69211.000000   \n",
       "mean    7570.346332   6923.324558   6717.557440   6180.055266   6453.175478   \n",
       "std     5220.413679   5187.553934   5207.223368   5185.069095   5247.016385   \n",
       "min     2135.000000   1853.000000   1747.000000   1457.000000   1420.000000   \n",
       "25%     5267.000000   4816.000000   4628.000000   4215.000000   4347.000000   \n",
       "50%     7215.000000   6538.000000   6297.000000   5746.000000   5972.000000   \n",
       "75%     8866.000000   8047.000000   7813.000000   7159.000000   7533.000000   \n",
       "max    65535.000000  65535.000000  65535.000000  65535.000000  65535.000000   \n",
       "\n",
       "                 51  \n",
       "count  69211.000000  \n",
       "mean    5927.303651  \n",
       "std     5208.690989  \n",
       "min     1250.000000  \n",
       "25%     3956.000000  \n",
       "50%     5459.000000  \n",
       "75%     6899.000000  \n",
       "max    65535.000000  \n",
       "\n",
       "[8 rows x 50 columns]"
      ]
     },
     "execution_count": 26,
     "metadata": {},
     "output_type": "execute_result"
    }
   ],
   "source": [
    "features.describe()"
   ]
  },
  {
   "cell_type": "code",
   "execution_count": 50,
   "metadata": {},
   "outputs": [],
   "source": [
    "from sklearn.preprocessing import StandardScaler\n",
    "\n",
    "features_n = StandardScaler().fit_transform(features[outliers==0])"
   ]
  },
  {
   "cell_type": "code",
   "execution_count": 51,
   "metadata": {},
   "outputs": [
    {
     "data": {
      "image/png": "[encoded data removed]",
      "text/plain": [
       "<Figure size 432x288 with 56 Axes>"
      ]
     },
     "metadata": {},
     "output_type": "display_data"
    }
   ],
   "source": [
    "features.hist()\n",
    "plt.show()"
   ]
  },
  {
   "cell_type": "code",
   "execution_count": 52,
   "metadata": {},
   "outputs": [
    {
     "data": {
      "text/plain": [
       "<matplotlib.colorbar.Colorbar at 0x7f4f18bd8f60>"
      ]
     },
     "execution_count": 52,
     "metadata": {},
     "output_type": "execute_result"
    },
    {
     "data": {
      "image/png": "[encoded data removed]",
      "text/plain": [
       "<Figure size 288x288 with 2 Axes>"
      ]
     },
     "metadata": {},
     "output_type": "display_data"
    }
   ],
   "source": [
    "plt.matshow(features.corr())\n",
    "plt.colorbar()"
   ]
  },
  {
   "cell_type": "code",
   "execution_count": 53,
   "metadata": {},
   "outputs": [],
   "source": [
    "from sklearn.decomposition import PCA\n",
    "\n",
    "pca = PCA(n_components=2).fit(features_n)"
   ]
  },
  {
   "cell_type": "code",
   "execution_count": 54,
   "metadata": {},
   "outputs": [],
   "source": [
    "features_pca = pca.transform(features_n)"
   ]
  },
  {
   "cell_type": "code",
   "execution_count": 55,
   "metadata": {},
   "outputs": [
    {
     "data": {
      "text/plain": [
       "(68760, 2)"
      ]
     },
     "execution_count": 55,
     "metadata": {},
     "output_type": "execute_result"
    }
   ],
   "source": [
    "features_pca.shape"
   ]
  },
  {
   "cell_type": "code",
   "execution_count": 56,
   "metadata": {},
   "outputs": [
    {
     "data": {
      "text/plain": [
       "<matplotlib.collections.PathCollection at 0x7f4f0e101710>"
      ]
     },
     "execution_count": 56,
     "metadata": {},
     "output_type": "execute_result"
    },
    {
     "data": {
      "image/png": "[encoded data removed]",
      "text/plain": [
       "<Figure size 432x288 with 1 Axes>"
      ]
     },
     "metadata": {},
     "output_type": "display_data"
    }
   ],
   "source": [
    "plt.figure()\n",
    "plt.scatter(features_pca[:,0],features_pca[:,1])"
   ]
  },
  {
   "cell_type": "code",
   "execution_count": 60,
   "metadata": {},
   "outputs": [],
   "source": [
    "from sklearn.cluster import KMeans, SpectralClustering\n",
    "\n",
    "kmeans = KMeans(n_clusters=2, random_state=0, init = 'random').fit(features_n)\n",
    "\n",
    "labels = kmeans.predict(features_n)"
   ]
  },
  {
   "cell_type": "code",
   "execution_count": 58,
   "metadata": {},
   "outputs": [
    {
     "data": {
      "text/plain": [
       "<matplotlib.collections.PathCollection at 0x7f4f20f77518>"
      ]
     },
     "execution_count": 58,
     "metadata": {},
     "output_type": "execute_result"
    },
    {
     "data": {
      "image/png": "[encoded data removed]",
      "text/plain": [
       "<Figure size 432x288 with 1 Axes>"
      ]
     },
     "metadata": {},
     "output_type": "display_data"
    }
   ],
   "source": [
    "plt.figure()\n",
    "plt.scatter(features_pca[:,0],features_pca[:,1],c=labels)"
   ]
  },
  {
   "cell_type": "code",
   "execution_count": 62,
   "metadata": {},
   "outputs": [
    {
     "ename": "MemoryError",
     "evalue": "",
     "output_type": "error",
     "traceback": [
      "\u001b[0;31m---------------------------------------------------------------------------\u001b[0m",
      "\u001b[0;31mMemoryError\u001b[0m                               Traceback (most recent call last)",
      "\u001b[0;32m<ipython-input-62-f13f85bb627c>\u001b[0m in \u001b[0;36m<module>\u001b[0;34m()\u001b[0m\n\u001b[1;32m      1\u001b[0m spectral = SpectralClustering(n_clusters=2, eigen_solver='arpack',\n\u001b[0;32m----> 2\u001b[0;31m         affinity=\"nearest_neighbors\").fit(features_n)\n\u001b[0m\u001b[1;32m      3\u001b[0m \u001b[0;34m\u001b[0m\u001b[0m\n\u001b[1;32m      4\u001b[0m \u001b[0mlabels\u001b[0m \u001b[0;34m=\u001b[0m \u001b[0mspectral\u001b[0m\u001b[0;34m.\u001b[0m\u001b[0mpredict\u001b[0m\u001b[0;34m(\u001b[0m\u001b[0mfeatures_n\u001b[0m\u001b[0;34m)\u001b[0m\u001b[0;34m\u001b[0m\u001b[0m\n",
      "\u001b[0;32m~/anaconda3/envs/skoltech/lib/python3.6/site-packages/sklearn/cluster/spectral.py\u001b[0m in \u001b[0;36mfit\u001b[0;34m(self, X, y)\u001b[0m\n\u001b[1;32m    470\u001b[0m                                            \u001b[0mn_init\u001b[0m\u001b[0;34m=\u001b[0m\u001b[0mself\u001b[0m\u001b[0;34m.\u001b[0m\u001b[0mn_init\u001b[0m\u001b[0;34m,\u001b[0m\u001b[0;34m\u001b[0m\u001b[0m\n\u001b[1;32m    471\u001b[0m                                            \u001b[0meigen_tol\u001b[0m\u001b[0;34m=\u001b[0m\u001b[0mself\u001b[0m\u001b[0;34m.\u001b[0m\u001b[0meigen_tol\u001b[0m\u001b[0;34m,\u001b[0m\u001b[0;34m\u001b[0m\u001b[0m\n\u001b[0;32m--> 472\u001b[0;31m                                            assign_labels=self.assign_labels)\n\u001b[0m\u001b[1;32m    473\u001b[0m         \u001b[0;32mreturn\u001b[0m \u001b[0mself\u001b[0m\u001b[0;34m\u001b[0m\u001b[0m\n\u001b[1;32m    474\u001b[0m \u001b[0;34m\u001b[0m\u001b[0m\n",
      "\u001b[0;32m~/anaconda3/envs/skoltech/lib/python3.6/site-packages/sklearn/cluster/spectral.py\u001b[0m in \u001b[0;36mspectral_clustering\u001b[0;34m(affinity, n_clusters, n_components, eigen_solver, random_state, n_init, eigen_tol, assign_labels)\u001b[0m\n\u001b[1;32m    260\u001b[0m                               \u001b[0meigen_solver\u001b[0m\u001b[0;34m=\u001b[0m\u001b[0meigen_solver\u001b[0m\u001b[0;34m,\u001b[0m\u001b[0;34m\u001b[0m\u001b[0m\n\u001b[1;32m    261\u001b[0m                               \u001b[0mrandom_state\u001b[0m\u001b[0;34m=\u001b[0m\u001b[0mrandom_state\u001b[0m\u001b[0;34m,\u001b[0m\u001b[0;34m\u001b[0m\u001b[0m\n\u001b[0;32m--> 262\u001b[0;31m                               eigen_tol=eigen_tol, drop_first=False)\n\u001b[0m\u001b[1;32m    263\u001b[0m \u001b[0;34m\u001b[0m\u001b[0m\n\u001b[1;32m    264\u001b[0m     \u001b[0;32mif\u001b[0m \u001b[0massign_labels\u001b[0m \u001b[0;34m==\u001b[0m \u001b[0;34m'kmeans'\u001b[0m\u001b[0;34m:\u001b[0m\u001b[0;34m\u001b[0m\u001b[0m\n",
      "\u001b[0;32m~/anaconda3/envs/skoltech/lib/python3.6/site-packages/sklearn/manifold/spectral_embedding_.py\u001b[0m in \u001b[0;36mspectral_embedding\u001b[0;34m(adjacency, n_components, eigen_solver, random_state, eigen_tol, norm_laplacian, drop_first)\u001b[0m\n\u001b[1;32m    268\u001b[0m             lambdas, diffusion_map = eigsh(laplacian, k=n_components,\n\u001b[1;32m    269\u001b[0m                                            \u001b[0msigma\u001b[0m\u001b[0;34m=\u001b[0m\u001b[0;36m1.0\u001b[0m\u001b[0;34m,\u001b[0m \u001b[0mwhich\u001b[0m\u001b[0;34m=\u001b[0m\u001b[0;34m'LM'\u001b[0m\u001b[0;34m,\u001b[0m\u001b[0;34m\u001b[0m\u001b[0m\n\u001b[0;32m--> 270\u001b[0;31m                                            tol=eigen_tol, v0=v0)\n\u001b[0m\u001b[1;32m    271\u001b[0m             \u001b[0membedding\u001b[0m \u001b[0;34m=\u001b[0m \u001b[0mdiffusion_map\u001b[0m\u001b[0;34m.\u001b[0m\u001b[0mT\u001b[0m\u001b[0;34m[\u001b[0m\u001b[0mn_components\u001b[0m\u001b[0;34m:\u001b[0m\u001b[0;34m:\u001b[0m\u001b[0;34m-\u001b[0m\u001b[0;36m1\u001b[0m\u001b[0;34m]\u001b[0m \u001b[0;34m*\u001b[0m \u001b[0mdd\u001b[0m\u001b[0;34m\u001b[0m\u001b[0m\n\u001b[1;32m    272\u001b[0m         \u001b[0;32mexcept\u001b[0m \u001b[0mRuntimeError\u001b[0m\u001b[0;34m:\u001b[0m\u001b[0;34m\u001b[0m\u001b[0m\n",
      "\u001b[0;32m~/anaconda3/envs/skoltech/lib/python3.6/site-packages/scipy/sparse/linalg/eigen/arpack/arpack.py\u001b[0m in \u001b[0;36meigsh\u001b[0;34m(A, k, M, sigma, which, v0, ncv, maxiter, tol, return_eigenvectors, Minv, OPinv, mode)\u001b[0m\n\u001b[1;32m   1604\u001b[0m             \u001b[0;32mif\u001b[0m \u001b[0mOPinv\u001b[0m \u001b[0;32mis\u001b[0m \u001b[0;32mNone\u001b[0m\u001b[0;34m:\u001b[0m\u001b[0;34m\u001b[0m\u001b[0m\n\u001b[1;32m   1605\u001b[0m                 Minv_matvec = get_OPinv_matvec(A, M, sigma,\n\u001b[0;32m-> 1606\u001b[0;31m                                                symmetric=True, tol=tol)\n\u001b[0m\u001b[1;32m   1607\u001b[0m             \u001b[0;32melse\u001b[0m\u001b[0;34m:\u001b[0m\u001b[0;34m\u001b[0m\u001b[0m\n\u001b[1;32m   1608\u001b[0m                 \u001b[0mOPinv\u001b[0m \u001b[0;34m=\u001b[0m \u001b[0m_aslinearoperator_with_dtype\u001b[0m\u001b[0;34m(\u001b[0m\u001b[0mOPinv\u001b[0m\u001b[0;34m)\u001b[0m\u001b[0;34m\u001b[0m\u001b[0m\n",
      "\u001b[0;32m~/anaconda3/envs/skoltech/lib/python3.6/site-packages/scipy/sparse/linalg/eigen/arpack/arpack.py\u001b[0m in \u001b[0;36mget_OPinv_matvec\u001b[0;34m(A, M, sigma, symmetric, tol)\u001b[0m\n\u001b[1;32m   1056\u001b[0m             \u001b[0;32mif\u001b[0m \u001b[0msymmetric\u001b[0m \u001b[0;32mand\u001b[0m \u001b[0misspmatrix_csr\u001b[0m\u001b[0;34m(\u001b[0m\u001b[0mA\u001b[0m\u001b[0;34m)\u001b[0m\u001b[0;34m:\u001b[0m\u001b[0;34m\u001b[0m\u001b[0m\n\u001b[1;32m   1057\u001b[0m                 \u001b[0mA\u001b[0m \u001b[0;34m=\u001b[0m \u001b[0mA\u001b[0m\u001b[0;34m.\u001b[0m\u001b[0mT\u001b[0m\u001b[0;34m\u001b[0m\u001b[0m\n\u001b[0;32m-> 1058\u001b[0;31m             \u001b[0;32mreturn\u001b[0m \u001b[0mSpLuInv\u001b[0m\u001b[0;34m(\u001b[0m\u001b[0mA\u001b[0m\u001b[0;34m.\u001b[0m\u001b[0mtocsc\u001b[0m\u001b[0;34m(\u001b[0m\u001b[0;34m)\u001b[0m\u001b[0;34m)\u001b[0m\u001b[0;34m.\u001b[0m\u001b[0mmatvec\u001b[0m\u001b[0;34m\u001b[0m\u001b[0m\n\u001b[0m\u001b[1;32m   1059\u001b[0m         \u001b[0;32melse\u001b[0m\u001b[0;34m:\u001b[0m\u001b[0;34m\u001b[0m\u001b[0m\n\u001b[1;32m   1060\u001b[0m             return IterOpInv(_aslinearoperator_with_dtype(A),\n",
      "\u001b[0;32m~/anaconda3/envs/skoltech/lib/python3.6/site-packages/scipy/sparse/linalg/eigen/arpack/arpack.py\u001b[0m in \u001b[0;36m__init__\u001b[0;34m(self, M)\u001b[0m\n\u001b[1;32m    906\u001b[0m     \"\"\"\n\u001b[1;32m    907\u001b[0m     \u001b[0;32mdef\u001b[0m \u001b[0m__init__\u001b[0m\u001b[0;34m(\u001b[0m\u001b[0mself\u001b[0m\u001b[0;34m,\u001b[0m \u001b[0mM\u001b[0m\u001b[0;34m)\u001b[0m\u001b[0;34m:\u001b[0m\u001b[0;34m\u001b[0m\u001b[0m\n\u001b[0;32m--> 908\u001b[0;31m         \u001b[0mself\u001b[0m\u001b[0;34m.\u001b[0m\u001b[0mM_lu\u001b[0m \u001b[0;34m=\u001b[0m \u001b[0msplu\u001b[0m\u001b[0;34m(\u001b[0m\u001b[0mM\u001b[0m\u001b[0;34m)\u001b[0m\u001b[0;34m\u001b[0m\u001b[0m\n\u001b[0m\u001b[1;32m    909\u001b[0m         \u001b[0mself\u001b[0m\u001b[0;34m.\u001b[0m\u001b[0mshape\u001b[0m \u001b[0;34m=\u001b[0m \u001b[0mM\u001b[0m\u001b[0;34m.\u001b[0m\u001b[0mshape\u001b[0m\u001b[0;34m\u001b[0m\u001b[0m\n\u001b[1;32m    910\u001b[0m         \u001b[0mself\u001b[0m\u001b[0;34m.\u001b[0m\u001b[0mdtype\u001b[0m \u001b[0;34m=\u001b[0m \u001b[0mM\u001b[0m\u001b[0;34m.\u001b[0m\u001b[0mdtype\u001b[0m\u001b[0;34m\u001b[0m\u001b[0m\n",
      "\u001b[0;32m~/anaconda3/envs/skoltech/lib/python3.6/site-packages/scipy/sparse/linalg/dsolve/linsolve.py\u001b[0m in \u001b[0;36msplu\u001b[0;34m(A, permc_spec, diag_pivot_thresh, relax, panel_size, options)\u001b[0m\n\u001b[1;32m    307\u001b[0m         \u001b[0m_options\u001b[0m\u001b[0;34m.\u001b[0m\u001b[0mupdate\u001b[0m\u001b[0;34m(\u001b[0m\u001b[0moptions\u001b[0m\u001b[0;34m)\u001b[0m\u001b[0;34m\u001b[0m\u001b[0m\n\u001b[1;32m    308\u001b[0m     return _superlu.gstrf(N, A.nnz, A.data, A.indices, A.indptr,\n\u001b[0;32m--> 309\u001b[0;31m                           ilu=False, options=_options)\n\u001b[0m\u001b[1;32m    310\u001b[0m \u001b[0;34m\u001b[0m\u001b[0m\n\u001b[1;32m    311\u001b[0m \u001b[0;34m\u001b[0m\u001b[0m\n",
      "\u001b[0;31mMemoryError\u001b[0m: "
     ]
    }
   ],
   "source": [
    "spectral = SpectralClustering(n_clusters=2, eigen_solver='arpack',\n",
    "        affinity=\"nearest_neighbors\").fit(features_n)\n",
    "\n",
    "labels = spectral.predict(features_n)"
   ]
  },
  {
   "cell_type": "code",
   "execution_count": null,
   "metadata": {},
   "outputs": [],
   "source": [
    "plt.figure()\n",
    "plt.scatter(features_pca[:,0],features_pca[:,1],c=labels)"
   ]
  },
  {
   "cell_type": "code",
   "execution_count": null,
   "metadata": {},
   "outputs": [],
   "source": [
    "unique, counts = np.unique(labels, return_counts=True)"
   ]
  },
  {
   "cell_type": "code",
   "execution_count": null,
   "metadata": {},
   "outputs": [],
   "source": [
    "dict(zip(unique, counts))"
   ]
  },
  {
   "cell_type": "code",
   "execution_count": 38,
   "metadata": {},
   "outputs": [],
   "source": [
    "outliers = labels "
   ]
  },
  {
   "cell_type": "code",
   "execution_count": 40,
   "metadata": {},
   "outputs": [
    {
     "data": {
      "text/plain": [
       "array([0, 0, 0, ..., 0, 0, 0], dtype=int32)"
      ]
     },
     "execution_count": 40,
     "metadata": {},
     "output_type": "execute_result"
    }
   ],
   "source": [
    "labels[labels==0]"
   ]
  },
  {
   "cell_type": "code",
   "execution_count": null,
   "metadata": {},
   "outputs": [],
   "source": []
  }
 ],
 "metadata": {
  "kernelspec": {
   "display_name": "Python [conda env:skoltech]",
   "language": "python",
   "name": "conda-env-skoltech-py"
  },
  "language_info": {
   "codemirror_mode": {
    "name": "ipython",
    "version": 3
   },
   "file_extension": ".py",
   "mimetype": "text/x-python",
   "name": "python",
   "nbconvert_exporter": "python",
   "pygments_lexer": "ipython3",
   "version": "3.6.5"
  },
  "toc": {
   "base_numbering": 1,
   "nav_menu": {},
   "number_sections": true,
   "sideBar": true,
   "skip_h1_title": false,
   "title_cell": "Table of Contents",
   "title_sidebar": "Contents",
   "toc_cell": false,
   "toc_position": {},
   "toc_section_display": true,
   "toc_window_display": false
  }
 },
 "nbformat": 4,
 "nbformat_minor": 2
}
