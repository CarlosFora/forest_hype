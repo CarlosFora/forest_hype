{
 "cells": [
  {
   "cell_type": "code",
   "execution_count": 1,
   "metadata": {},
   "outputs": [],
   "source": [
    "import laspy\n",
    "import sys\n",
    "import numpy as np\n",
    "from scipy.spatial import cKDTree\n",
    "import matplotlib.pyplot as plt\n",
    "import numpy as np\n",
    "from scipy.interpolate import griddata\n",
    "import rasterio\n",
    "from rasterio.transform import from_origin\n",
    "import os\n",
    "import time\n",
    "import math\n",
    "from scipy.ndimage.filters import gaussian_filter\n",
    "from scipy.ndimage.morphology import grey_dilation, grey_opening\n",
    "from scipy.ndimage import generate_binary_structure"
   ]
  },
  {
   "cell_type": "code",
   "execution_count": 2,
   "metadata": {},
   "outputs": [],
   "source": [
    "MIN_X_COOR_INDEX = 0\n",
    "MAX_X_COOR_INDEX = 1\n",
    "MIN_Y_COOR_INDEX = 2\n",
    "MAX_Y_COOR_INDEX = 3\n",
    "MAX_INT = sys.maxsize\n",
    "\n",
    "X = 0\n",
    "Y = 1\n",
    "H = 2\n",
    "PX = 3\n",
    "PY = 4\n",
    "P = 3"
   ]
  },
  {
   "cell_type": "code",
   "execution_count": 3,
   "metadata": {},
   "outputs": [
    {
     "name": "stdout",
     "output_type": "stream",
     "text": [
      "Successfully created the directory ../../data/lidar/thd_000026/ \n"
     ]
    }
   ],
   "source": [
    "#filename_las_in = \"../../data/lidar/thd_000029.las\"\n",
    "filename_las_in = \"/home/roberto/Documents/LIDAR_DATA/THD26/thd_000026.las\"\n",
    "path_output = \"../../data/lidar/thd_000026/\"\n",
    "try:  \n",
    "    os.mkdir(path_output)\n",
    "except OSError:  \n",
    "    print (\"Creation of the directory %s failed\" % path_output)\n",
    "else:  \n",
    "    print (\"Successfully created the directory %s \" % path_output)"
   ]
  },
  {
   "cell_type": "code",
   "execution_count": 4,
   "metadata": {},
   "outputs": [],
   "source": [
    "def get_classified_point_cloud(classification):\n",
    "    in_file = laspy.file.File(filename_las_in, mode = \"r\")\n",
    "    #out_file = open(sys.argv[2]+\".txt\", 'w')\n",
    "    point_records = in_file.points.copy()\n",
    "\n",
    "    print(\"Class = \"+str(classification))\n",
    "    trees_only = np.where(in_file.raw_classification == classification)\n",
    "\n",
    "    # pull out full point records of filtered points, and create an XYZ array for KDTree\n",
    "    trees_points = in_file.points[trees_only]\n",
    "\n",
    "    \n",
    "    array_x = []\n",
    "    array_y = []\n",
    "    array_z = []\n",
    "    #roi_xy = [MAX_INT, 0, MAX_INT, 0]\n",
    "    \n",
    "    for trees_point in trees_points:\n",
    "        #print(\"%.2f %.2f\" % (trees_point['point']['X'], trees_point['point']['Y']))\n",
    "        array_x.append(trees_point['point']['X']/100)\n",
    "        array_y.append(trees_point['point']['Y']/100)\n",
    "        array_z.append(trees_point['point']['Z']/100)\n",
    "        #out_file.write(\"%.2f %.2f %.2f\\n\" % (trees_point['point']['X']/100, trees_point['point']['Y']/100, trees_point['point']['Z']/100))\n",
    "    array_x = np.array(array_x)\n",
    "    array_y = np.array(array_y)  \n",
    "    array_z = np.array(array_z)\n",
    "    raster_roi = [np.min(array_x), np.max(array_x), np.min(array_y), np.max(array_y)]\n",
    "    return array_x, array_y, array_z, raster_roi\n"
   ]
  },
  {
   "cell_type": "code",
   "execution_count": null,
   "metadata": {},
   "outputs": [],
   "source": [
    "def save_raster(x_coor, y_coor, array, res,filename_out):\n",
    "    print(\"save_raster\")\n",
    "    array = np.flip(array, axis=0)\n",
    "    transform = from_origin(x_coor, y_coor, res, res)\n",
    "    chm_raster = rasterio.open(filename_out, 'w', driver='GTiff',\n",
    "                            height = array.shape[0], width = array.shape[1],\n",
    "                            count=1, dtype=str(array.dtype),\n",
    "                            crs='EPSG:32638',\n",
    "                            transform=transform)\n",
    "    chm_raster.write(array, 1)\n",
    "    chm_raster.close()\n",
    "    "
   ]
  },
  {
   "cell_type": "markdown",
   "metadata": {},
   "source": [
    "### Create raster for DTM"
   ]
  },
  {
   "cell_type": "code",
   "execution_count": null,
   "metadata": {},
   "outputs": [
    {
     "name": "stdout",
     "output_type": "stream",
     "text": [
      "Class = 2\n"
     ]
    }
   ],
   "source": [
    "x_array_ground, y_array_ground, z_array_ground, roi_ground = get_classified_point_cloud(2)\n",
    "\n",
    "# data coordinates and values\n",
    "x = np.array(x_array_ground)\n",
    "y = np.array(y_array_ground)\n",
    "z = np.array(z_array_ground)\n",
    "\n",
    "# target grid to interpolate to\n",
    "xi = np.arange(roi_ground[MIN_X_COOR_INDEX],roi_ground[MAX_X_COOR_INDEX],1)\n",
    "yi = np.arange(roi_ground[MIN_Y_COOR_INDEX],roi_ground[MAX_Y_COOR_INDEX],1)\n",
    "xi,yi = np.meshgrid(xi,yi)\n",
    "\n",
    "# interpolate\n",
    "zi = griddata((x,y),z,(xi,yi),method='linear')\n",
    "print(\"-----------------------------------------------------------\")\n",
    "filename_dtm = path_output+\"dtm.tif\"\n",
    "save_raster(roi_ground[MIN_X_COOR_INDEX], roi_ground[MAX_Y_COOR_INDEX],zi,1,filename_dtm)\n",
    "\n"
   ]
  },
  {
   "cell_type": "markdown",
   "metadata": {},
   "source": [
    "### Create CHM raster dimension"
   ]
  },
  {
   "cell_type": "code",
   "execution_count": null,
   "metadata": {},
   "outputs": [],
   "source": [
    "file_dtm_in = rasterio.open(filename_dtm)\n",
    "dtm_band = file_dtm_in.read(1)\n",
    "\n",
    "RES = 0.33 # 40cm\n",
    "\n",
    "x_array_surface, y_array_surface, z_array_surface, roi_surface = get_classified_point_cloud(5)\n",
    "\n",
    "raster_coor = [roi_ground[MIN_X_COOR_INDEX], \n",
    "               roi_ground[MAX_Y_COOR_INDEX],\n",
    "               roi_ground[MAX_X_COOR_INDEX] - roi_ground[MIN_X_COOR_INDEX],\n",
    "               roi_ground[MAX_Y_COOR_INDEX] - roi_ground[MIN_Y_COOR_INDEX]]  # [x0, y0, width, height]\n",
    "\n",
    "raster_size = [int(math.ceil(raster_coor[2]/RES)), int(math.ceil(raster_coor[3]/RES))]  # [num_cols, num_rows]\n",
    "\n",
    "print(raster_coor)\n",
    "print(raster_size)"
   ]
  },
  {
   "cell_type": "code",
   "execution_count": null,
   "metadata": {},
   "outputs": [],
   "source": [
    "file_dtm_in = rasterio.open(path_output+\"dtm.tif\")\n",
    "dtm_band = file_dtm_in.read(1)\n",
    "\n",
    "\n",
    "array = []\n",
    "for i in range(0, len(x_array_surface)):\n",
    "    values = [x_array_surface[i], y_array_surface[i], z_array_surface[i]]\n",
    "    # Need to read the raster with geographic coordinates instead\n",
    "    row, col = file_dtm_in.index(x_array_surface[i], y_array_surface[i])\n",
    "    dtm = dtm_band[row, col]\n",
    "    if dtm >= 0:\n",
    "        values[H] -= dtm   #Mean value of DTM\n",
    "    else:\n",
    "        values[H] = 0\n",
    "    pixel_coor_x = math.floor((values[X]-raster_coor[X]) / raster_coor[2] * raster_size[X])\n",
    "    #pixel_coor_y = raster_size[Y] - math.floor((values[Y]-raster_coor[Y]) / raster_coor[3] * raster_size[Y])\n",
    "    pixel_coor_y = raster_size[Y] - math.floor((raster_coor[Y]-values[Y]) / raster_coor[3] * raster_size[Y])\n",
    "    values.append(pixel_coor_x)\n",
    "    values.append(pixel_coor_y)\n",
    "    array.append(values)"
   ]
  },
  {
   "cell_type": "code",
   "execution_count": null,
   "metadata": {},
   "outputs": [],
   "source": [
    "chm_array = np.full((raster_size[Y], raster_size[X]), 0.0)\n",
    "\n",
    "for point in array:\n",
    "    if point[PX] < raster_size[X] and point[PY] < raster_size[Y]:\n",
    "        if point[H] > chm_array[int(point[PY]),int(point[PX])]:\n",
    "            chm_array[int(point[PY]),int(point[PX])] = point[H]\n",
    "footprint = generate_binary_structure(2, 1)\n",
    "filtered_chm = grey_dilation(chm_array, footprint=footprint)\n",
    "#filtered_chm = gaussian_filter(chm_array, sigma=1)\n",
    "#filtered_chm = chm_array\n",
    "chm_array = np.maximum(filtered_chm, chm_array)\n",
    "save_raster(raster_coor[X], raster_coor[Y],filtered_chm, RES, path_output+\"chm.tif\")"
   ]
  },
  {
   "cell_type": "code",
   "execution_count": null,
   "metadata": {},
   "outputs": [],
   "source": []
  },
  {
   "cell_type": "code",
   "execution_count": null,
   "metadata": {},
   "outputs": [],
   "source": []
  },
  {
   "cell_type": "code",
   "execution_count": null,
   "metadata": {},
   "outputs": [],
   "source": []
  }
 ],
 "metadata": {
  "kernelspec": {
   "display_name": "Python 3",
   "language": "python",
   "name": "python3"
  }
 },
 "nbformat": 4,
 "nbformat_minor": 2
}
