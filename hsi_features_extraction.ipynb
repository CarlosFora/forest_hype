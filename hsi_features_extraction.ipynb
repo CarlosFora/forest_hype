{
 "cells": [
  {
   "cell_type": "markdown",
   "metadata": {},
   "source": [
    "# Library imports"
   ]
  },
  {
   "cell_type": "code",
   "execution_count": 19,
   "metadata": {},
   "outputs": [],
   "source": [
    "import rasterio\n",
    "from rasterio.windows import Window, get_data_window\n",
    "\n",
    "\n",
    "import matplotlib.pyplot as plt\n",
    "import matplotlib.colors\n",
    "\n",
    "import numpy as np\n",
    "\n",
    "%matplotlib notebook"
   ]
  },
  {
   "cell_type": "code",
   "execution_count": 6,
   "metadata": {},
   "outputs": [],
   "source": [
    "from thresholding_watershed import itcd as itcd_tw\n",
    "#from local_maxima import itcd as itcd_lm\n",
    "from skimage.color import gray2rgb\n",
    "\n",
    "from skimage.exposure import rescale_intensity\n",
    "\n",
    "from rasterio.mask import mask\n",
    "from shapely.affinity import translate,affine_transform\n",
    "from shapely.geometry import mapping"
   ]
  },
  {
   "cell_type": "markdown",
   "metadata": {},
   "source": [
    "# Extracting VIS features"
   ]
  },
  {
   "cell_type": "markdown",
   "metadata": {},
   "source": [
    "## Loading the data"
   ]
  },
  {
   "cell_type": "code",
   "execution_count": 14,
   "metadata": {},
   "outputs": [
    {
     "data": {
      "text/plain": [
       "{(0, 0): <shapely.geometry.multipolygon.MultiPolygon at 0x7f63b2c76128>,\n",
       " (0, 1): <shapely.geometry.multipolygon.MultiPolygon at 0x7f63a1b9b940>,\n",
       " (0, 2): <shapely.geometry.multipolygon.MultiPolygon at 0x7f63a1b9b9b0>,\n",
       " (0, 3): <shapely.geometry.multipolygon.MultiPolygon at 0x7f63a1b9bac8>,\n",
       " (0, 4): <shapely.geometry.multipolygon.MultiPolygon at 0x7f63a1b9bb38>,\n",
       " (0, 5): <shapely.geometry.multipolygon.MultiPolygon at 0x7f63b2c760f0>,\n",
       " (0, 6): <shapely.geometry.multipolygon.MultiPolygon at 0x7f63a1b9bba8>,\n",
       " (0, 7): <shapely.geometry.multipolygon.MultiPolygon at 0x7f63a1b9b9e8>,\n",
       " (0, 8): <shapely.geometry.multipolygon.MultiPolygon at 0x7f63a1b9bb70>,\n",
       " (0, 9): <shapely.geometry.multipolygon.MultiPolygon at 0x7f63a1b9bc18>,\n",
       " (0, 10): <shapely.geometry.multipolygon.MultiPolygon at 0x7f63a1b9bc88>,\n",
       " (0, 11): <shapely.geometry.multipolygon.MultiPolygon at 0x7f63a1b9b978>,\n",
       " (0, 12): <shapely.geometry.multipolygon.MultiPolygon at 0x7f63a1b9ba20>,\n",
       " (0, 13): <shapely.geometry.multipolygon.MultiPolygon at 0x7f63a1b9bc50>,\n",
       " (0, 14): <shapely.geometry.multipolygon.MultiPolygon at 0x7f63a1b9bd30>,\n",
       " (0, 15): <shapely.geometry.multipolygon.MultiPolygon at 0x7f63a1b9bd68>,\n",
       " (0, 16): <shapely.geometry.multipolygon.MultiPolygon at 0x7f63a1b9bdd8>,\n",
       " (0, 17): <shapely.geometry.multipolygon.MultiPolygon at 0x7f63a1b9bcc0>,\n",
       " (0, 18): <shapely.geometry.multipolygon.MultiPolygon at 0x7f63a1b9bcf8>,\n",
       " (0, 19): <shapely.geometry.multipolygon.MultiPolygon at 0x7f63a1b9be10>,\n",
       " (0, 20): <shapely.geometry.multipolygon.MultiPolygon at 0x7f63a1b9be48>,\n",
       " (0, 21): <shapely.geometry.multipolygon.MultiPolygon at 0x7f63a1b9bef0>,\n",
       " (0, 22): <shapely.geometry.multipolygon.MultiPolygon at 0x7f63a1b9bf60>,\n",
       " (0, 23): <shapely.geometry.multipolygon.MultiPolygon at 0x7f63a1b9bbe0>,\n",
       " (0, 24): <shapely.geometry.multipolygon.MultiPolygon at 0x7f63a1b9be80>,\n",
       " (0, 25): <shapely.geometry.multipolygon.MultiPolygon at 0x7f63a1b9bf28>,\n",
       " (0, 26): <shapely.geometry.multipolygon.MultiPolygon at 0x7f63a1b2b048>,\n",
       " (0, 27): <shapely.geometry.multipolygon.MultiPolygon at 0x7f63a1b2b080>,\n",
       " (0, 28): <shapely.geometry.multipolygon.MultiPolygon at 0x7f63a1b9bda0>,\n",
       " (0, 29): <shapely.geometry.multipolygon.MultiPolygon at 0x7f63a1b9beb8>,\n",
       " (0, 30): <shapely.geometry.multipolygon.MultiPolygon at 0x7f63a1b2b0b8>,\n",
       " (1, 0): <shapely.geometry.multipolygon.MultiPolygon at 0x7f63a1b2b128>}"
      ]
     },
     "execution_count": 14,
     "metadata": {},
     "output_type": "execute_result"
    }
   ],
   "source": [
    "polys"
   ]
  },
  {
   "cell_type": "code",
   "execution_count": 67,
   "metadata": {},
   "outputs": [
    {
     "name": "stderr",
     "output_type": "stream",
     "text": [
      "/home/guillermo/anaconda3/envs/skoltech/lib/python3.6/site-packages/skimage/exposure/exposure.py:297: RuntimeWarning: invalid value encountered in true_divide\n",
      "  image = (image - imin) / float(imax - imin)\n",
      "/home/guillermo/Works/Skoltech/forest-inventory-ml/thresholding_watershed.py:41: RuntimeWarning: invalid value encountered in greater\n",
      "  canopy_mask = img_gaussian > threshold_mean(img_gaussian)\n",
      "/home/guillermo/anaconda3/envs/skoltech/lib/python3.6/site-packages/skimage/exposure/exposure.py:297: RuntimeWarning: invalid value encountered in true_divide\n",
      "  image = (image - imin) / float(imax - imin)\n",
      "/home/guillermo/Works/Skoltech/forest-inventory-ml/thresholding_watershed.py:41: RuntimeWarning: invalid value encountered in greater\n",
      "  canopy_mask = img_gaussian > threshold_mean(img_gaussian)\n",
      "/home/guillermo/anaconda3/envs/skoltech/lib/python3.6/site-packages/skimage/exposure/exposure.py:297: RuntimeWarning: invalid value encountered in true_divide\n",
      "  image = (image - imin) / float(imax - imin)\n",
      "/home/guillermo/Works/Skoltech/forest-inventory-ml/thresholding_watershed.py:41: RuntimeWarning: invalid value encountered in greater\n",
      "  canopy_mask = img_gaussian > threshold_mean(img_gaussian)\n",
      "/home/guillermo/anaconda3/envs/skoltech/lib/python3.6/site-packages/skimage/exposure/exposure.py:297: RuntimeWarning: invalid value encountered in true_divide\n",
      "  image = (image - imin) / float(imax - imin)\n",
      "/home/guillermo/Works/Skoltech/forest-inventory-ml/thresholding_watershed.py:41: RuntimeWarning: invalid value encountered in greater\n",
      "  canopy_mask = img_gaussian > threshold_mean(img_gaussian)\n"
     ]
    },
    {
     "name": "stdout",
     "output_type": "stream",
     "text": [
      "Block: (0, 0), 0 trees found\n",
      "Block: (0, 1), 0 trees found\n",
      "Block: (0, 2), 0 trees found\n",
      "Block: (0, 3), 0 trees found\n"
     ]
    },
    {
     "name": "stderr",
     "output_type": "stream",
     "text": [
      "/home/guillermo/anaconda3/envs/skoltech/lib/python3.6/site-packages/skimage/exposure/exposure.py:297: RuntimeWarning: invalid value encountered in true_divide\n",
      "  image = (image - imin) / float(imax - imin)\n",
      "/home/guillermo/Works/Skoltech/forest-inventory-ml/thresholding_watershed.py:41: RuntimeWarning: invalid value encountered in greater\n",
      "  canopy_mask = img_gaussian > threshold_mean(img_gaussian)\n",
      "/home/guillermo/anaconda3/envs/skoltech/lib/python3.6/site-packages/skimage/exposure/exposure.py:297: RuntimeWarning: invalid value encountered in true_divide\n",
      "  image = (image - imin) / float(imax - imin)\n",
      "/home/guillermo/Works/Skoltech/forest-inventory-ml/thresholding_watershed.py:41: RuntimeWarning: invalid value encountered in greater\n",
      "  canopy_mask = img_gaussian > threshold_mean(img_gaussian)\n",
      "/home/guillermo/anaconda3/envs/skoltech/lib/python3.6/site-packages/skimage/exposure/exposure.py:297: RuntimeWarning: invalid value encountered in true_divide\n",
      "  image = (image - imin) / float(imax - imin)\n",
      "/home/guillermo/Works/Skoltech/forest-inventory-ml/thresholding_watershed.py:41: RuntimeWarning: invalid value encountered in greater\n",
      "  canopy_mask = img_gaussian > threshold_mean(img_gaussian)\n",
      "/home/guillermo/anaconda3/envs/skoltech/lib/python3.6/site-packages/skimage/exposure/exposure.py:297: RuntimeWarning: invalid value encountered in true_divide\n",
      "  image = (image - imin) / float(imax - imin)\n",
      "/home/guillermo/Works/Skoltech/forest-inventory-ml/thresholding_watershed.py:41: RuntimeWarning: invalid value encountered in greater\n",
      "  canopy_mask = img_gaussian > threshold_mean(img_gaussian)\n"
     ]
    },
    {
     "name": "stdout",
     "output_type": "stream",
     "text": [
      "Block: (0, 4), 0 trees found\n",
      "Block: (0, 5), 0 trees found\n",
      "Block: (0, 6), 0 trees found\n",
      "Block: (0, 7), 0 trees found\n"
     ]
    },
    {
     "name": "stderr",
     "output_type": "stream",
     "text": [
      "/home/guillermo/anaconda3/envs/skoltech/lib/python3.6/site-packages/skimage/exposure/exposure.py:297: RuntimeWarning: invalid value encountered in true_divide\n",
      "  image = (image - imin) / float(imax - imin)\n",
      "/home/guillermo/Works/Skoltech/forest-inventory-ml/thresholding_watershed.py:41: RuntimeWarning: invalid value encountered in greater\n",
      "  canopy_mask = img_gaussian > threshold_mean(img_gaussian)\n",
      "/home/guillermo/anaconda3/envs/skoltech/lib/python3.6/site-packages/skimage/exposure/exposure.py:297: RuntimeWarning: invalid value encountered in true_divide\n",
      "  image = (image - imin) / float(imax - imin)\n",
      "/home/guillermo/Works/Skoltech/forest-inventory-ml/thresholding_watershed.py:41: RuntimeWarning: invalid value encountered in greater\n",
      "  canopy_mask = img_gaussian > threshold_mean(img_gaussian)\n",
      "/home/guillermo/anaconda3/envs/skoltech/lib/python3.6/site-packages/skimage/exposure/exposure.py:297: RuntimeWarning: invalid value encountered in true_divide\n",
      "  image = (image - imin) / float(imax - imin)\n",
      "/home/guillermo/Works/Skoltech/forest-inventory-ml/thresholding_watershed.py:41: RuntimeWarning: invalid value encountered in greater\n",
      "  canopy_mask = img_gaussian > threshold_mean(img_gaussian)\n",
      "/home/guillermo/anaconda3/envs/skoltech/lib/python3.6/site-packages/skimage/exposure/exposure.py:297: RuntimeWarning: invalid value encountered in true_divide\n",
      "  image = (image - imin) / float(imax - imin)\n",
      "/home/guillermo/Works/Skoltech/forest-inventory-ml/thresholding_watershed.py:41: RuntimeWarning: invalid value encountered in greater\n",
      "  canopy_mask = img_gaussian > threshold_mean(img_gaussian)\n"
     ]
    },
    {
     "name": "stdout",
     "output_type": "stream",
     "text": [
      "Block: (0, 8), 0 trees found\n",
      "Block: (0, 9), 0 trees found\n",
      "Block: (0, 10), 0 trees found\n",
      "Block: (0, 11), 0 trees found\n",
      "Block: (0, 12), 0 trees found\n"
     ]
    },
    {
     "name": "stderr",
     "output_type": "stream",
     "text": [
      "/home/guillermo/anaconda3/envs/skoltech/lib/python3.6/site-packages/skimage/exposure/exposure.py:297: RuntimeWarning: invalid value encountered in true_divide\n",
      "  image = (image - imin) / float(imax - imin)\n",
      "/home/guillermo/Works/Skoltech/forest-inventory-ml/thresholding_watershed.py:41: RuntimeWarning: invalid value encountered in greater\n",
      "  canopy_mask = img_gaussian > threshold_mean(img_gaussian)\n",
      "/home/guillermo/anaconda3/envs/skoltech/lib/python3.6/site-packages/skimage/exposure/exposure.py:297: RuntimeWarning: invalid value encountered in true_divide\n",
      "  image = (image - imin) / float(imax - imin)\n",
      "/home/guillermo/Works/Skoltech/forest-inventory-ml/thresholding_watershed.py:41: RuntimeWarning: invalid value encountered in greater\n",
      "  canopy_mask = img_gaussian > threshold_mean(img_gaussian)\n",
      "/home/guillermo/anaconda3/envs/skoltech/lib/python3.6/site-packages/skimage/exposure/exposure.py:297: RuntimeWarning: invalid value encountered in true_divide\n",
      "  image = (image - imin) / float(imax - imin)\n",
      "/home/guillermo/Works/Skoltech/forest-inventory-ml/thresholding_watershed.py:41: RuntimeWarning: invalid value encountered in greater\n",
      "  canopy_mask = img_gaussian > threshold_mean(img_gaussian)\n",
      "/home/guillermo/anaconda3/envs/skoltech/lib/python3.6/site-packages/skimage/exposure/exposure.py:297: RuntimeWarning: invalid value encountered in true_divide\n",
      "  image = (image - imin) / float(imax - imin)\n",
      "/home/guillermo/Works/Skoltech/forest-inventory-ml/thresholding_watershed.py:41: RuntimeWarning: invalid value encountered in greater\n",
      "  canopy_mask = img_gaussian > threshold_mean(img_gaussian)\n"
     ]
    },
    {
     "name": "stdout",
     "output_type": "stream",
     "text": [
      "Block: (0, 13), 0 trees found\n",
      "Block: (0, 14), 0 trees found\n",
      "Block: (0, 15), 0 trees found\n",
      "Block: (0, 16), 0 trees found\n"
     ]
    },
    {
     "name": "stderr",
     "output_type": "stream",
     "text": [
      "/home/guillermo/anaconda3/envs/skoltech/lib/python3.6/site-packages/skimage/exposure/exposure.py:297: RuntimeWarning: invalid value encountered in true_divide\n",
      "  image = (image - imin) / float(imax - imin)\n",
      "/home/guillermo/Works/Skoltech/forest-inventory-ml/thresholding_watershed.py:41: RuntimeWarning: invalid value encountered in greater\n",
      "  canopy_mask = img_gaussian > threshold_mean(img_gaussian)\n",
      "/home/guillermo/anaconda3/envs/skoltech/lib/python3.6/site-packages/skimage/exposure/exposure.py:297: RuntimeWarning: invalid value encountered in true_divide\n",
      "  image = (image - imin) / float(imax - imin)\n",
      "/home/guillermo/Works/Skoltech/forest-inventory-ml/thresholding_watershed.py:41: RuntimeWarning: invalid value encountered in greater\n",
      "  canopy_mask = img_gaussian > threshold_mean(img_gaussian)\n",
      "/home/guillermo/anaconda3/envs/skoltech/lib/python3.6/site-packages/skimage/exposure/exposure.py:297: RuntimeWarning: invalid value encountered in true_divide\n",
      "  image = (image - imin) / float(imax - imin)\n",
      "/home/guillermo/Works/Skoltech/forest-inventory-ml/thresholding_watershed.py:41: RuntimeWarning: invalid value encountered in greater\n",
      "  canopy_mask = img_gaussian > threshold_mean(img_gaussian)\n",
      "/home/guillermo/anaconda3/envs/skoltech/lib/python3.6/site-packages/skimage/exposure/exposure.py:297: RuntimeWarning: invalid value encountered in true_divide\n",
      "  image = (image - imin) / float(imax - imin)\n",
      "/home/guillermo/Works/Skoltech/forest-inventory-ml/thresholding_watershed.py:41: RuntimeWarning: invalid value encountered in greater\n",
      "  canopy_mask = img_gaussian > threshold_mean(img_gaussian)\n"
     ]
    },
    {
     "name": "stdout",
     "output_type": "stream",
     "text": [
      "Block: (0, 17), 0 trees found\n",
      "Block: (0, 18), 0 trees found\n",
      "Block: (0, 19), 0 trees found\n",
      "Block: (0, 20), 0 trees found\n"
     ]
    },
    {
     "name": "stderr",
     "output_type": "stream",
     "text": [
      "/home/guillermo/anaconda3/envs/skoltech/lib/python3.6/site-packages/skimage/exposure/exposure.py:297: RuntimeWarning: invalid value encountered in true_divide\n",
      "  image = (image - imin) / float(imax - imin)\n",
      "/home/guillermo/Works/Skoltech/forest-inventory-ml/thresholding_watershed.py:41: RuntimeWarning: invalid value encountered in greater\n",
      "  canopy_mask = img_gaussian > threshold_mean(img_gaussian)\n",
      "/home/guillermo/anaconda3/envs/skoltech/lib/python3.6/site-packages/skimage/exposure/exposure.py:297: RuntimeWarning: invalid value encountered in true_divide\n",
      "  image = (image - imin) / float(imax - imin)\n",
      "/home/guillermo/Works/Skoltech/forest-inventory-ml/thresholding_watershed.py:41: RuntimeWarning: invalid value encountered in greater\n",
      "  canopy_mask = img_gaussian > threshold_mean(img_gaussian)\n",
      "/home/guillermo/anaconda3/envs/skoltech/lib/python3.6/site-packages/skimage/exposure/exposure.py:297: RuntimeWarning: invalid value encountered in true_divide\n",
      "  image = (image - imin) / float(imax - imin)\n",
      "/home/guillermo/Works/Skoltech/forest-inventory-ml/thresholding_watershed.py:41: RuntimeWarning: invalid value encountered in greater\n",
      "  canopy_mask = img_gaussian > threshold_mean(img_gaussian)\n",
      "/home/guillermo/anaconda3/envs/skoltech/lib/python3.6/site-packages/skimage/exposure/exposure.py:297: RuntimeWarning: invalid value encountered in true_divide\n",
      "  image = (image - imin) / float(imax - imin)\n"
     ]
    },
    {
     "name": "stdout",
     "output_type": "stream",
     "text": [
      "Block: (0, 21), 0 trees found\n",
      "Block: (0, 22), 0 trees found\n",
      "Block: (0, 23), 0 trees found\n",
      "Block: (0, 24), 0 trees found\n"
     ]
    },
    {
     "name": "stderr",
     "output_type": "stream",
     "text": [
      "/home/guillermo/Works/Skoltech/forest-inventory-ml/thresholding_watershed.py:41: RuntimeWarning: invalid value encountered in greater\n",
      "  canopy_mask = img_gaussian > threshold_mean(img_gaussian)\n",
      "/home/guillermo/anaconda3/envs/skoltech/lib/python3.6/site-packages/skimage/exposure/exposure.py:297: RuntimeWarning: invalid value encountered in true_divide\n",
      "  image = (image - imin) / float(imax - imin)\n",
      "/home/guillermo/Works/Skoltech/forest-inventory-ml/thresholding_watershed.py:41: RuntimeWarning: invalid value encountered in greater\n",
      "  canopy_mask = img_gaussian > threshold_mean(img_gaussian)\n",
      "/home/guillermo/anaconda3/envs/skoltech/lib/python3.6/site-packages/skimage/exposure/exposure.py:297: RuntimeWarning: invalid value encountered in true_divide\n",
      "  image = (image - imin) / float(imax - imin)\n",
      "/home/guillermo/Works/Skoltech/forest-inventory-ml/thresholding_watershed.py:41: RuntimeWarning: invalid value encountered in greater\n",
      "  canopy_mask = img_gaussian > threshold_mean(img_gaussian)\n",
      "/home/guillermo/anaconda3/envs/skoltech/lib/python3.6/site-packages/skimage/exposure/exposure.py:297: RuntimeWarning: invalid value encountered in true_divide\n",
      "  image = (image - imin) / float(imax - imin)\n",
      "/home/guillermo/Works/Skoltech/forest-inventory-ml/thresholding_watershed.py:41: RuntimeWarning: invalid value encountered in greater\n",
      "  canopy_mask = img_gaussian > threshold_mean(img_gaussian)\n",
      "/home/guillermo/anaconda3/envs/skoltech/lib/python3.6/site-packages/skimage/exposure/exposure.py:297: RuntimeWarning: invalid value encountered in true_divide\n",
      "  image = (image - imin) / float(imax - imin)\n"
     ]
    },
    {
     "name": "stdout",
     "output_type": "stream",
     "text": [
      "Block: (0, 25), 0 trees found\n",
      "Block: (0, 26), 0 trees found\n",
      "Block: (0, 27), 0 trees found\n",
      "Block: (0, 28), 0 trees found\n"
     ]
    },
    {
     "name": "stderr",
     "output_type": "stream",
     "text": [
      "/home/guillermo/Works/Skoltech/forest-inventory-ml/thresholding_watershed.py:41: RuntimeWarning: invalid value encountered in greater\n",
      "  canopy_mask = img_gaussian > threshold_mean(img_gaussian)\n",
      "/home/guillermo/anaconda3/envs/skoltech/lib/python3.6/site-packages/skimage/exposure/exposure.py:297: RuntimeWarning: invalid value encountered in true_divide\n",
      "  image = (image - imin) / float(imax - imin)\n",
      "/home/guillermo/Works/Skoltech/forest-inventory-ml/thresholding_watershed.py:41: RuntimeWarning: invalid value encountered in greater\n",
      "  canopy_mask = img_gaussian > threshold_mean(img_gaussian)\n",
      "/home/guillermo/anaconda3/envs/skoltech/lib/python3.6/site-packages/skimage/exposure/exposure.py:297: RuntimeWarning: invalid value encountered in true_divide\n",
      "  image = (image - imin) / float(imax - imin)\n",
      "/home/guillermo/Works/Skoltech/forest-inventory-ml/thresholding_watershed.py:41: RuntimeWarning: invalid value encountered in greater\n",
      "  canopy_mask = img_gaussian > threshold_mean(img_gaussian)\n",
      "/home/guillermo/anaconda3/envs/skoltech/lib/python3.6/site-packages/skimage/exposure/exposure.py:297: RuntimeWarning: invalid value encountered in true_divide\n",
      "  image = (image - imin) / float(imax - imin)\n",
      "/home/guillermo/anaconda3/envs/skoltech/lib/python3.6/site-packages/skimage/exposure/exposure.py:297: RuntimeWarning: invalid value encountered in true_divide\n",
      "  image = (image - imin) / float(imax - imin)\n"
     ]
    },
    {
     "name": "stdout",
     "output_type": "stream",
     "text": [
      "Block: (0, 29), 0 trees found\n",
      "Block: (0, 30), 0 trees found\n",
      "Block: (1, 0), 0 trees found\n",
      "Block: (1, 1), 0 trees found\n"
     ]
    },
    {
     "name": "stderr",
     "output_type": "stream",
     "text": [
      "/home/guillermo/Works/Skoltech/forest-inventory-ml/thresholding_watershed.py:41: RuntimeWarning: invalid value encountered in greater\n",
      "  canopy_mask = img_gaussian > threshold_mean(img_gaussian)\n",
      "/home/guillermo/anaconda3/envs/skoltech/lib/python3.6/site-packages/skimage/exposure/exposure.py:297: RuntimeWarning: invalid value encountered in true_divide\n",
      "  image = (image - imin) / float(imax - imin)\n",
      "/home/guillermo/Works/Skoltech/forest-inventory-ml/thresholding_watershed.py:41: RuntimeWarning: invalid value encountered in greater\n",
      "  canopy_mask = img_gaussian > threshold_mean(img_gaussian)\n",
      "/home/guillermo/anaconda3/envs/skoltech/lib/python3.6/site-packages/skimage/exposure/exposure.py:297: RuntimeWarning: invalid value encountered in true_divide\n",
      "  image = (image - imin) / float(imax - imin)\n",
      "/home/guillermo/Works/Skoltech/forest-inventory-ml/thresholding_watershed.py:41: RuntimeWarning: invalid value encountered in greater\n",
      "  canopy_mask = img_gaussian > threshold_mean(img_gaussian)\n",
      "/home/guillermo/anaconda3/envs/skoltech/lib/python3.6/site-packages/skimage/exposure/exposure.py:297: RuntimeWarning: invalid value encountered in true_divide\n",
      "  image = (image - imin) / float(imax - imin)\n",
      "/home/guillermo/Works/Skoltech/forest-inventory-ml/thresholding_watershed.py:41: RuntimeWarning: invalid value encountered in greater\n",
      "  canopy_mask = img_gaussian > threshold_mean(img_gaussian)\n"
     ]
    },
    {
     "name": "stdout",
     "output_type": "stream",
     "text": [
      "Block: (1, 2), 0 trees found\n",
      "Block: (1, 3), 0 trees found\n",
      "Block: (1, 4), 0 trees found\n",
      "Block: (1, 5), 0 trees found\n"
     ]
    },
    {
     "name": "stderr",
     "output_type": "stream",
     "text": [
      "/home/guillermo/anaconda3/envs/skoltech/lib/python3.6/site-packages/skimage/exposure/exposure.py:297: RuntimeWarning: invalid value encountered in true_divide\n",
      "  image = (image - imin) / float(imax - imin)\n",
      "/home/guillermo/Works/Skoltech/forest-inventory-ml/thresholding_watershed.py:41: RuntimeWarning: invalid value encountered in greater\n",
      "  canopy_mask = img_gaussian > threshold_mean(img_gaussian)\n",
      "/home/guillermo/anaconda3/envs/skoltech/lib/python3.6/site-packages/skimage/exposure/exposure.py:297: RuntimeWarning: invalid value encountered in true_divide\n",
      "  image = (image - imin) / float(imax - imin)\n",
      "/home/guillermo/Works/Skoltech/forest-inventory-ml/thresholding_watershed.py:41: RuntimeWarning: invalid value encountered in greater\n",
      "  canopy_mask = img_gaussian > threshold_mean(img_gaussian)\n",
      "/home/guillermo/anaconda3/envs/skoltech/lib/python3.6/site-packages/skimage/exposure/exposure.py:297: RuntimeWarning: invalid value encountered in true_divide\n",
      "  image = (image - imin) / float(imax - imin)\n",
      "/home/guillermo/Works/Skoltech/forest-inventory-ml/thresholding_watershed.py:41: RuntimeWarning: invalid value encountered in greater\n",
      "  canopy_mask = img_gaussian > threshold_mean(img_gaussian)\n",
      "/home/guillermo/anaconda3/envs/skoltech/lib/python3.6/site-packages/skimage/exposure/exposure.py:297: RuntimeWarning: invalid value encountered in true_divide\n",
      "  image = (image - imin) / float(imax - imin)\n"
     ]
    },
    {
     "name": "stdout",
     "output_type": "stream",
     "text": [
      "Block: (1, 6), 0 trees found\n",
      "Block: (1, 7), 0 trees found\n",
      "Block: (1, 8), 0 trees found\n",
      "Block: (1, 9), 0 trees found\n"
     ]
    },
    {
     "name": "stderr",
     "output_type": "stream",
     "text": [
      "/home/guillermo/Works/Skoltech/forest-inventory-ml/thresholding_watershed.py:41: RuntimeWarning: invalid value encountered in greater\n",
      "  canopy_mask = img_gaussian > threshold_mean(img_gaussian)\n",
      "/home/guillermo/anaconda3/envs/skoltech/lib/python3.6/site-packages/skimage/exposure/exposure.py:297: RuntimeWarning: invalid value encountered in true_divide\n",
      "  image = (image - imin) / float(imax - imin)\n",
      "/home/guillermo/Works/Skoltech/forest-inventory-ml/thresholding_watershed.py:41: RuntimeWarning: invalid value encountered in greater\n",
      "  canopy_mask = img_gaussian > threshold_mean(img_gaussian)\n",
      "/home/guillermo/anaconda3/envs/skoltech/lib/python3.6/site-packages/skimage/exposure/exposure.py:297: RuntimeWarning: invalid value encountered in true_divide\n",
      "  image = (image - imin) / float(imax - imin)\n",
      "/home/guillermo/Works/Skoltech/forest-inventory-ml/thresholding_watershed.py:41: RuntimeWarning: invalid value encountered in greater\n",
      "  canopy_mask = img_gaussian > threshold_mean(img_gaussian)\n",
      "/home/guillermo/anaconda3/envs/skoltech/lib/python3.6/site-packages/skimage/exposure/exposure.py:297: RuntimeWarning: invalid value encountered in true_divide\n",
      "  image = (image - imin) / float(imax - imin)\n",
      "/home/guillermo/Works/Skoltech/forest-inventory-ml/thresholding_watershed.py:41: RuntimeWarning: invalid value encountered in greater\n",
      "  canopy_mask = img_gaussian > threshold_mean(img_gaussian)\n",
      "/home/guillermo/anaconda3/envs/skoltech/lib/python3.6/site-packages/skimage/exposure/exposure.py:297: RuntimeWarning: invalid value encountered in true_divide\n",
      "  image = (image - imin) / float(imax - imin)\n"
     ]
    },
    {
     "name": "stdout",
     "output_type": "stream",
     "text": [
      "Block: (1, 10), 0 trees found\n",
      "Block: (1, 11), 0 trees found\n",
      "Block: (1, 12), 0 trees found\n",
      "Block: (1, 13), 0 trees found\n"
     ]
    },
    {
     "name": "stderr",
     "output_type": "stream",
     "text": [
      "/home/guillermo/Works/Skoltech/forest-inventory-ml/thresholding_watershed.py:41: RuntimeWarning: invalid value encountered in greater\n",
      "  canopy_mask = img_gaussian > threshold_mean(img_gaussian)\n",
      "/home/guillermo/anaconda3/envs/skoltech/lib/python3.6/site-packages/skimage/exposure/exposure.py:297: RuntimeWarning: invalid value encountered in true_divide\n",
      "  image = (image - imin) / float(imax - imin)\n",
      "/home/guillermo/Works/Skoltech/forest-inventory-ml/thresholding_watershed.py:41: RuntimeWarning: invalid value encountered in greater\n",
      "  canopy_mask = img_gaussian > threshold_mean(img_gaussian)\n",
      "/home/guillermo/anaconda3/envs/skoltech/lib/python3.6/site-packages/skimage/exposure/exposure.py:297: RuntimeWarning: invalid value encountered in true_divide\n",
      "  image = (image - imin) / float(imax - imin)\n",
      "/home/guillermo/Works/Skoltech/forest-inventory-ml/thresholding_watershed.py:41: RuntimeWarning: invalid value encountered in greater\n",
      "  canopy_mask = img_gaussian > threshold_mean(img_gaussian)\n",
      "/home/guillermo/anaconda3/envs/skoltech/lib/python3.6/site-packages/skimage/exposure/exposure.py:297: RuntimeWarning: invalid value encountered in true_divide\n",
      "  image = (image - imin) / float(imax - imin)\n",
      "/home/guillermo/Works/Skoltech/forest-inventory-ml/thresholding_watershed.py:41: RuntimeWarning: invalid value encountered in greater\n",
      "  canopy_mask = img_gaussian > threshold_mean(img_gaussian)\n",
      "/home/guillermo/anaconda3/envs/skoltech/lib/python3.6/site-packages/skimage/exposure/exposure.py:297: RuntimeWarning: invalid value encountered in true_divide\n",
      "  image = (image - imin) / float(imax - imin)\n"
     ]
    },
    {
     "name": "stdout",
     "output_type": "stream",
     "text": [
      "Block: (1, 14), 0 trees found\n",
      "Block: (1, 15), 0 trees found\n",
      "Block: (1, 16), 0 trees found\n",
      "Block: (1, 17), 0 trees found\n"
     ]
    },
    {
     "name": "stderr",
     "output_type": "stream",
     "text": [
      "/home/guillermo/Works/Skoltech/forest-inventory-ml/thresholding_watershed.py:41: RuntimeWarning: invalid value encountered in greater\n",
      "  canopy_mask = img_gaussian > threshold_mean(img_gaussian)\n",
      "/home/guillermo/anaconda3/envs/skoltech/lib/python3.6/site-packages/skimage/exposure/exposure.py:297: RuntimeWarning: invalid value encountered in true_divide\n",
      "  image = (image - imin) / float(imax - imin)\n",
      "/home/guillermo/Works/Skoltech/forest-inventory-ml/thresholding_watershed.py:41: RuntimeWarning: invalid value encountered in greater\n",
      "  canopy_mask = img_gaussian > threshold_mean(img_gaussian)\n",
      "/home/guillermo/anaconda3/envs/skoltech/lib/python3.6/site-packages/skimage/exposure/exposure.py:297: RuntimeWarning: invalid value encountered in true_divide\n",
      "  image = (image - imin) / float(imax - imin)\n",
      "/home/guillermo/Works/Skoltech/forest-inventory-ml/thresholding_watershed.py:41: RuntimeWarning: invalid value encountered in greater\n",
      "  canopy_mask = img_gaussian > threshold_mean(img_gaussian)\n",
      "/home/guillermo/anaconda3/envs/skoltech/lib/python3.6/site-packages/skimage/exposure/exposure.py:297: RuntimeWarning: invalid value encountered in true_divide\n",
      "  image = (image - imin) / float(imax - imin)\n",
      "/home/guillermo/Works/Skoltech/forest-inventory-ml/thresholding_watershed.py:41: RuntimeWarning: invalid value encountered in greater\n",
      "  canopy_mask = img_gaussian > threshold_mean(img_gaussian)\n",
      "/home/guillermo/anaconda3/envs/skoltech/lib/python3.6/site-packages/skimage/exposure/exposure.py:297: RuntimeWarning: invalid value encountered in true_divide\n",
      "  image = (image - imin) / float(imax - imin)\n"
     ]
    },
    {
     "name": "stdout",
     "output_type": "stream",
     "text": [
      "Block: (1, 18), 0 trees found\n",
      "Block: (1, 19), 0 trees found\n",
      "Block: (1, 20), 0 trees found\n",
      "Block: (1, 21), 0 trees found\n",
      "Block: (1, 22), 0 trees found\n"
     ]
    },
    {
     "name": "stderr",
     "output_type": "stream",
     "text": [
      "/home/guillermo/Works/Skoltech/forest-inventory-ml/thresholding_watershed.py:41: RuntimeWarning: invalid value encountered in greater\n",
      "  canopy_mask = img_gaussian > threshold_mean(img_gaussian)\n",
      "/home/guillermo/anaconda3/envs/skoltech/lib/python3.6/site-packages/skimage/exposure/exposure.py:297: RuntimeWarning: invalid value encountered in true_divide\n",
      "  image = (image - imin) / float(imax - imin)\n",
      "/home/guillermo/Works/Skoltech/forest-inventory-ml/thresholding_watershed.py:41: RuntimeWarning: invalid value encountered in greater\n",
      "  canopy_mask = img_gaussian > threshold_mean(img_gaussian)\n",
      "/home/guillermo/anaconda3/envs/skoltech/lib/python3.6/site-packages/skimage/exposure/exposure.py:297: RuntimeWarning: invalid value encountered in true_divide\n",
      "  image = (image - imin) / float(imax - imin)\n",
      "/home/guillermo/Works/Skoltech/forest-inventory-ml/thresholding_watershed.py:41: RuntimeWarning: invalid value encountered in greater\n",
      "  canopy_mask = img_gaussian > threshold_mean(img_gaussian)\n",
      "/home/guillermo/anaconda3/envs/skoltech/lib/python3.6/site-packages/skimage/exposure/exposure.py:297: RuntimeWarning: invalid value encountered in true_divide\n",
      "  image = (image - imin) / float(imax - imin)\n",
      "/home/guillermo/Works/Skoltech/forest-inventory-ml/thresholding_watershed.py:41: RuntimeWarning: invalid value encountered in greater\n",
      "  canopy_mask = img_gaussian > threshold_mean(img_gaussian)\n",
      "/home/guillermo/anaconda3/envs/skoltech/lib/python3.6/site-packages/skimage/exposure/exposure.py:297: RuntimeWarning: invalid value encountered in true_divide\n",
      "  image = (image - imin) / float(imax - imin)\n",
      "/home/guillermo/Works/Skoltech/forest-inventory-ml/thresholding_watershed.py:41: RuntimeWarning: invalid value encountered in greater\n",
      "  canopy_mask = img_gaussian > threshold_mean(img_gaussian)\n"
     ]
    },
    {
     "name": "stdout",
     "output_type": "stream",
     "text": [
      "Block: (1, 23), 0 trees found\n",
      "Block: (1, 24), 0 trees found\n",
      "Block: (1, 25), 0 trees found\n",
      "Block: (1, 26), 0 trees found\n",
      "Block: (1, 27), 0 trees found\n"
     ]
    },
    {
     "name": "stderr",
     "output_type": "stream",
     "text": [
      "/home/guillermo/anaconda3/envs/skoltech/lib/python3.6/site-packages/skimage/exposure/exposure.py:297: RuntimeWarning: invalid value encountered in true_divide\n",
      "  image = (image - imin) / float(imax - imin)\n",
      "/home/guillermo/Works/Skoltech/forest-inventory-ml/thresholding_watershed.py:41: RuntimeWarning: invalid value encountered in greater\n",
      "  canopy_mask = img_gaussian > threshold_mean(img_gaussian)\n",
      "/home/guillermo/anaconda3/envs/skoltech/lib/python3.6/site-packages/skimage/exposure/exposure.py:297: RuntimeWarning: invalid value encountered in true_divide\n",
      "  image = (image - imin) / float(imax - imin)\n",
      "/home/guillermo/Works/Skoltech/forest-inventory-ml/thresholding_watershed.py:41: RuntimeWarning: invalid value encountered in greater\n",
      "  canopy_mask = img_gaussian > threshold_mean(img_gaussian)\n",
      "/home/guillermo/anaconda3/envs/skoltech/lib/python3.6/site-packages/skimage/exposure/exposure.py:297: RuntimeWarning: invalid value encountered in true_divide\n",
      "  image = (image - imin) / float(imax - imin)\n",
      "/home/guillermo/Works/Skoltech/forest-inventory-ml/thresholding_watershed.py:41: RuntimeWarning: invalid value encountered in greater\n",
      "  canopy_mask = img_gaussian > threshold_mean(img_gaussian)\n",
      "/home/guillermo/anaconda3/envs/skoltech/lib/python3.6/site-packages/skimage/exposure/exposure.py:297: RuntimeWarning: invalid value encountered in true_divide\n",
      "  image = (image - imin) / float(imax - imin)\n",
      "/home/guillermo/Works/Skoltech/forest-inventory-ml/thresholding_watershed.py:41: RuntimeWarning: invalid value encountered in greater\n",
      "  canopy_mask = img_gaussian > threshold_mean(img_gaussian)\n",
      "/home/guillermo/anaconda3/envs/skoltech/lib/python3.6/site-packages/skimage/exposure/exposure.py:297: RuntimeWarning: invalid value encountered in true_divide\n",
      "  image = (image - imin) / float(imax - imin)\n",
      "/home/guillermo/Works/Skoltech/forest-inventory-ml/thresholding_watershed.py:41: RuntimeWarning: invalid value encountered in greater\n",
      "  canopy_mask = img_gaussian > threshold_mean(img_gaussian)\n",
      "/home/guillermo/anaconda3/envs/skoltech/lib/python3.6/site-packages/skimage/exposure/exposure.py:297: RuntimeWarning: invalid value encountered in true_divide\n",
      "  image = (image - imin) / float(imax - imin)\n",
      "/home/guillermo/Works/Skoltech/forest-inventory-ml/thresholding_watershed.py:41: RuntimeWarning: invalid value encountered in greater\n",
      "  canopy_mask = img_gaussian > threshold_mean(img_gaussian)\n",
      "/home/guillermo/anaconda3/envs/skoltech/lib/python3.6/site-packages/skimage/exposure/exposure.py:297: RuntimeWarning: invalid value encountered in true_divide\n",
      "  image = (image - imin) / float(imax - imin)\n",
      "/home/guillermo/anaconda3/envs/skoltech/lib/python3.6/site-packages/skimage/exposure/exposure.py:297: RuntimeWarning: invalid value encountered in true_divide\n",
      "  image = (image - imin) / float(imax - imin)\n",
      "/home/guillermo/Works/Skoltech/forest-inventory-ml/thresholding_watershed.py:41: RuntimeWarning: invalid value encountered in greater\n",
      "  canopy_mask = img_gaussian > threshold_mean(img_gaussian)\n",
      "/home/guillermo/anaconda3/envs/skoltech/lib/python3.6/site-packages/skimage/exposure/exposure.py:297: RuntimeWarning: invalid value encountered in true_divide\n",
      "  image = (image - imin) / float(imax - imin)\n"
     ]
    },
    {
     "name": "stdout",
     "output_type": "stream",
     "text": [
      "Block: (1, 28), 0 trees found\n",
      "Block: (1, 29), 0 trees found\n",
      "Block: (1, 30), 0 trees found\n",
      "Block: (2, 0), 0 trees found\n"
     ]
    },
    {
     "name": "stderr",
     "output_type": "stream",
     "text": [
      "/home/guillermo/Works/Skoltech/forest-inventory-ml/thresholding_watershed.py:41: RuntimeWarning: invalid value encountered in greater\n",
      "  canopy_mask = img_gaussian > threshold_mean(img_gaussian)\n",
      "/home/guillermo/anaconda3/envs/skoltech/lib/python3.6/site-packages/skimage/exposure/exposure.py:297: RuntimeWarning: invalid value encountered in true_divide\n",
      "  image = (image - imin) / float(imax - imin)\n",
      "/home/guillermo/Works/Skoltech/forest-inventory-ml/thresholding_watershed.py:41: RuntimeWarning: invalid value encountered in greater\n",
      "  canopy_mask = img_gaussian > threshold_mean(img_gaussian)\n",
      "/home/guillermo/anaconda3/envs/skoltech/lib/python3.6/site-packages/skimage/exposure/exposure.py:297: RuntimeWarning: invalid value encountered in true_divide\n",
      "  image = (image - imin) / float(imax - imin)\n",
      "/home/guillermo/Works/Skoltech/forest-inventory-ml/thresholding_watershed.py:41: RuntimeWarning: invalid value encountered in greater\n",
      "  canopy_mask = img_gaussian > threshold_mean(img_gaussian)\n",
      "/home/guillermo/anaconda3/envs/skoltech/lib/python3.6/site-packages/skimage/exposure/exposure.py:297: RuntimeWarning: invalid value encountered in true_divide\n",
      "  image = (image - imin) / float(imax - imin)\n",
      "/home/guillermo/Works/Skoltech/forest-inventory-ml/thresholding_watershed.py:41: RuntimeWarning: invalid value encountered in greater\n",
      "  canopy_mask = img_gaussian > threshold_mean(img_gaussian)\n",
      "/home/guillermo/anaconda3/envs/skoltech/lib/python3.6/site-packages/skimage/exposure/exposure.py:297: RuntimeWarning: invalid value encountered in true_divide\n",
      "  image = (image - imin) / float(imax - imin)\n"
     ]
    },
    {
     "name": "stdout",
     "output_type": "stream",
     "text": [
      "Block: (2, 1), 0 trees found\n",
      "Block: (2, 2), 0 trees found\n",
      "Block: (2, 3), 0 trees found\n",
      "Block: (2, 4), 0 trees found\n"
     ]
    },
    {
     "name": "stderr",
     "output_type": "stream",
     "text": [
      "/home/guillermo/Works/Skoltech/forest-inventory-ml/thresholding_watershed.py:41: RuntimeWarning: invalid value encountered in greater\n",
      "  canopy_mask = img_gaussian > threshold_mean(img_gaussian)\n",
      "/home/guillermo/anaconda3/envs/skoltech/lib/python3.6/site-packages/skimage/exposure/exposure.py:297: RuntimeWarning: invalid value encountered in true_divide\n",
      "  image = (image - imin) / float(imax - imin)\n",
      "/home/guillermo/Works/Skoltech/forest-inventory-ml/thresholding_watershed.py:41: RuntimeWarning: invalid value encountered in greater\n",
      "  canopy_mask = img_gaussian > threshold_mean(img_gaussian)\n",
      "/home/guillermo/anaconda3/envs/skoltech/lib/python3.6/site-packages/skimage/exposure/exposure.py:297: RuntimeWarning: invalid value encountered in true_divide\n",
      "  image = (image - imin) / float(imax - imin)\n",
      "/home/guillermo/Works/Skoltech/forest-inventory-ml/thresholding_watershed.py:41: RuntimeWarning: invalid value encountered in greater\n",
      "  canopy_mask = img_gaussian > threshold_mean(img_gaussian)\n",
      "/home/guillermo/anaconda3/envs/skoltech/lib/python3.6/site-packages/skimage/exposure/exposure.py:297: RuntimeWarning: invalid value encountered in true_divide\n",
      "  image = (image - imin) / float(imax - imin)\n",
      "/home/guillermo/Works/Skoltech/forest-inventory-ml/thresholding_watershed.py:41: RuntimeWarning: invalid value encountered in greater\n",
      "  canopy_mask = img_gaussian > threshold_mean(img_gaussian)\n",
      "/home/guillermo/anaconda3/envs/skoltech/lib/python3.6/site-packages/skimage/exposure/exposure.py:297: RuntimeWarning: invalid value encountered in true_divide\n",
      "  image = (image - imin) / float(imax - imin)\n"
     ]
    },
    {
     "name": "stdout",
     "output_type": "stream",
     "text": [
      "Block: (2, 5), 0 trees found\n",
      "Block: (2, 6), 0 trees found\n",
      "Block: (2, 7), 0 trees found\n",
      "Block: (2, 8), 0 trees found\n"
     ]
    },
    {
     "name": "stderr",
     "output_type": "stream",
     "text": [
      "/home/guillermo/Works/Skoltech/forest-inventory-ml/thresholding_watershed.py:41: RuntimeWarning: invalid value encountered in greater\n",
      "  canopy_mask = img_gaussian > threshold_mean(img_gaussian)\n",
      "/home/guillermo/anaconda3/envs/skoltech/lib/python3.6/site-packages/skimage/exposure/exposure.py:297: RuntimeWarning: invalid value encountered in true_divide\n",
      "  image = (image - imin) / float(imax - imin)\n",
      "/home/guillermo/Works/Skoltech/forest-inventory-ml/thresholding_watershed.py:41: RuntimeWarning: invalid value encountered in greater\n",
      "  canopy_mask = img_gaussian > threshold_mean(img_gaussian)\n",
      "/home/guillermo/anaconda3/envs/skoltech/lib/python3.6/site-packages/skimage/exposure/exposure.py:297: RuntimeWarning: invalid value encountered in true_divide\n",
      "  image = (image - imin) / float(imax - imin)\n",
      "/home/guillermo/Works/Skoltech/forest-inventory-ml/thresholding_watershed.py:41: RuntimeWarning: invalid value encountered in greater\n",
      "  canopy_mask = img_gaussian > threshold_mean(img_gaussian)\n",
      "/home/guillermo/anaconda3/envs/skoltech/lib/python3.6/site-packages/skimage/exposure/exposure.py:297: RuntimeWarning: invalid value encountered in true_divide\n",
      "  image = (image - imin) / float(imax - imin)\n",
      "/home/guillermo/Works/Skoltech/forest-inventory-ml/thresholding_watershed.py:41: RuntimeWarning: invalid value encountered in greater\n",
      "  canopy_mask = img_gaussian > threshold_mean(img_gaussian)\n",
      "/home/guillermo/anaconda3/envs/skoltech/lib/python3.6/site-packages/skimage/exposure/exposure.py:297: RuntimeWarning: invalid value encountered in true_divide\n",
      "  image = (image - imin) / float(imax - imin)\n"
     ]
    },
    {
     "name": "stdout",
     "output_type": "stream",
     "text": [
      "Block: (2, 9), 0 trees found\n",
      "Block: (2, 10), 0 trees found\n",
      "Block: (2, 11), 0 trees found\n",
      "Block: (2, 12), 0 trees found\n"
     ]
    },
    {
     "name": "stderr",
     "output_type": "stream",
     "text": [
      "/home/guillermo/Works/Skoltech/forest-inventory-ml/thresholding_watershed.py:41: RuntimeWarning: invalid value encountered in greater\n",
      "  canopy_mask = img_gaussian > threshold_mean(img_gaussian)\n",
      "/home/guillermo/anaconda3/envs/skoltech/lib/python3.6/site-packages/skimage/exposure/exposure.py:297: RuntimeWarning: invalid value encountered in true_divide\n",
      "  image = (image - imin) / float(imax - imin)\n",
      "/home/guillermo/Works/Skoltech/forest-inventory-ml/thresholding_watershed.py:41: RuntimeWarning: invalid value encountered in greater\n",
      "  canopy_mask = img_gaussian > threshold_mean(img_gaussian)\n",
      "/home/guillermo/anaconda3/envs/skoltech/lib/python3.6/site-packages/skimage/exposure/exposure.py:297: RuntimeWarning: invalid value encountered in true_divide\n",
      "  image = (image - imin) / float(imax - imin)\n",
      "/home/guillermo/Works/Skoltech/forest-inventory-ml/thresholding_watershed.py:41: RuntimeWarning: invalid value encountered in greater\n",
      "  canopy_mask = img_gaussian > threshold_mean(img_gaussian)\n",
      "/home/guillermo/anaconda3/envs/skoltech/lib/python3.6/site-packages/skimage/exposure/exposure.py:297: RuntimeWarning: invalid value encountered in true_divide\n",
      "  image = (image - imin) / float(imax - imin)\n",
      "/home/guillermo/Works/Skoltech/forest-inventory-ml/thresholding_watershed.py:41: RuntimeWarning: invalid value encountered in greater\n",
      "  canopy_mask = img_gaussian > threshold_mean(img_gaussian)\n",
      "/home/guillermo/anaconda3/envs/skoltech/lib/python3.6/site-packages/skimage/exposure/exposure.py:297: RuntimeWarning: invalid value encountered in true_divide\n",
      "  image = (image - imin) / float(imax - imin)\n"
     ]
    },
    {
     "name": "stdout",
     "output_type": "stream",
     "text": [
      "Block: (2, 13), 0 trees found\n",
      "Block: (2, 14), 0 trees found\n",
      "Block: (2, 15), 0 trees found\n",
      "Block: (2, 16), 0 trees found\n"
     ]
    },
    {
     "name": "stderr",
     "output_type": "stream",
     "text": [
      "/home/guillermo/Works/Skoltech/forest-inventory-ml/thresholding_watershed.py:41: RuntimeWarning: invalid value encountered in greater\n",
      "  canopy_mask = img_gaussian > threshold_mean(img_gaussian)\n",
      "/home/guillermo/anaconda3/envs/skoltech/lib/python3.6/site-packages/skimage/exposure/exposure.py:297: RuntimeWarning: invalid value encountered in true_divide\n",
      "  image = (image - imin) / float(imax - imin)\n",
      "/home/guillermo/Works/Skoltech/forest-inventory-ml/thresholding_watershed.py:41: RuntimeWarning: invalid value encountered in greater\n",
      "  canopy_mask = img_gaussian > threshold_mean(img_gaussian)\n",
      "/home/guillermo/anaconda3/envs/skoltech/lib/python3.6/site-packages/skimage/exposure/exposure.py:297: RuntimeWarning: invalid value encountered in true_divide\n",
      "  image = (image - imin) / float(imax - imin)\n",
      "/home/guillermo/Works/Skoltech/forest-inventory-ml/thresholding_watershed.py:41: RuntimeWarning: invalid value encountered in greater\n",
      "  canopy_mask = img_gaussian > threshold_mean(img_gaussian)\n",
      "/home/guillermo/anaconda3/envs/skoltech/lib/python3.6/site-packages/skimage/exposure/exposure.py:297: RuntimeWarning: invalid value encountered in true_divide\n",
      "  image = (image - imin) / float(imax - imin)\n",
      "/home/guillermo/Works/Skoltech/forest-inventory-ml/thresholding_watershed.py:41: RuntimeWarning: invalid value encountered in greater\n",
      "  canopy_mask = img_gaussian > threshold_mean(img_gaussian)\n",
      "/home/guillermo/anaconda3/envs/skoltech/lib/python3.6/site-packages/skimage/exposure/exposure.py:297: RuntimeWarning: invalid value encountered in true_divide\n",
      "  image = (image - imin) / float(imax - imin)\n"
     ]
    },
    {
     "name": "stdout",
     "output_type": "stream",
     "text": [
      "Block: (2, 17), 0 trees found\n",
      "Block: (2, 18), 0 trees found\n",
      "Block: (2, 19), 0 trees found\n",
      "Block: (2, 20), 0 trees found\n"
     ]
    },
    {
     "name": "stderr",
     "output_type": "stream",
     "text": [
      "/home/guillermo/Works/Skoltech/forest-inventory-ml/thresholding_watershed.py:41: RuntimeWarning: invalid value encountered in greater\n",
      "  canopy_mask = img_gaussian > threshold_mean(img_gaussian)\n",
      "/home/guillermo/anaconda3/envs/skoltech/lib/python3.6/site-packages/skimage/exposure/exposure.py:297: RuntimeWarning: invalid value encountered in true_divide\n",
      "  image = (image - imin) / float(imax - imin)\n",
      "/home/guillermo/Works/Skoltech/forest-inventory-ml/thresholding_watershed.py:41: RuntimeWarning: invalid value encountered in greater\n",
      "  canopy_mask = img_gaussian > threshold_mean(img_gaussian)\n",
      "/home/guillermo/anaconda3/envs/skoltech/lib/python3.6/site-packages/skimage/exposure/exposure.py:297: RuntimeWarning: invalid value encountered in true_divide\n",
      "  image = (image - imin) / float(imax - imin)\n",
      "/home/guillermo/Works/Skoltech/forest-inventory-ml/thresholding_watershed.py:41: RuntimeWarning: invalid value encountered in greater\n",
      "  canopy_mask = img_gaussian > threshold_mean(img_gaussian)\n",
      "/home/guillermo/anaconda3/envs/skoltech/lib/python3.6/site-packages/skimage/exposure/exposure.py:297: RuntimeWarning: invalid value encountered in true_divide\n",
      "  image = (image - imin) / float(imax - imin)\n",
      "/home/guillermo/Works/Skoltech/forest-inventory-ml/thresholding_watershed.py:41: RuntimeWarning: invalid value encountered in greater\n",
      "  canopy_mask = img_gaussian > threshold_mean(img_gaussian)\n"
     ]
    },
    {
     "name": "stdout",
     "output_type": "stream",
     "text": [
      "Block: (2, 21), 0 trees found\n",
      "Block: (2, 22), 0 trees found\n",
      "Block: (2, 23), 0 trees found\n",
      "Block: (2, 24), 0 trees found\n"
     ]
    },
    {
     "name": "stderr",
     "output_type": "stream",
     "text": [
      "/home/guillermo/anaconda3/envs/skoltech/lib/python3.6/site-packages/skimage/exposure/exposure.py:297: RuntimeWarning: invalid value encountered in true_divide\n",
      "  image = (image - imin) / float(imax - imin)\n",
      "/home/guillermo/Works/Skoltech/forest-inventory-ml/thresholding_watershed.py:41: RuntimeWarning: invalid value encountered in greater\n",
      "  canopy_mask = img_gaussian > threshold_mean(img_gaussian)\n",
      "/home/guillermo/anaconda3/envs/skoltech/lib/python3.6/site-packages/skimage/exposure/exposure.py:297: RuntimeWarning: invalid value encountered in true_divide\n",
      "  image = (image - imin) / float(imax - imin)\n",
      "/home/guillermo/Works/Skoltech/forest-inventory-ml/thresholding_watershed.py:41: RuntimeWarning: invalid value encountered in greater\n",
      "  canopy_mask = img_gaussian > threshold_mean(img_gaussian)\n",
      "/home/guillermo/anaconda3/envs/skoltech/lib/python3.6/site-packages/skimage/exposure/exposure.py:297: RuntimeWarning: invalid value encountered in true_divide\n",
      "  image = (image - imin) / float(imax - imin)\n",
      "/home/guillermo/Works/Skoltech/forest-inventory-ml/thresholding_watershed.py:41: RuntimeWarning: invalid value encountered in greater\n",
      "  canopy_mask = img_gaussian > threshold_mean(img_gaussian)\n",
      "/home/guillermo/anaconda3/envs/skoltech/lib/python3.6/site-packages/skimage/exposure/exposure.py:297: RuntimeWarning: invalid value encountered in true_divide\n",
      "  image = (image - imin) / float(imax - imin)\n",
      "/home/guillermo/Works/Skoltech/forest-inventory-ml/thresholding_watershed.py:41: RuntimeWarning: invalid value encountered in greater\n",
      "  canopy_mask = img_gaussian > threshold_mean(img_gaussian)\n"
     ]
    },
    {
     "name": "stdout",
     "output_type": "stream",
     "text": [
      "Block: (2, 25), 0 trees found\n",
      "Block: (2, 26), 0 trees found\n",
      "Block: (2, 27), 0 trees found\n",
      "Block: (2, 28), 0 trees found\n"
     ]
    },
    {
     "name": "stderr",
     "output_type": "stream",
     "text": [
      "/home/guillermo/anaconda3/envs/skoltech/lib/python3.6/site-packages/skimage/exposure/exposure.py:297: RuntimeWarning: invalid value encountered in true_divide\n",
      "  image = (image - imin) / float(imax - imin)\n",
      "/home/guillermo/Works/Skoltech/forest-inventory-ml/thresholding_watershed.py:41: RuntimeWarning: invalid value encountered in greater\n",
      "  canopy_mask = img_gaussian > threshold_mean(img_gaussian)\n",
      "/home/guillermo/anaconda3/envs/skoltech/lib/python3.6/site-packages/skimage/exposure/exposure.py:297: RuntimeWarning: invalid value encountered in true_divide\n",
      "  image = (image - imin) / float(imax - imin)\n",
      "/home/guillermo/anaconda3/envs/skoltech/lib/python3.6/site-packages/skimage/exposure/exposure.py:297: RuntimeWarning: invalid value encountered in true_divide\n",
      "  image = (image - imin) / float(imax - imin)\n",
      "/home/guillermo/Works/Skoltech/forest-inventory-ml/thresholding_watershed.py:41: RuntimeWarning: invalid value encountered in greater\n",
      "  canopy_mask = img_gaussian > threshold_mean(img_gaussian)\n",
      "/home/guillermo/anaconda3/envs/skoltech/lib/python3.6/site-packages/skimage/exposure/exposure.py:297: RuntimeWarning: invalid value encountered in true_divide\n",
      "  image = (image - imin) / float(imax - imin)\n",
      "/home/guillermo/Works/Skoltech/forest-inventory-ml/thresholding_watershed.py:41: RuntimeWarning: invalid value encountered in greater\n",
      "  canopy_mask = img_gaussian > threshold_mean(img_gaussian)\n"
     ]
    },
    {
     "name": "stdout",
     "output_type": "stream",
     "text": [
      "Block: (2, 29), 0 trees found\n",
      "Block: (2, 30), 0 trees found\n",
      "Block: (3, 0), 0 trees found\n",
      "Block: (3, 1), 0 trees found\n"
     ]
    },
    {
     "name": "stderr",
     "output_type": "stream",
     "text": [
      "/home/guillermo/anaconda3/envs/skoltech/lib/python3.6/site-packages/skimage/exposure/exposure.py:297: RuntimeWarning: invalid value encountered in true_divide\n",
      "  image = (image - imin) / float(imax - imin)\n",
      "/home/guillermo/Works/Skoltech/forest-inventory-ml/thresholding_watershed.py:41: RuntimeWarning: invalid value encountered in greater\n",
      "  canopy_mask = img_gaussian > threshold_mean(img_gaussian)\n",
      "/home/guillermo/anaconda3/envs/skoltech/lib/python3.6/site-packages/skimage/exposure/exposure.py:297: RuntimeWarning: invalid value encountered in true_divide\n",
      "  image = (image - imin) / float(imax - imin)\n",
      "/home/guillermo/Works/Skoltech/forest-inventory-ml/thresholding_watershed.py:41: RuntimeWarning: invalid value encountered in greater\n",
      "  canopy_mask = img_gaussian > threshold_mean(img_gaussian)\n",
      "/home/guillermo/anaconda3/envs/skoltech/lib/python3.6/site-packages/skimage/exposure/exposure.py:297: RuntimeWarning: invalid value encountered in true_divide\n",
      "  image = (image - imin) / float(imax - imin)\n",
      "/home/guillermo/Works/Skoltech/forest-inventory-ml/thresholding_watershed.py:41: RuntimeWarning: invalid value encountered in greater\n",
      "  canopy_mask = img_gaussian > threshold_mean(img_gaussian)\n",
      "/home/guillermo/anaconda3/envs/skoltech/lib/python3.6/site-packages/skimage/exposure/exposure.py:297: RuntimeWarning: invalid value encountered in true_divide\n",
      "  image = (image - imin) / float(imax - imin)\n",
      "/home/guillermo/Works/Skoltech/forest-inventory-ml/thresholding_watershed.py:41: RuntimeWarning: invalid value encountered in greater\n",
      "  canopy_mask = img_gaussian > threshold_mean(img_gaussian)\n"
     ]
    },
    {
     "name": "stdout",
     "output_type": "stream",
     "text": [
      "Block: (3, 2), 0 trees found\n",
      "Block: (3, 3), 0 trees found\n",
      "Block: (3, 4), 0 trees found\n",
      "Block: (3, 5), 0 trees found\n"
     ]
    },
    {
     "name": "stderr",
     "output_type": "stream",
     "text": [
      "/home/guillermo/anaconda3/envs/skoltech/lib/python3.6/site-packages/skimage/exposure/exposure.py:297: RuntimeWarning: invalid value encountered in true_divide\n",
      "  image = (image - imin) / float(imax - imin)\n",
      "/home/guillermo/Works/Skoltech/forest-inventory-ml/thresholding_watershed.py:41: RuntimeWarning: invalid value encountered in greater\n",
      "  canopy_mask = img_gaussian > threshold_mean(img_gaussian)\n",
      "/home/guillermo/anaconda3/envs/skoltech/lib/python3.6/site-packages/skimage/exposure/exposure.py:297: RuntimeWarning: invalid value encountered in true_divide\n",
      "  image = (image - imin) / float(imax - imin)\n",
      "/home/guillermo/Works/Skoltech/forest-inventory-ml/thresholding_watershed.py:41: RuntimeWarning: invalid value encountered in greater\n",
      "  canopy_mask = img_gaussian > threshold_mean(img_gaussian)\n",
      "/home/guillermo/anaconda3/envs/skoltech/lib/python3.6/site-packages/skimage/exposure/exposure.py:297: RuntimeWarning: invalid value encountered in true_divide\n",
      "  image = (image - imin) / float(imax - imin)\n",
      "/home/guillermo/Works/Skoltech/forest-inventory-ml/thresholding_watershed.py:41: RuntimeWarning: invalid value encountered in greater\n",
      "  canopy_mask = img_gaussian > threshold_mean(img_gaussian)\n",
      "/home/guillermo/anaconda3/envs/skoltech/lib/python3.6/site-packages/skimage/exposure/exposure.py:297: RuntimeWarning: invalid value encountered in true_divide\n",
      "  image = (image - imin) / float(imax - imin)\n",
      "/home/guillermo/Works/Skoltech/forest-inventory-ml/thresholding_watershed.py:41: RuntimeWarning: invalid value encountered in greater\n",
      "  canopy_mask = img_gaussian > threshold_mean(img_gaussian)\n"
     ]
    },
    {
     "name": "stdout",
     "output_type": "stream",
     "text": [
      "Block: (3, 6), 0 trees found\n",
      "Block: (3, 7), 0 trees found\n",
      "Block: (3, 8), 0 trees found\n",
      "Block: (3, 9), 0 trees found\n",
      "Block: (3, 10), 0 trees found\n"
     ]
    },
    {
     "name": "stderr",
     "output_type": "stream",
     "text": [
      "/home/guillermo/anaconda3/envs/skoltech/lib/python3.6/site-packages/skimage/exposure/exposure.py:297: RuntimeWarning: invalid value encountered in true_divide\n",
      "  image = (image - imin) / float(imax - imin)\n",
      "/home/guillermo/Works/Skoltech/forest-inventory-ml/thresholding_watershed.py:41: RuntimeWarning: invalid value encountered in greater\n",
      "  canopy_mask = img_gaussian > threshold_mean(img_gaussian)\n",
      "/home/guillermo/anaconda3/envs/skoltech/lib/python3.6/site-packages/skimage/exposure/exposure.py:297: RuntimeWarning: invalid value encountered in true_divide\n",
      "  image = (image - imin) / float(imax - imin)\n",
      "/home/guillermo/Works/Skoltech/forest-inventory-ml/thresholding_watershed.py:41: RuntimeWarning: invalid value encountered in greater\n",
      "  canopy_mask = img_gaussian > threshold_mean(img_gaussian)\n",
      "/home/guillermo/anaconda3/envs/skoltech/lib/python3.6/site-packages/skimage/exposure/exposure.py:297: RuntimeWarning: invalid value encountered in true_divide\n",
      "  image = (image - imin) / float(imax - imin)\n",
      "/home/guillermo/Works/Skoltech/forest-inventory-ml/thresholding_watershed.py:41: RuntimeWarning: invalid value encountered in greater\n",
      "  canopy_mask = img_gaussian > threshold_mean(img_gaussian)\n",
      "/home/guillermo/anaconda3/envs/skoltech/lib/python3.6/site-packages/skimage/exposure/exposure.py:297: RuntimeWarning: invalid value encountered in true_divide\n",
      "  image = (image - imin) / float(imax - imin)\n",
      "/home/guillermo/Works/Skoltech/forest-inventory-ml/thresholding_watershed.py:41: RuntimeWarning: invalid value encountered in greater\n",
      "  canopy_mask = img_gaussian > threshold_mean(img_gaussian)\n"
     ]
    },
    {
     "name": "stdout",
     "output_type": "stream",
     "text": [
      "Block: (3, 11), 0 trees found\n",
      "Block: (3, 12), 0 trees found\n",
      "Block: (3, 13), 0 trees found\n",
      "Block: (3, 14), 0 trees found\n"
     ]
    },
    {
     "name": "stderr",
     "output_type": "stream",
     "text": [
      "/home/guillermo/anaconda3/envs/skoltech/lib/python3.6/site-packages/skimage/exposure/exposure.py:297: RuntimeWarning: invalid value encountered in true_divide\n",
      "  image = (image - imin) / float(imax - imin)\n",
      "/home/guillermo/Works/Skoltech/forest-inventory-ml/thresholding_watershed.py:41: RuntimeWarning: invalid value encountered in greater\n",
      "  canopy_mask = img_gaussian > threshold_mean(img_gaussian)\n",
      "/home/guillermo/anaconda3/envs/skoltech/lib/python3.6/site-packages/skimage/exposure/exposure.py:297: RuntimeWarning: invalid value encountered in true_divide\n",
      "  image = (image - imin) / float(imax - imin)\n",
      "/home/guillermo/Works/Skoltech/forest-inventory-ml/thresholding_watershed.py:41: RuntimeWarning: invalid value encountered in greater\n",
      "  canopy_mask = img_gaussian > threshold_mean(img_gaussian)\n",
      "/home/guillermo/anaconda3/envs/skoltech/lib/python3.6/site-packages/skimage/exposure/exposure.py:297: RuntimeWarning: invalid value encountered in true_divide\n",
      "  image = (image - imin) / float(imax - imin)\n",
      "/home/guillermo/Works/Skoltech/forest-inventory-ml/thresholding_watershed.py:41: RuntimeWarning: invalid value encountered in greater\n",
      "  canopy_mask = img_gaussian > threshold_mean(img_gaussian)\n",
      "/home/guillermo/anaconda3/envs/skoltech/lib/python3.6/site-packages/skimage/exposure/exposure.py:297: RuntimeWarning: invalid value encountered in true_divide\n",
      "  image = (image - imin) / float(imax - imin)\n",
      "/home/guillermo/Works/Skoltech/forest-inventory-ml/thresholding_watershed.py:41: RuntimeWarning: invalid value encountered in greater\n",
      "  canopy_mask = img_gaussian > threshold_mean(img_gaussian)\n"
     ]
    },
    {
     "name": "stdout",
     "output_type": "stream",
     "text": [
      "Block: (3, 15), 0 trees found\n",
      "Block: (3, 16), 0 trees found\n",
      "Block: (3, 17), 0 trees found\n",
      "Block: (3, 18), 0 trees found\n"
     ]
    },
    {
     "name": "stderr",
     "output_type": "stream",
     "text": [
      "/home/guillermo/anaconda3/envs/skoltech/lib/python3.6/site-packages/skimage/exposure/exposure.py:297: RuntimeWarning: invalid value encountered in true_divide\n",
      "  image = (image - imin) / float(imax - imin)\n",
      "/home/guillermo/Works/Skoltech/forest-inventory-ml/thresholding_watershed.py:41: RuntimeWarning: invalid value encountered in greater\n",
      "  canopy_mask = img_gaussian > threshold_mean(img_gaussian)\n",
      "/home/guillermo/anaconda3/envs/skoltech/lib/python3.6/site-packages/skimage/exposure/exposure.py:297: RuntimeWarning: invalid value encountered in true_divide\n",
      "  image = (image - imin) / float(imax - imin)\n",
      "/home/guillermo/Works/Skoltech/forest-inventory-ml/thresholding_watershed.py:41: RuntimeWarning: invalid value encountered in greater\n",
      "  canopy_mask = img_gaussian > threshold_mean(img_gaussian)\n",
      "/home/guillermo/anaconda3/envs/skoltech/lib/python3.6/site-packages/skimage/exposure/exposure.py:297: RuntimeWarning: invalid value encountered in true_divide\n",
      "  image = (image - imin) / float(imax - imin)\n",
      "/home/guillermo/Works/Skoltech/forest-inventory-ml/thresholding_watershed.py:41: RuntimeWarning: invalid value encountered in greater\n",
      "  canopy_mask = img_gaussian > threshold_mean(img_gaussian)\n",
      "/home/guillermo/anaconda3/envs/skoltech/lib/python3.6/site-packages/skimage/exposure/exposure.py:297: RuntimeWarning: invalid value encountered in true_divide\n",
      "  image = (image - imin) / float(imax - imin)\n",
      "/home/guillermo/Works/Skoltech/forest-inventory-ml/thresholding_watershed.py:41: RuntimeWarning: invalid value encountered in greater\n",
      "  canopy_mask = img_gaussian > threshold_mean(img_gaussian)\n",
      "/home/guillermo/anaconda3/envs/skoltech/lib/python3.6/site-packages/skimage/exposure/exposure.py:297: RuntimeWarning: invalid value encountered in true_divide\n",
      "  image = (image - imin) / float(imax - imin)\n"
     ]
    },
    {
     "name": "stdout",
     "output_type": "stream",
     "text": [
      "Block: (3, 19), 0 trees found\n",
      "Block: (3, 20), 0 trees found\n",
      "Block: (3, 21), 0 trees found\n",
      "Block: (3, 22), 0 trees found\n",
      "Block: (3, 23), 0 trees found\n"
     ]
    },
    {
     "name": "stderr",
     "output_type": "stream",
     "text": [
      "/home/guillermo/Works/Skoltech/forest-inventory-ml/thresholding_watershed.py:41: RuntimeWarning: invalid value encountered in greater\n",
      "  canopy_mask = img_gaussian > threshold_mean(img_gaussian)\n",
      "/home/guillermo/anaconda3/envs/skoltech/lib/python3.6/site-packages/skimage/exposure/exposure.py:297: RuntimeWarning: invalid value encountered in true_divide\n",
      "  image = (image - imin) / float(imax - imin)\n",
      "/home/guillermo/Works/Skoltech/forest-inventory-ml/thresholding_watershed.py:41: RuntimeWarning: invalid value encountered in greater\n",
      "  canopy_mask = img_gaussian > threshold_mean(img_gaussian)\n",
      "/home/guillermo/anaconda3/envs/skoltech/lib/python3.6/site-packages/skimage/exposure/exposure.py:297: RuntimeWarning: invalid value encountered in true_divide\n",
      "  image = (image - imin) / float(imax - imin)\n",
      "/home/guillermo/Works/Skoltech/forest-inventory-ml/thresholding_watershed.py:41: RuntimeWarning: invalid value encountered in greater\n",
      "  canopy_mask = img_gaussian > threshold_mean(img_gaussian)\n",
      "/home/guillermo/anaconda3/envs/skoltech/lib/python3.6/site-packages/skimage/exposure/exposure.py:297: RuntimeWarning: invalid value encountered in true_divide\n",
      "  image = (image - imin) / float(imax - imin)\n",
      "/home/guillermo/Works/Skoltech/forest-inventory-ml/thresholding_watershed.py:41: RuntimeWarning: invalid value encountered in greater\n",
      "  canopy_mask = img_gaussian > threshold_mean(img_gaussian)\n",
      "/home/guillermo/anaconda3/envs/skoltech/lib/python3.6/site-packages/skimage/exposure/exposure.py:297: RuntimeWarning: invalid value encountered in true_divide\n",
      "  image = (image - imin) / float(imax - imin)\n",
      "/home/guillermo/Works/Skoltech/forest-inventory-ml/thresholding_watershed.py:41: RuntimeWarning: invalid value encountered in greater\n",
      "  canopy_mask = img_gaussian > threshold_mean(img_gaussian)\n"
     ]
    },
    {
     "name": "stdout",
     "output_type": "stream",
     "text": [
      "Block: (3, 24), 0 trees found\n",
      "Block: (3, 25), 0 trees found\n",
      "Block: (3, 26), 0 trees found\n",
      "Block: (3, 27), 0 trees found\n",
      "Block: (3, 28), 0 trees found\n"
     ]
    },
    {
     "name": "stderr",
     "output_type": "stream",
     "text": [
      "/home/guillermo/anaconda3/envs/skoltech/lib/python3.6/site-packages/skimage/exposure/exposure.py:297: RuntimeWarning: invalid value encountered in true_divide\n",
      "  image = (image - imin) / float(imax - imin)\n",
      "/home/guillermo/Works/Skoltech/forest-inventory-ml/thresholding_watershed.py:41: RuntimeWarning: invalid value encountered in greater\n",
      "  canopy_mask = img_gaussian > threshold_mean(img_gaussian)\n",
      "/home/guillermo/anaconda3/envs/skoltech/lib/python3.6/site-packages/skimage/exposure/exposure.py:297: RuntimeWarning: invalid value encountered in true_divide\n",
      "  image = (image - imin) / float(imax - imin)\n",
      "/home/guillermo/Works/Skoltech/forest-inventory-ml/thresholding_watershed.py:41: RuntimeWarning: invalid value encountered in greater\n",
      "  canopy_mask = img_gaussian > threshold_mean(img_gaussian)\n",
      "/home/guillermo/anaconda3/envs/skoltech/lib/python3.6/site-packages/skimage/exposure/exposure.py:297: RuntimeWarning: invalid value encountered in true_divide\n",
      "  image = (image - imin) / float(imax - imin)\n",
      "/home/guillermo/Works/Skoltech/forest-inventory-ml/thresholding_watershed.py:41: RuntimeWarning: invalid value encountered in greater\n",
      "  canopy_mask = img_gaussian > threshold_mean(img_gaussian)\n",
      "/home/guillermo/anaconda3/envs/skoltech/lib/python3.6/site-packages/skimage/exposure/exposure.py:297: RuntimeWarning: invalid value encountered in true_divide\n",
      "  image = (image - imin) / float(imax - imin)\n",
      "/home/guillermo/anaconda3/envs/skoltech/lib/python3.6/site-packages/skimage/exposure/exposure.py:297: RuntimeWarning: invalid value encountered in true_divide\n",
      "  image = (image - imin) / float(imax - imin)\n"
     ]
    },
    {
     "name": "stdout",
     "output_type": "stream",
     "text": [
      "Block: (3, 29), 0 trees found\n",
      "Block: (3, 30), 0 trees found\n",
      "Block: (4, 0), 0 trees found\n",
      "Block: (4, 1), 0 trees found\n",
      "Block: (4, 2), 0 trees found\n"
     ]
    },
    {
     "name": "stderr",
     "output_type": "stream",
     "text": [
      "/home/guillermo/Works/Skoltech/forest-inventory-ml/thresholding_watershed.py:41: RuntimeWarning: invalid value encountered in greater\n",
      "  canopy_mask = img_gaussian > threshold_mean(img_gaussian)\n",
      "/home/guillermo/anaconda3/envs/skoltech/lib/python3.6/site-packages/skimage/exposure/exposure.py:297: RuntimeWarning: invalid value encountered in true_divide\n",
      "  image = (image - imin) / float(imax - imin)\n",
      "/home/guillermo/Works/Skoltech/forest-inventory-ml/thresholding_watershed.py:41: RuntimeWarning: invalid value encountered in greater\n",
      "  canopy_mask = img_gaussian > threshold_mean(img_gaussian)\n",
      "/home/guillermo/anaconda3/envs/skoltech/lib/python3.6/site-packages/skimage/exposure/exposure.py:297: RuntimeWarning: invalid value encountered in true_divide\n",
      "  image = (image - imin) / float(imax - imin)\n",
      "/home/guillermo/Works/Skoltech/forest-inventory-ml/thresholding_watershed.py:41: RuntimeWarning: invalid value encountered in greater\n",
      "  canopy_mask = img_gaussian > threshold_mean(img_gaussian)\n",
      "/home/guillermo/anaconda3/envs/skoltech/lib/python3.6/site-packages/skimage/exposure/exposure.py:297: RuntimeWarning: invalid value encountered in true_divide\n",
      "  image = (image - imin) / float(imax - imin)\n",
      "/home/guillermo/Works/Skoltech/forest-inventory-ml/thresholding_watershed.py:41: RuntimeWarning: invalid value encountered in greater\n",
      "  canopy_mask = img_gaussian > threshold_mean(img_gaussian)\n",
      "/home/guillermo/anaconda3/envs/skoltech/lib/python3.6/site-packages/skimage/exposure/exposure.py:297: RuntimeWarning: invalid value encountered in true_divide\n",
      "  image = (image - imin) / float(imax - imin)\n"
     ]
    },
    {
     "name": "stdout",
     "output_type": "stream",
     "text": [
      "Block: (4, 3), 0 trees found\n",
      "Block: (4, 4), 0 trees found\n",
      "Block: (4, 5), 0 trees found\n",
      "Block: (4, 6), 0 trees found\n"
     ]
    },
    {
     "name": "stderr",
     "output_type": "stream",
     "text": [
      "/home/guillermo/Works/Skoltech/forest-inventory-ml/thresholding_watershed.py:41: RuntimeWarning: invalid value encountered in greater\n",
      "  canopy_mask = img_gaussian > threshold_mean(img_gaussian)\n",
      "/home/guillermo/anaconda3/envs/skoltech/lib/python3.6/site-packages/skimage/exposure/exposure.py:297: RuntimeWarning: invalid value encountered in true_divide\n",
      "  image = (image - imin) / float(imax - imin)\n",
      "/home/guillermo/Works/Skoltech/forest-inventory-ml/thresholding_watershed.py:41: RuntimeWarning: invalid value encountered in greater\n",
      "  canopy_mask = img_gaussian > threshold_mean(img_gaussian)\n",
      "/home/guillermo/anaconda3/envs/skoltech/lib/python3.6/site-packages/skimage/exposure/exposure.py:297: RuntimeWarning: invalid value encountered in true_divide\n",
      "  image = (image - imin) / float(imax - imin)\n",
      "/home/guillermo/Works/Skoltech/forest-inventory-ml/thresholding_watershed.py:41: RuntimeWarning: invalid value encountered in greater\n",
      "  canopy_mask = img_gaussian > threshold_mean(img_gaussian)\n",
      "/home/guillermo/anaconda3/envs/skoltech/lib/python3.6/site-packages/skimage/exposure/exposure.py:297: RuntimeWarning: invalid value encountered in true_divide\n",
      "  image = (image - imin) / float(imax - imin)\n",
      "/home/guillermo/Works/Skoltech/forest-inventory-ml/thresholding_watershed.py:41: RuntimeWarning: invalid value encountered in greater\n",
      "  canopy_mask = img_gaussian > threshold_mean(img_gaussian)\n",
      "/home/guillermo/anaconda3/envs/skoltech/lib/python3.6/site-packages/skimage/exposure/exposure.py:297: RuntimeWarning: invalid value encountered in true_divide\n",
      "  image = (image - imin) / float(imax - imin)\n"
     ]
    },
    {
     "name": "stdout",
     "output_type": "stream",
     "text": [
      "Block: (4, 7), 0 trees found\n",
      "Block: (4, 8), 0 trees found\n",
      "Block: (4, 9), 0 trees found\n"
     ]
    },
    {
     "name": "stderr",
     "output_type": "stream",
     "text": [
      "/home/guillermo/Works/Skoltech/forest-inventory-ml/thresholding_watershed.py:41: RuntimeWarning: invalid value encountered in greater\n",
      "  canopy_mask = img_gaussian > threshold_mean(img_gaussian)\n",
      "/home/guillermo/anaconda3/envs/skoltech/lib/python3.6/site-packages/skimage/exposure/exposure.py:297: RuntimeWarning: invalid value encountered in true_divide\n",
      "  image = (image - imin) / float(imax - imin)\n",
      "/home/guillermo/Works/Skoltech/forest-inventory-ml/thresholding_watershed.py:41: RuntimeWarning: invalid value encountered in greater\n",
      "  canopy_mask = img_gaussian > threshold_mean(img_gaussian)\n"
     ]
    },
    {
     "name": "stdout",
     "output_type": "stream",
     "text": [
      "Block: (4, 10), 1 trees found\n",
      "Block: (4, 11), 0 trees found\n",
      "Block: (4, 12), 0 trees found\n",
      "Block: (4, 13), 0 trees found\n"
     ]
    },
    {
     "name": "stderr",
     "output_type": "stream",
     "text": [
      "/home/guillermo/anaconda3/envs/skoltech/lib/python3.6/site-packages/skimage/exposure/exposure.py:297: RuntimeWarning: invalid value encountered in true_divide\n",
      "  image = (image - imin) / float(imax - imin)\n",
      "/home/guillermo/Works/Skoltech/forest-inventory-ml/thresholding_watershed.py:41: RuntimeWarning: invalid value encountered in greater\n",
      "  canopy_mask = img_gaussian > threshold_mean(img_gaussian)\n",
      "/home/guillermo/anaconda3/envs/skoltech/lib/python3.6/site-packages/skimage/exposure/exposure.py:297: RuntimeWarning: invalid value encountered in true_divide\n",
      "  image = (image - imin) / float(imax - imin)\n",
      "/home/guillermo/Works/Skoltech/forest-inventory-ml/thresholding_watershed.py:41: RuntimeWarning: invalid value encountered in greater\n",
      "  canopy_mask = img_gaussian > threshold_mean(img_gaussian)\n",
      "/home/guillermo/anaconda3/envs/skoltech/lib/python3.6/site-packages/skimage/exposure/exposure.py:297: RuntimeWarning: invalid value encountered in true_divide\n",
      "  image = (image - imin) / float(imax - imin)\n",
      "/home/guillermo/Works/Skoltech/forest-inventory-ml/thresholding_watershed.py:41: RuntimeWarning: invalid value encountered in greater\n",
      "  canopy_mask = img_gaussian > threshold_mean(img_gaussian)\n",
      "/home/guillermo/anaconda3/envs/skoltech/lib/python3.6/site-packages/skimage/exposure/exposure.py:297: RuntimeWarning: invalid value encountered in true_divide\n",
      "  image = (image - imin) / float(imax - imin)\n",
      "/home/guillermo/Works/Skoltech/forest-inventory-ml/thresholding_watershed.py:41: RuntimeWarning: invalid value encountered in greater\n",
      "  canopy_mask = img_gaussian > threshold_mean(img_gaussian)\n"
     ]
    },
    {
     "name": "stdout",
     "output_type": "stream",
     "text": [
      "Block: (4, 14), 0 trees found\n",
      "Block: (4, 15), 0 trees found\n",
      "Block: (4, 16), 0 trees found\n",
      "Block: (4, 17), 0 trees found\n"
     ]
    },
    {
     "name": "stderr",
     "output_type": "stream",
     "text": [
      "/home/guillermo/anaconda3/envs/skoltech/lib/python3.6/site-packages/skimage/exposure/exposure.py:297: RuntimeWarning: invalid value encountered in true_divide\n",
      "  image = (image - imin) / float(imax - imin)\n",
      "/home/guillermo/Works/Skoltech/forest-inventory-ml/thresholding_watershed.py:41: RuntimeWarning: invalid value encountered in greater\n",
      "  canopy_mask = img_gaussian > threshold_mean(img_gaussian)\n",
      "/home/guillermo/anaconda3/envs/skoltech/lib/python3.6/site-packages/skimage/exposure/exposure.py:297: RuntimeWarning: invalid value encountered in true_divide\n",
      "  image = (image - imin) / float(imax - imin)\n",
      "/home/guillermo/Works/Skoltech/forest-inventory-ml/thresholding_watershed.py:41: RuntimeWarning: invalid value encountered in greater\n",
      "  canopy_mask = img_gaussian > threshold_mean(img_gaussian)\n",
      "/home/guillermo/anaconda3/envs/skoltech/lib/python3.6/site-packages/skimage/exposure/exposure.py:297: RuntimeWarning: invalid value encountered in true_divide\n",
      "  image = (image - imin) / float(imax - imin)\n",
      "/home/guillermo/Works/Skoltech/forest-inventory-ml/thresholding_watershed.py:41: RuntimeWarning: invalid value encountered in greater\n",
      "  canopy_mask = img_gaussian > threshold_mean(img_gaussian)\n",
      "/home/guillermo/anaconda3/envs/skoltech/lib/python3.6/site-packages/skimage/exposure/exposure.py:297: RuntimeWarning: invalid value encountered in true_divide\n",
      "  image = (image - imin) / float(imax - imin)\n",
      "/home/guillermo/Works/Skoltech/forest-inventory-ml/thresholding_watershed.py:41: RuntimeWarning: invalid value encountered in greater\n",
      "  canopy_mask = img_gaussian > threshold_mean(img_gaussian)\n"
     ]
    },
    {
     "name": "stdout",
     "output_type": "stream",
     "text": [
      "Block: (4, 18), 0 trees found\n",
      "Block: (4, 19), 0 trees found\n",
      "Block: (4, 20), 0 trees found\n",
      "Block: (4, 21), 0 trees found\n",
      "Block: (4, 22), 0 trees found\n"
     ]
    },
    {
     "name": "stderr",
     "output_type": "stream",
     "text": [
      "/home/guillermo/anaconda3/envs/skoltech/lib/python3.6/site-packages/skimage/exposure/exposure.py:297: RuntimeWarning: invalid value encountered in true_divide\n",
      "  image = (image - imin) / float(imax - imin)\n",
      "/home/guillermo/Works/Skoltech/forest-inventory-ml/thresholding_watershed.py:41: RuntimeWarning: invalid value encountered in greater\n",
      "  canopy_mask = img_gaussian > threshold_mean(img_gaussian)\n",
      "/home/guillermo/anaconda3/envs/skoltech/lib/python3.6/site-packages/skimage/exposure/exposure.py:297: RuntimeWarning: invalid value encountered in true_divide\n",
      "  image = (image - imin) / float(imax - imin)\n",
      "/home/guillermo/Works/Skoltech/forest-inventory-ml/thresholding_watershed.py:41: RuntimeWarning: invalid value encountered in greater\n",
      "  canopy_mask = img_gaussian > threshold_mean(img_gaussian)\n",
      "/home/guillermo/anaconda3/envs/skoltech/lib/python3.6/site-packages/skimage/exposure/exposure.py:297: RuntimeWarning: invalid value encountered in true_divide\n",
      "  image = (image - imin) / float(imax - imin)\n",
      "/home/guillermo/Works/Skoltech/forest-inventory-ml/thresholding_watershed.py:41: RuntimeWarning: invalid value encountered in greater\n",
      "  canopy_mask = img_gaussian > threshold_mean(img_gaussian)\n",
      "/home/guillermo/anaconda3/envs/skoltech/lib/python3.6/site-packages/skimage/exposure/exposure.py:297: RuntimeWarning: invalid value encountered in true_divide\n",
      "  image = (image - imin) / float(imax - imin)\n",
      "/home/guillermo/Works/Skoltech/forest-inventory-ml/thresholding_watershed.py:41: RuntimeWarning: invalid value encountered in greater\n",
      "  canopy_mask = img_gaussian > threshold_mean(img_gaussian)\n",
      "/home/guillermo/anaconda3/envs/skoltech/lib/python3.6/site-packages/skimage/exposure/exposure.py:297: RuntimeWarning: invalid value encountered in true_divide\n",
      "  image = (image - imin) / float(imax - imin)\n",
      "/home/guillermo/Works/Skoltech/forest-inventory-ml/thresholding_watershed.py:41: RuntimeWarning: invalid value encountered in greater\n",
      "  canopy_mask = img_gaussian > threshold_mean(img_gaussian)\n",
      "/home/guillermo/anaconda3/envs/skoltech/lib/python3.6/site-packages/skimage/exposure/exposure.py:297: RuntimeWarning: invalid value encountered in true_divide\n",
      "  image = (image - imin) / float(imax - imin)\n",
      "/home/guillermo/Works/Skoltech/forest-inventory-ml/thresholding_watershed.py:41: RuntimeWarning: invalid value encountered in greater\n",
      "  canopy_mask = img_gaussian > threshold_mean(img_gaussian)\n",
      "/home/guillermo/anaconda3/envs/skoltech/lib/python3.6/site-packages/skimage/exposure/exposure.py:297: RuntimeWarning: invalid value encountered in true_divide\n",
      "  image = (image - imin) / float(imax - imin)\n",
      "/home/guillermo/Works/Skoltech/forest-inventory-ml/thresholding_watershed.py:41: RuntimeWarning: invalid value encountered in greater\n",
      "  canopy_mask = img_gaussian > threshold_mean(img_gaussian)\n",
      "/home/guillermo/anaconda3/envs/skoltech/lib/python3.6/site-packages/skimage/exposure/exposure.py:297: RuntimeWarning: invalid value encountered in true_divide\n",
      "  image = (image - imin) / float(imax - imin)\n",
      "/home/guillermo/Works/Skoltech/forest-inventory-ml/thresholding_watershed.py:41: RuntimeWarning: invalid value encountered in greater\n",
      "  canopy_mask = img_gaussian > threshold_mean(img_gaussian)\n",
      "/home/guillermo/anaconda3/envs/skoltech/lib/python3.6/site-packages/skimage/exposure/exposure.py:297: RuntimeWarning: invalid value encountered in true_divide\n",
      "  image = (image - imin) / float(imax - imin)\n",
      "/home/guillermo/Works/Skoltech/forest-inventory-ml/thresholding_watershed.py:41: RuntimeWarning: invalid value encountered in greater\n",
      "  canopy_mask = img_gaussian > threshold_mean(img_gaussian)\n"
     ]
    },
    {
     "name": "stdout",
     "output_type": "stream",
     "text": [
      "Block: (4, 23), 0 trees found\n",
      "Block: (4, 24), 0 trees found\n",
      "Block: (4, 25), 0 trees found\n",
      "Block: (4, 26), 0 trees found\n",
      "Block: (4, 27), 0 trees found\n"
     ]
    },
    {
     "name": "stderr",
     "output_type": "stream",
     "text": [
      "/home/guillermo/anaconda3/envs/skoltech/lib/python3.6/site-packages/skimage/exposure/exposure.py:297: RuntimeWarning: invalid value encountered in true_divide\n",
      "  image = (image - imin) / float(imax - imin)\n",
      "/home/guillermo/Works/Skoltech/forest-inventory-ml/thresholding_watershed.py:41: RuntimeWarning: invalid value encountered in greater\n",
      "  canopy_mask = img_gaussian > threshold_mean(img_gaussian)\n",
      "/home/guillermo/anaconda3/envs/skoltech/lib/python3.6/site-packages/skimage/exposure/exposure.py:297: RuntimeWarning: invalid value encountered in true_divide\n",
      "  image = (image - imin) / float(imax - imin)\n",
      "/home/guillermo/Works/Skoltech/forest-inventory-ml/thresholding_watershed.py:41: RuntimeWarning: invalid value encountered in greater\n",
      "  canopy_mask = img_gaussian > threshold_mean(img_gaussian)\n",
      "/home/guillermo/anaconda3/envs/skoltech/lib/python3.6/site-packages/skimage/exposure/exposure.py:297: RuntimeWarning: invalid value encountered in true_divide\n",
      "  image = (image - imin) / float(imax - imin)\n",
      "/home/guillermo/anaconda3/envs/skoltech/lib/python3.6/site-packages/skimage/exposure/exposure.py:297: RuntimeWarning: invalid value encountered in true_divide\n",
      "  image = (image - imin) / float(imax - imin)\n",
      "/home/guillermo/Works/Skoltech/forest-inventory-ml/thresholding_watershed.py:41: RuntimeWarning: invalid value encountered in greater\n",
      "  canopy_mask = img_gaussian > threshold_mean(img_gaussian)\n",
      "/home/guillermo/anaconda3/envs/skoltech/lib/python3.6/site-packages/skimage/exposure/exposure.py:297: RuntimeWarning: invalid value encountered in true_divide\n",
      "  image = (image - imin) / float(imax - imin)\n"
     ]
    },
    {
     "name": "stdout",
     "output_type": "stream",
     "text": [
      "Block: (4, 28), 0 trees found\n",
      "Block: (4, 29), 0 trees found\n",
      "Block: (4, 30), 0 trees found\n",
      "Block: (5, 0), 0 trees found\n",
      "Block: (5, 1), 0 trees found\n"
     ]
    },
    {
     "name": "stderr",
     "output_type": "stream",
     "text": [
      "/home/guillermo/Works/Skoltech/forest-inventory-ml/thresholding_watershed.py:41: RuntimeWarning: invalid value encountered in greater\n",
      "  canopy_mask = img_gaussian > threshold_mean(img_gaussian)\n",
      "/home/guillermo/anaconda3/envs/skoltech/lib/python3.6/site-packages/skimage/exposure/exposure.py:297: RuntimeWarning: invalid value encountered in true_divide\n",
      "  image = (image - imin) / float(imax - imin)\n",
      "/home/guillermo/Works/Skoltech/forest-inventory-ml/thresholding_watershed.py:41: RuntimeWarning: invalid value encountered in greater\n",
      "  canopy_mask = img_gaussian > threshold_mean(img_gaussian)\n",
      "/home/guillermo/anaconda3/envs/skoltech/lib/python3.6/site-packages/skimage/exposure/exposure.py:297: RuntimeWarning: invalid value encountered in true_divide\n",
      "  image = (image - imin) / float(imax - imin)\n",
      "/home/guillermo/Works/Skoltech/forest-inventory-ml/thresholding_watershed.py:41: RuntimeWarning: invalid value encountered in greater\n",
      "  canopy_mask = img_gaussian > threshold_mean(img_gaussian)\n",
      "/home/guillermo/anaconda3/envs/skoltech/lib/python3.6/site-packages/skimage/exposure/exposure.py:297: RuntimeWarning: invalid value encountered in true_divide\n",
      "  image = (image - imin) / float(imax - imin)\n",
      "/home/guillermo/Works/Skoltech/forest-inventory-ml/thresholding_watershed.py:41: RuntimeWarning: invalid value encountered in greater\n",
      "  canopy_mask = img_gaussian > threshold_mean(img_gaussian)\n",
      "/home/guillermo/anaconda3/envs/skoltech/lib/python3.6/site-packages/skimage/exposure/exposure.py:297: RuntimeWarning: invalid value encountered in true_divide\n",
      "  image = (image - imin) / float(imax - imin)\n",
      "/home/guillermo/Works/Skoltech/forest-inventory-ml/thresholding_watershed.py:41: RuntimeWarning: invalid value encountered in greater\n",
      "  canopy_mask = img_gaussian > threshold_mean(img_gaussian)\n"
     ]
    },
    {
     "name": "stdout",
     "output_type": "stream",
     "text": [
      "Block: (5, 2), 0 trees found\n",
      "Block: (5, 3), 0 trees found\n",
      "Block: (5, 4), 0 trees found\n",
      "Block: (5, 5), 0 trees found\n",
      "Block: (5, 6), 0 trees found\n"
     ]
    },
    {
     "name": "stderr",
     "output_type": "stream",
     "text": [
      "/home/guillermo/anaconda3/envs/skoltech/lib/python3.6/site-packages/skimage/exposure/exposure.py:297: RuntimeWarning: invalid value encountered in true_divide\n",
      "  image = (image - imin) / float(imax - imin)\n",
      "/home/guillermo/Works/Skoltech/forest-inventory-ml/thresholding_watershed.py:41: RuntimeWarning: invalid value encountered in greater\n",
      "  canopy_mask = img_gaussian > threshold_mean(img_gaussian)\n",
      "/home/guillermo/anaconda3/envs/skoltech/lib/python3.6/site-packages/skimage/exposure/exposure.py:297: RuntimeWarning: invalid value encountered in true_divide\n",
      "  image = (image - imin) / float(imax - imin)\n",
      "/home/guillermo/Works/Skoltech/forest-inventory-ml/thresholding_watershed.py:41: RuntimeWarning: invalid value encountered in greater\n",
      "  canopy_mask = img_gaussian > threshold_mean(img_gaussian)\n",
      "/home/guillermo/anaconda3/envs/skoltech/lib/python3.6/site-packages/skimage/exposure/exposure.py:297: RuntimeWarning: invalid value encountered in true_divide\n",
      "  image = (image - imin) / float(imax - imin)\n",
      "/home/guillermo/Works/Skoltech/forest-inventory-ml/thresholding_watershed.py:41: RuntimeWarning: invalid value encountered in greater\n",
      "  canopy_mask = img_gaussian > threshold_mean(img_gaussian)\n",
      "/home/guillermo/anaconda3/envs/skoltech/lib/python3.6/site-packages/skimage/exposure/exposure.py:297: RuntimeWarning: invalid value encountered in true_divide\n",
      "  image = (image - imin) / float(imax - imin)\n",
      "/home/guillermo/Works/Skoltech/forest-inventory-ml/thresholding_watershed.py:41: RuntimeWarning: invalid value encountered in greater\n",
      "  canopy_mask = img_gaussian > threshold_mean(img_gaussian)\n"
     ]
    },
    {
     "name": "stdout",
     "output_type": "stream",
     "text": [
      "Block: (5, 7), 0 trees found\n",
      "Block: (5, 8), 0 trees found\n",
      "Block: (5, 9), 0 trees found\n",
      "Block: (5, 10), 8 trees found\n",
      "Block: (5, 11), 9 trees found\n",
      "Block: (5, 12), 10 trees found\n",
      "Block: (5, 13), 5 trees found\n",
      "Block: (5, 14), 1 trees found\n",
      "Block: (5, 15), 0 trees found\n",
      "Block: (5, 16), 0 trees found\n",
      "Block: (5, 17), 0 trees found\n",
      "Block: (5, 18), 0 trees found\n"
     ]
    },
    {
     "name": "stderr",
     "output_type": "stream",
     "text": [
      "/home/guillermo/anaconda3/envs/skoltech/lib/python3.6/site-packages/skimage/exposure/exposure.py:297: RuntimeWarning: invalid value encountered in true_divide\n",
      "  image = (image - imin) / float(imax - imin)\n",
      "/home/guillermo/Works/Skoltech/forest-inventory-ml/thresholding_watershed.py:41: RuntimeWarning: invalid value encountered in greater\n",
      "  canopy_mask = img_gaussian > threshold_mean(img_gaussian)\n",
      "/home/guillermo/anaconda3/envs/skoltech/lib/python3.6/site-packages/skimage/exposure/exposure.py:297: RuntimeWarning: invalid value encountered in true_divide\n",
      "  image = (image - imin) / float(imax - imin)\n",
      "/home/guillermo/Works/Skoltech/forest-inventory-ml/thresholding_watershed.py:41: RuntimeWarning: invalid value encountered in greater\n",
      "  canopy_mask = img_gaussian > threshold_mean(img_gaussian)\n",
      "/home/guillermo/anaconda3/envs/skoltech/lib/python3.6/site-packages/skimage/exposure/exposure.py:297: RuntimeWarning: invalid value encountered in true_divide\n",
      "  image = (image - imin) / float(imax - imin)\n",
      "/home/guillermo/Works/Skoltech/forest-inventory-ml/thresholding_watershed.py:41: RuntimeWarning: invalid value encountered in greater\n",
      "  canopy_mask = img_gaussian > threshold_mean(img_gaussian)\n",
      "/home/guillermo/anaconda3/envs/skoltech/lib/python3.6/site-packages/skimage/exposure/exposure.py:297: RuntimeWarning: invalid value encountered in true_divide\n",
      "  image = (image - imin) / float(imax - imin)\n",
      "/home/guillermo/Works/Skoltech/forest-inventory-ml/thresholding_watershed.py:41: RuntimeWarning: invalid value encountered in greater\n",
      "  canopy_mask = img_gaussian > threshold_mean(img_gaussian)\n",
      "/home/guillermo/anaconda3/envs/skoltech/lib/python3.6/site-packages/skimage/exposure/exposure.py:297: RuntimeWarning: invalid value encountered in true_divide\n",
      "  image = (image - imin) / float(imax - imin)\n",
      "/home/guillermo/Works/Skoltech/forest-inventory-ml/thresholding_watershed.py:41: RuntimeWarning: invalid value encountered in greater\n",
      "  canopy_mask = img_gaussian > threshold_mean(img_gaussian)\n",
      "/home/guillermo/anaconda3/envs/skoltech/lib/python3.6/site-packages/skimage/exposure/exposure.py:297: RuntimeWarning: invalid value encountered in true_divide\n",
      "  image = (image - imin) / float(imax - imin)\n",
      "/home/guillermo/Works/Skoltech/forest-inventory-ml/thresholding_watershed.py:41: RuntimeWarning: invalid value encountered in greater\n",
      "  canopy_mask = img_gaussian > threshold_mean(img_gaussian)\n",
      "/home/guillermo/anaconda3/envs/skoltech/lib/python3.6/site-packages/skimage/exposure/exposure.py:297: RuntimeWarning: invalid value encountered in true_divide\n",
      "  image = (image - imin) / float(imax - imin)\n",
      "/home/guillermo/Works/Skoltech/forest-inventory-ml/thresholding_watershed.py:41: RuntimeWarning: invalid value encountered in greater\n",
      "  canopy_mask = img_gaussian > threshold_mean(img_gaussian)\n",
      "/home/guillermo/anaconda3/envs/skoltech/lib/python3.6/site-packages/skimage/exposure/exposure.py:297: RuntimeWarning: invalid value encountered in true_divide\n",
      "  image = (image - imin) / float(imax - imin)\n",
      "/home/guillermo/Works/Skoltech/forest-inventory-ml/thresholding_watershed.py:41: RuntimeWarning: invalid value encountered in greater\n",
      "  canopy_mask = img_gaussian > threshold_mean(img_gaussian)\n",
      "/home/guillermo/anaconda3/envs/skoltech/lib/python3.6/site-packages/skimage/exposure/exposure.py:297: RuntimeWarning: invalid value encountered in true_divide\n",
      "  image = (image - imin) / float(imax - imin)\n",
      "/home/guillermo/Works/Skoltech/forest-inventory-ml/thresholding_watershed.py:41: RuntimeWarning: invalid value encountered in greater\n",
      "  canopy_mask = img_gaussian > threshold_mean(img_gaussian)\n"
     ]
    },
    {
     "name": "stdout",
     "output_type": "stream",
     "text": [
      "Block: (5, 19), 0 trees found\n",
      "Block: (5, 20), 0 trees found\n",
      "Block: (5, 21), 0 trees found\n",
      "Block: (5, 22), 0 trees found\n",
      "Block: (5, 23), 0 trees found\n"
     ]
    },
    {
     "name": "stderr",
     "output_type": "stream",
     "text": [
      "/home/guillermo/anaconda3/envs/skoltech/lib/python3.6/site-packages/skimage/exposure/exposure.py:297: RuntimeWarning: invalid value encountered in true_divide\n",
      "  image = (image - imin) / float(imax - imin)\n",
      "/home/guillermo/Works/Skoltech/forest-inventory-ml/thresholding_watershed.py:41: RuntimeWarning: invalid value encountered in greater\n",
      "  canopy_mask = img_gaussian > threshold_mean(img_gaussian)\n",
      "/home/guillermo/anaconda3/envs/skoltech/lib/python3.6/site-packages/skimage/exposure/exposure.py:297: RuntimeWarning: invalid value encountered in true_divide\n",
      "  image = (image - imin) / float(imax - imin)\n",
      "/home/guillermo/Works/Skoltech/forest-inventory-ml/thresholding_watershed.py:41: RuntimeWarning: invalid value encountered in greater\n",
      "  canopy_mask = img_gaussian > threshold_mean(img_gaussian)\n",
      "/home/guillermo/anaconda3/envs/skoltech/lib/python3.6/site-packages/skimage/exposure/exposure.py:297: RuntimeWarning: invalid value encountered in true_divide\n",
      "  image = (image - imin) / float(imax - imin)\n",
      "/home/guillermo/Works/Skoltech/forest-inventory-ml/thresholding_watershed.py:41: RuntimeWarning: invalid value encountered in greater\n",
      "  canopy_mask = img_gaussian > threshold_mean(img_gaussian)\n",
      "/home/guillermo/anaconda3/envs/skoltech/lib/python3.6/site-packages/skimage/exposure/exposure.py:297: RuntimeWarning: invalid value encountered in true_divide\n",
      "  image = (image - imin) / float(imax - imin)\n",
      "/home/guillermo/Works/Skoltech/forest-inventory-ml/thresholding_watershed.py:41: RuntimeWarning: invalid value encountered in greater\n",
      "  canopy_mask = img_gaussian > threshold_mean(img_gaussian)\n",
      "/home/guillermo/anaconda3/envs/skoltech/lib/python3.6/site-packages/skimage/exposure/exposure.py:297: RuntimeWarning: invalid value encountered in true_divide\n",
      "  image = (image - imin) / float(imax - imin)\n"
     ]
    },
    {
     "name": "stdout",
     "output_type": "stream",
     "text": [
      "Block: (5, 24), 0 trees found\n",
      "Block: (5, 25), 0 trees found\n",
      "Block: (5, 26), 0 trees found\n",
      "Block: (5, 27), 0 trees found\n",
      "Block: (5, 28), 0 trees found\n"
     ]
    },
    {
     "name": "stderr",
     "output_type": "stream",
     "text": [
      "/home/guillermo/Works/Skoltech/forest-inventory-ml/thresholding_watershed.py:41: RuntimeWarning: invalid value encountered in greater\n",
      "  canopy_mask = img_gaussian > threshold_mean(img_gaussian)\n",
      "/home/guillermo/anaconda3/envs/skoltech/lib/python3.6/site-packages/skimage/exposure/exposure.py:297: RuntimeWarning: invalid value encountered in true_divide\n",
      "  image = (image - imin) / float(imax - imin)\n",
      "/home/guillermo/Works/Skoltech/forest-inventory-ml/thresholding_watershed.py:41: RuntimeWarning: invalid value encountered in greater\n",
      "  canopy_mask = img_gaussian > threshold_mean(img_gaussian)\n",
      "/home/guillermo/anaconda3/envs/skoltech/lib/python3.6/site-packages/skimage/exposure/exposure.py:297: RuntimeWarning: invalid value encountered in true_divide\n",
      "  image = (image - imin) / float(imax - imin)\n",
      "/home/guillermo/anaconda3/envs/skoltech/lib/python3.6/site-packages/skimage/exposure/exposure.py:297: RuntimeWarning: invalid value encountered in true_divide\n",
      "  image = (image - imin) / float(imax - imin)\n",
      "/home/guillermo/Works/Skoltech/forest-inventory-ml/thresholding_watershed.py:41: RuntimeWarning: invalid value encountered in greater\n",
      "  canopy_mask = img_gaussian > threshold_mean(img_gaussian)\n",
      "/home/guillermo/anaconda3/envs/skoltech/lib/python3.6/site-packages/skimage/exposure/exposure.py:297: RuntimeWarning: invalid value encountered in true_divide\n",
      "  image = (image - imin) / float(imax - imin)\n",
      "/home/guillermo/Works/Skoltech/forest-inventory-ml/thresholding_watershed.py:41: RuntimeWarning: invalid value encountered in greater\n",
      "  canopy_mask = img_gaussian > threshold_mean(img_gaussian)\n"
     ]
    },
    {
     "name": "stdout",
     "output_type": "stream",
     "text": [
      "Block: (5, 29), 0 trees found\n",
      "Block: (5, 30), 0 trees found\n",
      "Block: (6, 0), 0 trees found\n",
      "Block: (6, 1), 0 trees found\n",
      "Block: (6, 2), 0 trees found\n"
     ]
    },
    {
     "name": "stderr",
     "output_type": "stream",
     "text": [
      "/home/guillermo/anaconda3/envs/skoltech/lib/python3.6/site-packages/skimage/exposure/exposure.py:297: RuntimeWarning: invalid value encountered in true_divide\n",
      "  image = (image - imin) / float(imax - imin)\n",
      "/home/guillermo/Works/Skoltech/forest-inventory-ml/thresholding_watershed.py:41: RuntimeWarning: invalid value encountered in greater\n",
      "  canopy_mask = img_gaussian > threshold_mean(img_gaussian)\n",
      "/home/guillermo/anaconda3/envs/skoltech/lib/python3.6/site-packages/skimage/exposure/exposure.py:297: RuntimeWarning: invalid value encountered in true_divide\n",
      "  image = (image - imin) / float(imax - imin)\n",
      "/home/guillermo/Works/Skoltech/forest-inventory-ml/thresholding_watershed.py:41: RuntimeWarning: invalid value encountered in greater\n",
      "  canopy_mask = img_gaussian > threshold_mean(img_gaussian)\n",
      "/home/guillermo/anaconda3/envs/skoltech/lib/python3.6/site-packages/skimage/exposure/exposure.py:297: RuntimeWarning: invalid value encountered in true_divide\n",
      "  image = (image - imin) / float(imax - imin)\n",
      "/home/guillermo/Works/Skoltech/forest-inventory-ml/thresholding_watershed.py:41: RuntimeWarning: invalid value encountered in greater\n",
      "  canopy_mask = img_gaussian > threshold_mean(img_gaussian)\n",
      "/home/guillermo/anaconda3/envs/skoltech/lib/python3.6/site-packages/skimage/exposure/exposure.py:297: RuntimeWarning: invalid value encountered in true_divide\n",
      "  image = (image - imin) / float(imax - imin)\n",
      "/home/guillermo/Works/Skoltech/forest-inventory-ml/thresholding_watershed.py:41: RuntimeWarning: invalid value encountered in greater\n",
      "  canopy_mask = img_gaussian > threshold_mean(img_gaussian)\n"
     ]
    },
    {
     "name": "stdout",
     "output_type": "stream",
     "text": [
      "Block: (6, 3), 0 trees found\n",
      "Block: (6, 4), 0 trees found\n",
      "Block: (6, 5), 0 trees found\n",
      "Block: (6, 6), 0 trees found\n"
     ]
    },
    {
     "name": "stderr",
     "output_type": "stream",
     "text": [
      "/home/guillermo/anaconda3/envs/skoltech/lib/python3.6/site-packages/skimage/exposure/exposure.py:297: RuntimeWarning: invalid value encountered in true_divide\n",
      "  image = (image - imin) / float(imax - imin)\n",
      "/home/guillermo/Works/Skoltech/forest-inventory-ml/thresholding_watershed.py:41: RuntimeWarning: invalid value encountered in greater\n",
      "  canopy_mask = img_gaussian > threshold_mean(img_gaussian)\n",
      "/home/guillermo/anaconda3/envs/skoltech/lib/python3.6/site-packages/skimage/exposure/exposure.py:297: RuntimeWarning: invalid value encountered in true_divide\n",
      "  image = (image - imin) / float(imax - imin)\n",
      "/home/guillermo/Works/Skoltech/forest-inventory-ml/thresholding_watershed.py:41: RuntimeWarning: invalid value encountered in greater\n",
      "  canopy_mask = img_gaussian > threshold_mean(img_gaussian)\n",
      "/home/guillermo/anaconda3/envs/skoltech/lib/python3.6/site-packages/skimage/exposure/exposure.py:297: RuntimeWarning: invalid value encountered in true_divide\n",
      "  image = (image - imin) / float(imax - imin)\n",
      "/home/guillermo/Works/Skoltech/forest-inventory-ml/thresholding_watershed.py:41: RuntimeWarning: invalid value encountered in greater\n",
      "  canopy_mask = img_gaussian > threshold_mean(img_gaussian)\n",
      "/home/guillermo/anaconda3/envs/skoltech/lib/python3.6/site-packages/skimage/exposure/exposure.py:297: RuntimeWarning: invalid value encountered in true_divide\n",
      "  image = (image - imin) / float(imax - imin)\n",
      "/home/guillermo/Works/Skoltech/forest-inventory-ml/thresholding_watershed.py:41: RuntimeWarning: invalid value encountered in greater\n",
      "  canopy_mask = img_gaussian > threshold_mean(img_gaussian)\n"
     ]
    },
    {
     "name": "stdout",
     "output_type": "stream",
     "text": [
      "Block: (6, 7), 0 trees found\n",
      "Block: (6, 8), 0 trees found\n",
      "Block: (6, 9), 0 trees found\n",
      "Block: (6, 10), 5 trees found\n",
      "Block: (6, 11), 333 trees found\n",
      "Block: (6, 12), 270 trees found\n",
      "Block: (6, 13), 234 trees found\n",
      "Block: (6, 14), 36 trees found\n",
      "Block: (6, 15), 1 trees found\n",
      "Block: (6, 16), 4 trees found\n",
      "Block: (6, 17), 0 trees found\n",
      "Block: (6, 18), 0 trees found\n",
      "Block: (6, 19), 0 trees found\n",
      "Block: (6, 20), 0 trees found\n"
     ]
    },
    {
     "name": "stderr",
     "output_type": "stream",
     "text": [
      "/home/guillermo/anaconda3/envs/skoltech/lib/python3.6/site-packages/skimage/exposure/exposure.py:297: RuntimeWarning: invalid value encountered in true_divide\n",
      "  image = (image - imin) / float(imax - imin)\n",
      "/home/guillermo/Works/Skoltech/forest-inventory-ml/thresholding_watershed.py:41: RuntimeWarning: invalid value encountered in greater\n",
      "  canopy_mask = img_gaussian > threshold_mean(img_gaussian)\n",
      "/home/guillermo/anaconda3/envs/skoltech/lib/python3.6/site-packages/skimage/exposure/exposure.py:297: RuntimeWarning: invalid value encountered in true_divide\n",
      "  image = (image - imin) / float(imax - imin)\n",
      "/home/guillermo/Works/Skoltech/forest-inventory-ml/thresholding_watershed.py:41: RuntimeWarning: invalid value encountered in greater\n",
      "  canopy_mask = img_gaussian > threshold_mean(img_gaussian)\n",
      "/home/guillermo/anaconda3/envs/skoltech/lib/python3.6/site-packages/skimage/exposure/exposure.py:297: RuntimeWarning: invalid value encountered in true_divide\n",
      "  image = (image - imin) / float(imax - imin)\n",
      "/home/guillermo/Works/Skoltech/forest-inventory-ml/thresholding_watershed.py:41: RuntimeWarning: invalid value encountered in greater\n",
      "  canopy_mask = img_gaussian > threshold_mean(img_gaussian)\n",
      "/home/guillermo/anaconda3/envs/skoltech/lib/python3.6/site-packages/skimage/exposure/exposure.py:297: RuntimeWarning: invalid value encountered in true_divide\n",
      "  image = (image - imin) / float(imax - imin)\n",
      "/home/guillermo/Works/Skoltech/forest-inventory-ml/thresholding_watershed.py:41: RuntimeWarning: invalid value encountered in greater\n",
      "  canopy_mask = img_gaussian > threshold_mean(img_gaussian)\n",
      "/home/guillermo/anaconda3/envs/skoltech/lib/python3.6/site-packages/skimage/exposure/exposure.py:297: RuntimeWarning: invalid value encountered in true_divide\n",
      "  image = (image - imin) / float(imax - imin)\n",
      "/home/guillermo/Works/Skoltech/forest-inventory-ml/thresholding_watershed.py:41: RuntimeWarning: invalid value encountered in greater\n",
      "  canopy_mask = img_gaussian > threshold_mean(img_gaussian)\n",
      "/home/guillermo/anaconda3/envs/skoltech/lib/python3.6/site-packages/skimage/exposure/exposure.py:297: RuntimeWarning: invalid value encountered in true_divide\n",
      "  image = (image - imin) / float(imax - imin)\n",
      "/home/guillermo/Works/Skoltech/forest-inventory-ml/thresholding_watershed.py:41: RuntimeWarning: invalid value encountered in greater\n",
      "  canopy_mask = img_gaussian > threshold_mean(img_gaussian)\n",
      "/home/guillermo/anaconda3/envs/skoltech/lib/python3.6/site-packages/skimage/exposure/exposure.py:297: RuntimeWarning: invalid value encountered in true_divide\n",
      "  image = (image - imin) / float(imax - imin)\n",
      "/home/guillermo/Works/Skoltech/forest-inventory-ml/thresholding_watershed.py:41: RuntimeWarning: invalid value encountered in greater\n",
      "  canopy_mask = img_gaussian > threshold_mean(img_gaussian)\n",
      "/home/guillermo/anaconda3/envs/skoltech/lib/python3.6/site-packages/skimage/exposure/exposure.py:297: RuntimeWarning: invalid value encountered in true_divide\n",
      "  image = (image - imin) / float(imax - imin)\n",
      "/home/guillermo/Works/Skoltech/forest-inventory-ml/thresholding_watershed.py:41: RuntimeWarning: invalid value encountered in greater\n",
      "  canopy_mask = img_gaussian > threshold_mean(img_gaussian)\n",
      "/home/guillermo/anaconda3/envs/skoltech/lib/python3.6/site-packages/skimage/exposure/exposure.py:297: RuntimeWarning: invalid value encountered in true_divide\n",
      "  image = (image - imin) / float(imax - imin)\n"
     ]
    },
    {
     "name": "stdout",
     "output_type": "stream",
     "text": [
      "Block: (6, 21), 0 trees found\n",
      "Block: (6, 22), 0 trees found\n",
      "Block: (6, 23), 0 trees found\n",
      "Block: (6, 24), 0 trees found\n"
     ]
    },
    {
     "name": "stderr",
     "output_type": "stream",
     "text": [
      "/home/guillermo/Works/Skoltech/forest-inventory-ml/thresholding_watershed.py:41: RuntimeWarning: invalid value encountered in greater\n",
      "  canopy_mask = img_gaussian > threshold_mean(img_gaussian)\n",
      "/home/guillermo/anaconda3/envs/skoltech/lib/python3.6/site-packages/skimage/exposure/exposure.py:297: RuntimeWarning: invalid value encountered in true_divide\n",
      "  image = (image - imin) / float(imax - imin)\n",
      "/home/guillermo/Works/Skoltech/forest-inventory-ml/thresholding_watershed.py:41: RuntimeWarning: invalid value encountered in greater\n",
      "  canopy_mask = img_gaussian > threshold_mean(img_gaussian)\n",
      "/home/guillermo/anaconda3/envs/skoltech/lib/python3.6/site-packages/skimage/exposure/exposure.py:297: RuntimeWarning: invalid value encountered in true_divide\n",
      "  image = (image - imin) / float(imax - imin)\n",
      "/home/guillermo/Works/Skoltech/forest-inventory-ml/thresholding_watershed.py:41: RuntimeWarning: invalid value encountered in greater\n",
      "  canopy_mask = img_gaussian > threshold_mean(img_gaussian)\n",
      "/home/guillermo/anaconda3/envs/skoltech/lib/python3.6/site-packages/skimage/exposure/exposure.py:297: RuntimeWarning: invalid value encountered in true_divide\n",
      "  image = (image - imin) / float(imax - imin)\n",
      "/home/guillermo/Works/Skoltech/forest-inventory-ml/thresholding_watershed.py:41: RuntimeWarning: invalid value encountered in greater\n",
      "  canopy_mask = img_gaussian > threshold_mean(img_gaussian)\n",
      "/home/guillermo/anaconda3/envs/skoltech/lib/python3.6/site-packages/skimage/exposure/exposure.py:297: RuntimeWarning: invalid value encountered in true_divide\n",
      "  image = (image - imin) / float(imax - imin)\n"
     ]
    },
    {
     "name": "stdout",
     "output_type": "stream",
     "text": [
      "Block: (6, 25), 0 trees found\n",
      "Block: (6, 26), 0 trees found\n",
      "Block: (6, 27), 0 trees found\n",
      "Block: (6, 28), 0 trees found\n"
     ]
    },
    {
     "name": "stderr",
     "output_type": "stream",
     "text": [
      "/home/guillermo/Works/Skoltech/forest-inventory-ml/thresholding_watershed.py:41: RuntimeWarning: invalid value encountered in greater\n",
      "  canopy_mask = img_gaussian > threshold_mean(img_gaussian)\n",
      "/home/guillermo/anaconda3/envs/skoltech/lib/python3.6/site-packages/skimage/exposure/exposure.py:297: RuntimeWarning: invalid value encountered in true_divide\n",
      "  image = (image - imin) / float(imax - imin)\n",
      "/home/guillermo/anaconda3/envs/skoltech/lib/python3.6/site-packages/skimage/exposure/exposure.py:297: RuntimeWarning: invalid value encountered in true_divide\n",
      "  image = (image - imin) / float(imax - imin)\n",
      "/home/guillermo/Works/Skoltech/forest-inventory-ml/thresholding_watershed.py:41: RuntimeWarning: invalid value encountered in greater\n",
      "  canopy_mask = img_gaussian > threshold_mean(img_gaussian)\n",
      "/home/guillermo/anaconda3/envs/skoltech/lib/python3.6/site-packages/skimage/exposure/exposure.py:297: RuntimeWarning: invalid value encountered in true_divide\n",
      "  image = (image - imin) / float(imax - imin)\n",
      "/home/guillermo/Works/Skoltech/forest-inventory-ml/thresholding_watershed.py:41: RuntimeWarning: invalid value encountered in greater\n",
      "  canopy_mask = img_gaussian > threshold_mean(img_gaussian)\n",
      "/home/guillermo/anaconda3/envs/skoltech/lib/python3.6/site-packages/skimage/exposure/exposure.py:297: RuntimeWarning: invalid value encountered in true_divide\n",
      "  image = (image - imin) / float(imax - imin)\n",
      "/home/guillermo/Works/Skoltech/forest-inventory-ml/thresholding_watershed.py:41: RuntimeWarning: invalid value encountered in greater\n",
      "  canopy_mask = img_gaussian > threshold_mean(img_gaussian)\n"
     ]
    },
    {
     "name": "stdout",
     "output_type": "stream",
     "text": [
      "Block: (6, 29), 0 trees found\n",
      "Block: (6, 30), 0 trees found\n",
      "Block: (7, 0), 0 trees found\n",
      "Block: (7, 1), 0 trees found\n",
      "Block: (7, 2), 0 trees found\n"
     ]
    },
    {
     "name": "stderr",
     "output_type": "stream",
     "text": [
      "/home/guillermo/anaconda3/envs/skoltech/lib/python3.6/site-packages/skimage/exposure/exposure.py:297: RuntimeWarning: invalid value encountered in true_divide\n",
      "  image = (image - imin) / float(imax - imin)\n",
      "/home/guillermo/Works/Skoltech/forest-inventory-ml/thresholding_watershed.py:41: RuntimeWarning: invalid value encountered in greater\n",
      "  canopy_mask = img_gaussian > threshold_mean(img_gaussian)\n",
      "/home/guillermo/anaconda3/envs/skoltech/lib/python3.6/site-packages/skimage/exposure/exposure.py:297: RuntimeWarning: invalid value encountered in true_divide\n",
      "  image = (image - imin) / float(imax - imin)\n",
      "/home/guillermo/Works/Skoltech/forest-inventory-ml/thresholding_watershed.py:41: RuntimeWarning: invalid value encountered in greater\n",
      "  canopy_mask = img_gaussian > threshold_mean(img_gaussian)\n",
      "/home/guillermo/anaconda3/envs/skoltech/lib/python3.6/site-packages/skimage/exposure/exposure.py:297: RuntimeWarning: invalid value encountered in true_divide\n",
      "  image = (image - imin) / float(imax - imin)\n",
      "/home/guillermo/Works/Skoltech/forest-inventory-ml/thresholding_watershed.py:41: RuntimeWarning: invalid value encountered in greater\n",
      "  canopy_mask = img_gaussian > threshold_mean(img_gaussian)\n",
      "/home/guillermo/anaconda3/envs/skoltech/lib/python3.6/site-packages/skimage/exposure/exposure.py:297: RuntimeWarning: invalid value encountered in true_divide\n",
      "  image = (image - imin) / float(imax - imin)\n",
      "/home/guillermo/Works/Skoltech/forest-inventory-ml/thresholding_watershed.py:41: RuntimeWarning: invalid value encountered in greater\n",
      "  canopy_mask = img_gaussian > threshold_mean(img_gaussian)\n"
     ]
    },
    {
     "name": "stdout",
     "output_type": "stream",
     "text": [
      "Block: (7, 3), 0 trees found\n",
      "Block: (7, 4), 0 trees found\n",
      "Block: (7, 5), 0 trees found\n",
      "Block: (7, 6), 0 trees found\n"
     ]
    },
    {
     "name": "stderr",
     "output_type": "stream",
     "text": [
      "/home/guillermo/anaconda3/envs/skoltech/lib/python3.6/site-packages/skimage/exposure/exposure.py:297: RuntimeWarning: invalid value encountered in true_divide\n",
      "  image = (image - imin) / float(imax - imin)\n",
      "/home/guillermo/Works/Skoltech/forest-inventory-ml/thresholding_watershed.py:41: RuntimeWarning: invalid value encountered in greater\n",
      "  canopy_mask = img_gaussian > threshold_mean(img_gaussian)\n",
      "/home/guillermo/anaconda3/envs/skoltech/lib/python3.6/site-packages/skimage/exposure/exposure.py:297: RuntimeWarning: invalid value encountered in true_divide\n",
      "  image = (image - imin) / float(imax - imin)\n",
      "/home/guillermo/Works/Skoltech/forest-inventory-ml/thresholding_watershed.py:41: RuntimeWarning: invalid value encountered in greater\n",
      "  canopy_mask = img_gaussian > threshold_mean(img_gaussian)\n"
     ]
    },
    {
     "name": "stdout",
     "output_type": "stream",
     "text": [
      "Block: (7, 7), 0 trees found\n",
      "Block: (7, 8), 0 trees found\n",
      "Block: (7, 9), 1 trees found\n",
      "Block: (7, 10), 110 trees found\n",
      "Block: (7, 11), 273 trees found\n",
      "Block: (7, 12), 255 trees found\n",
      "Block: (7, 13), 227 trees found\n",
      "Block: (7, 14), 248 trees found\n",
      "Block: (7, 15), 268 trees found\n",
      "Block: (7, 16), 279 trees found\n",
      "Block: (7, 17), 41 trees found\n",
      "Block: (7, 18), 9 trees found\n",
      "Block: (7, 19), 11 trees found\n",
      "Block: (7, 20), 4 trees found\n",
      "Block: (7, 21), 5 trees found\n",
      "Block: (7, 22), 0 trees found\n",
      "Block: (7, 23), 0 trees found\n",
      "Block: (7, 24), 0 trees found\n",
      "Block: (7, 25), 0 trees found\n"
     ]
    },
    {
     "name": "stderr",
     "output_type": "stream",
     "text": [
      "/home/guillermo/anaconda3/envs/skoltech/lib/python3.6/site-packages/skimage/exposure/exposure.py:297: RuntimeWarning: invalid value encountered in true_divide\n",
      "  image = (image - imin) / float(imax - imin)\n",
      "/home/guillermo/Works/Skoltech/forest-inventory-ml/thresholding_watershed.py:41: RuntimeWarning: invalid value encountered in greater\n",
      "  canopy_mask = img_gaussian > threshold_mean(img_gaussian)\n",
      "/home/guillermo/anaconda3/envs/skoltech/lib/python3.6/site-packages/skimage/exposure/exposure.py:297: RuntimeWarning: invalid value encountered in true_divide\n",
      "  image = (image - imin) / float(imax - imin)\n",
      "/home/guillermo/Works/Skoltech/forest-inventory-ml/thresholding_watershed.py:41: RuntimeWarning: invalid value encountered in greater\n",
      "  canopy_mask = img_gaussian > threshold_mean(img_gaussian)\n",
      "/home/guillermo/anaconda3/envs/skoltech/lib/python3.6/site-packages/skimage/exposure/exposure.py:297: RuntimeWarning: invalid value encountered in true_divide\n",
      "  image = (image - imin) / float(imax - imin)\n",
      "/home/guillermo/Works/Skoltech/forest-inventory-ml/thresholding_watershed.py:41: RuntimeWarning: invalid value encountered in greater\n",
      "  canopy_mask = img_gaussian > threshold_mean(img_gaussian)\n",
      "/home/guillermo/anaconda3/envs/skoltech/lib/python3.6/site-packages/skimage/exposure/exposure.py:297: RuntimeWarning: invalid value encountered in true_divide\n",
      "  image = (image - imin) / float(imax - imin)\n",
      "/home/guillermo/Works/Skoltech/forest-inventory-ml/thresholding_watershed.py:41: RuntimeWarning: invalid value encountered in greater\n",
      "  canopy_mask = img_gaussian > threshold_mean(img_gaussian)\n",
      "/home/guillermo/anaconda3/envs/skoltech/lib/python3.6/site-packages/skimage/exposure/exposure.py:297: RuntimeWarning: invalid value encountered in true_divide\n",
      "  image = (image - imin) / float(imax - imin)\n",
      "/home/guillermo/Works/Skoltech/forest-inventory-ml/thresholding_watershed.py:41: RuntimeWarning: invalid value encountered in greater\n",
      "  canopy_mask = img_gaussian > threshold_mean(img_gaussian)\n",
      "/home/guillermo/anaconda3/envs/skoltech/lib/python3.6/site-packages/skimage/exposure/exposure.py:297: RuntimeWarning: invalid value encountered in true_divide\n",
      "  image = (image - imin) / float(imax - imin)\n",
      "/home/guillermo/Works/Skoltech/forest-inventory-ml/thresholding_watershed.py:41: RuntimeWarning: invalid value encountered in greater\n",
      "  canopy_mask = img_gaussian > threshold_mean(img_gaussian)\n",
      "/home/guillermo/anaconda3/envs/skoltech/lib/python3.6/site-packages/skimage/exposure/exposure.py:297: RuntimeWarning: invalid value encountered in true_divide\n",
      "  image = (image - imin) / float(imax - imin)\n",
      "/home/guillermo/Works/Skoltech/forest-inventory-ml/thresholding_watershed.py:41: RuntimeWarning: invalid value encountered in greater\n",
      "  canopy_mask = img_gaussian > threshold_mean(img_gaussian)\n",
      "/home/guillermo/anaconda3/envs/skoltech/lib/python3.6/site-packages/skimage/exposure/exposure.py:297: RuntimeWarning: invalid value encountered in true_divide\n",
      "  image = (image - imin) / float(imax - imin)\n",
      "/home/guillermo/Works/Skoltech/forest-inventory-ml/thresholding_watershed.py:41: RuntimeWarning: invalid value encountered in greater\n",
      "  canopy_mask = img_gaussian > threshold_mean(img_gaussian)\n"
     ]
    },
    {
     "name": "stdout",
     "output_type": "stream",
     "text": [
      "Block: (7, 26), 0 trees found\n",
      "Block: (7, 27), 0 trees found\n",
      "Block: (7, 28), 0 trees found\n",
      "Block: (7, 29), 0 trees found\n"
     ]
    },
    {
     "name": "stderr",
     "output_type": "stream",
     "text": [
      "/home/guillermo/anaconda3/envs/skoltech/lib/python3.6/site-packages/skimage/exposure/exposure.py:297: RuntimeWarning: invalid value encountered in true_divide\n",
      "  image = (image - imin) / float(imax - imin)\n",
      "/home/guillermo/anaconda3/envs/skoltech/lib/python3.6/site-packages/skimage/exposure/exposure.py:297: RuntimeWarning: invalid value encountered in true_divide\n",
      "  image = (image - imin) / float(imax - imin)\n",
      "/home/guillermo/Works/Skoltech/forest-inventory-ml/thresholding_watershed.py:41: RuntimeWarning: invalid value encountered in greater\n",
      "  canopy_mask = img_gaussian > threshold_mean(img_gaussian)\n",
      "/home/guillermo/anaconda3/envs/skoltech/lib/python3.6/site-packages/skimage/exposure/exposure.py:297: RuntimeWarning: invalid value encountered in true_divide\n",
      "  image = (image - imin) / float(imax - imin)\n",
      "/home/guillermo/Works/Skoltech/forest-inventory-ml/thresholding_watershed.py:41: RuntimeWarning: invalid value encountered in greater\n",
      "  canopy_mask = img_gaussian > threshold_mean(img_gaussian)\n",
      "/home/guillermo/anaconda3/envs/skoltech/lib/python3.6/site-packages/skimage/exposure/exposure.py:297: RuntimeWarning: invalid value encountered in true_divide\n",
      "  image = (image - imin) / float(imax - imin)\n",
      "/home/guillermo/Works/Skoltech/forest-inventory-ml/thresholding_watershed.py:41: RuntimeWarning: invalid value encountered in greater\n",
      "  canopy_mask = img_gaussian > threshold_mean(img_gaussian)\n"
     ]
    },
    {
     "name": "stdout",
     "output_type": "stream",
     "text": [
      "Block: (7, 30), 0 trees found\n",
      "Block: (8, 0), 0 trees found\n",
      "Block: (8, 1), 0 trees found\n",
      "Block: (8, 2), 0 trees found\n"
     ]
    },
    {
     "name": "stderr",
     "output_type": "stream",
     "text": [
      "/home/guillermo/anaconda3/envs/skoltech/lib/python3.6/site-packages/skimage/exposure/exposure.py:297: RuntimeWarning: invalid value encountered in true_divide\n",
      "  image = (image - imin) / float(imax - imin)\n",
      "/home/guillermo/Works/Skoltech/forest-inventory-ml/thresholding_watershed.py:41: RuntimeWarning: invalid value encountered in greater\n",
      "  canopy_mask = img_gaussian > threshold_mean(img_gaussian)\n",
      "/home/guillermo/anaconda3/envs/skoltech/lib/python3.6/site-packages/skimage/exposure/exposure.py:297: RuntimeWarning: invalid value encountered in true_divide\n",
      "  image = (image - imin) / float(imax - imin)\n",
      "/home/guillermo/Works/Skoltech/forest-inventory-ml/thresholding_watershed.py:41: RuntimeWarning: invalid value encountered in greater\n",
      "  canopy_mask = img_gaussian > threshold_mean(img_gaussian)\n",
      "/home/guillermo/anaconda3/envs/skoltech/lib/python3.6/site-packages/skimage/exposure/exposure.py:297: RuntimeWarning: invalid value encountered in true_divide\n",
      "  image = (image - imin) / float(imax - imin)\n",
      "/home/guillermo/Works/Skoltech/forest-inventory-ml/thresholding_watershed.py:41: RuntimeWarning: invalid value encountered in greater\n",
      "  canopy_mask = img_gaussian > threshold_mean(img_gaussian)\n",
      "/home/guillermo/anaconda3/envs/skoltech/lib/python3.6/site-packages/skimage/exposure/exposure.py:297: RuntimeWarning: invalid value encountered in true_divide\n",
      "  image = (image - imin) / float(imax - imin)\n",
      "/home/guillermo/Works/Skoltech/forest-inventory-ml/thresholding_watershed.py:41: RuntimeWarning: invalid value encountered in greater\n",
      "  canopy_mask = img_gaussian > threshold_mean(img_gaussian)\n"
     ]
    },
    {
     "name": "stdout",
     "output_type": "stream",
     "text": [
      "Block: (8, 3), 0 trees found\n",
      "Block: (8, 4), 0 trees found\n",
      "Block: (8, 5), 0 trees found\n",
      "Block: (8, 6), 0 trees found\n"
     ]
    },
    {
     "name": "stderr",
     "output_type": "stream",
     "text": [
      "/home/guillermo/anaconda3/envs/skoltech/lib/python3.6/site-packages/skimage/exposure/exposure.py:297: RuntimeWarning: invalid value encountered in true_divide\n",
      "  image = (image - imin) / float(imax - imin)\n",
      "/home/guillermo/Works/Skoltech/forest-inventory-ml/thresholding_watershed.py:41: RuntimeWarning: invalid value encountered in greater\n",
      "  canopy_mask = img_gaussian > threshold_mean(img_gaussian)\n",
      "/home/guillermo/anaconda3/envs/skoltech/lib/python3.6/site-packages/skimage/exposure/exposure.py:297: RuntimeWarning: invalid value encountered in true_divide\n",
      "  image = (image - imin) / float(imax - imin)\n",
      "/home/guillermo/Works/Skoltech/forest-inventory-ml/thresholding_watershed.py:41: RuntimeWarning: invalid value encountered in greater\n",
      "  canopy_mask = img_gaussian > threshold_mean(img_gaussian)\n"
     ]
    },
    {
     "name": "stdout",
     "output_type": "stream",
     "text": [
      "Block: (8, 7), 0 trees found\n",
      "Block: (8, 8), 0 trees found\n",
      "Block: (8, 9), 4 trees found\n",
      "Block: (8, 10), 244 trees found\n",
      "Block: (8, 11), 269 trees found\n",
      "Block: (8, 12), 252 trees found\n",
      "Block: (8, 13), 245 trees found\n",
      "Block: (8, 14), 248 trees found\n",
      "Block: (8, 15), 277 trees found\n",
      "Block: (8, 16), 339 trees found\n",
      "Block: (8, 17), 364 trees found\n",
      "Block: (8, 18), 404 trees found\n",
      "Block: (8, 19), 395 trees found\n",
      "Block: (8, 20), 404 trees found\n",
      "Block: (8, 21), 5 trees found\n",
      "Block: (8, 22), 7 trees found\n",
      "Block: (8, 23), 7 trees found\n",
      "Block: (8, 24), 0 trees found\n",
      "Block: (8, 25), 0 trees found\n",
      "Block: (8, 26), 0 trees found\n",
      "Block: (8, 27), 0 trees found\n"
     ]
    },
    {
     "name": "stderr",
     "output_type": "stream",
     "text": [
      "/home/guillermo/anaconda3/envs/skoltech/lib/python3.6/site-packages/skimage/exposure/exposure.py:297: RuntimeWarning: invalid value encountered in true_divide\n",
      "  image = (image - imin) / float(imax - imin)\n",
      "/home/guillermo/Works/Skoltech/forest-inventory-ml/thresholding_watershed.py:41: RuntimeWarning: invalid value encountered in greater\n",
      "  canopy_mask = img_gaussian > threshold_mean(img_gaussian)\n",
      "/home/guillermo/anaconda3/envs/skoltech/lib/python3.6/site-packages/skimage/exposure/exposure.py:297: RuntimeWarning: invalid value encountered in true_divide\n",
      "  image = (image - imin) / float(imax - imin)\n",
      "/home/guillermo/Works/Skoltech/forest-inventory-ml/thresholding_watershed.py:41: RuntimeWarning: invalid value encountered in greater\n",
      "  canopy_mask = img_gaussian > threshold_mean(img_gaussian)\n",
      "/home/guillermo/anaconda3/envs/skoltech/lib/python3.6/site-packages/skimage/exposure/exposure.py:297: RuntimeWarning: invalid value encountered in true_divide\n",
      "  image = (image - imin) / float(imax - imin)\n",
      "/home/guillermo/Works/Skoltech/forest-inventory-ml/thresholding_watershed.py:41: RuntimeWarning: invalid value encountered in greater\n",
      "  canopy_mask = img_gaussian > threshold_mean(img_gaussian)\n",
      "/home/guillermo/anaconda3/envs/skoltech/lib/python3.6/site-packages/skimage/exposure/exposure.py:297: RuntimeWarning: invalid value encountered in true_divide\n",
      "  image = (image - imin) / float(imax - imin)\n",
      "/home/guillermo/Works/Skoltech/forest-inventory-ml/thresholding_watershed.py:41: RuntimeWarning: invalid value encountered in greater\n",
      "  canopy_mask = img_gaussian > threshold_mean(img_gaussian)\n",
      "/home/guillermo/anaconda3/envs/skoltech/lib/python3.6/site-packages/skimage/exposure/exposure.py:297: RuntimeWarning: invalid value encountered in true_divide\n",
      "  image = (image - imin) / float(imax - imin)\n",
      "/home/guillermo/Works/Skoltech/forest-inventory-ml/thresholding_watershed.py:41: RuntimeWarning: invalid value encountered in greater\n",
      "  canopy_mask = img_gaussian > threshold_mean(img_gaussian)\n",
      "/home/guillermo/anaconda3/envs/skoltech/lib/python3.6/site-packages/skimage/exposure/exposure.py:297: RuntimeWarning: invalid value encountered in true_divide\n",
      "  image = (image - imin) / float(imax - imin)\n",
      "/home/guillermo/Works/Skoltech/forest-inventory-ml/thresholding_watershed.py:41: RuntimeWarning: invalid value encountered in greater\n",
      "  canopy_mask = img_gaussian > threshold_mean(img_gaussian)\n",
      "/home/guillermo/anaconda3/envs/skoltech/lib/python3.6/site-packages/skimage/exposure/exposure.py:297: RuntimeWarning: invalid value encountered in true_divide\n",
      "  image = (image - imin) / float(imax - imin)\n",
      "/home/guillermo/anaconda3/envs/skoltech/lib/python3.6/site-packages/skimage/exposure/exposure.py:297: RuntimeWarning: invalid value encountered in true_divide\n",
      "  image = (image - imin) / float(imax - imin)\n",
      "/home/guillermo/Works/Skoltech/forest-inventory-ml/thresholding_watershed.py:41: RuntimeWarning: invalid value encountered in greater\n",
      "  canopy_mask = img_gaussian > threshold_mean(img_gaussian)\n",
      "/home/guillermo/anaconda3/envs/skoltech/lib/python3.6/site-packages/skimage/exposure/exposure.py:297: RuntimeWarning: invalid value encountered in true_divide\n",
      "  image = (image - imin) / float(imax - imin)\n"
     ]
    },
    {
     "name": "stdout",
     "output_type": "stream",
     "text": [
      "Block: (8, 28), 0 trees found\n",
      "Block: (8, 29), 0 trees found\n",
      "Block: (8, 30), 0 trees found\n",
      "Block: (9, 0), 0 trees found\n"
     ]
    },
    {
     "name": "stderr",
     "output_type": "stream",
     "text": [
      "/home/guillermo/Works/Skoltech/forest-inventory-ml/thresholding_watershed.py:41: RuntimeWarning: invalid value encountered in greater\n",
      "  canopy_mask = img_gaussian > threshold_mean(img_gaussian)\n",
      "/home/guillermo/anaconda3/envs/skoltech/lib/python3.6/site-packages/skimage/exposure/exposure.py:297: RuntimeWarning: invalid value encountered in true_divide\n",
      "  image = (image - imin) / float(imax - imin)\n",
      "/home/guillermo/Works/Skoltech/forest-inventory-ml/thresholding_watershed.py:41: RuntimeWarning: invalid value encountered in greater\n",
      "  canopy_mask = img_gaussian > threshold_mean(img_gaussian)\n",
      "/home/guillermo/anaconda3/envs/skoltech/lib/python3.6/site-packages/skimage/exposure/exposure.py:297: RuntimeWarning: invalid value encountered in true_divide\n",
      "  image = (image - imin) / float(imax - imin)\n",
      "/home/guillermo/Works/Skoltech/forest-inventory-ml/thresholding_watershed.py:41: RuntimeWarning: invalid value encountered in greater\n",
      "  canopy_mask = img_gaussian > threshold_mean(img_gaussian)\n",
      "/home/guillermo/anaconda3/envs/skoltech/lib/python3.6/site-packages/skimage/exposure/exposure.py:297: RuntimeWarning: invalid value encountered in true_divide\n",
      "  image = (image - imin) / float(imax - imin)\n",
      "/home/guillermo/Works/Skoltech/forest-inventory-ml/thresholding_watershed.py:41: RuntimeWarning: invalid value encountered in greater\n",
      "  canopy_mask = img_gaussian > threshold_mean(img_gaussian)\n",
      "/home/guillermo/anaconda3/envs/skoltech/lib/python3.6/site-packages/skimage/exposure/exposure.py:297: RuntimeWarning: invalid value encountered in true_divide\n",
      "  image = (image - imin) / float(imax - imin)\n"
     ]
    },
    {
     "name": "stdout",
     "output_type": "stream",
     "text": [
      "Block: (9, 1), 0 trees found\n",
      "Block: (9, 2), 0 trees found\n",
      "Block: (9, 3), 0 trees found\n",
      "Block: (9, 4), 0 trees found\n"
     ]
    },
    {
     "name": "stderr",
     "output_type": "stream",
     "text": [
      "/home/guillermo/Works/Skoltech/forest-inventory-ml/thresholding_watershed.py:41: RuntimeWarning: invalid value encountered in greater\n",
      "  canopy_mask = img_gaussian > threshold_mean(img_gaussian)\n",
      "/home/guillermo/anaconda3/envs/skoltech/lib/python3.6/site-packages/skimage/exposure/exposure.py:297: RuntimeWarning: invalid value encountered in true_divide\n",
      "  image = (image - imin) / float(imax - imin)\n",
      "/home/guillermo/Works/Skoltech/forest-inventory-ml/thresholding_watershed.py:41: RuntimeWarning: invalid value encountered in greater\n",
      "  canopy_mask = img_gaussian > threshold_mean(img_gaussian)\n",
      "/home/guillermo/anaconda3/envs/skoltech/lib/python3.6/site-packages/skimage/exposure/exposure.py:297: RuntimeWarning: invalid value encountered in true_divide\n",
      "  image = (image - imin) / float(imax - imin)\n",
      "/home/guillermo/Works/Skoltech/forest-inventory-ml/thresholding_watershed.py:41: RuntimeWarning: invalid value encountered in greater\n",
      "  canopy_mask = img_gaussian > threshold_mean(img_gaussian)\n",
      "/home/guillermo/anaconda3/envs/skoltech/lib/python3.6/site-packages/skimage/exposure/exposure.py:297: RuntimeWarning: invalid value encountered in true_divide\n",
      "  image = (image - imin) / float(imax - imin)\n",
      "/home/guillermo/Works/Skoltech/forest-inventory-ml/thresholding_watershed.py:41: RuntimeWarning: invalid value encountered in greater\n",
      "  canopy_mask = img_gaussian > threshold_mean(img_gaussian)\n"
     ]
    },
    {
     "name": "stdout",
     "output_type": "stream",
     "text": [
      "Block: (9, 5), 0 trees found\n",
      "Block: (9, 6), 0 trees found\n",
      "Block: (9, 7), 0 trees found\n",
      "Block: (9, 8), 0 trees found\n",
      "Block: (9, 9), 6 trees found\n",
      "Block: (9, 10), 230 trees found\n",
      "Block: (9, 11), 232 trees found\n",
      "Block: (9, 12), 237 trees found\n",
      "Block: (9, 13), 247 trees found\n",
      "Block: (9, 14), 268 trees found\n",
      "Block: (9, 15), 235 trees found\n",
      "Block: (9, 16), 234 trees found\n",
      "Block: (9, 17), 322 trees found\n",
      "Block: (9, 18), 460 trees found\n",
      "Block: (9, 19), 403 trees found\n",
      "Block: (9, 20), 339 trees found\n",
      "Block: (9, 21), 363 trees found\n",
      "Block: (9, 22), 349 trees found\n",
      "Block: (9, 23), 308 trees found\n",
      "Block: (9, 24), 6 trees found\n",
      "Block: (9, 25), 0 trees found\n",
      "Block: (9, 26), 0 trees found\n",
      "Block: (9, 27), 0 trees found\n"
     ]
    },
    {
     "name": "stderr",
     "output_type": "stream",
     "text": [
      "/home/guillermo/anaconda3/envs/skoltech/lib/python3.6/site-packages/skimage/exposure/exposure.py:297: RuntimeWarning: invalid value encountered in true_divide\n",
      "  image = (image - imin) / float(imax - imin)\n",
      "/home/guillermo/Works/Skoltech/forest-inventory-ml/thresholding_watershed.py:41: RuntimeWarning: invalid value encountered in greater\n",
      "  canopy_mask = img_gaussian > threshold_mean(img_gaussian)\n",
      "/home/guillermo/anaconda3/envs/skoltech/lib/python3.6/site-packages/skimage/exposure/exposure.py:297: RuntimeWarning: invalid value encountered in true_divide\n",
      "  image = (image - imin) / float(imax - imin)\n",
      "/home/guillermo/Works/Skoltech/forest-inventory-ml/thresholding_watershed.py:41: RuntimeWarning: invalid value encountered in greater\n",
      "  canopy_mask = img_gaussian > threshold_mean(img_gaussian)\n",
      "/home/guillermo/anaconda3/envs/skoltech/lib/python3.6/site-packages/skimage/exposure/exposure.py:297: RuntimeWarning: invalid value encountered in true_divide\n",
      "  image = (image - imin) / float(imax - imin)\n",
      "/home/guillermo/Works/Skoltech/forest-inventory-ml/thresholding_watershed.py:41: RuntimeWarning: invalid value encountered in greater\n",
      "  canopy_mask = img_gaussian > threshold_mean(img_gaussian)\n",
      "/home/guillermo/anaconda3/envs/skoltech/lib/python3.6/site-packages/skimage/exposure/exposure.py:297: RuntimeWarning: invalid value encountered in true_divide\n",
      "  image = (image - imin) / float(imax - imin)\n",
      "/home/guillermo/Works/Skoltech/forest-inventory-ml/thresholding_watershed.py:41: RuntimeWarning: invalid value encountered in greater\n",
      "  canopy_mask = img_gaussian > threshold_mean(img_gaussian)\n"
     ]
    },
    {
     "name": "stdout",
     "output_type": "stream",
     "text": [
      "Block: (9, 28), 0 trees found\n",
      "Block: (9, 29), 0 trees found\n",
      "Block: (9, 30), 0 trees found\n",
      "Block: (10, 0), 0 trees found\n",
      "Block: (10, 1), 0 trees found\n"
     ]
    },
    {
     "name": "stderr",
     "output_type": "stream",
     "text": [
      "/home/guillermo/anaconda3/envs/skoltech/lib/python3.6/site-packages/skimage/exposure/exposure.py:297: RuntimeWarning: invalid value encountered in true_divide\n",
      "  image = (image - imin) / float(imax - imin)\n",
      "/home/guillermo/Works/Skoltech/forest-inventory-ml/thresholding_watershed.py:41: RuntimeWarning: invalid value encountered in greater\n",
      "  canopy_mask = img_gaussian > threshold_mean(img_gaussian)\n",
      "/home/guillermo/anaconda3/envs/skoltech/lib/python3.6/site-packages/skimage/exposure/exposure.py:297: RuntimeWarning: invalid value encountered in true_divide\n",
      "  image = (image - imin) / float(imax - imin)\n",
      "/home/guillermo/anaconda3/envs/skoltech/lib/python3.6/site-packages/skimage/exposure/exposure.py:297: RuntimeWarning: invalid value encountered in true_divide\n",
      "  image = (image - imin) / float(imax - imin)\n",
      "/home/guillermo/Works/Skoltech/forest-inventory-ml/thresholding_watershed.py:41: RuntimeWarning: invalid value encountered in greater\n",
      "  canopy_mask = img_gaussian > threshold_mean(img_gaussian)\n",
      "/home/guillermo/anaconda3/envs/skoltech/lib/python3.6/site-packages/skimage/exposure/exposure.py:297: RuntimeWarning: invalid value encountered in true_divide\n",
      "  image = (image - imin) / float(imax - imin)\n",
      "/home/guillermo/Works/Skoltech/forest-inventory-ml/thresholding_watershed.py:41: RuntimeWarning: invalid value encountered in greater\n",
      "  canopy_mask = img_gaussian > threshold_mean(img_gaussian)\n",
      "/home/guillermo/anaconda3/envs/skoltech/lib/python3.6/site-packages/skimage/exposure/exposure.py:297: RuntimeWarning: invalid value encountered in true_divide\n",
      "  image = (image - imin) / float(imax - imin)\n",
      "/home/guillermo/Works/Skoltech/forest-inventory-ml/thresholding_watershed.py:41: RuntimeWarning: invalid value encountered in greater\n",
      "  canopy_mask = img_gaussian > threshold_mean(img_gaussian)\n",
      "/home/guillermo/anaconda3/envs/skoltech/lib/python3.6/site-packages/skimage/exposure/exposure.py:297: RuntimeWarning: invalid value encountered in true_divide\n",
      "  image = (image - imin) / float(imax - imin)\n",
      "/home/guillermo/Works/Skoltech/forest-inventory-ml/thresholding_watershed.py:41: RuntimeWarning: invalid value encountered in greater\n",
      "  canopy_mask = img_gaussian > threshold_mean(img_gaussian)\n",
      "/home/guillermo/anaconda3/envs/skoltech/lib/python3.6/site-packages/skimage/exposure/exposure.py:297: RuntimeWarning: invalid value encountered in true_divide\n",
      "  image = (image - imin) / float(imax - imin)\n",
      "/home/guillermo/Works/Skoltech/forest-inventory-ml/thresholding_watershed.py:41: RuntimeWarning: invalid value encountered in greater\n",
      "  canopy_mask = img_gaussian > threshold_mean(img_gaussian)\n",
      "/home/guillermo/anaconda3/envs/skoltech/lib/python3.6/site-packages/skimage/exposure/exposure.py:297: RuntimeWarning: invalid value encountered in true_divide\n",
      "  image = (image - imin) / float(imax - imin)\n",
      "/home/guillermo/Works/Skoltech/forest-inventory-ml/thresholding_watershed.py:41: RuntimeWarning: invalid value encountered in greater\n",
      "  canopy_mask = img_gaussian > threshold_mean(img_gaussian)\n",
      "/home/guillermo/anaconda3/envs/skoltech/lib/python3.6/site-packages/skimage/exposure/exposure.py:297: RuntimeWarning: invalid value encountered in true_divide\n",
      "  image = (image - imin) / float(imax - imin)\n",
      "/home/guillermo/Works/Skoltech/forest-inventory-ml/thresholding_watershed.py:41: RuntimeWarning: invalid value encountered in greater\n",
      "  canopy_mask = img_gaussian > threshold_mean(img_gaussian)\n"
     ]
    },
    {
     "name": "stdout",
     "output_type": "stream",
     "text": [
      "Block: (10, 2), 0 trees found\n",
      "Block: (10, 3), 0 trees found\n",
      "Block: (10, 4), 0 trees found\n",
      "Block: (10, 5), 0 trees found\n",
      "Block: (10, 6), 0 trees found\n"
     ]
    },
    {
     "name": "stderr",
     "output_type": "stream",
     "text": [
      "/home/guillermo/anaconda3/envs/skoltech/lib/python3.6/site-packages/skimage/exposure/exposure.py:297: RuntimeWarning: invalid value encountered in true_divide\n",
      "  image = (image - imin) / float(imax - imin)\n",
      "/home/guillermo/Works/Skoltech/forest-inventory-ml/thresholding_watershed.py:41: RuntimeWarning: invalid value encountered in greater\n",
      "  canopy_mask = img_gaussian > threshold_mean(img_gaussian)\n"
     ]
    },
    {
     "name": "stdout",
     "output_type": "stream",
     "text": [
      "Block: (10, 7), 0 trees found\n",
      "Block: (10, 8), 4 trees found\n",
      "Block: (10, 9), 237 trees found\n",
      "Block: (10, 10), 253 trees found\n",
      "Block: (10, 11), 341 trees found\n",
      "Block: (10, 12), 245 trees found\n",
      "Block: (10, 13), 218 trees found\n",
      "Block: (10, 14), 258 trees found\n",
      "Block: (10, 15), 247 trees found\n",
      "Block: (10, 16), 244 trees found\n",
      "Block: (10, 17), 333 trees found\n",
      "Block: (10, 18), 353 trees found\n",
      "Block: (10, 19), 410 trees found\n",
      "Block: (10, 20), 281 trees found\n",
      "Block: (10, 21), 470 trees found\n",
      "Block: (10, 22), 405 trees found\n",
      "Block: (10, 23), 412 trees found\n",
      "Block: (10, 24), 6 trees found\n",
      "Block: (10, 25), 0 trees found\n",
      "Block: (10, 26), 0 trees found\n",
      "Block: (10, 27), 0 trees found\n",
      "Block: (10, 28), 0 trees found\n"
     ]
    },
    {
     "name": "stderr",
     "output_type": "stream",
     "text": [
      "/home/guillermo/anaconda3/envs/skoltech/lib/python3.6/site-packages/skimage/exposure/exposure.py:297: RuntimeWarning: invalid value encountered in true_divide\n",
      "  image = (image - imin) / float(imax - imin)\n",
      "/home/guillermo/Works/Skoltech/forest-inventory-ml/thresholding_watershed.py:41: RuntimeWarning: invalid value encountered in greater\n",
      "  canopy_mask = img_gaussian > threshold_mean(img_gaussian)\n",
      "/home/guillermo/anaconda3/envs/skoltech/lib/python3.6/site-packages/skimage/exposure/exposure.py:297: RuntimeWarning: invalid value encountered in true_divide\n",
      "  image = (image - imin) / float(imax - imin)\n",
      "/home/guillermo/Works/Skoltech/forest-inventory-ml/thresholding_watershed.py:41: RuntimeWarning: invalid value encountered in greater\n",
      "  canopy_mask = img_gaussian > threshold_mean(img_gaussian)\n",
      "/home/guillermo/anaconda3/envs/skoltech/lib/python3.6/site-packages/skimage/exposure/exposure.py:297: RuntimeWarning: invalid value encountered in true_divide\n",
      "  image = (image - imin) / float(imax - imin)\n",
      "/home/guillermo/Works/Skoltech/forest-inventory-ml/thresholding_watershed.py:41: RuntimeWarning: invalid value encountered in greater\n",
      "  canopy_mask = img_gaussian > threshold_mean(img_gaussian)\n",
      "/home/guillermo/anaconda3/envs/skoltech/lib/python3.6/site-packages/skimage/exposure/exposure.py:297: RuntimeWarning: invalid value encountered in true_divide\n",
      "  image = (image - imin) / float(imax - imin)\n",
      "/home/guillermo/Works/Skoltech/forest-inventory-ml/thresholding_watershed.py:41: RuntimeWarning: invalid value encountered in greater\n",
      "  canopy_mask = img_gaussian > threshold_mean(img_gaussian)\n",
      "/home/guillermo/anaconda3/envs/skoltech/lib/python3.6/site-packages/skimage/exposure/exposure.py:297: RuntimeWarning: invalid value encountered in true_divide\n",
      "  image = (image - imin) / float(imax - imin)\n",
      "/home/guillermo/Works/Skoltech/forest-inventory-ml/thresholding_watershed.py:41: RuntimeWarning: invalid value encountered in greater\n",
      "  canopy_mask = img_gaussian > threshold_mean(img_gaussian)\n",
      "/home/guillermo/anaconda3/envs/skoltech/lib/python3.6/site-packages/skimage/exposure/exposure.py:297: RuntimeWarning: invalid value encountered in true_divide\n",
      "  image = (image - imin) / float(imax - imin)\n",
      "/home/guillermo/anaconda3/envs/skoltech/lib/python3.6/site-packages/skimage/exposure/exposure.py:297: RuntimeWarning: invalid value encountered in true_divide\n",
      "  image = (image - imin) / float(imax - imin)\n",
      "/home/guillermo/Works/Skoltech/forest-inventory-ml/thresholding_watershed.py:41: RuntimeWarning: invalid value encountered in greater\n",
      "  canopy_mask = img_gaussian > threshold_mean(img_gaussian)\n",
      "/home/guillermo/anaconda3/envs/skoltech/lib/python3.6/site-packages/skimage/exposure/exposure.py:297: RuntimeWarning: invalid value encountered in true_divide\n",
      "  image = (image - imin) / float(imax - imin)\n",
      "/home/guillermo/Works/Skoltech/forest-inventory-ml/thresholding_watershed.py:41: RuntimeWarning: invalid value encountered in greater\n",
      "  canopy_mask = img_gaussian > threshold_mean(img_gaussian)\n"
     ]
    },
    {
     "name": "stdout",
     "output_type": "stream",
     "text": [
      "Block: (10, 29), 0 trees found\n",
      "Block: (10, 30), 0 trees found\n",
      "Block: (11, 0), 0 trees found\n",
      "Block: (11, 1), 0 trees found\n"
     ]
    },
    {
     "name": "stderr",
     "output_type": "stream",
     "text": [
      "/home/guillermo/anaconda3/envs/skoltech/lib/python3.6/site-packages/skimage/exposure/exposure.py:297: RuntimeWarning: invalid value encountered in true_divide\n",
      "  image = (image - imin) / float(imax - imin)\n",
      "/home/guillermo/Works/Skoltech/forest-inventory-ml/thresholding_watershed.py:41: RuntimeWarning: invalid value encountered in greater\n",
      "  canopy_mask = img_gaussian > threshold_mean(img_gaussian)\n",
      "/home/guillermo/anaconda3/envs/skoltech/lib/python3.6/site-packages/skimage/exposure/exposure.py:297: RuntimeWarning: invalid value encountered in true_divide\n",
      "  image = (image - imin) / float(imax - imin)\n",
      "/home/guillermo/Works/Skoltech/forest-inventory-ml/thresholding_watershed.py:41: RuntimeWarning: invalid value encountered in greater\n",
      "  canopy_mask = img_gaussian > threshold_mean(img_gaussian)\n",
      "/home/guillermo/anaconda3/envs/skoltech/lib/python3.6/site-packages/skimage/exposure/exposure.py:297: RuntimeWarning: invalid value encountered in true_divide\n",
      "  image = (image - imin) / float(imax - imin)\n",
      "/home/guillermo/Works/Skoltech/forest-inventory-ml/thresholding_watershed.py:41: RuntimeWarning: invalid value encountered in greater\n",
      "  canopy_mask = img_gaussian > threshold_mean(img_gaussian)\n",
      "/home/guillermo/anaconda3/envs/skoltech/lib/python3.6/site-packages/skimage/exposure/exposure.py:297: RuntimeWarning: invalid value encountered in true_divide\n",
      "  image = (image - imin) / float(imax - imin)\n"
     ]
    },
    {
     "name": "stdout",
     "output_type": "stream",
     "text": [
      "Block: (11, 2), 0 trees found\n",
      "Block: (11, 3), 0 trees found\n",
      "Block: (11, 4), 0 trees found\n",
      "Block: (11, 5), 0 trees found\n"
     ]
    },
    {
     "name": "stderr",
     "output_type": "stream",
     "text": [
      "/home/guillermo/Works/Skoltech/forest-inventory-ml/thresholding_watershed.py:41: RuntimeWarning: invalid value encountered in greater\n",
      "  canopy_mask = img_gaussian > threshold_mean(img_gaussian)\n",
      "/home/guillermo/anaconda3/envs/skoltech/lib/python3.6/site-packages/skimage/exposure/exposure.py:297: RuntimeWarning: invalid value encountered in true_divide\n",
      "  image = (image - imin) / float(imax - imin)\n",
      "/home/guillermo/Works/Skoltech/forest-inventory-ml/thresholding_watershed.py:41: RuntimeWarning: invalid value encountered in greater\n",
      "  canopy_mask = img_gaussian > threshold_mean(img_gaussian)\n",
      "/home/guillermo/anaconda3/envs/skoltech/lib/python3.6/site-packages/skimage/exposure/exposure.py:297: RuntimeWarning: invalid value encountered in true_divide\n",
      "  image = (image - imin) / float(imax - imin)\n",
      "/home/guillermo/Works/Skoltech/forest-inventory-ml/thresholding_watershed.py:41: RuntimeWarning: invalid value encountered in greater\n",
      "  canopy_mask = img_gaussian > threshold_mean(img_gaussian)\n"
     ]
    },
    {
     "name": "stdout",
     "output_type": "stream",
     "text": [
      "Block: (11, 6), 0 trees found\n",
      "Block: (11, 7), 0 trees found\n",
      "Block: (11, 8), 33 trees found\n",
      "Block: (11, 9), 253 trees found\n",
      "Block: (11, 10), 222 trees found\n",
      "Block: (11, 11), 338 trees found\n",
      "Block: (11, 12), 309 trees found\n",
      "Block: (11, 13), 295 trees found\n",
      "Block: (11, 14), 259 trees found\n",
      "Block: (11, 15), 217 trees found\n",
      "Block: (11, 16), 266 trees found\n",
      "Block: (11, 17), 301 trees found\n",
      "Block: (11, 18), 304 trees found\n",
      "Block: (11, 19), 313 trees found\n",
      "Block: (11, 20), 301 trees found\n",
      "Block: (11, 21), 417 trees found\n",
      "Block: (11, 22), 439 trees found\n",
      "Block: (11, 23), 177 trees found\n",
      "Block: (11, 24), 3 trees found\n",
      "Block: (11, 25), 0 trees found\n",
      "Block: (11, 26), 0 trees found\n",
      "Block: (11, 27), 0 trees found\n",
      "Block: (11, 28), 0 trees found\n"
     ]
    },
    {
     "name": "stderr",
     "output_type": "stream",
     "text": [
      "/home/guillermo/anaconda3/envs/skoltech/lib/python3.6/site-packages/skimage/exposure/exposure.py:297: RuntimeWarning: invalid value encountered in true_divide\n",
      "  image = (image - imin) / float(imax - imin)\n",
      "/home/guillermo/Works/Skoltech/forest-inventory-ml/thresholding_watershed.py:41: RuntimeWarning: invalid value encountered in greater\n",
      "  canopy_mask = img_gaussian > threshold_mean(img_gaussian)\n",
      "/home/guillermo/anaconda3/envs/skoltech/lib/python3.6/site-packages/skimage/exposure/exposure.py:297: RuntimeWarning: invalid value encountered in true_divide\n",
      "  image = (image - imin) / float(imax - imin)\n",
      "/home/guillermo/Works/Skoltech/forest-inventory-ml/thresholding_watershed.py:41: RuntimeWarning: invalid value encountered in greater\n",
      "  canopy_mask = img_gaussian > threshold_mean(img_gaussian)\n",
      "/home/guillermo/anaconda3/envs/skoltech/lib/python3.6/site-packages/skimage/exposure/exposure.py:297: RuntimeWarning: invalid value encountered in true_divide\n",
      "  image = (image - imin) / float(imax - imin)\n",
      "/home/guillermo/Works/Skoltech/forest-inventory-ml/thresholding_watershed.py:41: RuntimeWarning: invalid value encountered in greater\n",
      "  canopy_mask = img_gaussian > threshold_mean(img_gaussian)\n",
      "/home/guillermo/anaconda3/envs/skoltech/lib/python3.6/site-packages/skimage/exposure/exposure.py:297: RuntimeWarning: invalid value encountered in true_divide\n",
      "  image = (image - imin) / float(imax - imin)\n",
      "/home/guillermo/Works/Skoltech/forest-inventory-ml/thresholding_watershed.py:41: RuntimeWarning: invalid value encountered in greater\n",
      "  canopy_mask = img_gaussian > threshold_mean(img_gaussian)\n",
      "/home/guillermo/anaconda3/envs/skoltech/lib/python3.6/site-packages/skimage/exposure/exposure.py:297: RuntimeWarning: invalid value encountered in true_divide\n",
      "  image = (image - imin) / float(imax - imin)\n",
      "/home/guillermo/Works/Skoltech/forest-inventory-ml/thresholding_watershed.py:41: RuntimeWarning: invalid value encountered in greater\n",
      "  canopy_mask = img_gaussian > threshold_mean(img_gaussian)\n",
      "/home/guillermo/anaconda3/envs/skoltech/lib/python3.6/site-packages/skimage/exposure/exposure.py:297: RuntimeWarning: invalid value encountered in true_divide\n",
      "  image = (image - imin) / float(imax - imin)\n",
      "/home/guillermo/anaconda3/envs/skoltech/lib/python3.6/site-packages/skimage/exposure/exposure.py:297: RuntimeWarning: invalid value encountered in true_divide\n",
      "  image = (image - imin) / float(imax - imin)\n",
      "/home/guillermo/Works/Skoltech/forest-inventory-ml/thresholding_watershed.py:41: RuntimeWarning: invalid value encountered in greater\n",
      "  canopy_mask = img_gaussian > threshold_mean(img_gaussian)\n",
      "/home/guillermo/anaconda3/envs/skoltech/lib/python3.6/site-packages/skimage/exposure/exposure.py:297: RuntimeWarning: invalid value encountered in true_divide\n",
      "  image = (image - imin) / float(imax - imin)\n",
      "/home/guillermo/Works/Skoltech/forest-inventory-ml/thresholding_watershed.py:41: RuntimeWarning: invalid value encountered in greater\n",
      "  canopy_mask = img_gaussian > threshold_mean(img_gaussian)\n",
      "/home/guillermo/anaconda3/envs/skoltech/lib/python3.6/site-packages/skimage/exposure/exposure.py:297: RuntimeWarning: invalid value encountered in true_divide\n",
      "  image = (image - imin) / float(imax - imin)\n"
     ]
    },
    {
     "name": "stdout",
     "output_type": "stream",
     "text": [
      "Block: (11, 29), 0 trees found\n",
      "Block: (11, 30), 0 trees found\n",
      "Block: (12, 0), 0 trees found\n",
      "Block: (12, 1), 0 trees found\n",
      "Block: (12, 2), 0 trees found\n"
     ]
    },
    {
     "name": "stderr",
     "output_type": "stream",
     "text": [
      "/home/guillermo/Works/Skoltech/forest-inventory-ml/thresholding_watershed.py:41: RuntimeWarning: invalid value encountered in greater\n",
      "  canopy_mask = img_gaussian > threshold_mean(img_gaussian)\n",
      "/home/guillermo/anaconda3/envs/skoltech/lib/python3.6/site-packages/skimage/exposure/exposure.py:297: RuntimeWarning: invalid value encountered in true_divide\n",
      "  image = (image - imin) / float(imax - imin)\n",
      "/home/guillermo/Works/Skoltech/forest-inventory-ml/thresholding_watershed.py:41: RuntimeWarning: invalid value encountered in greater\n",
      "  canopy_mask = img_gaussian > threshold_mean(img_gaussian)\n",
      "/home/guillermo/anaconda3/envs/skoltech/lib/python3.6/site-packages/skimage/exposure/exposure.py:297: RuntimeWarning: invalid value encountered in true_divide\n",
      "  image = (image - imin) / float(imax - imin)\n",
      "/home/guillermo/Works/Skoltech/forest-inventory-ml/thresholding_watershed.py:41: RuntimeWarning: invalid value encountered in greater\n",
      "  canopy_mask = img_gaussian > threshold_mean(img_gaussian)\n",
      "/home/guillermo/anaconda3/envs/skoltech/lib/python3.6/site-packages/skimage/exposure/exposure.py:297: RuntimeWarning: invalid value encountered in true_divide\n",
      "  image = (image - imin) / float(imax - imin)\n",
      "/home/guillermo/Works/Skoltech/forest-inventory-ml/thresholding_watershed.py:41: RuntimeWarning: invalid value encountered in greater\n",
      "  canopy_mask = img_gaussian > threshold_mean(img_gaussian)\n",
      "/home/guillermo/anaconda3/envs/skoltech/lib/python3.6/site-packages/skimage/exposure/exposure.py:297: RuntimeWarning: invalid value encountered in true_divide\n",
      "  image = (image - imin) / float(imax - imin)\n",
      "/home/guillermo/Works/Skoltech/forest-inventory-ml/thresholding_watershed.py:41: RuntimeWarning: invalid value encountered in greater\n",
      "  canopy_mask = img_gaussian > threshold_mean(img_gaussian)\n"
     ]
    },
    {
     "name": "stdout",
     "output_type": "stream",
     "text": [
      "Block: (12, 3), 0 trees found\n",
      "Block: (12, 4), 0 trees found\n",
      "Block: (12, 5), 0 trees found\n",
      "Block: (12, 6), 0 trees found\n",
      "Block: (12, 7), 2 trees found\n",
      "Block: (12, 8), 251 trees found\n",
      "Block: (12, 9), 289 trees found\n",
      "Block: (12, 10), 247 trees found\n",
      "Block: (12, 11), 271 trees found\n",
      "Block: (12, 12), 302 trees found\n",
      "Block: (12, 13), 404 trees found\n",
      "Block: (12, 14), 364 trees found\n",
      "Block: (12, 15), 265 trees found\n",
      "Block: (12, 16), 260 trees found\n",
      "Block: (12, 17), 270 trees found\n",
      "Block: (12, 18), 265 trees found\n",
      "Block: (12, 19), 241 trees found\n",
      "Block: (12, 20), 268 trees found\n",
      "Block: (12, 21), 258 trees found\n",
      "Block: (12, 22), 269 trees found\n",
      "Block: (12, 23), 7 trees found\n",
      "Block: (12, 24), 0 trees found\n",
      "Block: (12, 25), 0 trees found\n",
      "Block: (12, 26), 0 trees found\n",
      "Block: (12, 27), 0 trees found\n"
     ]
    },
    {
     "name": "stderr",
     "output_type": "stream",
     "text": [
      "/home/guillermo/anaconda3/envs/skoltech/lib/python3.6/site-packages/skimage/exposure/exposure.py:297: RuntimeWarning: invalid value encountered in true_divide\n",
      "  image = (image - imin) / float(imax - imin)\n",
      "/home/guillermo/Works/Skoltech/forest-inventory-ml/thresholding_watershed.py:41: RuntimeWarning: invalid value encountered in greater\n",
      "  canopy_mask = img_gaussian > threshold_mean(img_gaussian)\n",
      "/home/guillermo/anaconda3/envs/skoltech/lib/python3.6/site-packages/skimage/exposure/exposure.py:297: RuntimeWarning: invalid value encountered in true_divide\n",
      "  image = (image - imin) / float(imax - imin)\n",
      "/home/guillermo/Works/Skoltech/forest-inventory-ml/thresholding_watershed.py:41: RuntimeWarning: invalid value encountered in greater\n",
      "  canopy_mask = img_gaussian > threshold_mean(img_gaussian)\n",
      "/home/guillermo/anaconda3/envs/skoltech/lib/python3.6/site-packages/skimage/exposure/exposure.py:297: RuntimeWarning: invalid value encountered in true_divide\n",
      "  image = (image - imin) / float(imax - imin)\n",
      "/home/guillermo/Works/Skoltech/forest-inventory-ml/thresholding_watershed.py:41: RuntimeWarning: invalid value encountered in greater\n",
      "  canopy_mask = img_gaussian > threshold_mean(img_gaussian)\n",
      "/home/guillermo/anaconda3/envs/skoltech/lib/python3.6/site-packages/skimage/exposure/exposure.py:297: RuntimeWarning: invalid value encountered in true_divide\n",
      "  image = (image - imin) / float(imax - imin)\n",
      "/home/guillermo/Works/Skoltech/forest-inventory-ml/thresholding_watershed.py:41: RuntimeWarning: invalid value encountered in greater\n",
      "  canopy_mask = img_gaussian > threshold_mean(img_gaussian)\n",
      "/home/guillermo/anaconda3/envs/skoltech/lib/python3.6/site-packages/skimage/exposure/exposure.py:297: RuntimeWarning: invalid value encountered in true_divide\n",
      "  image = (image - imin) / float(imax - imin)\n",
      "/home/guillermo/Works/Skoltech/forest-inventory-ml/thresholding_watershed.py:41: RuntimeWarning: invalid value encountered in greater\n",
      "  canopy_mask = img_gaussian > threshold_mean(img_gaussian)\n",
      "/home/guillermo/anaconda3/envs/skoltech/lib/python3.6/site-packages/skimage/exposure/exposure.py:297: RuntimeWarning: invalid value encountered in true_divide\n",
      "  image = (image - imin) / float(imax - imin)\n",
      "/home/guillermo/Works/Skoltech/forest-inventory-ml/thresholding_watershed.py:41: RuntimeWarning: invalid value encountered in greater\n",
      "  canopy_mask = img_gaussian > threshold_mean(img_gaussian)\n",
      "/home/guillermo/anaconda3/envs/skoltech/lib/python3.6/site-packages/skimage/exposure/exposure.py:297: RuntimeWarning: invalid value encountered in true_divide\n",
      "  image = (image - imin) / float(imax - imin)\n",
      "/home/guillermo/anaconda3/envs/skoltech/lib/python3.6/site-packages/skimage/exposure/exposure.py:297: RuntimeWarning: invalid value encountered in true_divide\n",
      "  image = (image - imin) / float(imax - imin)\n",
      "/home/guillermo/Works/Skoltech/forest-inventory-ml/thresholding_watershed.py:41: RuntimeWarning: invalid value encountered in greater\n",
      "  canopy_mask = img_gaussian > threshold_mean(img_gaussian)\n",
      "/home/guillermo/anaconda3/envs/skoltech/lib/python3.6/site-packages/skimage/exposure/exposure.py:297: RuntimeWarning: invalid value encountered in true_divide\n",
      "  image = (image - imin) / float(imax - imin)\n",
      "/home/guillermo/Works/Skoltech/forest-inventory-ml/thresholding_watershed.py:41: RuntimeWarning: invalid value encountered in greater\n",
      "  canopy_mask = img_gaussian > threshold_mean(img_gaussian)\n"
     ]
    },
    {
     "name": "stdout",
     "output_type": "stream",
     "text": [
      "Block: (12, 28), 0 trees found\n",
      "Block: (12, 29), 0 trees found\n",
      "Block: (12, 30), 0 trees found\n",
      "Block: (13, 0), 0 trees found\n",
      "Block: (13, 1), 0 trees found\n"
     ]
    },
    {
     "name": "stderr",
     "output_type": "stream",
     "text": [
      "/home/guillermo/anaconda3/envs/skoltech/lib/python3.6/site-packages/skimage/exposure/exposure.py:297: RuntimeWarning: invalid value encountered in true_divide\n",
      "  image = (image - imin) / float(imax - imin)\n",
      "/home/guillermo/Works/Skoltech/forest-inventory-ml/thresholding_watershed.py:41: RuntimeWarning: invalid value encountered in greater\n",
      "  canopy_mask = img_gaussian > threshold_mean(img_gaussian)\n",
      "/home/guillermo/anaconda3/envs/skoltech/lib/python3.6/site-packages/skimage/exposure/exposure.py:297: RuntimeWarning: invalid value encountered in true_divide\n",
      "  image = (image - imin) / float(imax - imin)\n",
      "/home/guillermo/Works/Skoltech/forest-inventory-ml/thresholding_watershed.py:41: RuntimeWarning: invalid value encountered in greater\n",
      "  canopy_mask = img_gaussian > threshold_mean(img_gaussian)\n",
      "/home/guillermo/anaconda3/envs/skoltech/lib/python3.6/site-packages/skimage/exposure/exposure.py:297: RuntimeWarning: invalid value encountered in true_divide\n",
      "  image = (image - imin) / float(imax - imin)\n",
      "/home/guillermo/Works/Skoltech/forest-inventory-ml/thresholding_watershed.py:41: RuntimeWarning: invalid value encountered in greater\n",
      "  canopy_mask = img_gaussian > threshold_mean(img_gaussian)\n",
      "/home/guillermo/anaconda3/envs/skoltech/lib/python3.6/site-packages/skimage/exposure/exposure.py:297: RuntimeWarning: invalid value encountered in true_divide\n",
      "  image = (image - imin) / float(imax - imin)\n",
      "/home/guillermo/Works/Skoltech/forest-inventory-ml/thresholding_watershed.py:41: RuntimeWarning: invalid value encountered in greater\n",
      "  canopy_mask = img_gaussian > threshold_mean(img_gaussian)\n",
      "/home/guillermo/anaconda3/envs/skoltech/lib/python3.6/site-packages/skimage/exposure/exposure.py:297: RuntimeWarning: invalid value encountered in true_divide\n",
      "  image = (image - imin) / float(imax - imin)\n"
     ]
    },
    {
     "name": "stdout",
     "output_type": "stream",
     "text": [
      "Block: (13, 2), 0 trees found\n",
      "Block: (13, 3), 0 trees found\n",
      "Block: (13, 4), 0 trees found\n",
      "Block: (13, 5), 0 trees found\n",
      "Block: (13, 6), 0 trees found\n"
     ]
    },
    {
     "name": "stderr",
     "output_type": "stream",
     "text": [
      "/home/guillermo/Works/Skoltech/forest-inventory-ml/thresholding_watershed.py:41: RuntimeWarning: invalid value encountered in greater\n",
      "  canopy_mask = img_gaussian > threshold_mean(img_gaussian)\n"
     ]
    },
    {
     "name": "stdout",
     "output_type": "stream",
     "text": [
      "Block: (13, 7), 6 trees found\n",
      "Block: (13, 8), 272 trees found\n",
      "Block: (13, 9), 273 trees found\n",
      "Block: (13, 10), 268 trees found\n",
      "Block: (13, 11), 261 trees found\n",
      "Block: (13, 12), 330 trees found\n",
      "Block: (13, 13), 315 trees found\n",
      "Block: (13, 14), 433 trees found\n",
      "Block: (13, 15), 381 trees found\n",
      "Block: (13, 16), 277 trees found\n",
      "Block: (13, 17), 243 trees found\n",
      "Block: (13, 18), 234 trees found\n",
      "Block: (13, 19), 280 trees found\n",
      "Block: (13, 20), 322 trees found\n",
      "Block: (13, 21), 278 trees found\n",
      "Block: (13, 22), 141 trees found\n",
      "Block: (13, 23), 7 trees found\n",
      "Block: (13, 24), 0 trees found\n",
      "Block: (13, 25), 0 trees found\n",
      "Block: (13, 26), 0 trees found\n"
     ]
    },
    {
     "name": "stderr",
     "output_type": "stream",
     "text": [
      "/home/guillermo/anaconda3/envs/skoltech/lib/python3.6/site-packages/skimage/exposure/exposure.py:297: RuntimeWarning: invalid value encountered in true_divide\n",
      "  image = (image - imin) / float(imax - imin)\n",
      "/home/guillermo/Works/Skoltech/forest-inventory-ml/thresholding_watershed.py:41: RuntimeWarning: invalid value encountered in greater\n",
      "  canopy_mask = img_gaussian > threshold_mean(img_gaussian)\n",
      "/home/guillermo/anaconda3/envs/skoltech/lib/python3.6/site-packages/skimage/exposure/exposure.py:297: RuntimeWarning: invalid value encountered in true_divide\n",
      "  image = (image - imin) / float(imax - imin)\n",
      "/home/guillermo/Works/Skoltech/forest-inventory-ml/thresholding_watershed.py:41: RuntimeWarning: invalid value encountered in greater\n",
      "  canopy_mask = img_gaussian > threshold_mean(img_gaussian)\n",
      "/home/guillermo/anaconda3/envs/skoltech/lib/python3.6/site-packages/skimage/exposure/exposure.py:297: RuntimeWarning: invalid value encountered in true_divide\n",
      "  image = (image - imin) / float(imax - imin)\n",
      "/home/guillermo/Works/Skoltech/forest-inventory-ml/thresholding_watershed.py:41: RuntimeWarning: invalid value encountered in greater\n",
      "  canopy_mask = img_gaussian > threshold_mean(img_gaussian)\n",
      "/home/guillermo/anaconda3/envs/skoltech/lib/python3.6/site-packages/skimage/exposure/exposure.py:297: RuntimeWarning: invalid value encountered in true_divide\n",
      "  image = (image - imin) / float(imax - imin)\n",
      "/home/guillermo/Works/Skoltech/forest-inventory-ml/thresholding_watershed.py:41: RuntimeWarning: invalid value encountered in greater\n",
      "  canopy_mask = img_gaussian > threshold_mean(img_gaussian)\n"
     ]
    },
    {
     "name": "stdout",
     "output_type": "stream",
     "text": [
      "Block: (13, 27), 0 trees found\n",
      "Block: (13, 28), 0 trees found\n",
      "Block: (13, 29), 0 trees found\n",
      "Block: (13, 30), 0 trees found\n",
      "Block: (14, 0), 0 trees found\n"
     ]
    },
    {
     "name": "stderr",
     "output_type": "stream",
     "text": [
      "/home/guillermo/anaconda3/envs/skoltech/lib/python3.6/site-packages/skimage/exposure/exposure.py:297: RuntimeWarning: invalid value encountered in true_divide\n",
      "  image = (image - imin) / float(imax - imin)\n",
      "/home/guillermo/Works/Skoltech/forest-inventory-ml/thresholding_watershed.py:41: RuntimeWarning: invalid value encountered in greater\n",
      "  canopy_mask = img_gaussian > threshold_mean(img_gaussian)\n",
      "/home/guillermo/anaconda3/envs/skoltech/lib/python3.6/site-packages/skimage/exposure/exposure.py:297: RuntimeWarning: invalid value encountered in true_divide\n",
      "  image = (image - imin) / float(imax - imin)\n",
      "/home/guillermo/Works/Skoltech/forest-inventory-ml/thresholding_watershed.py:41: RuntimeWarning: invalid value encountered in greater\n",
      "  canopy_mask = img_gaussian > threshold_mean(img_gaussian)\n",
      "/home/guillermo/anaconda3/envs/skoltech/lib/python3.6/site-packages/skimage/exposure/exposure.py:297: RuntimeWarning: invalid value encountered in true_divide\n",
      "  image = (image - imin) / float(imax - imin)\n",
      "/home/guillermo/anaconda3/envs/skoltech/lib/python3.6/site-packages/skimage/exposure/exposure.py:297: RuntimeWarning: invalid value encountered in true_divide\n",
      "  image = (image - imin) / float(imax - imin)\n",
      "/home/guillermo/Works/Skoltech/forest-inventory-ml/thresholding_watershed.py:41: RuntimeWarning: invalid value encountered in greater\n",
      "  canopy_mask = img_gaussian > threshold_mean(img_gaussian)\n",
      "/home/guillermo/anaconda3/envs/skoltech/lib/python3.6/site-packages/skimage/exposure/exposure.py:297: RuntimeWarning: invalid value encountered in true_divide\n",
      "  image = (image - imin) / float(imax - imin)\n",
      "/home/guillermo/Works/Skoltech/forest-inventory-ml/thresholding_watershed.py:41: RuntimeWarning: invalid value encountered in greater\n",
      "  canopy_mask = img_gaussian > threshold_mean(img_gaussian)\n",
      "/home/guillermo/anaconda3/envs/skoltech/lib/python3.6/site-packages/skimage/exposure/exposure.py:297: RuntimeWarning: invalid value encountered in true_divide\n",
      "  image = (image - imin) / float(imax - imin)\n",
      "/home/guillermo/Works/Skoltech/forest-inventory-ml/thresholding_watershed.py:41: RuntimeWarning: invalid value encountered in greater\n",
      "  canopy_mask = img_gaussian > threshold_mean(img_gaussian)\n",
      "/home/guillermo/anaconda3/envs/skoltech/lib/python3.6/site-packages/skimage/exposure/exposure.py:297: RuntimeWarning: invalid value encountered in true_divide\n",
      "  image = (image - imin) / float(imax - imin)\n",
      "/home/guillermo/Works/Skoltech/forest-inventory-ml/thresholding_watershed.py:41: RuntimeWarning: invalid value encountered in greater\n",
      "  canopy_mask = img_gaussian > threshold_mean(img_gaussian)\n",
      "/home/guillermo/anaconda3/envs/skoltech/lib/python3.6/site-packages/skimage/exposure/exposure.py:297: RuntimeWarning: invalid value encountered in true_divide\n",
      "  image = (image - imin) / float(imax - imin)\n",
      "/home/guillermo/Works/Skoltech/forest-inventory-ml/thresholding_watershed.py:41: RuntimeWarning: invalid value encountered in greater\n",
      "  canopy_mask = img_gaussian > threshold_mean(img_gaussian)\n",
      "/home/guillermo/anaconda3/envs/skoltech/lib/python3.6/site-packages/skimage/exposure/exposure.py:297: RuntimeWarning: invalid value encountered in true_divide\n",
      "  image = (image - imin) / float(imax - imin)\n",
      "/home/guillermo/Works/Skoltech/forest-inventory-ml/thresholding_watershed.py:41: RuntimeWarning: invalid value encountered in greater\n",
      "  canopy_mask = img_gaussian > threshold_mean(img_gaussian)\n"
     ]
    },
    {
     "name": "stdout",
     "output_type": "stream",
     "text": [
      "Block: (14, 1), 0 trees found\n",
      "Block: (14, 2), 0 trees found\n",
      "Block: (14, 3), 0 trees found\n",
      "Block: (14, 4), 0 trees found\n",
      "Block: (14, 5), 0 trees found\n"
     ]
    },
    {
     "name": "stderr",
     "output_type": "stream",
     "text": [
      "/home/guillermo/anaconda3/envs/skoltech/lib/python3.6/site-packages/skimage/exposure/exposure.py:297: RuntimeWarning: invalid value encountered in true_divide\n",
      "  image = (image - imin) / float(imax - imin)\n",
      "/home/guillermo/Works/Skoltech/forest-inventory-ml/thresholding_watershed.py:41: RuntimeWarning: invalid value encountered in greater\n",
      "  canopy_mask = img_gaussian > threshold_mean(img_gaussian)\n"
     ]
    },
    {
     "name": "stdout",
     "output_type": "stream",
     "text": [
      "Block: (14, 6), 0 trees found\n",
      "Block: (14, 7), 36 trees found\n",
      "Block: (14, 8), 253 trees found\n",
      "Block: (14, 9), 272 trees found\n",
      "Block: (14, 10), 255 trees found\n",
      "Block: (14, 11), 248 trees found\n",
      "Block: (14, 12), 259 trees found\n",
      "Block: (14, 13), 284 trees found\n",
      "Block: (14, 14), 440 trees found\n",
      "Block: (14, 15), 429 trees found\n",
      "Block: (14, 16), 320 trees found\n",
      "Block: (14, 17), 230 trees found\n",
      "Block: (14, 18), 232 trees found\n",
      "Block: (14, 19), 236 trees found\n",
      "Block: (14, 20), 264 trees found\n",
      "Block: (14, 21), 243 trees found\n",
      "Block: (14, 22), 9 trees found\n",
      "Block: (14, 23), 0 trees found\n",
      "Block: (14, 24), 0 trees found\n",
      "Block: (14, 25), 0 trees found\n",
      "Block: (14, 26), 0 trees found\n"
     ]
    },
    {
     "name": "stderr",
     "output_type": "stream",
     "text": [
      "/home/guillermo/anaconda3/envs/skoltech/lib/python3.6/site-packages/skimage/exposure/exposure.py:297: RuntimeWarning: invalid value encountered in true_divide\n",
      "  image = (image - imin) / float(imax - imin)\n",
      "/home/guillermo/Works/Skoltech/forest-inventory-ml/thresholding_watershed.py:41: RuntimeWarning: invalid value encountered in greater\n",
      "  canopy_mask = img_gaussian > threshold_mean(img_gaussian)\n",
      "/home/guillermo/anaconda3/envs/skoltech/lib/python3.6/site-packages/skimage/exposure/exposure.py:297: RuntimeWarning: invalid value encountered in true_divide\n",
      "  image = (image - imin) / float(imax - imin)\n",
      "/home/guillermo/Works/Skoltech/forest-inventory-ml/thresholding_watershed.py:41: RuntimeWarning: invalid value encountered in greater\n",
      "  canopy_mask = img_gaussian > threshold_mean(img_gaussian)\n",
      "/home/guillermo/anaconda3/envs/skoltech/lib/python3.6/site-packages/skimage/exposure/exposure.py:297: RuntimeWarning: invalid value encountered in true_divide\n",
      "  image = (image - imin) / float(imax - imin)\n",
      "/home/guillermo/Works/Skoltech/forest-inventory-ml/thresholding_watershed.py:41: RuntimeWarning: invalid value encountered in greater\n",
      "  canopy_mask = img_gaussian > threshold_mean(img_gaussian)\n",
      "/home/guillermo/anaconda3/envs/skoltech/lib/python3.6/site-packages/skimage/exposure/exposure.py:297: RuntimeWarning: invalid value encountered in true_divide\n",
      "  image = (image - imin) / float(imax - imin)\n",
      "/home/guillermo/Works/Skoltech/forest-inventory-ml/thresholding_watershed.py:41: RuntimeWarning: invalid value encountered in greater\n",
      "  canopy_mask = img_gaussian > threshold_mean(img_gaussian)\n",
      "/home/guillermo/anaconda3/envs/skoltech/lib/python3.6/site-packages/skimage/exposure/exposure.py:297: RuntimeWarning: invalid value encountered in true_divide\n",
      "  image = (image - imin) / float(imax - imin)\n",
      "/home/guillermo/Works/Skoltech/forest-inventory-ml/thresholding_watershed.py:41: RuntimeWarning: invalid value encountered in greater\n",
      "  canopy_mask = img_gaussian > threshold_mean(img_gaussian)\n",
      "/home/guillermo/anaconda3/envs/skoltech/lib/python3.6/site-packages/skimage/exposure/exposure.py:297: RuntimeWarning: invalid value encountered in true_divide\n",
      "  image = (image - imin) / float(imax - imin)\n",
      "/home/guillermo/Works/Skoltech/forest-inventory-ml/thresholding_watershed.py:41: RuntimeWarning: invalid value encountered in greater\n",
      "  canopy_mask = img_gaussian > threshold_mean(img_gaussian)\n",
      "/home/guillermo/anaconda3/envs/skoltech/lib/python3.6/site-packages/skimage/exposure/exposure.py:297: RuntimeWarning: invalid value encountered in true_divide\n",
      "  image = (image - imin) / float(imax - imin)\n",
      "/home/guillermo/Works/Skoltech/forest-inventory-ml/thresholding_watershed.py:41: RuntimeWarning: invalid value encountered in greater\n",
      "  canopy_mask = img_gaussian > threshold_mean(img_gaussian)\n",
      "/home/guillermo/anaconda3/envs/skoltech/lib/python3.6/site-packages/skimage/exposure/exposure.py:297: RuntimeWarning: invalid value encountered in true_divide\n",
      "  image = (image - imin) / float(imax - imin)\n",
      "/home/guillermo/anaconda3/envs/skoltech/lib/python3.6/site-packages/skimage/exposure/exposure.py:297: RuntimeWarning: invalid value encountered in true_divide\n",
      "  image = (image - imin) / float(imax - imin)\n",
      "/home/guillermo/Works/Skoltech/forest-inventory-ml/thresholding_watershed.py:41: RuntimeWarning: invalid value encountered in greater\n",
      "  canopy_mask = img_gaussian > threshold_mean(img_gaussian)\n"
     ]
    },
    {
     "name": "stdout",
     "output_type": "stream",
     "text": [
      "Block: (14, 27), 0 trees found\n",
      "Block: (14, 28), 0 trees found\n",
      "Block: (14, 29), 0 trees found\n",
      "Block: (14, 30), 0 trees found\n",
      "Block: (15, 0), 0 trees found\n"
     ]
    },
    {
     "name": "stderr",
     "output_type": "stream",
     "text": [
      "/home/guillermo/anaconda3/envs/skoltech/lib/python3.6/site-packages/skimage/exposure/exposure.py:297: RuntimeWarning: invalid value encountered in true_divide\n",
      "  image = (image - imin) / float(imax - imin)\n",
      "/home/guillermo/Works/Skoltech/forest-inventory-ml/thresholding_watershed.py:41: RuntimeWarning: invalid value encountered in greater\n",
      "  canopy_mask = img_gaussian > threshold_mean(img_gaussian)\n",
      "/home/guillermo/anaconda3/envs/skoltech/lib/python3.6/site-packages/skimage/exposure/exposure.py:297: RuntimeWarning: invalid value encountered in true_divide\n",
      "  image = (image - imin) / float(imax - imin)\n",
      "/home/guillermo/Works/Skoltech/forest-inventory-ml/thresholding_watershed.py:41: RuntimeWarning: invalid value encountered in greater\n",
      "  canopy_mask = img_gaussian > threshold_mean(img_gaussian)\n",
      "/home/guillermo/anaconda3/envs/skoltech/lib/python3.6/site-packages/skimage/exposure/exposure.py:297: RuntimeWarning: invalid value encountered in true_divide\n",
      "  image = (image - imin) / float(imax - imin)\n",
      "/home/guillermo/Works/Skoltech/forest-inventory-ml/thresholding_watershed.py:41: RuntimeWarning: invalid value encountered in greater\n",
      "  canopy_mask = img_gaussian > threshold_mean(img_gaussian)\n",
      "/home/guillermo/anaconda3/envs/skoltech/lib/python3.6/site-packages/skimage/exposure/exposure.py:297: RuntimeWarning: invalid value encountered in true_divide\n",
      "  image = (image - imin) / float(imax - imin)\n",
      "/home/guillermo/Works/Skoltech/forest-inventory-ml/thresholding_watershed.py:41: RuntimeWarning: invalid value encountered in greater\n",
      "  canopy_mask = img_gaussian > threshold_mean(img_gaussian)\n",
      "/home/guillermo/anaconda3/envs/skoltech/lib/python3.6/site-packages/skimage/exposure/exposure.py:297: RuntimeWarning: invalid value encountered in true_divide\n",
      "  image = (image - imin) / float(imax - imin)\n"
     ]
    },
    {
     "name": "stdout",
     "output_type": "stream",
     "text": [
      "Block: (15, 1), 0 trees found\n",
      "Block: (15, 2), 0 trees found\n",
      "Block: (15, 3), 0 trees found\n",
      "Block: (15, 4), 0 trees found\n",
      "Block: (15, 5), 0 trees found\n"
     ]
    },
    {
     "name": "stderr",
     "output_type": "stream",
     "text": [
      "/home/guillermo/Works/Skoltech/forest-inventory-ml/thresholding_watershed.py:41: RuntimeWarning: invalid value encountered in greater\n",
      "  canopy_mask = img_gaussian > threshold_mean(img_gaussian)\n"
     ]
    },
    {
     "name": "stdout",
     "output_type": "stream",
     "text": [
      "Block: (15, 6), 4 trees found\n",
      "Block: (15, 7), 248 trees found\n",
      "Block: (15, 8), 262 trees found\n",
      "Block: (15, 9), 240 trees found\n",
      "Block: (15, 10), 260 trees found\n",
      "Block: (15, 11), 240 trees found\n",
      "Block: (15, 12), 299 trees found\n",
      "Block: (15, 13), 265 trees found\n",
      "Block: (15, 14), 428 trees found\n",
      "Block: (15, 15), 474 trees found\n",
      "Block: (15, 16), 319 trees found\n",
      "Block: (15, 17), 235 trees found\n",
      "Block: (15, 18), 278 trees found\n",
      "Block: (15, 19), 246 trees found\n",
      "Block: (15, 20), 242 trees found\n",
      "Block: (15, 21), 280 trees found\n",
      "Block: (15, 22), 7 trees found\n",
      "Block: (15, 23), 0 trees found\n",
      "Block: (15, 24), 0 trees found\n",
      "Block: (15, 25), 0 trees found\n",
      "Block: (15, 26), 0 trees found\n"
     ]
    },
    {
     "name": "stderr",
     "output_type": "stream",
     "text": [
      "/home/guillermo/anaconda3/envs/skoltech/lib/python3.6/site-packages/skimage/exposure/exposure.py:297: RuntimeWarning: invalid value encountered in true_divide\n",
      "  image = (image - imin) / float(imax - imin)\n",
      "/home/guillermo/Works/Skoltech/forest-inventory-ml/thresholding_watershed.py:41: RuntimeWarning: invalid value encountered in greater\n",
      "  canopy_mask = img_gaussian > threshold_mean(img_gaussian)\n",
      "/home/guillermo/anaconda3/envs/skoltech/lib/python3.6/site-packages/skimage/exposure/exposure.py:297: RuntimeWarning: invalid value encountered in true_divide\n",
      "  image = (image - imin) / float(imax - imin)\n",
      "/home/guillermo/Works/Skoltech/forest-inventory-ml/thresholding_watershed.py:41: RuntimeWarning: invalid value encountered in greater\n",
      "  canopy_mask = img_gaussian > threshold_mean(img_gaussian)\n",
      "/home/guillermo/anaconda3/envs/skoltech/lib/python3.6/site-packages/skimage/exposure/exposure.py:297: RuntimeWarning: invalid value encountered in true_divide\n",
      "  image = (image - imin) / float(imax - imin)\n",
      "/home/guillermo/Works/Skoltech/forest-inventory-ml/thresholding_watershed.py:41: RuntimeWarning: invalid value encountered in greater\n",
      "  canopy_mask = img_gaussian > threshold_mean(img_gaussian)\n",
      "/home/guillermo/anaconda3/envs/skoltech/lib/python3.6/site-packages/skimage/exposure/exposure.py:297: RuntimeWarning: invalid value encountered in true_divide\n",
      "  image = (image - imin) / float(imax - imin)\n",
      "/home/guillermo/Works/Skoltech/forest-inventory-ml/thresholding_watershed.py:41: RuntimeWarning: invalid value encountered in greater\n",
      "  canopy_mask = img_gaussian > threshold_mean(img_gaussian)\n",
      "/home/guillermo/anaconda3/envs/skoltech/lib/python3.6/site-packages/skimage/exposure/exposure.py:297: RuntimeWarning: invalid value encountered in true_divide\n",
      "  image = (image - imin) / float(imax - imin)\n",
      "/home/guillermo/Works/Skoltech/forest-inventory-ml/thresholding_watershed.py:41: RuntimeWarning: invalid value encountered in greater\n",
      "  canopy_mask = img_gaussian > threshold_mean(img_gaussian)\n",
      "/home/guillermo/anaconda3/envs/skoltech/lib/python3.6/site-packages/skimage/exposure/exposure.py:297: RuntimeWarning: invalid value encountered in true_divide\n",
      "  image = (image - imin) / float(imax - imin)\n",
      "/home/guillermo/Works/Skoltech/forest-inventory-ml/thresholding_watershed.py:41: RuntimeWarning: invalid value encountered in greater\n",
      "  canopy_mask = img_gaussian > threshold_mean(img_gaussian)\n",
      "/home/guillermo/anaconda3/envs/skoltech/lib/python3.6/site-packages/skimage/exposure/exposure.py:297: RuntimeWarning: invalid value encountered in true_divide\n",
      "  image = (image - imin) / float(imax - imin)\n",
      "/home/guillermo/Works/Skoltech/forest-inventory-ml/thresholding_watershed.py:41: RuntimeWarning: invalid value encountered in greater\n",
      "  canopy_mask = img_gaussian > threshold_mean(img_gaussian)\n",
      "/home/guillermo/anaconda3/envs/skoltech/lib/python3.6/site-packages/skimage/exposure/exposure.py:297: RuntimeWarning: invalid value encountered in true_divide\n",
      "  image = (image - imin) / float(imax - imin)\n",
      "/home/guillermo/anaconda3/envs/skoltech/lib/python3.6/site-packages/skimage/exposure/exposure.py:297: RuntimeWarning: invalid value encountered in true_divide\n",
      "  image = (image - imin) / float(imax - imin)\n",
      "/home/guillermo/Works/Skoltech/forest-inventory-ml/thresholding_watershed.py:41: RuntimeWarning: invalid value encountered in greater\n",
      "  canopy_mask = img_gaussian > threshold_mean(img_gaussian)\n"
     ]
    },
    {
     "name": "stdout",
     "output_type": "stream",
     "text": [
      "Block: (15, 27), 0 trees found\n",
      "Block: (15, 28), 0 trees found\n",
      "Block: (15, 29), 0 trees found\n",
      "Block: (15, 30), 0 trees found\n",
      "Block: (16, 0), 0 trees found\n",
      "Block: (16, 1), 0 trees found\n",
      "Block: (16, 2), 0 trees found\n",
      "Block: (16, 3), 0 trees found\n",
      "Block: (16, 4), 0 trees found\n"
     ]
    },
    {
     "name": "stderr",
     "output_type": "stream",
     "text": [
      "/home/guillermo/anaconda3/envs/skoltech/lib/python3.6/site-packages/skimage/exposure/exposure.py:297: RuntimeWarning: invalid value encountered in true_divide\n",
      "  image = (image - imin) / float(imax - imin)\n",
      "/home/guillermo/Works/Skoltech/forest-inventory-ml/thresholding_watershed.py:41: RuntimeWarning: invalid value encountered in greater\n",
      "  canopy_mask = img_gaussian > threshold_mean(img_gaussian)\n",
      "/home/guillermo/anaconda3/envs/skoltech/lib/python3.6/site-packages/skimage/exposure/exposure.py:297: RuntimeWarning: invalid value encountered in true_divide\n",
      "  image = (image - imin) / float(imax - imin)\n",
      "/home/guillermo/Works/Skoltech/forest-inventory-ml/thresholding_watershed.py:41: RuntimeWarning: invalid value encountered in greater\n",
      "  canopy_mask = img_gaussian > threshold_mean(img_gaussian)\n",
      "/home/guillermo/anaconda3/envs/skoltech/lib/python3.6/site-packages/skimage/exposure/exposure.py:297: RuntimeWarning: invalid value encountered in true_divide\n",
      "  image = (image - imin) / float(imax - imin)\n",
      "/home/guillermo/Works/Skoltech/forest-inventory-ml/thresholding_watershed.py:41: RuntimeWarning: invalid value encountered in greater\n",
      "  canopy_mask = img_gaussian > threshold_mean(img_gaussian)\n",
      "/home/guillermo/anaconda3/envs/skoltech/lib/python3.6/site-packages/skimage/exposure/exposure.py:297: RuntimeWarning: invalid value encountered in true_divide\n",
      "  image = (image - imin) / float(imax - imin)\n",
      "/home/guillermo/Works/Skoltech/forest-inventory-ml/thresholding_watershed.py:41: RuntimeWarning: invalid value encountered in greater\n",
      "  canopy_mask = img_gaussian > threshold_mean(img_gaussian)\n",
      "/home/guillermo/anaconda3/envs/skoltech/lib/python3.6/site-packages/skimage/exposure/exposure.py:297: RuntimeWarning: invalid value encountered in true_divide\n",
      "  image = (image - imin) / float(imax - imin)\n",
      "/home/guillermo/Works/Skoltech/forest-inventory-ml/thresholding_watershed.py:41: RuntimeWarning: invalid value encountered in greater\n",
      "  canopy_mask = img_gaussian > threshold_mean(img_gaussian)\n"
     ]
    },
    {
     "name": "stdout",
     "output_type": "stream",
     "text": [
      "Block: (16, 5), 0 trees found\n",
      "Block: (16, 6), 3 trees found\n",
      "Block: (16, 7), 278 trees found\n",
      "Block: (16, 8), 250 trees found\n",
      "Block: (16, 9), 277 trees found\n",
      "Block: (16, 10), 258 trees found\n",
      "Block: (16, 11), 291 trees found\n",
      "Block: (16, 12), 315 trees found\n",
      "Block: (16, 13), 281 trees found\n",
      "Block: (16, 14), 315 trees found\n",
      "Block: (16, 15), 374 trees found\n",
      "Block: (16, 16), 327 trees found\n",
      "Block: (16, 17), 267 trees found\n",
      "Block: (16, 18), 327 trees found\n",
      "Block: (16, 19), 288 trees found\n",
      "Block: (16, 20), 252 trees found\n",
      "Block: (16, 21), 259 trees found\n",
      "Block: (16, 22), 4 trees found\n",
      "Block: (16, 23), 0 trees found\n",
      "Block: (16, 24), 0 trees found\n",
      "Block: (16, 25), 0 trees found\n",
      "Block: (16, 26), 0 trees found\n"
     ]
    },
    {
     "name": "stderr",
     "output_type": "stream",
     "text": [
      "/home/guillermo/anaconda3/envs/skoltech/lib/python3.6/site-packages/skimage/exposure/exposure.py:297: RuntimeWarning: invalid value encountered in true_divide\n",
      "  image = (image - imin) / float(imax - imin)\n",
      "/home/guillermo/Works/Skoltech/forest-inventory-ml/thresholding_watershed.py:41: RuntimeWarning: invalid value encountered in greater\n",
      "  canopy_mask = img_gaussian > threshold_mean(img_gaussian)\n",
      "/home/guillermo/anaconda3/envs/skoltech/lib/python3.6/site-packages/skimage/exposure/exposure.py:297: RuntimeWarning: invalid value encountered in true_divide\n",
      "  image = (image - imin) / float(imax - imin)\n",
      "/home/guillermo/Works/Skoltech/forest-inventory-ml/thresholding_watershed.py:41: RuntimeWarning: invalid value encountered in greater\n",
      "  canopy_mask = img_gaussian > threshold_mean(img_gaussian)\n",
      "/home/guillermo/anaconda3/envs/skoltech/lib/python3.6/site-packages/skimage/exposure/exposure.py:297: RuntimeWarning: invalid value encountered in true_divide\n",
      "  image = (image - imin) / float(imax - imin)\n",
      "/home/guillermo/Works/Skoltech/forest-inventory-ml/thresholding_watershed.py:41: RuntimeWarning: invalid value encountered in greater\n",
      "  canopy_mask = img_gaussian > threshold_mean(img_gaussian)\n",
      "/home/guillermo/anaconda3/envs/skoltech/lib/python3.6/site-packages/skimage/exposure/exposure.py:297: RuntimeWarning: invalid value encountered in true_divide\n",
      "  image = (image - imin) / float(imax - imin)\n",
      "/home/guillermo/Works/Skoltech/forest-inventory-ml/thresholding_watershed.py:41: RuntimeWarning: invalid value encountered in greater\n",
      "  canopy_mask = img_gaussian > threshold_mean(img_gaussian)\n",
      "/home/guillermo/anaconda3/envs/skoltech/lib/python3.6/site-packages/skimage/exposure/exposure.py:297: RuntimeWarning: invalid value encountered in true_divide\n",
      "  image = (image - imin) / float(imax - imin)\n",
      "/home/guillermo/Works/Skoltech/forest-inventory-ml/thresholding_watershed.py:41: RuntimeWarning: invalid value encountered in greater\n",
      "  canopy_mask = img_gaussian > threshold_mean(img_gaussian)\n",
      "/home/guillermo/anaconda3/envs/skoltech/lib/python3.6/site-packages/skimage/exposure/exposure.py:297: RuntimeWarning: invalid value encountered in true_divide\n",
      "  image = (image - imin) / float(imax - imin)\n",
      "/home/guillermo/Works/Skoltech/forest-inventory-ml/thresholding_watershed.py:41: RuntimeWarning: invalid value encountered in greater\n",
      "  canopy_mask = img_gaussian > threshold_mean(img_gaussian)\n",
      "/home/guillermo/anaconda3/envs/skoltech/lib/python3.6/site-packages/skimage/exposure/exposure.py:297: RuntimeWarning: invalid value encountered in true_divide\n",
      "  image = (image - imin) / float(imax - imin)\n",
      "/home/guillermo/Works/Skoltech/forest-inventory-ml/thresholding_watershed.py:41: RuntimeWarning: invalid value encountered in greater\n",
      "  canopy_mask = img_gaussian > threshold_mean(img_gaussian)\n",
      "/home/guillermo/anaconda3/envs/skoltech/lib/python3.6/site-packages/skimage/exposure/exposure.py:297: RuntimeWarning: invalid value encountered in true_divide\n",
      "  image = (image - imin) / float(imax - imin)\n",
      "/home/guillermo/anaconda3/envs/skoltech/lib/python3.6/site-packages/skimage/exposure/exposure.py:297: RuntimeWarning: invalid value encountered in true_divide\n",
      "  image = (image - imin) / float(imax - imin)\n",
      "/home/guillermo/Works/Skoltech/forest-inventory-ml/thresholding_watershed.py:41: RuntimeWarning: invalid value encountered in greater\n",
      "  canopy_mask = img_gaussian > threshold_mean(img_gaussian)\n"
     ]
    },
    {
     "name": "stdout",
     "output_type": "stream",
     "text": [
      "Block: (16, 27), 0 trees found\n",
      "Block: (16, 28), 0 trees found\n",
      "Block: (16, 29), 0 trees found\n",
      "Block: (16, 30), 0 trees found\n",
      "Block: (17, 0), 0 trees found\n"
     ]
    },
    {
     "name": "stderr",
     "output_type": "stream",
     "text": [
      "/home/guillermo/anaconda3/envs/skoltech/lib/python3.6/site-packages/skimage/exposure/exposure.py:297: RuntimeWarning: invalid value encountered in true_divide\n",
      "  image = (image - imin) / float(imax - imin)\n",
      "/home/guillermo/Works/Skoltech/forest-inventory-ml/thresholding_watershed.py:41: RuntimeWarning: invalid value encountered in greater\n",
      "  canopy_mask = img_gaussian > threshold_mean(img_gaussian)\n",
      "/home/guillermo/anaconda3/envs/skoltech/lib/python3.6/site-packages/skimage/exposure/exposure.py:297: RuntimeWarning: invalid value encountered in true_divide\n",
      "  image = (image - imin) / float(imax - imin)\n",
      "/home/guillermo/Works/Skoltech/forest-inventory-ml/thresholding_watershed.py:41: RuntimeWarning: invalid value encountered in greater\n",
      "  canopy_mask = img_gaussian > threshold_mean(img_gaussian)\n",
      "/home/guillermo/anaconda3/envs/skoltech/lib/python3.6/site-packages/skimage/exposure/exposure.py:297: RuntimeWarning: invalid value encountered in true_divide\n",
      "  image = (image - imin) / float(imax - imin)\n",
      "/home/guillermo/Works/Skoltech/forest-inventory-ml/thresholding_watershed.py:41: RuntimeWarning: invalid value encountered in greater\n",
      "  canopy_mask = img_gaussian > threshold_mean(img_gaussian)\n",
      "/home/guillermo/anaconda3/envs/skoltech/lib/python3.6/site-packages/skimage/exposure/exposure.py:297: RuntimeWarning: invalid value encountered in true_divide\n",
      "  image = (image - imin) / float(imax - imin)\n",
      "/home/guillermo/Works/Skoltech/forest-inventory-ml/thresholding_watershed.py:41: RuntimeWarning: invalid value encountered in greater\n",
      "  canopy_mask = img_gaussian > threshold_mean(img_gaussian)\n"
     ]
    },
    {
     "name": "stdout",
     "output_type": "stream",
     "text": [
      "Block: (17, 1), 0 trees found\n",
      "Block: (17, 2), 0 trees found\n",
      "Block: (17, 3), 0 trees found\n",
      "Block: (17, 4), 0 trees found\n",
      "Block: (17, 5), 2 trees found\n",
      "Block: (17, 6), 4 trees found\n",
      "Block: (17, 7), 276 trees found\n",
      "Block: (17, 8), 284 trees found\n",
      "Block: (17, 9), 226 trees found\n",
      "Block: (17, 10), 249 trees found\n",
      "Block: (17, 11), 247 trees found\n",
      "Block: (17, 12), 308 trees found\n",
      "Block: (17, 13), 306 trees found\n",
      "Block: (17, 14), 310 trees found\n",
      "Block: (17, 15), 369 trees found\n",
      "Block: (17, 16), 300 trees found\n",
      "Block: (17, 17), 253 trees found\n",
      "Block: (17, 18), 281 trees found\n",
      "Block: (17, 19), 283 trees found\n",
      "Block: (17, 20), 234 trees found\n",
      "Block: (17, 21), 203 trees found\n",
      "Block: (17, 22), 4 trees found\n",
      "Block: (17, 23), 0 trees found\n",
      "Block: (17, 24), 0 trees found\n",
      "Block: (17, 25), 0 trees found\n"
     ]
    },
    {
     "name": "stderr",
     "output_type": "stream",
     "text": [
      "/home/guillermo/anaconda3/envs/skoltech/lib/python3.6/site-packages/skimage/exposure/exposure.py:297: RuntimeWarning: invalid value encountered in true_divide\n",
      "  image = (image - imin) / float(imax - imin)\n",
      "/home/guillermo/Works/Skoltech/forest-inventory-ml/thresholding_watershed.py:41: RuntimeWarning: invalid value encountered in greater\n",
      "  canopy_mask = img_gaussian > threshold_mean(img_gaussian)\n",
      "/home/guillermo/anaconda3/envs/skoltech/lib/python3.6/site-packages/skimage/exposure/exposure.py:297: RuntimeWarning: invalid value encountered in true_divide\n",
      "  image = (image - imin) / float(imax - imin)\n",
      "/home/guillermo/Works/Skoltech/forest-inventory-ml/thresholding_watershed.py:41: RuntimeWarning: invalid value encountered in greater\n",
      "  canopy_mask = img_gaussian > threshold_mean(img_gaussian)\n",
      "/home/guillermo/anaconda3/envs/skoltech/lib/python3.6/site-packages/skimage/exposure/exposure.py:297: RuntimeWarning: invalid value encountered in true_divide\n",
      "  image = (image - imin) / float(imax - imin)\n",
      "/home/guillermo/Works/Skoltech/forest-inventory-ml/thresholding_watershed.py:41: RuntimeWarning: invalid value encountered in greater\n",
      "  canopy_mask = img_gaussian > threshold_mean(img_gaussian)\n",
      "/home/guillermo/anaconda3/envs/skoltech/lib/python3.6/site-packages/skimage/exposure/exposure.py:297: RuntimeWarning: invalid value encountered in true_divide\n",
      "  image = (image - imin) / float(imax - imin)\n",
      "/home/guillermo/Works/Skoltech/forest-inventory-ml/thresholding_watershed.py:41: RuntimeWarning: invalid value encountered in greater\n",
      "  canopy_mask = img_gaussian > threshold_mean(img_gaussian)\n"
     ]
    },
    {
     "name": "stdout",
     "output_type": "stream",
     "text": [
      "Block: (17, 26), 0 trees found\n",
      "Block: (17, 27), 0 trees found\n",
      "Block: (17, 28), 0 trees found\n",
      "Block: (17, 29), 0 trees found\n"
     ]
    },
    {
     "name": "stderr",
     "output_type": "stream",
     "text": [
      "/home/guillermo/anaconda3/envs/skoltech/lib/python3.6/site-packages/skimage/exposure/exposure.py:297: RuntimeWarning: invalid value encountered in true_divide\n",
      "  image = (image - imin) / float(imax - imin)\n",
      "/home/guillermo/Works/Skoltech/forest-inventory-ml/thresholding_watershed.py:41: RuntimeWarning: invalid value encountered in greater\n",
      "  canopy_mask = img_gaussian > threshold_mean(img_gaussian)\n",
      "/home/guillermo/anaconda3/envs/skoltech/lib/python3.6/site-packages/skimage/exposure/exposure.py:297: RuntimeWarning: invalid value encountered in true_divide\n",
      "  image = (image - imin) / float(imax - imin)\n",
      "/home/guillermo/Works/Skoltech/forest-inventory-ml/thresholding_watershed.py:41: RuntimeWarning: invalid value encountered in greater\n",
      "  canopy_mask = img_gaussian > threshold_mean(img_gaussian)\n",
      "/home/guillermo/anaconda3/envs/skoltech/lib/python3.6/site-packages/skimage/exposure/exposure.py:297: RuntimeWarning: invalid value encountered in true_divide\n",
      "  image = (image - imin) / float(imax - imin)\n",
      "/home/guillermo/Works/Skoltech/forest-inventory-ml/thresholding_watershed.py:41: RuntimeWarning: invalid value encountered in greater\n",
      "  canopy_mask = img_gaussian > threshold_mean(img_gaussian)\n",
      "/home/guillermo/anaconda3/envs/skoltech/lib/python3.6/site-packages/skimage/exposure/exposure.py:297: RuntimeWarning: invalid value encountered in true_divide\n",
      "  image = (image - imin) / float(imax - imin)\n"
     ]
    },
    {
     "name": "stdout",
     "output_type": "stream",
     "text": [
      "Block: (17, 30), 0 trees found\n",
      "Block: (18, 0), 0 trees found\n",
      "Block: (18, 1), 0 trees found\n",
      "Block: (18, 2), 0 trees found\n"
     ]
    },
    {
     "name": "stderr",
     "output_type": "stream",
     "text": [
      "/home/guillermo/anaconda3/envs/skoltech/lib/python3.6/site-packages/skimage/exposure/exposure.py:297: RuntimeWarning: invalid value encountered in true_divide\n",
      "  image = (image - imin) / float(imax - imin)\n",
      "/home/guillermo/Works/Skoltech/forest-inventory-ml/thresholding_watershed.py:41: RuntimeWarning: invalid value encountered in greater\n",
      "  canopy_mask = img_gaussian > threshold_mean(img_gaussian)\n",
      "/home/guillermo/anaconda3/envs/skoltech/lib/python3.6/site-packages/skimage/exposure/exposure.py:297: RuntimeWarning: invalid value encountered in true_divide\n",
      "  image = (image - imin) / float(imax - imin)\n",
      "/home/guillermo/Works/Skoltech/forest-inventory-ml/thresholding_watershed.py:41: RuntimeWarning: invalid value encountered in greater\n",
      "  canopy_mask = img_gaussian > threshold_mean(img_gaussian)\n",
      "/home/guillermo/anaconda3/envs/skoltech/lib/python3.6/site-packages/skimage/exposure/exposure.py:297: RuntimeWarning: invalid value encountered in true_divide\n",
      "  image = (image - imin) / float(imax - imin)\n",
      "/home/guillermo/Works/Skoltech/forest-inventory-ml/thresholding_watershed.py:41: RuntimeWarning: invalid value encountered in greater\n",
      "  canopy_mask = img_gaussian > threshold_mean(img_gaussian)\n",
      "/home/guillermo/anaconda3/envs/skoltech/lib/python3.6/site-packages/skimage/exposure/exposure.py:297: RuntimeWarning: invalid value encountered in true_divide\n",
      "  image = (image - imin) / float(imax - imin)\n",
      "/home/guillermo/Works/Skoltech/forest-inventory-ml/thresholding_watershed.py:41: RuntimeWarning: invalid value encountered in greater\n",
      "  canopy_mask = img_gaussian > threshold_mean(img_gaussian)\n"
     ]
    },
    {
     "name": "stdout",
     "output_type": "stream",
     "text": [
      "Block: (18, 3), 0 trees found\n",
      "Block: (18, 4), 0 trees found\n"
     ]
    },
    {
     "name": "stderr",
     "output_type": "stream",
     "text": [
      "/home/guillermo/anaconda3/envs/skoltech/lib/python3.6/site-packages/skimage/exposure/exposure.py:297: RuntimeWarning: invalid value encountered in true_divide\n",
      "  image = (image - imin) / float(imax - imin)\n",
      "/home/guillermo/Works/Skoltech/forest-inventory-ml/thresholding_watershed.py:41: RuntimeWarning: invalid value encountered in greater\n",
      "  canopy_mask = img_gaussian > threshold_mean(img_gaussian)\n"
     ]
    },
    {
     "name": "stdout",
     "output_type": "stream",
     "text": [
      "Block: (18, 5), 11 trees found\n",
      "Block: (18, 6), 245 trees found\n",
      "Block: (18, 7), 263 trees found\n",
      "Block: (18, 8), 312 trees found\n",
      "Block: (18, 9), 256 trees found\n",
      "Block: (18, 10), 265 trees found\n",
      "Block: (18, 11), 272 trees found\n",
      "Block: (18, 12), 268 trees found\n",
      "Block: (18, 13), 313 trees found\n",
      "Block: (18, 14), 281 trees found\n",
      "Block: (18, 15), 383 trees found\n",
      "Block: (18, 16), 263 trees found\n",
      "Block: (18, 17), 211 trees found\n",
      "Block: (18, 18), 240 trees found\n",
      "Block: (18, 19), 218 trees found\n",
      "Block: (18, 20), 222 trees found\n",
      "Block: (18, 21), 6 trees found\n",
      "Block: (18, 22), 0 trees found\n",
      "Block: (18, 23), 0 trees found\n",
      "Block: (18, 24), 0 trees found\n",
      "Block: (18, 25), 0 trees found\n"
     ]
    },
    {
     "name": "stderr",
     "output_type": "stream",
     "text": [
      "/home/guillermo/anaconda3/envs/skoltech/lib/python3.6/site-packages/skimage/exposure/exposure.py:297: RuntimeWarning: invalid value encountered in true_divide\n",
      "  image = (image - imin) / float(imax - imin)\n",
      "/home/guillermo/Works/Skoltech/forest-inventory-ml/thresholding_watershed.py:41: RuntimeWarning: invalid value encountered in greater\n",
      "  canopy_mask = img_gaussian > threshold_mean(img_gaussian)\n",
      "/home/guillermo/anaconda3/envs/skoltech/lib/python3.6/site-packages/skimage/exposure/exposure.py:297: RuntimeWarning: invalid value encountered in true_divide\n",
      "  image = (image - imin) / float(imax - imin)\n",
      "/home/guillermo/Works/Skoltech/forest-inventory-ml/thresholding_watershed.py:41: RuntimeWarning: invalid value encountered in greater\n",
      "  canopy_mask = img_gaussian > threshold_mean(img_gaussian)\n",
      "/home/guillermo/anaconda3/envs/skoltech/lib/python3.6/site-packages/skimage/exposure/exposure.py:297: RuntimeWarning: invalid value encountered in true_divide\n",
      "  image = (image - imin) / float(imax - imin)\n",
      "/home/guillermo/Works/Skoltech/forest-inventory-ml/thresholding_watershed.py:41: RuntimeWarning: invalid value encountered in greater\n",
      "  canopy_mask = img_gaussian > threshold_mean(img_gaussian)\n",
      "/home/guillermo/anaconda3/envs/skoltech/lib/python3.6/site-packages/skimage/exposure/exposure.py:297: RuntimeWarning: invalid value encountered in true_divide\n",
      "  image = (image - imin) / float(imax - imin)\n",
      "/home/guillermo/Works/Skoltech/forest-inventory-ml/thresholding_watershed.py:41: RuntimeWarning: invalid value encountered in greater\n",
      "  canopy_mask = img_gaussian > threshold_mean(img_gaussian)\n",
      "/home/guillermo/anaconda3/envs/skoltech/lib/python3.6/site-packages/skimage/exposure/exposure.py:297: RuntimeWarning: invalid value encountered in true_divide\n",
      "  image = (image - imin) / float(imax - imin)\n",
      "/home/guillermo/Works/Skoltech/forest-inventory-ml/thresholding_watershed.py:41: RuntimeWarning: invalid value encountered in greater\n",
      "  canopy_mask = img_gaussian > threshold_mean(img_gaussian)\n",
      "/home/guillermo/anaconda3/envs/skoltech/lib/python3.6/site-packages/skimage/exposure/exposure.py:297: RuntimeWarning: invalid value encountered in true_divide\n",
      "  image = (image - imin) / float(imax - imin)\n",
      "/home/guillermo/Works/Skoltech/forest-inventory-ml/thresholding_watershed.py:41: RuntimeWarning: invalid value encountered in greater\n",
      "  canopy_mask = img_gaussian > threshold_mean(img_gaussian)\n",
      "/home/guillermo/anaconda3/envs/skoltech/lib/python3.6/site-packages/skimage/exposure/exposure.py:297: RuntimeWarning: invalid value encountered in true_divide\n",
      "  image = (image - imin) / float(imax - imin)\n",
      "/home/guillermo/Works/Skoltech/forest-inventory-ml/thresholding_watershed.py:41: RuntimeWarning: invalid value encountered in greater\n",
      "  canopy_mask = img_gaussian > threshold_mean(img_gaussian)\n",
      "/home/guillermo/anaconda3/envs/skoltech/lib/python3.6/site-packages/skimage/exposure/exposure.py:297: RuntimeWarning: invalid value encountered in true_divide\n",
      "  image = (image - imin) / float(imax - imin)\n",
      "/home/guillermo/Works/Skoltech/forest-inventory-ml/thresholding_watershed.py:41: RuntimeWarning: invalid value encountered in greater\n",
      "  canopy_mask = img_gaussian > threshold_mean(img_gaussian)\n",
      "/home/guillermo/anaconda3/envs/skoltech/lib/python3.6/site-packages/skimage/exposure/exposure.py:297: RuntimeWarning: invalid value encountered in true_divide\n",
      "  image = (image - imin) / float(imax - imin)\n"
     ]
    },
    {
     "name": "stdout",
     "output_type": "stream",
     "text": [
      "Block: (18, 26), 0 trees found\n",
      "Block: (18, 27), 0 trees found\n",
      "Block: (18, 28), 0 trees found\n",
      "Block: (18, 29), 0 trees found\n",
      "Block: (18, 30), 0 trees found\n"
     ]
    },
    {
     "name": "stderr",
     "output_type": "stream",
     "text": [
      "/home/guillermo/anaconda3/envs/skoltech/lib/python3.6/site-packages/skimage/exposure/exposure.py:297: RuntimeWarning: invalid value encountered in true_divide\n",
      "  image = (image - imin) / float(imax - imin)\n",
      "/home/guillermo/Works/Skoltech/forest-inventory-ml/thresholding_watershed.py:41: RuntimeWarning: invalid value encountered in greater\n",
      "  canopy_mask = img_gaussian > threshold_mean(img_gaussian)\n",
      "/home/guillermo/anaconda3/envs/skoltech/lib/python3.6/site-packages/skimage/exposure/exposure.py:297: RuntimeWarning: invalid value encountered in true_divide\n",
      "  image = (image - imin) / float(imax - imin)\n",
      "/home/guillermo/Works/Skoltech/forest-inventory-ml/thresholding_watershed.py:41: RuntimeWarning: invalid value encountered in greater\n",
      "  canopy_mask = img_gaussian > threshold_mean(img_gaussian)\n",
      "/home/guillermo/anaconda3/envs/skoltech/lib/python3.6/site-packages/skimage/exposure/exposure.py:297: RuntimeWarning: invalid value encountered in true_divide\n",
      "  image = (image - imin) / float(imax - imin)\n",
      "/home/guillermo/Works/Skoltech/forest-inventory-ml/thresholding_watershed.py:41: RuntimeWarning: invalid value encountered in greater\n",
      "  canopy_mask = img_gaussian > threshold_mean(img_gaussian)\n",
      "/home/guillermo/anaconda3/envs/skoltech/lib/python3.6/site-packages/skimage/exposure/exposure.py:297: RuntimeWarning: invalid value encountered in true_divide\n",
      "  image = (image - imin) / float(imax - imin)\n",
      "/home/guillermo/Works/Skoltech/forest-inventory-ml/thresholding_watershed.py:41: RuntimeWarning: invalid value encountered in greater\n",
      "  canopy_mask = img_gaussian > threshold_mean(img_gaussian)\n",
      "/home/guillermo/anaconda3/envs/skoltech/lib/python3.6/site-packages/skimage/exposure/exposure.py:297: RuntimeWarning: invalid value encountered in true_divide\n",
      "  image = (image - imin) / float(imax - imin)\n"
     ]
    },
    {
     "name": "stdout",
     "output_type": "stream",
     "text": [
      "Block: (19, 0), 0 trees found\n",
      "Block: (19, 1), 0 trees found\n",
      "Block: (19, 2), 0 trees found\n",
      "Block: (19, 3), 0 trees found\n",
      "Block: (19, 4), 0 trees found\n"
     ]
    },
    {
     "name": "stderr",
     "output_type": "stream",
     "text": [
      "/home/guillermo/Works/Skoltech/forest-inventory-ml/thresholding_watershed.py:41: RuntimeWarning: invalid value encountered in greater\n",
      "  canopy_mask = img_gaussian > threshold_mean(img_gaussian)\n"
     ]
    },
    {
     "name": "stdout",
     "output_type": "stream",
     "text": [
      "Block: (19, 5), 9 trees found\n",
      "Block: (19, 6), 195 trees found\n",
      "Block: (19, 7), 276 trees found\n",
      "Block: (19, 8), 277 trees found\n",
      "Block: (19, 9), 274 trees found\n",
      "Block: (19, 10), 240 trees found\n",
      "Block: (19, 11), 286 trees found\n",
      "Block: (19, 12), 301 trees found\n",
      "Block: (19, 13), 294 trees found\n",
      "Block: (19, 14), 315 trees found\n",
      "Block: (19, 15), 377 trees found\n",
      "Block: (19, 16), 282 trees found\n",
      "Block: (19, 17), 233 trees found\n",
      "Block: (19, 18), 248 trees found\n",
      "Block: (19, 19), 219 trees found\n",
      "Block: (19, 20), 210 trees found\n",
      "Block: (19, 21), 6 trees found\n",
      "Block: (19, 22), 0 trees found\n",
      "Block: (19, 23), 0 trees found\n",
      "Block: (19, 24), 0 trees found\n",
      "Block: (19, 25), 0 trees found\n"
     ]
    },
    {
     "name": "stderr",
     "output_type": "stream",
     "text": [
      "/home/guillermo/anaconda3/envs/skoltech/lib/python3.6/site-packages/skimage/exposure/exposure.py:297: RuntimeWarning: invalid value encountered in true_divide\n",
      "  image = (image - imin) / float(imax - imin)\n",
      "/home/guillermo/Works/Skoltech/forest-inventory-ml/thresholding_watershed.py:41: RuntimeWarning: invalid value encountered in greater\n",
      "  canopy_mask = img_gaussian > threshold_mean(img_gaussian)\n",
      "/home/guillermo/anaconda3/envs/skoltech/lib/python3.6/site-packages/skimage/exposure/exposure.py:297: RuntimeWarning: invalid value encountered in true_divide\n",
      "  image = (image - imin) / float(imax - imin)\n",
      "/home/guillermo/Works/Skoltech/forest-inventory-ml/thresholding_watershed.py:41: RuntimeWarning: invalid value encountered in greater\n",
      "  canopy_mask = img_gaussian > threshold_mean(img_gaussian)\n",
      "/home/guillermo/anaconda3/envs/skoltech/lib/python3.6/site-packages/skimage/exposure/exposure.py:297: RuntimeWarning: invalid value encountered in true_divide\n",
      "  image = (image - imin) / float(imax - imin)\n",
      "/home/guillermo/Works/Skoltech/forest-inventory-ml/thresholding_watershed.py:41: RuntimeWarning: invalid value encountered in greater\n",
      "  canopy_mask = img_gaussian > threshold_mean(img_gaussian)\n",
      "/home/guillermo/anaconda3/envs/skoltech/lib/python3.6/site-packages/skimage/exposure/exposure.py:297: RuntimeWarning: invalid value encountered in true_divide\n",
      "  image = (image - imin) / float(imax - imin)\n",
      "/home/guillermo/Works/Skoltech/forest-inventory-ml/thresholding_watershed.py:41: RuntimeWarning: invalid value encountered in greater\n",
      "  canopy_mask = img_gaussian > threshold_mean(img_gaussian)\n",
      "/home/guillermo/anaconda3/envs/skoltech/lib/python3.6/site-packages/skimage/exposure/exposure.py:297: RuntimeWarning: invalid value encountered in true_divide\n",
      "  image = (image - imin) / float(imax - imin)\n",
      "/home/guillermo/Works/Skoltech/forest-inventory-ml/thresholding_watershed.py:41: RuntimeWarning: invalid value encountered in greater\n",
      "  canopy_mask = img_gaussian > threshold_mean(img_gaussian)\n",
      "/home/guillermo/anaconda3/envs/skoltech/lib/python3.6/site-packages/skimage/exposure/exposure.py:297: RuntimeWarning: invalid value encountered in true_divide\n",
      "  image = (image - imin) / float(imax - imin)\n",
      "/home/guillermo/Works/Skoltech/forest-inventory-ml/thresholding_watershed.py:41: RuntimeWarning: invalid value encountered in greater\n",
      "  canopy_mask = img_gaussian > threshold_mean(img_gaussian)\n",
      "/home/guillermo/anaconda3/envs/skoltech/lib/python3.6/site-packages/skimage/exposure/exposure.py:297: RuntimeWarning: invalid value encountered in true_divide\n",
      "  image = (image - imin) / float(imax - imin)\n",
      "/home/guillermo/Works/Skoltech/forest-inventory-ml/thresholding_watershed.py:41: RuntimeWarning: invalid value encountered in greater\n",
      "  canopy_mask = img_gaussian > threshold_mean(img_gaussian)\n",
      "/home/guillermo/anaconda3/envs/skoltech/lib/python3.6/site-packages/skimage/exposure/exposure.py:297: RuntimeWarning: invalid value encountered in true_divide\n",
      "  image = (image - imin) / float(imax - imin)\n",
      "/home/guillermo/Works/Skoltech/forest-inventory-ml/thresholding_watershed.py:41: RuntimeWarning: invalid value encountered in greater\n",
      "  canopy_mask = img_gaussian > threshold_mean(img_gaussian)\n",
      "/home/guillermo/anaconda3/envs/skoltech/lib/python3.6/site-packages/skimage/exposure/exposure.py:297: RuntimeWarning: invalid value encountered in true_divide\n",
      "  image = (image - imin) / float(imax - imin)\n"
     ]
    },
    {
     "name": "stdout",
     "output_type": "stream",
     "text": [
      "Block: (19, 26), 0 trees found\n",
      "Block: (19, 27), 0 trees found\n",
      "Block: (19, 28), 0 trees found\n",
      "Block: (19, 29), 0 trees found\n",
      "Block: (19, 30), 0 trees found\n",
      "Block: (20, 0), 0 trees found\n",
      "Block: (20, 1), 0 trees found\n",
      "Block: (20, 2), 0 trees found\n"
     ]
    },
    {
     "name": "stderr",
     "output_type": "stream",
     "text": [
      "/home/guillermo/anaconda3/envs/skoltech/lib/python3.6/site-packages/skimage/exposure/exposure.py:297: RuntimeWarning: invalid value encountered in true_divide\n",
      "  image = (image - imin) / float(imax - imin)\n",
      "/home/guillermo/Works/Skoltech/forest-inventory-ml/thresholding_watershed.py:41: RuntimeWarning: invalid value encountered in greater\n",
      "  canopy_mask = img_gaussian > threshold_mean(img_gaussian)\n",
      "/home/guillermo/anaconda3/envs/skoltech/lib/python3.6/site-packages/skimage/exposure/exposure.py:297: RuntimeWarning: invalid value encountered in true_divide\n",
      "  image = (image - imin) / float(imax - imin)\n",
      "/home/guillermo/Works/Skoltech/forest-inventory-ml/thresholding_watershed.py:41: RuntimeWarning: invalid value encountered in greater\n",
      "  canopy_mask = img_gaussian > threshold_mean(img_gaussian)\n",
      "/home/guillermo/anaconda3/envs/skoltech/lib/python3.6/site-packages/skimage/exposure/exposure.py:297: RuntimeWarning: invalid value encountered in true_divide\n",
      "  image = (image - imin) / float(imax - imin)\n",
      "/home/guillermo/Works/Skoltech/forest-inventory-ml/thresholding_watershed.py:41: RuntimeWarning: invalid value encountered in greater\n",
      "  canopy_mask = img_gaussian > threshold_mean(img_gaussian)\n",
      "/home/guillermo/anaconda3/envs/skoltech/lib/python3.6/site-packages/skimage/exposure/exposure.py:297: RuntimeWarning: invalid value encountered in true_divide\n",
      "  image = (image - imin) / float(imax - imin)\n",
      "/home/guillermo/Works/Skoltech/forest-inventory-ml/thresholding_watershed.py:41: RuntimeWarning: invalid value encountered in greater\n",
      "  canopy_mask = img_gaussian > threshold_mean(img_gaussian)\n"
     ]
    },
    {
     "name": "stdout",
     "output_type": "stream",
     "text": [
      "Block: (20, 3), 0 trees found\n",
      "Block: (20, 4), 0 trees found\n"
     ]
    },
    {
     "name": "stderr",
     "output_type": "stream",
     "text": [
      "/home/guillermo/anaconda3/envs/skoltech/lib/python3.6/site-packages/skimage/exposure/exposure.py:297: RuntimeWarning: invalid value encountered in true_divide\n",
      "  image = (image - imin) / float(imax - imin)\n",
      "/home/guillermo/Works/Skoltech/forest-inventory-ml/thresholding_watershed.py:41: RuntimeWarning: invalid value encountered in greater\n",
      "  canopy_mask = img_gaussian > threshold_mean(img_gaussian)\n"
     ]
    },
    {
     "name": "stdout",
     "output_type": "stream",
     "text": [
      "Block: (20, 5), 8 trees found\n",
      "Block: (20, 6), 235 trees found\n",
      "Block: (20, 7), 240 trees found\n",
      "Block: (20, 8), 266 trees found\n",
      "Block: (20, 9), 313 trees found\n",
      "Block: (20, 10), 258 trees found\n",
      "Block: (20, 11), 265 trees found\n",
      "Block: (20, 12), 261 trees found\n",
      "Block: (20, 13), 269 trees found\n",
      "Block: (20, 14), 316 trees found\n",
      "Block: (20, 15), 294 trees found\n",
      "Block: (20, 16), 230 trees found\n",
      "Block: (20, 17), 301 trees found\n",
      "Block: (20, 18), 286 trees found\n",
      "Block: (20, 19), 241 trees found\n",
      "Block: (20, 20), 166 trees found\n",
      "Block: (20, 21), 3 trees found\n",
      "Block: (20, 22), 0 trees found\n",
      "Block: (20, 23), 0 trees found\n",
      "Block: (20, 24), 0 trees found\n",
      "Block: (20, 25), 0 trees found\n"
     ]
    },
    {
     "name": "stderr",
     "output_type": "stream",
     "text": [
      "/home/guillermo/anaconda3/envs/skoltech/lib/python3.6/site-packages/skimage/exposure/exposure.py:297: RuntimeWarning: invalid value encountered in true_divide\n",
      "  image = (image - imin) / float(imax - imin)\n",
      "/home/guillermo/Works/Skoltech/forest-inventory-ml/thresholding_watershed.py:41: RuntimeWarning: invalid value encountered in greater\n",
      "  canopy_mask = img_gaussian > threshold_mean(img_gaussian)\n",
      "/home/guillermo/anaconda3/envs/skoltech/lib/python3.6/site-packages/skimage/exposure/exposure.py:297: RuntimeWarning: invalid value encountered in true_divide\n",
      "  image = (image - imin) / float(imax - imin)\n",
      "/home/guillermo/Works/Skoltech/forest-inventory-ml/thresholding_watershed.py:41: RuntimeWarning: invalid value encountered in greater\n",
      "  canopy_mask = img_gaussian > threshold_mean(img_gaussian)\n",
      "/home/guillermo/anaconda3/envs/skoltech/lib/python3.6/site-packages/skimage/exposure/exposure.py:297: RuntimeWarning: invalid value encountered in true_divide\n",
      "  image = (image - imin) / float(imax - imin)\n",
      "/home/guillermo/Works/Skoltech/forest-inventory-ml/thresholding_watershed.py:41: RuntimeWarning: invalid value encountered in greater\n",
      "  canopy_mask = img_gaussian > threshold_mean(img_gaussian)\n",
      "/home/guillermo/anaconda3/envs/skoltech/lib/python3.6/site-packages/skimage/exposure/exposure.py:297: RuntimeWarning: invalid value encountered in true_divide\n",
      "  image = (image - imin) / float(imax - imin)\n",
      "/home/guillermo/Works/Skoltech/forest-inventory-ml/thresholding_watershed.py:41: RuntimeWarning: invalid value encountered in greater\n",
      "  canopy_mask = img_gaussian > threshold_mean(img_gaussian)\n",
      "/home/guillermo/anaconda3/envs/skoltech/lib/python3.6/site-packages/skimage/exposure/exposure.py:297: RuntimeWarning: invalid value encountered in true_divide\n",
      "  image = (image - imin) / float(imax - imin)\n",
      "/home/guillermo/Works/Skoltech/forest-inventory-ml/thresholding_watershed.py:41: RuntimeWarning: invalid value encountered in greater\n",
      "  canopy_mask = img_gaussian > threshold_mean(img_gaussian)\n",
      "/home/guillermo/anaconda3/envs/skoltech/lib/python3.6/site-packages/skimage/exposure/exposure.py:297: RuntimeWarning: invalid value encountered in true_divide\n",
      "  image = (image - imin) / float(imax - imin)\n",
      "/home/guillermo/Works/Skoltech/forest-inventory-ml/thresholding_watershed.py:41: RuntimeWarning: invalid value encountered in greater\n",
      "  canopy_mask = img_gaussian > threshold_mean(img_gaussian)\n",
      "/home/guillermo/anaconda3/envs/skoltech/lib/python3.6/site-packages/skimage/exposure/exposure.py:297: RuntimeWarning: invalid value encountered in true_divide\n",
      "  image = (image - imin) / float(imax - imin)\n",
      "/home/guillermo/Works/Skoltech/forest-inventory-ml/thresholding_watershed.py:41: RuntimeWarning: invalid value encountered in greater\n",
      "  canopy_mask = img_gaussian > threshold_mean(img_gaussian)\n",
      "/home/guillermo/anaconda3/envs/skoltech/lib/python3.6/site-packages/skimage/exposure/exposure.py:297: RuntimeWarning: invalid value encountered in true_divide\n",
      "  image = (image - imin) / float(imax - imin)\n",
      "/home/guillermo/Works/Skoltech/forest-inventory-ml/thresholding_watershed.py:41: RuntimeWarning: invalid value encountered in greater\n",
      "  canopy_mask = img_gaussian > threshold_mean(img_gaussian)\n",
      "/home/guillermo/anaconda3/envs/skoltech/lib/python3.6/site-packages/skimage/exposure/exposure.py:297: RuntimeWarning: invalid value encountered in true_divide\n",
      "  image = (image - imin) / float(imax - imin)\n"
     ]
    },
    {
     "name": "stdout",
     "output_type": "stream",
     "text": [
      "Block: (20, 26), 0 trees found\n",
      "Block: (20, 27), 0 trees found\n",
      "Block: (20, 28), 0 trees found\n",
      "Block: (20, 29), 0 trees found\n",
      "Block: (20, 30), 0 trees found\n"
     ]
    },
    {
     "name": "stderr",
     "output_type": "stream",
     "text": [
      "/home/guillermo/anaconda3/envs/skoltech/lib/python3.6/site-packages/skimage/exposure/exposure.py:297: RuntimeWarning: invalid value encountered in true_divide\n",
      "  image = (image - imin) / float(imax - imin)\n",
      "/home/guillermo/Works/Skoltech/forest-inventory-ml/thresholding_watershed.py:41: RuntimeWarning: invalid value encountered in greater\n",
      "  canopy_mask = img_gaussian > threshold_mean(img_gaussian)\n",
      "/home/guillermo/anaconda3/envs/skoltech/lib/python3.6/site-packages/skimage/exposure/exposure.py:297: RuntimeWarning: invalid value encountered in true_divide\n",
      "  image = (image - imin) / float(imax - imin)\n",
      "/home/guillermo/Works/Skoltech/forest-inventory-ml/thresholding_watershed.py:41: RuntimeWarning: invalid value encountered in greater\n",
      "  canopy_mask = img_gaussian > threshold_mean(img_gaussian)\n",
      "/home/guillermo/anaconda3/envs/skoltech/lib/python3.6/site-packages/skimage/exposure/exposure.py:297: RuntimeWarning: invalid value encountered in true_divide\n",
      "  image = (image - imin) / float(imax - imin)\n",
      "/home/guillermo/Works/Skoltech/forest-inventory-ml/thresholding_watershed.py:41: RuntimeWarning: invalid value encountered in greater\n",
      "  canopy_mask = img_gaussian > threshold_mean(img_gaussian)\n",
      "/home/guillermo/anaconda3/envs/skoltech/lib/python3.6/site-packages/skimage/exposure/exposure.py:297: RuntimeWarning: invalid value encountered in true_divide\n",
      "  image = (image - imin) / float(imax - imin)\n",
      "/home/guillermo/Works/Skoltech/forest-inventory-ml/thresholding_watershed.py:41: RuntimeWarning: invalid value encountered in greater\n",
      "  canopy_mask = img_gaussian > threshold_mean(img_gaussian)\n",
      "/home/guillermo/anaconda3/envs/skoltech/lib/python3.6/site-packages/skimage/exposure/exposure.py:297: RuntimeWarning: invalid value encountered in true_divide\n",
      "  image = (image - imin) / float(imax - imin)\n"
     ]
    },
    {
     "name": "stdout",
     "output_type": "stream",
     "text": [
      "Block: (21, 0), 0 trees found\n",
      "Block: (21, 1), 0 trees found\n",
      "Block: (21, 2), 0 trees found\n",
      "Block: (21, 3), 0 trees found\n",
      "Block: (21, 4), 0 trees found\n"
     ]
    },
    {
     "name": "stderr",
     "output_type": "stream",
     "text": [
      "/home/guillermo/Works/Skoltech/forest-inventory-ml/thresholding_watershed.py:41: RuntimeWarning: invalid value encountered in greater\n",
      "  canopy_mask = img_gaussian > threshold_mean(img_gaussian)\n"
     ]
    },
    {
     "name": "stdout",
     "output_type": "stream",
     "text": [
      "Block: (21, 5), 2 trees found\n",
      "Block: (21, 6), 11 trees found\n",
      "Block: (21, 7), 276 trees found\n",
      "Block: (21, 8), 274 trees found\n",
      "Block: (21, 9), 274 trees found\n",
      "Block: (21, 10), 276 trees found\n",
      "Block: (21, 11), 279 trees found\n",
      "Block: (21, 12), 262 trees found\n",
      "Block: (21, 13), 266 trees found\n",
      "Block: (21, 14), 250 trees found\n",
      "Block: (21, 15), 254 trees found\n",
      "Block: (21, 16), 273 trees found\n",
      "Block: (21, 17), 307 trees found\n",
      "Block: (21, 18), 302 trees found\n",
      "Block: (21, 19), 346 trees found\n",
      "Block: (21, 20), 10 trees found\n",
      "Block: (21, 21), 0 trees found\n",
      "Block: (21, 22), 0 trees found\n",
      "Block: (21, 23), 0 trees found\n",
      "Block: (21, 24), 0 trees found\n"
     ]
    },
    {
     "name": "stderr",
     "output_type": "stream",
     "text": [
      "/home/guillermo/anaconda3/envs/skoltech/lib/python3.6/site-packages/skimage/exposure/exposure.py:297: RuntimeWarning: invalid value encountered in true_divide\n",
      "  image = (image - imin) / float(imax - imin)\n",
      "/home/guillermo/Works/Skoltech/forest-inventory-ml/thresholding_watershed.py:41: RuntimeWarning: invalid value encountered in greater\n",
      "  canopy_mask = img_gaussian > threshold_mean(img_gaussian)\n",
      "/home/guillermo/anaconda3/envs/skoltech/lib/python3.6/site-packages/skimage/exposure/exposure.py:297: RuntimeWarning: invalid value encountered in true_divide\n",
      "  image = (image - imin) / float(imax - imin)\n",
      "/home/guillermo/Works/Skoltech/forest-inventory-ml/thresholding_watershed.py:41: RuntimeWarning: invalid value encountered in greater\n",
      "  canopy_mask = img_gaussian > threshold_mean(img_gaussian)\n",
      "/home/guillermo/anaconda3/envs/skoltech/lib/python3.6/site-packages/skimage/exposure/exposure.py:297: RuntimeWarning: invalid value encountered in true_divide\n",
      "  image = (image - imin) / float(imax - imin)\n",
      "/home/guillermo/Works/Skoltech/forest-inventory-ml/thresholding_watershed.py:41: RuntimeWarning: invalid value encountered in greater\n",
      "  canopy_mask = img_gaussian > threshold_mean(img_gaussian)\n",
      "/home/guillermo/anaconda3/envs/skoltech/lib/python3.6/site-packages/skimage/exposure/exposure.py:297: RuntimeWarning: invalid value encountered in true_divide\n",
      "  image = (image - imin) / float(imax - imin)\n",
      "/home/guillermo/Works/Skoltech/forest-inventory-ml/thresholding_watershed.py:41: RuntimeWarning: invalid value encountered in greater\n",
      "  canopy_mask = img_gaussian > threshold_mean(img_gaussian)\n",
      "/home/guillermo/anaconda3/envs/skoltech/lib/python3.6/site-packages/skimage/exposure/exposure.py:297: RuntimeWarning: invalid value encountered in true_divide\n",
      "  image = (image - imin) / float(imax - imin)\n",
      "/home/guillermo/Works/Skoltech/forest-inventory-ml/thresholding_watershed.py:41: RuntimeWarning: invalid value encountered in greater\n",
      "  canopy_mask = img_gaussian > threshold_mean(img_gaussian)\n",
      "/home/guillermo/anaconda3/envs/skoltech/lib/python3.6/site-packages/skimage/exposure/exposure.py:297: RuntimeWarning: invalid value encountered in true_divide\n",
      "  image = (image - imin) / float(imax - imin)\n",
      "/home/guillermo/Works/Skoltech/forest-inventory-ml/thresholding_watershed.py:41: RuntimeWarning: invalid value encountered in greater\n",
      "  canopy_mask = img_gaussian > threshold_mean(img_gaussian)\n",
      "/home/guillermo/anaconda3/envs/skoltech/lib/python3.6/site-packages/skimage/exposure/exposure.py:297: RuntimeWarning: invalid value encountered in true_divide\n",
      "  image = (image - imin) / float(imax - imin)\n",
      "/home/guillermo/Works/Skoltech/forest-inventory-ml/thresholding_watershed.py:41: RuntimeWarning: invalid value encountered in greater\n",
      "  canopy_mask = img_gaussian > threshold_mean(img_gaussian)\n",
      "/home/guillermo/anaconda3/envs/skoltech/lib/python3.6/site-packages/skimage/exposure/exposure.py:297: RuntimeWarning: invalid value encountered in true_divide\n",
      "  image = (image - imin) / float(imax - imin)\n",
      "/home/guillermo/Works/Skoltech/forest-inventory-ml/thresholding_watershed.py:41: RuntimeWarning: invalid value encountered in greater\n",
      "  canopy_mask = img_gaussian > threshold_mean(img_gaussian)\n",
      "/home/guillermo/anaconda3/envs/skoltech/lib/python3.6/site-packages/skimage/exposure/exposure.py:297: RuntimeWarning: invalid value encountered in true_divide\n",
      "  image = (image - imin) / float(imax - imin)\n",
      "/home/guillermo/Works/Skoltech/forest-inventory-ml/thresholding_watershed.py:41: RuntimeWarning: invalid value encountered in greater\n",
      "  canopy_mask = img_gaussian > threshold_mean(img_gaussian)\n"
     ]
    },
    {
     "name": "stdout",
     "output_type": "stream",
     "text": [
      "Block: (21, 25), 0 trees found\n",
      "Block: (21, 26), 0 trees found\n",
      "Block: (21, 27), 0 trees found\n",
      "Block: (21, 28), 0 trees found\n",
      "Block: (21, 29), 0 trees found\n"
     ]
    },
    {
     "name": "stderr",
     "output_type": "stream",
     "text": [
      "/home/guillermo/anaconda3/envs/skoltech/lib/python3.6/site-packages/skimage/exposure/exposure.py:297: RuntimeWarning: invalid value encountered in true_divide\n",
      "  image = (image - imin) / float(imax - imin)\n",
      "/home/guillermo/anaconda3/envs/skoltech/lib/python3.6/site-packages/skimage/exposure/exposure.py:297: RuntimeWarning: invalid value encountered in true_divide\n",
      "  image = (image - imin) / float(imax - imin)\n",
      "/home/guillermo/Works/Skoltech/forest-inventory-ml/thresholding_watershed.py:41: RuntimeWarning: invalid value encountered in greater\n",
      "  canopy_mask = img_gaussian > threshold_mean(img_gaussian)\n",
      "/home/guillermo/anaconda3/envs/skoltech/lib/python3.6/site-packages/skimage/exposure/exposure.py:297: RuntimeWarning: invalid value encountered in true_divide\n",
      "  image = (image - imin) / float(imax - imin)\n",
      "/home/guillermo/Works/Skoltech/forest-inventory-ml/thresholding_watershed.py:41: RuntimeWarning: invalid value encountered in greater\n",
      "  canopy_mask = img_gaussian > threshold_mean(img_gaussian)\n",
      "/home/guillermo/anaconda3/envs/skoltech/lib/python3.6/site-packages/skimage/exposure/exposure.py:297: RuntimeWarning: invalid value encountered in true_divide\n",
      "  image = (image - imin) / float(imax - imin)\n",
      "/home/guillermo/Works/Skoltech/forest-inventory-ml/thresholding_watershed.py:41: RuntimeWarning: invalid value encountered in greater\n",
      "  canopy_mask = img_gaussian > threshold_mean(img_gaussian)\n",
      "/home/guillermo/anaconda3/envs/skoltech/lib/python3.6/site-packages/skimage/exposure/exposure.py:297: RuntimeWarning: invalid value encountered in true_divide\n",
      "  image = (image - imin) / float(imax - imin)\n"
     ]
    },
    {
     "name": "stdout",
     "output_type": "stream",
     "text": [
      "Block: (21, 30), 0 trees found\n",
      "Block: (22, 0), 0 trees found\n",
      "Block: (22, 1), 0 trees found\n",
      "Block: (22, 2), 0 trees found\n",
      "Block: (22, 3), 0 trees found\n"
     ]
    },
    {
     "name": "stderr",
     "output_type": "stream",
     "text": [
      "/home/guillermo/Works/Skoltech/forest-inventory-ml/thresholding_watershed.py:41: RuntimeWarning: invalid value encountered in greater\n",
      "  canopy_mask = img_gaussian > threshold_mean(img_gaussian)\n",
      "/home/guillermo/anaconda3/envs/skoltech/lib/python3.6/site-packages/skimage/exposure/exposure.py:297: RuntimeWarning: invalid value encountered in true_divide\n",
      "  image = (image - imin) / float(imax - imin)\n",
      "/home/guillermo/Works/Skoltech/forest-inventory-ml/thresholding_watershed.py:41: RuntimeWarning: invalid value encountered in greater\n",
      "  canopy_mask = img_gaussian > threshold_mean(img_gaussian)\n",
      "/home/guillermo/anaconda3/envs/skoltech/lib/python3.6/site-packages/skimage/exposure/exposure.py:297: RuntimeWarning: invalid value encountered in true_divide\n",
      "  image = (image - imin) / float(imax - imin)\n",
      "/home/guillermo/Works/Skoltech/forest-inventory-ml/thresholding_watershed.py:41: RuntimeWarning: invalid value encountered in greater\n",
      "  canopy_mask = img_gaussian > threshold_mean(img_gaussian)\n"
     ]
    },
    {
     "name": "stdout",
     "output_type": "stream",
     "text": [
      "Block: (22, 4), 0 trees found\n",
      "Block: (22, 5), 0 trees found\n",
      "Block: (22, 6), 7 trees found\n",
      "Block: (22, 7), 311 trees found\n",
      "Block: (22, 8), 298 trees found\n",
      "Block: (22, 9), 242 trees found\n",
      "Block: (22, 10), 11 trees found\n",
      "Block: (22, 11), 214 trees found\n",
      "Block: (22, 12), 362 trees found\n",
      "Block: (22, 13), 333 trees found\n",
      "Block: (22, 14), 259 trees found\n",
      "Block: (22, 15), 265 trees found\n",
      "Block: (22, 16), 325 trees found\n",
      "Block: (22, 17), 383 trees found\n",
      "Block: (22, 18), 316 trees found\n",
      "Block: (22, 19), 259 trees found\n",
      "Block: (22, 20), 6 trees found\n",
      "Block: (22, 21), 0 trees found\n",
      "Block: (22, 22), 0 trees found\n",
      "Block: (22, 23), 0 trees found\n",
      "Block: (22, 24), 0 trees found\n"
     ]
    },
    {
     "name": "stderr",
     "output_type": "stream",
     "text": [
      "/home/guillermo/anaconda3/envs/skoltech/lib/python3.6/site-packages/skimage/exposure/exposure.py:297: RuntimeWarning: invalid value encountered in true_divide\n",
      "  image = (image - imin) / float(imax - imin)\n",
      "/home/guillermo/Works/Skoltech/forest-inventory-ml/thresholding_watershed.py:41: RuntimeWarning: invalid value encountered in greater\n",
      "  canopy_mask = img_gaussian > threshold_mean(img_gaussian)\n",
      "/home/guillermo/anaconda3/envs/skoltech/lib/python3.6/site-packages/skimage/exposure/exposure.py:297: RuntimeWarning: invalid value encountered in true_divide\n",
      "  image = (image - imin) / float(imax - imin)\n",
      "/home/guillermo/Works/Skoltech/forest-inventory-ml/thresholding_watershed.py:41: RuntimeWarning: invalid value encountered in greater\n",
      "  canopy_mask = img_gaussian > threshold_mean(img_gaussian)\n",
      "/home/guillermo/anaconda3/envs/skoltech/lib/python3.6/site-packages/skimage/exposure/exposure.py:297: RuntimeWarning: invalid value encountered in true_divide\n",
      "  image = (image - imin) / float(imax - imin)\n",
      "/home/guillermo/Works/Skoltech/forest-inventory-ml/thresholding_watershed.py:41: RuntimeWarning: invalid value encountered in greater\n",
      "  canopy_mask = img_gaussian > threshold_mean(img_gaussian)\n",
      "/home/guillermo/anaconda3/envs/skoltech/lib/python3.6/site-packages/skimage/exposure/exposure.py:297: RuntimeWarning: invalid value encountered in true_divide\n",
      "  image = (image - imin) / float(imax - imin)\n",
      "/home/guillermo/Works/Skoltech/forest-inventory-ml/thresholding_watershed.py:41: RuntimeWarning: invalid value encountered in greater\n",
      "  canopy_mask = img_gaussian > threshold_mean(img_gaussian)\n",
      "/home/guillermo/anaconda3/envs/skoltech/lib/python3.6/site-packages/skimage/exposure/exposure.py:297: RuntimeWarning: invalid value encountered in true_divide\n",
      "  image = (image - imin) / float(imax - imin)\n",
      "/home/guillermo/Works/Skoltech/forest-inventory-ml/thresholding_watershed.py:41: RuntimeWarning: invalid value encountered in greater\n",
      "  canopy_mask = img_gaussian > threshold_mean(img_gaussian)\n",
      "/home/guillermo/anaconda3/envs/skoltech/lib/python3.6/site-packages/skimage/exposure/exposure.py:297: RuntimeWarning: invalid value encountered in true_divide\n",
      "  image = (image - imin) / float(imax - imin)\n",
      "/home/guillermo/Works/Skoltech/forest-inventory-ml/thresholding_watershed.py:41: RuntimeWarning: invalid value encountered in greater\n",
      "  canopy_mask = img_gaussian > threshold_mean(img_gaussian)\n",
      "/home/guillermo/anaconda3/envs/skoltech/lib/python3.6/site-packages/skimage/exposure/exposure.py:297: RuntimeWarning: invalid value encountered in true_divide\n",
      "  image = (image - imin) / float(imax - imin)\n",
      "/home/guillermo/Works/Skoltech/forest-inventory-ml/thresholding_watershed.py:41: RuntimeWarning: invalid value encountered in greater\n",
      "  canopy_mask = img_gaussian > threshold_mean(img_gaussian)\n",
      "/home/guillermo/anaconda3/envs/skoltech/lib/python3.6/site-packages/skimage/exposure/exposure.py:297: RuntimeWarning: invalid value encountered in true_divide\n",
      "  image = (image - imin) / float(imax - imin)\n",
      "/home/guillermo/Works/Skoltech/forest-inventory-ml/thresholding_watershed.py:41: RuntimeWarning: invalid value encountered in greater\n",
      "  canopy_mask = img_gaussian > threshold_mean(img_gaussian)\n",
      "/home/guillermo/anaconda3/envs/skoltech/lib/python3.6/site-packages/skimage/exposure/exposure.py:297: RuntimeWarning: invalid value encountered in true_divide\n",
      "  image = (image - imin) / float(imax - imin)\n",
      "/home/guillermo/Works/Skoltech/forest-inventory-ml/thresholding_watershed.py:41: RuntimeWarning: invalid value encountered in greater\n",
      "  canopy_mask = img_gaussian > threshold_mean(img_gaussian)\n"
     ]
    },
    {
     "name": "stdout",
     "output_type": "stream",
     "text": [
      "Block: (22, 25), 0 trees found\n",
      "Block: (22, 26), 0 trees found\n",
      "Block: (22, 27), 0 trees found\n",
      "Block: (22, 28), 0 trees found\n",
      "Block: (22, 29), 0 trees found\n",
      "Block: (22, 30), 0 trees found\n",
      "Block: (23, 0), 0 trees found\n",
      "Block: (23, 1), 0 trees found\n",
      "Block: (23, 2), 0 trees found\n"
     ]
    },
    {
     "name": "stderr",
     "output_type": "stream",
     "text": [
      "/home/guillermo/anaconda3/envs/skoltech/lib/python3.6/site-packages/skimage/exposure/exposure.py:297: RuntimeWarning: invalid value encountered in true_divide\n",
      "  image = (image - imin) / float(imax - imin)\n",
      "/home/guillermo/anaconda3/envs/skoltech/lib/python3.6/site-packages/skimage/exposure/exposure.py:297: RuntimeWarning: invalid value encountered in true_divide\n",
      "  image = (image - imin) / float(imax - imin)\n",
      "/home/guillermo/Works/Skoltech/forest-inventory-ml/thresholding_watershed.py:41: RuntimeWarning: invalid value encountered in greater\n",
      "  canopy_mask = img_gaussian > threshold_mean(img_gaussian)\n",
      "/home/guillermo/anaconda3/envs/skoltech/lib/python3.6/site-packages/skimage/exposure/exposure.py:297: RuntimeWarning: invalid value encountered in true_divide\n",
      "  image = (image - imin) / float(imax - imin)\n",
      "/home/guillermo/Works/Skoltech/forest-inventory-ml/thresholding_watershed.py:41: RuntimeWarning: invalid value encountered in greater\n",
      "  canopy_mask = img_gaussian > threshold_mean(img_gaussian)\n",
      "/home/guillermo/anaconda3/envs/skoltech/lib/python3.6/site-packages/skimage/exposure/exposure.py:297: RuntimeWarning: invalid value encountered in true_divide\n",
      "  image = (image - imin) / float(imax - imin)\n",
      "/home/guillermo/Works/Skoltech/forest-inventory-ml/thresholding_watershed.py:41: RuntimeWarning: invalid value encountered in greater\n",
      "  canopy_mask = img_gaussian > threshold_mean(img_gaussian)\n",
      "/home/guillermo/anaconda3/envs/skoltech/lib/python3.6/site-packages/skimage/exposure/exposure.py:297: RuntimeWarning: invalid value encountered in true_divide\n",
      "  image = (image - imin) / float(imax - imin)\n",
      "/home/guillermo/Works/Skoltech/forest-inventory-ml/thresholding_watershed.py:41: RuntimeWarning: invalid value encountered in greater\n",
      "  canopy_mask = img_gaussian > threshold_mean(img_gaussian)\n",
      "/home/guillermo/anaconda3/envs/skoltech/lib/python3.6/site-packages/skimage/exposure/exposure.py:297: RuntimeWarning: invalid value encountered in true_divide\n",
      "  image = (image - imin) / float(imax - imin)\n",
      "/home/guillermo/Works/Skoltech/forest-inventory-ml/thresholding_watershed.py:41: RuntimeWarning: invalid value encountered in greater\n",
      "  canopy_mask = img_gaussian > threshold_mean(img_gaussian)\n",
      "/home/guillermo/anaconda3/envs/skoltech/lib/python3.6/site-packages/skimage/exposure/exposure.py:297: RuntimeWarning: invalid value encountered in true_divide\n",
      "  image = (image - imin) / float(imax - imin)\n",
      "/home/guillermo/Works/Skoltech/forest-inventory-ml/thresholding_watershed.py:41: RuntimeWarning: invalid value encountered in greater\n",
      "  canopy_mask = img_gaussian > threshold_mean(img_gaussian)\n",
      "/home/guillermo/anaconda3/envs/skoltech/lib/python3.6/site-packages/skimage/exposure/exposure.py:297: RuntimeWarning: invalid value encountered in true_divide\n",
      "  image = (image - imin) / float(imax - imin)\n",
      "/home/guillermo/Works/Skoltech/forest-inventory-ml/thresholding_watershed.py:41: RuntimeWarning: invalid value encountered in greater\n",
      "  canopy_mask = img_gaussian > threshold_mean(img_gaussian)\n"
     ]
    },
    {
     "name": "stdout",
     "output_type": "stream",
     "text": [
      "Block: (23, 3), 0 trees found\n",
      "Block: (23, 4), 0 trees found\n",
      "Block: (23, 5), 0 trees found\n",
      "Block: (23, 6), 0 trees found\n",
      "Block: (23, 7), 8 trees found\n",
      "Block: (23, 8), 10 trees found\n",
      "Block: (23, 9), 8 trees found\n",
      "Block: (23, 10), 11 trees found\n",
      "Block: (23, 11), 31 trees found\n",
      "Block: (23, 12), 395 trees found\n",
      "Block: (23, 13), 338 trees found\n",
      "Block: (23, 14), 302 trees found\n",
      "Block: (23, 15), 265 trees found\n",
      "Block: (23, 16), 312 trees found\n",
      "Block: (23, 17), 401 trees found\n",
      "Block: (23, 18), 347 trees found\n",
      "Block: (23, 19), 117 trees found\n",
      "Block: (23, 20), 7 trees found\n",
      "Block: (23, 21), 0 trees found\n",
      "Block: (23, 22), 0 trees found\n",
      "Block: (23, 23), 0 trees found\n",
      "Block: (23, 24), 0 trees found\n"
     ]
    },
    {
     "name": "stderr",
     "output_type": "stream",
     "text": [
      "/home/guillermo/anaconda3/envs/skoltech/lib/python3.6/site-packages/skimage/exposure/exposure.py:297: RuntimeWarning: invalid value encountered in true_divide\n",
      "  image = (image - imin) / float(imax - imin)\n",
      "/home/guillermo/Works/Skoltech/forest-inventory-ml/thresholding_watershed.py:41: RuntimeWarning: invalid value encountered in greater\n",
      "  canopy_mask = img_gaussian > threshold_mean(img_gaussian)\n",
      "/home/guillermo/anaconda3/envs/skoltech/lib/python3.6/site-packages/skimage/exposure/exposure.py:297: RuntimeWarning: invalid value encountered in true_divide\n",
      "  image = (image - imin) / float(imax - imin)\n",
      "/home/guillermo/Works/Skoltech/forest-inventory-ml/thresholding_watershed.py:41: RuntimeWarning: invalid value encountered in greater\n",
      "  canopy_mask = img_gaussian > threshold_mean(img_gaussian)\n",
      "/home/guillermo/anaconda3/envs/skoltech/lib/python3.6/site-packages/skimage/exposure/exposure.py:297: RuntimeWarning: invalid value encountered in true_divide\n",
      "  image = (image - imin) / float(imax - imin)\n",
      "/home/guillermo/Works/Skoltech/forest-inventory-ml/thresholding_watershed.py:41: RuntimeWarning: invalid value encountered in greater\n",
      "  canopy_mask = img_gaussian > threshold_mean(img_gaussian)\n",
      "/home/guillermo/anaconda3/envs/skoltech/lib/python3.6/site-packages/skimage/exposure/exposure.py:297: RuntimeWarning: invalid value encountered in true_divide\n",
      "  image = (image - imin) / float(imax - imin)\n",
      "/home/guillermo/Works/Skoltech/forest-inventory-ml/thresholding_watershed.py:41: RuntimeWarning: invalid value encountered in greater\n",
      "  canopy_mask = img_gaussian > threshold_mean(img_gaussian)\n",
      "/home/guillermo/anaconda3/envs/skoltech/lib/python3.6/site-packages/skimage/exposure/exposure.py:297: RuntimeWarning: invalid value encountered in true_divide\n",
      "  image = (image - imin) / float(imax - imin)\n",
      "/home/guillermo/Works/Skoltech/forest-inventory-ml/thresholding_watershed.py:41: RuntimeWarning: invalid value encountered in greater\n",
      "  canopy_mask = img_gaussian > threshold_mean(img_gaussian)\n",
      "/home/guillermo/anaconda3/envs/skoltech/lib/python3.6/site-packages/skimage/exposure/exposure.py:297: RuntimeWarning: invalid value encountered in true_divide\n",
      "  image = (image - imin) / float(imax - imin)\n",
      "/home/guillermo/Works/Skoltech/forest-inventory-ml/thresholding_watershed.py:41: RuntimeWarning: invalid value encountered in greater\n",
      "  canopy_mask = img_gaussian > threshold_mean(img_gaussian)\n",
      "/home/guillermo/anaconda3/envs/skoltech/lib/python3.6/site-packages/skimage/exposure/exposure.py:297: RuntimeWarning: invalid value encountered in true_divide\n",
      "  image = (image - imin) / float(imax - imin)\n",
      "/home/guillermo/Works/Skoltech/forest-inventory-ml/thresholding_watershed.py:41: RuntimeWarning: invalid value encountered in greater\n",
      "  canopy_mask = img_gaussian > threshold_mean(img_gaussian)\n",
      "/home/guillermo/anaconda3/envs/skoltech/lib/python3.6/site-packages/skimage/exposure/exposure.py:297: RuntimeWarning: invalid value encountered in true_divide\n",
      "  image = (image - imin) / float(imax - imin)\n",
      "/home/guillermo/Works/Skoltech/forest-inventory-ml/thresholding_watershed.py:41: RuntimeWarning: invalid value encountered in greater\n",
      "  canopy_mask = img_gaussian > threshold_mean(img_gaussian)\n"
     ]
    },
    {
     "name": "stdout",
     "output_type": "stream",
     "text": [
      "Block: (23, 25), 0 trees found\n",
      "Block: (23, 26), 0 trees found\n",
      "Block: (23, 27), 0 trees found\n",
      "Block: (23, 28), 0 trees found\n",
      "Block: (23, 29), 0 trees found\n"
     ]
    },
    {
     "name": "stderr",
     "output_type": "stream",
     "text": [
      "/home/guillermo/anaconda3/envs/skoltech/lib/python3.6/site-packages/skimage/exposure/exposure.py:297: RuntimeWarning: invalid value encountered in true_divide\n",
      "  image = (image - imin) / float(imax - imin)\n",
      "/home/guillermo/Works/Skoltech/forest-inventory-ml/thresholding_watershed.py:41: RuntimeWarning: invalid value encountered in greater\n",
      "  canopy_mask = img_gaussian > threshold_mean(img_gaussian)\n",
      "/home/guillermo/anaconda3/envs/skoltech/lib/python3.6/site-packages/skimage/exposure/exposure.py:297: RuntimeWarning: invalid value encountered in true_divide\n",
      "  image = (image - imin) / float(imax - imin)\n",
      "/home/guillermo/anaconda3/envs/skoltech/lib/python3.6/site-packages/skimage/exposure/exposure.py:297: RuntimeWarning: invalid value encountered in true_divide\n",
      "  image = (image - imin) / float(imax - imin)\n",
      "/home/guillermo/Works/Skoltech/forest-inventory-ml/thresholding_watershed.py:41: RuntimeWarning: invalid value encountered in greater\n",
      "  canopy_mask = img_gaussian > threshold_mean(img_gaussian)\n",
      "/home/guillermo/anaconda3/envs/skoltech/lib/python3.6/site-packages/skimage/exposure/exposure.py:297: RuntimeWarning: invalid value encountered in true_divide\n",
      "  image = (image - imin) / float(imax - imin)\n",
      "/home/guillermo/Works/Skoltech/forest-inventory-ml/thresholding_watershed.py:41: RuntimeWarning: invalid value encountered in greater\n",
      "  canopy_mask = img_gaussian > threshold_mean(img_gaussian)\n",
      "/home/guillermo/anaconda3/envs/skoltech/lib/python3.6/site-packages/skimage/exposure/exposure.py:297: RuntimeWarning: invalid value encountered in true_divide\n",
      "  image = (image - imin) / float(imax - imin)\n"
     ]
    },
    {
     "name": "stdout",
     "output_type": "stream",
     "text": [
      "Block: (23, 30), 0 trees found\n",
      "Block: (24, 0), 0 trees found\n",
      "Block: (24, 1), 0 trees found\n",
      "Block: (24, 2), 0 trees found\n"
     ]
    },
    {
     "name": "stderr",
     "output_type": "stream",
     "text": [
      "/home/guillermo/Works/Skoltech/forest-inventory-ml/thresholding_watershed.py:41: RuntimeWarning: invalid value encountered in greater\n",
      "  canopy_mask = img_gaussian > threshold_mean(img_gaussian)\n",
      "/home/guillermo/anaconda3/envs/skoltech/lib/python3.6/site-packages/skimage/exposure/exposure.py:297: RuntimeWarning: invalid value encountered in true_divide\n",
      "  image = (image - imin) / float(imax - imin)\n",
      "/home/guillermo/Works/Skoltech/forest-inventory-ml/thresholding_watershed.py:41: RuntimeWarning: invalid value encountered in greater\n",
      "  canopy_mask = img_gaussian > threshold_mean(img_gaussian)\n",
      "/home/guillermo/anaconda3/envs/skoltech/lib/python3.6/site-packages/skimage/exposure/exposure.py:297: RuntimeWarning: invalid value encountered in true_divide\n",
      "  image = (image - imin) / float(imax - imin)\n",
      "/home/guillermo/Works/Skoltech/forest-inventory-ml/thresholding_watershed.py:41: RuntimeWarning: invalid value encountered in greater\n",
      "  canopy_mask = img_gaussian > threshold_mean(img_gaussian)\n",
      "/home/guillermo/anaconda3/envs/skoltech/lib/python3.6/site-packages/skimage/exposure/exposure.py:297: RuntimeWarning: invalid value encountered in true_divide\n",
      "  image = (image - imin) / float(imax - imin)\n",
      "/home/guillermo/Works/Skoltech/forest-inventory-ml/thresholding_watershed.py:41: RuntimeWarning: invalid value encountered in greater\n",
      "  canopy_mask = img_gaussian > threshold_mean(img_gaussian)\n",
      "/home/guillermo/anaconda3/envs/skoltech/lib/python3.6/site-packages/skimage/exposure/exposure.py:297: RuntimeWarning: invalid value encountered in true_divide\n",
      "  image = (image - imin) / float(imax - imin)\n",
      "/home/guillermo/Works/Skoltech/forest-inventory-ml/thresholding_watershed.py:41: RuntimeWarning: invalid value encountered in greater\n",
      "  canopy_mask = img_gaussian > threshold_mean(img_gaussian)\n"
     ]
    },
    {
     "name": "stdout",
     "output_type": "stream",
     "text": [
      "Block: (24, 3), 0 trees found\n",
      "Block: (24, 4), 0 trees found\n",
      "Block: (24, 5), 0 trees found\n",
      "Block: (24, 6), 0 trees found\n",
      "Block: (24, 7), 0 trees found\n"
     ]
    },
    {
     "name": "stderr",
     "output_type": "stream",
     "text": [
      "/home/guillermo/anaconda3/envs/skoltech/lib/python3.6/site-packages/skimage/exposure/exposure.py:297: RuntimeWarning: invalid value encountered in true_divide\n",
      "  image = (image - imin) / float(imax - imin)\n",
      "/home/guillermo/Works/Skoltech/forest-inventory-ml/thresholding_watershed.py:41: RuntimeWarning: invalid value encountered in greater\n",
      "  canopy_mask = img_gaussian > threshold_mean(img_gaussian)\n",
      "/home/guillermo/anaconda3/envs/skoltech/lib/python3.6/site-packages/skimage/exposure/exposure.py:297: RuntimeWarning: invalid value encountered in true_divide\n",
      "  image = (image - imin) / float(imax - imin)\n",
      "/home/guillermo/Works/Skoltech/forest-inventory-ml/thresholding_watershed.py:41: RuntimeWarning: invalid value encountered in greater\n",
      "  canopy_mask = img_gaussian > threshold_mean(img_gaussian)\n"
     ]
    },
    {
     "name": "stdout",
     "output_type": "stream",
     "text": [
      "Block: (24, 8), 0 trees found\n",
      "Block: (24, 9), 1 trees found\n",
      "Block: (24, 10), 1 trees found\n",
      "Block: (24, 11), 9 trees found\n",
      "Block: (24, 12), 130 trees found\n",
      "Block: (24, 13), 344 trees found\n",
      "Block: (24, 14), 320 trees found\n",
      "Block: (24, 15), 251 trees found\n",
      "Block: (24, 16), 56 trees found\n",
      "Block: (24, 17), 325 trees found\n",
      "Block: (24, 18), 311 trees found\n",
      "Block: (24, 19), 5 trees found\n",
      "Block: (24, 20), 0 trees found\n",
      "Block: (24, 21), 0 trees found\n",
      "Block: (24, 22), 0 trees found\n",
      "Block: (24, 23), 0 trees found\n"
     ]
    },
    {
     "name": "stderr",
     "output_type": "stream",
     "text": [
      "/home/guillermo/anaconda3/envs/skoltech/lib/python3.6/site-packages/skimage/exposure/exposure.py:297: RuntimeWarning: invalid value encountered in true_divide\n",
      "  image = (image - imin) / float(imax - imin)\n",
      "/home/guillermo/Works/Skoltech/forest-inventory-ml/thresholding_watershed.py:41: RuntimeWarning: invalid value encountered in greater\n",
      "  canopy_mask = img_gaussian > threshold_mean(img_gaussian)\n",
      "/home/guillermo/anaconda3/envs/skoltech/lib/python3.6/site-packages/skimage/exposure/exposure.py:297: RuntimeWarning: invalid value encountered in true_divide\n",
      "  image = (image - imin) / float(imax - imin)\n",
      "/home/guillermo/Works/Skoltech/forest-inventory-ml/thresholding_watershed.py:41: RuntimeWarning: invalid value encountered in greater\n",
      "  canopy_mask = img_gaussian > threshold_mean(img_gaussian)\n",
      "/home/guillermo/anaconda3/envs/skoltech/lib/python3.6/site-packages/skimage/exposure/exposure.py:297: RuntimeWarning: invalid value encountered in true_divide\n",
      "  image = (image - imin) / float(imax - imin)\n",
      "/home/guillermo/Works/Skoltech/forest-inventory-ml/thresholding_watershed.py:41: RuntimeWarning: invalid value encountered in greater\n",
      "  canopy_mask = img_gaussian > threshold_mean(img_gaussian)\n",
      "/home/guillermo/anaconda3/envs/skoltech/lib/python3.6/site-packages/skimage/exposure/exposure.py:297: RuntimeWarning: invalid value encountered in true_divide\n",
      "  image = (image - imin) / float(imax - imin)\n",
      "/home/guillermo/Works/Skoltech/forest-inventory-ml/thresholding_watershed.py:41: RuntimeWarning: invalid value encountered in greater\n",
      "  canopy_mask = img_gaussian > threshold_mean(img_gaussian)\n",
      "/home/guillermo/anaconda3/envs/skoltech/lib/python3.6/site-packages/skimage/exposure/exposure.py:297: RuntimeWarning: invalid value encountered in true_divide\n",
      "  image = (image - imin) / float(imax - imin)\n",
      "/home/guillermo/Works/Skoltech/forest-inventory-ml/thresholding_watershed.py:41: RuntimeWarning: invalid value encountered in greater\n",
      "  canopy_mask = img_gaussian > threshold_mean(img_gaussian)\n",
      "/home/guillermo/anaconda3/envs/skoltech/lib/python3.6/site-packages/skimage/exposure/exposure.py:297: RuntimeWarning: invalid value encountered in true_divide\n",
      "  image = (image - imin) / float(imax - imin)\n",
      "/home/guillermo/Works/Skoltech/forest-inventory-ml/thresholding_watershed.py:41: RuntimeWarning: invalid value encountered in greater\n",
      "  canopy_mask = img_gaussian > threshold_mean(img_gaussian)\n",
      "/home/guillermo/anaconda3/envs/skoltech/lib/python3.6/site-packages/skimage/exposure/exposure.py:297: RuntimeWarning: invalid value encountered in true_divide\n",
      "  image = (image - imin) / float(imax - imin)\n",
      "/home/guillermo/Works/Skoltech/forest-inventory-ml/thresholding_watershed.py:41: RuntimeWarning: invalid value encountered in greater\n",
      "  canopy_mask = img_gaussian > threshold_mean(img_gaussian)\n",
      "/home/guillermo/anaconda3/envs/skoltech/lib/python3.6/site-packages/skimage/exposure/exposure.py:297: RuntimeWarning: invalid value encountered in true_divide\n",
      "  image = (image - imin) / float(imax - imin)\n",
      "/home/guillermo/Works/Skoltech/forest-inventory-ml/thresholding_watershed.py:41: RuntimeWarning: invalid value encountered in greater\n",
      "  canopy_mask = img_gaussian > threshold_mean(img_gaussian)\n",
      "/home/guillermo/anaconda3/envs/skoltech/lib/python3.6/site-packages/skimage/exposure/exposure.py:297: RuntimeWarning: invalid value encountered in true_divide\n",
      "  image = (image - imin) / float(imax - imin)\n",
      "/home/guillermo/Works/Skoltech/forest-inventory-ml/thresholding_watershed.py:41: RuntimeWarning: invalid value encountered in greater\n",
      "  canopy_mask = img_gaussian > threshold_mean(img_gaussian)\n"
     ]
    },
    {
     "name": "stdout",
     "output_type": "stream",
     "text": [
      "Block: (24, 24), 0 trees found\n",
      "Block: (24, 25), 0 trees found\n",
      "Block: (24, 26), 0 trees found\n",
      "Block: (24, 27), 0 trees found\n",
      "Block: (24, 28), 0 trees found\n"
     ]
    },
    {
     "name": "stderr",
     "output_type": "stream",
     "text": [
      "/home/guillermo/anaconda3/envs/skoltech/lib/python3.6/site-packages/skimage/exposure/exposure.py:297: RuntimeWarning: invalid value encountered in true_divide\n",
      "  image = (image - imin) / float(imax - imin)\n",
      "/home/guillermo/Works/Skoltech/forest-inventory-ml/thresholding_watershed.py:41: RuntimeWarning: invalid value encountered in greater\n",
      "  canopy_mask = img_gaussian > threshold_mean(img_gaussian)\n",
      "/home/guillermo/anaconda3/envs/skoltech/lib/python3.6/site-packages/skimage/exposure/exposure.py:297: RuntimeWarning: invalid value encountered in true_divide\n",
      "  image = (image - imin) / float(imax - imin)\n",
      "/home/guillermo/anaconda3/envs/skoltech/lib/python3.6/site-packages/skimage/exposure/exposure.py:297: RuntimeWarning: invalid value encountered in true_divide\n",
      "  image = (image - imin) / float(imax - imin)\n",
      "/home/guillermo/Works/Skoltech/forest-inventory-ml/thresholding_watershed.py:41: RuntimeWarning: invalid value encountered in greater\n",
      "  canopy_mask = img_gaussian > threshold_mean(img_gaussian)\n",
      "/home/guillermo/anaconda3/envs/skoltech/lib/python3.6/site-packages/skimage/exposure/exposure.py:297: RuntimeWarning: invalid value encountered in true_divide\n",
      "  image = (image - imin) / float(imax - imin)\n",
      "/home/guillermo/Works/Skoltech/forest-inventory-ml/thresholding_watershed.py:41: RuntimeWarning: invalid value encountered in greater\n",
      "  canopy_mask = img_gaussian > threshold_mean(img_gaussian)\n",
      "/home/guillermo/anaconda3/envs/skoltech/lib/python3.6/site-packages/skimage/exposure/exposure.py:297: RuntimeWarning: invalid value encountered in true_divide\n",
      "  image = (image - imin) / float(imax - imin)\n",
      "/home/guillermo/Works/Skoltech/forest-inventory-ml/thresholding_watershed.py:41: RuntimeWarning: invalid value encountered in greater\n",
      "  canopy_mask = img_gaussian > threshold_mean(img_gaussian)\n"
     ]
    },
    {
     "name": "stdout",
     "output_type": "stream",
     "text": [
      "Block: (24, 29), 0 trees found\n",
      "Block: (24, 30), 0 trees found\n",
      "Block: (25, 0), 0 trees found\n",
      "Block: (25, 1), 0 trees found\n",
      "Block: (25, 2), 0 trees found\n"
     ]
    },
    {
     "name": "stderr",
     "output_type": "stream",
     "text": [
      "/home/guillermo/anaconda3/envs/skoltech/lib/python3.6/site-packages/skimage/exposure/exposure.py:297: RuntimeWarning: invalid value encountered in true_divide\n",
      "  image = (image - imin) / float(imax - imin)\n",
      "/home/guillermo/Works/Skoltech/forest-inventory-ml/thresholding_watershed.py:41: RuntimeWarning: invalid value encountered in greater\n",
      "  canopy_mask = img_gaussian > threshold_mean(img_gaussian)\n",
      "/home/guillermo/anaconda3/envs/skoltech/lib/python3.6/site-packages/skimage/exposure/exposure.py:297: RuntimeWarning: invalid value encountered in true_divide\n",
      "  image = (image - imin) / float(imax - imin)\n",
      "/home/guillermo/Works/Skoltech/forest-inventory-ml/thresholding_watershed.py:41: RuntimeWarning: invalid value encountered in greater\n",
      "  canopy_mask = img_gaussian > threshold_mean(img_gaussian)\n",
      "/home/guillermo/anaconda3/envs/skoltech/lib/python3.6/site-packages/skimage/exposure/exposure.py:297: RuntimeWarning: invalid value encountered in true_divide\n",
      "  image = (image - imin) / float(imax - imin)\n",
      "/home/guillermo/Works/Skoltech/forest-inventory-ml/thresholding_watershed.py:41: RuntimeWarning: invalid value encountered in greater\n",
      "  canopy_mask = img_gaussian > threshold_mean(img_gaussian)\n",
      "/home/guillermo/anaconda3/envs/skoltech/lib/python3.6/site-packages/skimage/exposure/exposure.py:297: RuntimeWarning: invalid value encountered in true_divide\n",
      "  image = (image - imin) / float(imax - imin)\n",
      "/home/guillermo/Works/Skoltech/forest-inventory-ml/thresholding_watershed.py:41: RuntimeWarning: invalid value encountered in greater\n",
      "  canopy_mask = img_gaussian > threshold_mean(img_gaussian)\n",
      "/home/guillermo/anaconda3/envs/skoltech/lib/python3.6/site-packages/skimage/exposure/exposure.py:297: RuntimeWarning: invalid value encountered in true_divide\n",
      "  image = (image - imin) / float(imax - imin)\n"
     ]
    },
    {
     "name": "stdout",
     "output_type": "stream",
     "text": [
      "Block: (25, 3), 0 trees found\n",
      "Block: (25, 4), 0 trees found\n",
      "Block: (25, 5), 0 trees found\n",
      "Block: (25, 6), 0 trees found\n",
      "Block: (25, 7), 0 trees found\n"
     ]
    },
    {
     "name": "stderr",
     "output_type": "stream",
     "text": [
      "/home/guillermo/Works/Skoltech/forest-inventory-ml/thresholding_watershed.py:41: RuntimeWarning: invalid value encountered in greater\n",
      "  canopy_mask = img_gaussian > threshold_mean(img_gaussian)\n",
      "/home/guillermo/anaconda3/envs/skoltech/lib/python3.6/site-packages/skimage/exposure/exposure.py:297: RuntimeWarning: invalid value encountered in true_divide\n",
      "  image = (image - imin) / float(imax - imin)\n",
      "/home/guillermo/Works/Skoltech/forest-inventory-ml/thresholding_watershed.py:41: RuntimeWarning: invalid value encountered in greater\n",
      "  canopy_mask = img_gaussian > threshold_mean(img_gaussian)\n",
      "/home/guillermo/anaconda3/envs/skoltech/lib/python3.6/site-packages/skimage/exposure/exposure.py:297: RuntimeWarning: invalid value encountered in true_divide\n",
      "  image = (image - imin) / float(imax - imin)\n",
      "/home/guillermo/Works/Skoltech/forest-inventory-ml/thresholding_watershed.py:41: RuntimeWarning: invalid value encountered in greater\n",
      "  canopy_mask = img_gaussian > threshold_mean(img_gaussian)\n",
      "/home/guillermo/anaconda3/envs/skoltech/lib/python3.6/site-packages/skimage/exposure/exposure.py:297: RuntimeWarning: invalid value encountered in true_divide\n",
      "  image = (image - imin) / float(imax - imin)\n",
      "/home/guillermo/Works/Skoltech/forest-inventory-ml/thresholding_watershed.py:41: RuntimeWarning: invalid value encountered in greater\n",
      "  canopy_mask = img_gaussian > threshold_mean(img_gaussian)\n",
      "/home/guillermo/anaconda3/envs/skoltech/lib/python3.6/site-packages/skimage/exposure/exposure.py:297: RuntimeWarning: invalid value encountered in true_divide\n",
      "  image = (image - imin) / float(imax - imin)\n",
      "/home/guillermo/Works/Skoltech/forest-inventory-ml/thresholding_watershed.py:41: RuntimeWarning: invalid value encountered in greater\n",
      "  canopy_mask = img_gaussian > threshold_mean(img_gaussian)\n"
     ]
    },
    {
     "name": "stdout",
     "output_type": "stream",
     "text": [
      "Block: (25, 8), 0 trees found\n",
      "Block: (25, 9), 0 trees found\n",
      "Block: (25, 10), 0 trees found\n",
      "Block: (25, 11), 0 trees found\n",
      "Block: (25, 12), 1 trees found\n",
      "Block: (25, 13), 7 trees found\n",
      "Block: (25, 14), 16 trees found\n",
      "Block: (25, 15), 10 trees found\n",
      "Block: (25, 16), 9 trees found\n",
      "Block: (25, 17), 325 trees found\n",
      "Block: (25, 18), 329 trees found\n",
      "Block: (25, 19), 5 trees found\n",
      "Block: (25, 20), 0 trees found\n",
      "Block: (25, 21), 0 trees found\n",
      "Block: (25, 22), 0 trees found\n",
      "Block: (25, 23), 0 trees found\n"
     ]
    },
    {
     "name": "stderr",
     "output_type": "stream",
     "text": [
      "/home/guillermo/anaconda3/envs/skoltech/lib/python3.6/site-packages/skimage/exposure/exposure.py:297: RuntimeWarning: invalid value encountered in true_divide\n",
      "  image = (image - imin) / float(imax - imin)\n",
      "/home/guillermo/Works/Skoltech/forest-inventory-ml/thresholding_watershed.py:41: RuntimeWarning: invalid value encountered in greater\n",
      "  canopy_mask = img_gaussian > threshold_mean(img_gaussian)\n",
      "/home/guillermo/anaconda3/envs/skoltech/lib/python3.6/site-packages/skimage/exposure/exposure.py:297: RuntimeWarning: invalid value encountered in true_divide\n",
      "  image = (image - imin) / float(imax - imin)\n",
      "/home/guillermo/Works/Skoltech/forest-inventory-ml/thresholding_watershed.py:41: RuntimeWarning: invalid value encountered in greater\n",
      "  canopy_mask = img_gaussian > threshold_mean(img_gaussian)\n",
      "/home/guillermo/anaconda3/envs/skoltech/lib/python3.6/site-packages/skimage/exposure/exposure.py:297: RuntimeWarning: invalid value encountered in true_divide\n",
      "  image = (image - imin) / float(imax - imin)\n",
      "/home/guillermo/Works/Skoltech/forest-inventory-ml/thresholding_watershed.py:41: RuntimeWarning: invalid value encountered in greater\n",
      "  canopy_mask = img_gaussian > threshold_mean(img_gaussian)\n",
      "/home/guillermo/anaconda3/envs/skoltech/lib/python3.6/site-packages/skimage/exposure/exposure.py:297: RuntimeWarning: invalid value encountered in true_divide\n",
      "  image = (image - imin) / float(imax - imin)\n",
      "/home/guillermo/Works/Skoltech/forest-inventory-ml/thresholding_watershed.py:41: RuntimeWarning: invalid value encountered in greater\n",
      "  canopy_mask = img_gaussian > threshold_mean(img_gaussian)\n",
      "/home/guillermo/anaconda3/envs/skoltech/lib/python3.6/site-packages/skimage/exposure/exposure.py:297: RuntimeWarning: invalid value encountered in true_divide\n",
      "  image = (image - imin) / float(imax - imin)\n",
      "/home/guillermo/Works/Skoltech/forest-inventory-ml/thresholding_watershed.py:41: RuntimeWarning: invalid value encountered in greater\n",
      "  canopy_mask = img_gaussian > threshold_mean(img_gaussian)\n",
      "/home/guillermo/anaconda3/envs/skoltech/lib/python3.6/site-packages/skimage/exposure/exposure.py:297: RuntimeWarning: invalid value encountered in true_divide\n",
      "  image = (image - imin) / float(imax - imin)\n",
      "/home/guillermo/Works/Skoltech/forest-inventory-ml/thresholding_watershed.py:41: RuntimeWarning: invalid value encountered in greater\n",
      "  canopy_mask = img_gaussian > threshold_mean(img_gaussian)\n",
      "/home/guillermo/anaconda3/envs/skoltech/lib/python3.6/site-packages/skimage/exposure/exposure.py:297: RuntimeWarning: invalid value encountered in true_divide\n",
      "  image = (image - imin) / float(imax - imin)\n",
      "/home/guillermo/Works/Skoltech/forest-inventory-ml/thresholding_watershed.py:41: RuntimeWarning: invalid value encountered in greater\n",
      "  canopy_mask = img_gaussian > threshold_mean(img_gaussian)\n",
      "/home/guillermo/anaconda3/envs/skoltech/lib/python3.6/site-packages/skimage/exposure/exposure.py:297: RuntimeWarning: invalid value encountered in true_divide\n",
      "  image = (image - imin) / float(imax - imin)\n",
      "/home/guillermo/Works/Skoltech/forest-inventory-ml/thresholding_watershed.py:41: RuntimeWarning: invalid value encountered in greater\n",
      "  canopy_mask = img_gaussian > threshold_mean(img_gaussian)\n",
      "/home/guillermo/anaconda3/envs/skoltech/lib/python3.6/site-packages/skimage/exposure/exposure.py:297: RuntimeWarning: invalid value encountered in true_divide\n",
      "  image = (image - imin) / float(imax - imin)\n",
      "/home/guillermo/Works/Skoltech/forest-inventory-ml/thresholding_watershed.py:41: RuntimeWarning: invalid value encountered in greater\n",
      "  canopy_mask = img_gaussian > threshold_mean(img_gaussian)\n"
     ]
    },
    {
     "name": "stdout",
     "output_type": "stream",
     "text": [
      "Block: (25, 24), 0 trees found\n",
      "Block: (25, 25), 0 trees found\n",
      "Block: (25, 26), 0 trees found\n",
      "Block: (25, 27), 0 trees found\n",
      "Block: (25, 28), 0 trees found\n"
     ]
    },
    {
     "name": "stderr",
     "output_type": "stream",
     "text": [
      "/home/guillermo/anaconda3/envs/skoltech/lib/python3.6/site-packages/skimage/exposure/exposure.py:297: RuntimeWarning: invalid value encountered in true_divide\n",
      "  image = (image - imin) / float(imax - imin)\n",
      "/home/guillermo/Works/Skoltech/forest-inventory-ml/thresholding_watershed.py:41: RuntimeWarning: invalid value encountered in greater\n",
      "  canopy_mask = img_gaussian > threshold_mean(img_gaussian)\n",
      "/home/guillermo/anaconda3/envs/skoltech/lib/python3.6/site-packages/skimage/exposure/exposure.py:297: RuntimeWarning: invalid value encountered in true_divide\n",
      "  image = (image - imin) / float(imax - imin)\n",
      "/home/guillermo/anaconda3/envs/skoltech/lib/python3.6/site-packages/skimage/exposure/exposure.py:297: RuntimeWarning: invalid value encountered in true_divide\n",
      "  image = (image - imin) / float(imax - imin)\n",
      "/home/guillermo/Works/Skoltech/forest-inventory-ml/thresholding_watershed.py:41: RuntimeWarning: invalid value encountered in greater\n",
      "  canopy_mask = img_gaussian > threshold_mean(img_gaussian)\n",
      "/home/guillermo/anaconda3/envs/skoltech/lib/python3.6/site-packages/skimage/exposure/exposure.py:297: RuntimeWarning: invalid value encountered in true_divide\n",
      "  image = (image - imin) / float(imax - imin)\n",
      "/home/guillermo/Works/Skoltech/forest-inventory-ml/thresholding_watershed.py:41: RuntimeWarning: invalid value encountered in greater\n",
      "  canopy_mask = img_gaussian > threshold_mean(img_gaussian)\n",
      "/home/guillermo/anaconda3/envs/skoltech/lib/python3.6/site-packages/skimage/exposure/exposure.py:297: RuntimeWarning: invalid value encountered in true_divide\n",
      "  image = (image - imin) / float(imax - imin)\n",
      "/home/guillermo/Works/Skoltech/forest-inventory-ml/thresholding_watershed.py:41: RuntimeWarning: invalid value encountered in greater\n",
      "  canopy_mask = img_gaussian > threshold_mean(img_gaussian)\n"
     ]
    },
    {
     "name": "stdout",
     "output_type": "stream",
     "text": [
      "Block: (25, 29), 0 trees found\n",
      "Block: (25, 30), 0 trees found\n",
      "Block: (26, 0), 0 trees found\n",
      "Block: (26, 1), 0 trees found\n",
      "Block: (26, 2), 0 trees found\n"
     ]
    },
    {
     "name": "stderr",
     "output_type": "stream",
     "text": [
      "/home/guillermo/anaconda3/envs/skoltech/lib/python3.6/site-packages/skimage/exposure/exposure.py:297: RuntimeWarning: invalid value encountered in true_divide\n",
      "  image = (image - imin) / float(imax - imin)\n",
      "/home/guillermo/Works/Skoltech/forest-inventory-ml/thresholding_watershed.py:41: RuntimeWarning: invalid value encountered in greater\n",
      "  canopy_mask = img_gaussian > threshold_mean(img_gaussian)\n",
      "/home/guillermo/anaconda3/envs/skoltech/lib/python3.6/site-packages/skimage/exposure/exposure.py:297: RuntimeWarning: invalid value encountered in true_divide\n",
      "  image = (image - imin) / float(imax - imin)\n",
      "/home/guillermo/Works/Skoltech/forest-inventory-ml/thresholding_watershed.py:41: RuntimeWarning: invalid value encountered in greater\n",
      "  canopy_mask = img_gaussian > threshold_mean(img_gaussian)\n",
      "/home/guillermo/anaconda3/envs/skoltech/lib/python3.6/site-packages/skimage/exposure/exposure.py:297: RuntimeWarning: invalid value encountered in true_divide\n",
      "  image = (image - imin) / float(imax - imin)\n",
      "/home/guillermo/Works/Skoltech/forest-inventory-ml/thresholding_watershed.py:41: RuntimeWarning: invalid value encountered in greater\n",
      "  canopy_mask = img_gaussian > threshold_mean(img_gaussian)\n",
      "/home/guillermo/anaconda3/envs/skoltech/lib/python3.6/site-packages/skimage/exposure/exposure.py:297: RuntimeWarning: invalid value encountered in true_divide\n",
      "  image = (image - imin) / float(imax - imin)\n",
      "/home/guillermo/Works/Skoltech/forest-inventory-ml/thresholding_watershed.py:41: RuntimeWarning: invalid value encountered in greater\n",
      "  canopy_mask = img_gaussian > threshold_mean(img_gaussian)\n"
     ]
    },
    {
     "name": "stdout",
     "output_type": "stream",
     "text": [
      "Block: (26, 3), 0 trees found\n",
      "Block: (26, 4), 0 trees found\n",
      "Block: (26, 5), 0 trees found\n",
      "Block: (26, 6), 0 trees found\n"
     ]
    },
    {
     "name": "stderr",
     "output_type": "stream",
     "text": [
      "/home/guillermo/anaconda3/envs/skoltech/lib/python3.6/site-packages/skimage/exposure/exposure.py:297: RuntimeWarning: invalid value encountered in true_divide\n",
      "  image = (image - imin) / float(imax - imin)\n",
      "/home/guillermo/Works/Skoltech/forest-inventory-ml/thresholding_watershed.py:41: RuntimeWarning: invalid value encountered in greater\n",
      "  canopy_mask = img_gaussian > threshold_mean(img_gaussian)\n",
      "/home/guillermo/anaconda3/envs/skoltech/lib/python3.6/site-packages/skimage/exposure/exposure.py:297: RuntimeWarning: invalid value encountered in true_divide\n",
      "  image = (image - imin) / float(imax - imin)\n",
      "/home/guillermo/Works/Skoltech/forest-inventory-ml/thresholding_watershed.py:41: RuntimeWarning: invalid value encountered in greater\n",
      "  canopy_mask = img_gaussian > threshold_mean(img_gaussian)\n",
      "/home/guillermo/anaconda3/envs/skoltech/lib/python3.6/site-packages/skimage/exposure/exposure.py:297: RuntimeWarning: invalid value encountered in true_divide\n",
      "  image = (image - imin) / float(imax - imin)\n",
      "/home/guillermo/Works/Skoltech/forest-inventory-ml/thresholding_watershed.py:41: RuntimeWarning: invalid value encountered in greater\n",
      "  canopy_mask = img_gaussian > threshold_mean(img_gaussian)\n",
      "/home/guillermo/anaconda3/envs/skoltech/lib/python3.6/site-packages/skimage/exposure/exposure.py:297: RuntimeWarning: invalid value encountered in true_divide\n",
      "  image = (image - imin) / float(imax - imin)\n",
      "/home/guillermo/Works/Skoltech/forest-inventory-ml/thresholding_watershed.py:41: RuntimeWarning: invalid value encountered in greater\n",
      "  canopy_mask = img_gaussian > threshold_mean(img_gaussian)\n"
     ]
    },
    {
     "name": "stdout",
     "output_type": "stream",
     "text": [
      "Block: (26, 7), 0 trees found\n",
      "Block: (26, 8), 0 trees found\n",
      "Block: (26, 9), 0 trees found\n",
      "Block: (26, 10), 0 trees found\n"
     ]
    },
    {
     "name": "stderr",
     "output_type": "stream",
     "text": [
      "/home/guillermo/anaconda3/envs/skoltech/lib/python3.6/site-packages/skimage/exposure/exposure.py:297: RuntimeWarning: invalid value encountered in true_divide\n",
      "  image = (image - imin) / float(imax - imin)\n",
      "/home/guillermo/Works/Skoltech/forest-inventory-ml/thresholding_watershed.py:41: RuntimeWarning: invalid value encountered in greater\n",
      "  canopy_mask = img_gaussian > threshold_mean(img_gaussian)\n",
      "/home/guillermo/anaconda3/envs/skoltech/lib/python3.6/site-packages/skimage/exposure/exposure.py:297: RuntimeWarning: invalid value encountered in true_divide\n",
      "  image = (image - imin) / float(imax - imin)\n",
      "/home/guillermo/Works/Skoltech/forest-inventory-ml/thresholding_watershed.py:41: RuntimeWarning: invalid value encountered in greater\n",
      "  canopy_mask = img_gaussian > threshold_mean(img_gaussian)\n",
      "/home/guillermo/anaconda3/envs/skoltech/lib/python3.6/site-packages/skimage/exposure/exposure.py:297: RuntimeWarning: invalid value encountered in true_divide\n",
      "  image = (image - imin) / float(imax - imin)\n",
      "/home/guillermo/Works/Skoltech/forest-inventory-ml/thresholding_watershed.py:41: RuntimeWarning: invalid value encountered in greater\n",
      "  canopy_mask = img_gaussian > threshold_mean(img_gaussian)\n",
      "/home/guillermo/anaconda3/envs/skoltech/lib/python3.6/site-packages/skimage/exposure/exposure.py:297: RuntimeWarning: invalid value encountered in true_divide\n",
      "  image = (image - imin) / float(imax - imin)\n",
      "/home/guillermo/Works/Skoltech/forest-inventory-ml/thresholding_watershed.py:41: RuntimeWarning: invalid value encountered in greater\n",
      "  canopy_mask = img_gaussian > threshold_mean(img_gaussian)\n"
     ]
    },
    {
     "name": "stdout",
     "output_type": "stream",
     "text": [
      "Block: (26, 11), 0 trees found\n",
      "Block: (26, 12), 0 trees found\n",
      "Block: (26, 13), 0 trees found\n",
      "Block: (26, 14), 0 trees found\n"
     ]
    },
    {
     "name": "stderr",
     "output_type": "stream",
     "text": [
      "/home/guillermo/anaconda3/envs/skoltech/lib/python3.6/site-packages/skimage/exposure/exposure.py:297: RuntimeWarning: invalid value encountered in true_divide\n",
      "  image = (image - imin) / float(imax - imin)\n",
      "/home/guillermo/Works/Skoltech/forest-inventory-ml/thresholding_watershed.py:41: RuntimeWarning: invalid value encountered in greater\n",
      "  canopy_mask = img_gaussian > threshold_mean(img_gaussian)\n"
     ]
    },
    {
     "name": "stdout",
     "output_type": "stream",
     "text": [
      "Block: (26, 15), 0 trees found\n",
      "Block: (26, 16), 5 trees found\n",
      "Block: (26, 17), 3 trees found\n",
      "Block: (26, 18), 6 trees found\n",
      "Block: (26, 19), 3 trees found\n",
      "Block: (26, 20), 0 trees found\n",
      "Block: (26, 21), 0 trees found\n",
      "Block: (26, 22), 0 trees found\n"
     ]
    },
    {
     "name": "stderr",
     "output_type": "stream",
     "text": [
      "/home/guillermo/anaconda3/envs/skoltech/lib/python3.6/site-packages/skimage/exposure/exposure.py:297: RuntimeWarning: invalid value encountered in true_divide\n",
      "  image = (image - imin) / float(imax - imin)\n",
      "/home/guillermo/Works/Skoltech/forest-inventory-ml/thresholding_watershed.py:41: RuntimeWarning: invalid value encountered in greater\n",
      "  canopy_mask = img_gaussian > threshold_mean(img_gaussian)\n",
      "/home/guillermo/anaconda3/envs/skoltech/lib/python3.6/site-packages/skimage/exposure/exposure.py:297: RuntimeWarning: invalid value encountered in true_divide\n",
      "  image = (image - imin) / float(imax - imin)\n",
      "/home/guillermo/Works/Skoltech/forest-inventory-ml/thresholding_watershed.py:41: RuntimeWarning: invalid value encountered in greater\n",
      "  canopy_mask = img_gaussian > threshold_mean(img_gaussian)\n",
      "/home/guillermo/anaconda3/envs/skoltech/lib/python3.6/site-packages/skimage/exposure/exposure.py:297: RuntimeWarning: invalid value encountered in true_divide\n",
      "  image = (image - imin) / float(imax - imin)\n",
      "/home/guillermo/Works/Skoltech/forest-inventory-ml/thresholding_watershed.py:41: RuntimeWarning: invalid value encountered in greater\n",
      "  canopy_mask = img_gaussian > threshold_mean(img_gaussian)\n",
      "/home/guillermo/anaconda3/envs/skoltech/lib/python3.6/site-packages/skimage/exposure/exposure.py:297: RuntimeWarning: invalid value encountered in true_divide\n",
      "  image = (image - imin) / float(imax - imin)\n",
      "/home/guillermo/Works/Skoltech/forest-inventory-ml/thresholding_watershed.py:41: RuntimeWarning: invalid value encountered in greater\n",
      "  canopy_mask = img_gaussian > threshold_mean(img_gaussian)\n"
     ]
    },
    {
     "name": "stdout",
     "output_type": "stream",
     "text": [
      "Block: (26, 23), 0 trees found\n",
      "Block: (26, 24), 0 trees found\n",
      "Block: (26, 25), 0 trees found\n",
      "Block: (26, 26), 0 trees found\n"
     ]
    },
    {
     "name": "stderr",
     "output_type": "stream",
     "text": [
      "/home/guillermo/anaconda3/envs/skoltech/lib/python3.6/site-packages/skimage/exposure/exposure.py:297: RuntimeWarning: invalid value encountered in true_divide\n",
      "  image = (image - imin) / float(imax - imin)\n",
      "/home/guillermo/Works/Skoltech/forest-inventory-ml/thresholding_watershed.py:41: RuntimeWarning: invalid value encountered in greater\n",
      "  canopy_mask = img_gaussian > threshold_mean(img_gaussian)\n",
      "/home/guillermo/anaconda3/envs/skoltech/lib/python3.6/site-packages/skimage/exposure/exposure.py:297: RuntimeWarning: invalid value encountered in true_divide\n",
      "  image = (image - imin) / float(imax - imin)\n",
      "/home/guillermo/Works/Skoltech/forest-inventory-ml/thresholding_watershed.py:41: RuntimeWarning: invalid value encountered in greater\n",
      "  canopy_mask = img_gaussian > threshold_mean(img_gaussian)\n",
      "/home/guillermo/anaconda3/envs/skoltech/lib/python3.6/site-packages/skimage/exposure/exposure.py:297: RuntimeWarning: invalid value encountered in true_divide\n",
      "  image = (image - imin) / float(imax - imin)\n",
      "/home/guillermo/Works/Skoltech/forest-inventory-ml/thresholding_watershed.py:41: RuntimeWarning: invalid value encountered in greater\n",
      "  canopy_mask = img_gaussian > threshold_mean(img_gaussian)\n",
      "/home/guillermo/anaconda3/envs/skoltech/lib/python3.6/site-packages/skimage/exposure/exposure.py:297: RuntimeWarning: invalid value encountered in true_divide\n",
      "  image = (image - imin) / float(imax - imin)\n",
      "/home/guillermo/Works/Skoltech/forest-inventory-ml/thresholding_watershed.py:41: RuntimeWarning: invalid value encountered in greater\n",
      "  canopy_mask = img_gaussian > threshold_mean(img_gaussian)\n"
     ]
    },
    {
     "name": "stdout",
     "output_type": "stream",
     "text": [
      "Block: (26, 27), 0 trees found\n",
      "Block: (26, 28), 0 trees found\n",
      "Block: (26, 29), 0 trees found\n",
      "Block: (26, 30), 0 trees found\n"
     ]
    },
    {
     "name": "stderr",
     "output_type": "stream",
     "text": [
      "/home/guillermo/anaconda3/envs/skoltech/lib/python3.6/site-packages/skimage/exposure/exposure.py:297: RuntimeWarning: invalid value encountered in true_divide\n",
      "  image = (image - imin) / float(imax - imin)\n",
      "/home/guillermo/Works/Skoltech/forest-inventory-ml/thresholding_watershed.py:41: RuntimeWarning: invalid value encountered in greater\n",
      "  canopy_mask = img_gaussian > threshold_mean(img_gaussian)\n",
      "/home/guillermo/anaconda3/envs/skoltech/lib/python3.6/site-packages/skimage/exposure/exposure.py:297: RuntimeWarning: invalid value encountered in true_divide\n",
      "  image = (image - imin) / float(imax - imin)\n",
      "/home/guillermo/Works/Skoltech/forest-inventory-ml/thresholding_watershed.py:41: RuntimeWarning: invalid value encountered in greater\n",
      "  canopy_mask = img_gaussian > threshold_mean(img_gaussian)\n",
      "/home/guillermo/anaconda3/envs/skoltech/lib/python3.6/site-packages/skimage/exposure/exposure.py:297: RuntimeWarning: invalid value encountered in true_divide\n",
      "  image = (image - imin) / float(imax - imin)\n",
      "/home/guillermo/anaconda3/envs/skoltech/lib/python3.6/site-packages/skimage/exposure/exposure.py:297: RuntimeWarning: invalid value encountered in true_divide\n",
      "  image = (image - imin) / float(imax - imin)\n",
      "/home/guillermo/Works/Skoltech/forest-inventory-ml/thresholding_watershed.py:41: RuntimeWarning: invalid value encountered in greater\n",
      "  canopy_mask = img_gaussian > threshold_mean(img_gaussian)\n"
     ]
    },
    {
     "name": "stdout",
     "output_type": "stream",
     "text": [
      "Block: (27, 0), 0 trees found\n",
      "Block: (27, 1), 0 trees found\n",
      "Block: (27, 2), 0 trees found\n",
      "Block: (27, 3), 0 trees found\n",
      "Block: (27, 4), 0 trees found\n"
     ]
    },
    {
     "name": "stderr",
     "output_type": "stream",
     "text": [
      "/home/guillermo/anaconda3/envs/skoltech/lib/python3.6/site-packages/skimage/exposure/exposure.py:297: RuntimeWarning: invalid value encountered in true_divide\n",
      "  image = (image - imin) / float(imax - imin)\n",
      "/home/guillermo/Works/Skoltech/forest-inventory-ml/thresholding_watershed.py:41: RuntimeWarning: invalid value encountered in greater\n",
      "  canopy_mask = img_gaussian > threshold_mean(img_gaussian)\n",
      "/home/guillermo/anaconda3/envs/skoltech/lib/python3.6/site-packages/skimage/exposure/exposure.py:297: RuntimeWarning: invalid value encountered in true_divide\n",
      "  image = (image - imin) / float(imax - imin)\n",
      "/home/guillermo/Works/Skoltech/forest-inventory-ml/thresholding_watershed.py:41: RuntimeWarning: invalid value encountered in greater\n",
      "  canopy_mask = img_gaussian > threshold_mean(img_gaussian)\n",
      "/home/guillermo/anaconda3/envs/skoltech/lib/python3.6/site-packages/skimage/exposure/exposure.py:297: RuntimeWarning: invalid value encountered in true_divide\n",
      "  image = (image - imin) / float(imax - imin)\n",
      "/home/guillermo/Works/Skoltech/forest-inventory-ml/thresholding_watershed.py:41: RuntimeWarning: invalid value encountered in greater\n",
      "  canopy_mask = img_gaussian > threshold_mean(img_gaussian)\n",
      "/home/guillermo/anaconda3/envs/skoltech/lib/python3.6/site-packages/skimage/exposure/exposure.py:297: RuntimeWarning: invalid value encountered in true_divide\n",
      "  image = (image - imin) / float(imax - imin)\n",
      "/home/guillermo/Works/Skoltech/forest-inventory-ml/thresholding_watershed.py:41: RuntimeWarning: invalid value encountered in greater\n",
      "  canopy_mask = img_gaussian > threshold_mean(img_gaussian)\n",
      "/home/guillermo/anaconda3/envs/skoltech/lib/python3.6/site-packages/skimage/exposure/exposure.py:297: RuntimeWarning: invalid value encountered in true_divide\n",
      "  image = (image - imin) / float(imax - imin)\n",
      "/home/guillermo/Works/Skoltech/forest-inventory-ml/thresholding_watershed.py:41: RuntimeWarning: invalid value encountered in greater\n",
      "  canopy_mask = img_gaussian > threshold_mean(img_gaussian)\n"
     ]
    },
    {
     "name": "stdout",
     "output_type": "stream",
     "text": [
      "Block: (27, 5), 0 trees found\n",
      "Block: (27, 6), 0 trees found\n",
      "Block: (27, 7), 0 trees found\n",
      "Block: (27, 8), 0 trees found\n",
      "Block: (27, 9), 0 trees found\n"
     ]
    },
    {
     "name": "stderr",
     "output_type": "stream",
     "text": [
      "/home/guillermo/anaconda3/envs/skoltech/lib/python3.6/site-packages/skimage/exposure/exposure.py:297: RuntimeWarning: invalid value encountered in true_divide\n",
      "  image = (image - imin) / float(imax - imin)\n",
      "/home/guillermo/Works/Skoltech/forest-inventory-ml/thresholding_watershed.py:41: RuntimeWarning: invalid value encountered in greater\n",
      "  canopy_mask = img_gaussian > threshold_mean(img_gaussian)\n",
      "/home/guillermo/anaconda3/envs/skoltech/lib/python3.6/site-packages/skimage/exposure/exposure.py:297: RuntimeWarning: invalid value encountered in true_divide\n",
      "  image = (image - imin) / float(imax - imin)\n",
      "/home/guillermo/Works/Skoltech/forest-inventory-ml/thresholding_watershed.py:41: RuntimeWarning: invalid value encountered in greater\n",
      "  canopy_mask = img_gaussian > threshold_mean(img_gaussian)\n",
      "/home/guillermo/anaconda3/envs/skoltech/lib/python3.6/site-packages/skimage/exposure/exposure.py:297: RuntimeWarning: invalid value encountered in true_divide\n",
      "  image = (image - imin) / float(imax - imin)\n",
      "/home/guillermo/Works/Skoltech/forest-inventory-ml/thresholding_watershed.py:41: RuntimeWarning: invalid value encountered in greater\n",
      "  canopy_mask = img_gaussian > threshold_mean(img_gaussian)\n",
      "/home/guillermo/anaconda3/envs/skoltech/lib/python3.6/site-packages/skimage/exposure/exposure.py:297: RuntimeWarning: invalid value encountered in true_divide\n",
      "  image = (image - imin) / float(imax - imin)\n",
      "/home/guillermo/Works/Skoltech/forest-inventory-ml/thresholding_watershed.py:41: RuntimeWarning: invalid value encountered in greater\n",
      "  canopy_mask = img_gaussian > threshold_mean(img_gaussian)\n",
      "/home/guillermo/anaconda3/envs/skoltech/lib/python3.6/site-packages/skimage/exposure/exposure.py:297: RuntimeWarning: invalid value encountered in true_divide\n",
      "  image = (image - imin) / float(imax - imin)\n",
      "/home/guillermo/Works/Skoltech/forest-inventory-ml/thresholding_watershed.py:41: RuntimeWarning: invalid value encountered in greater\n",
      "  canopy_mask = img_gaussian > threshold_mean(img_gaussian)\n",
      "/home/guillermo/anaconda3/envs/skoltech/lib/python3.6/site-packages/skimage/exposure/exposure.py:297: RuntimeWarning: invalid value encountered in true_divide\n",
      "  image = (image - imin) / float(imax - imin)\n",
      "/home/guillermo/Works/Skoltech/forest-inventory-ml/thresholding_watershed.py:41: RuntimeWarning: invalid value encountered in greater\n",
      "  canopy_mask = img_gaussian > threshold_mean(img_gaussian)\n",
      "/home/guillermo/anaconda3/envs/skoltech/lib/python3.6/site-packages/skimage/exposure/exposure.py:297: RuntimeWarning: invalid value encountered in true_divide\n",
      "  image = (image - imin) / float(imax - imin)\n",
      "/home/guillermo/Works/Skoltech/forest-inventory-ml/thresholding_watershed.py:41: RuntimeWarning: invalid value encountered in greater\n",
      "  canopy_mask = img_gaussian > threshold_mean(img_gaussian)\n",
      "/home/guillermo/anaconda3/envs/skoltech/lib/python3.6/site-packages/skimage/exposure/exposure.py:297: RuntimeWarning: invalid value encountered in true_divide\n",
      "  image = (image - imin) / float(imax - imin)\n",
      "/home/guillermo/Works/Skoltech/forest-inventory-ml/thresholding_watershed.py:41: RuntimeWarning: invalid value encountered in greater\n",
      "  canopy_mask = img_gaussian > threshold_mean(img_gaussian)\n",
      "/home/guillermo/anaconda3/envs/skoltech/lib/python3.6/site-packages/skimage/exposure/exposure.py:297: RuntimeWarning: invalid value encountered in true_divide\n",
      "  image = (image - imin) / float(imax - imin)\n"
     ]
    },
    {
     "name": "stdout",
     "output_type": "stream",
     "text": [
      "Block: (27, 10), 0 trees found\n",
      "Block: (27, 11), 0 trees found\n",
      "Block: (27, 12), 0 trees found\n",
      "Block: (27, 13), 0 trees found\n"
     ]
    },
    {
     "name": "stderr",
     "output_type": "stream",
     "text": [
      "/home/guillermo/Works/Skoltech/forest-inventory-ml/thresholding_watershed.py:41: RuntimeWarning: invalid value encountered in greater\n",
      "  canopy_mask = img_gaussian > threshold_mean(img_gaussian)\n",
      "/home/guillermo/anaconda3/envs/skoltech/lib/python3.6/site-packages/skimage/exposure/exposure.py:297: RuntimeWarning: invalid value encountered in true_divide\n",
      "  image = (image - imin) / float(imax - imin)\n",
      "/home/guillermo/Works/Skoltech/forest-inventory-ml/thresholding_watershed.py:41: RuntimeWarning: invalid value encountered in greater\n",
      "  canopy_mask = img_gaussian > threshold_mean(img_gaussian)\n",
      "/home/guillermo/anaconda3/envs/skoltech/lib/python3.6/site-packages/skimage/exposure/exposure.py:297: RuntimeWarning: invalid value encountered in true_divide\n",
      "  image = (image - imin) / float(imax - imin)\n",
      "/home/guillermo/Works/Skoltech/forest-inventory-ml/thresholding_watershed.py:41: RuntimeWarning: invalid value encountered in greater\n",
      "  canopy_mask = img_gaussian > threshold_mean(img_gaussian)\n",
      "/home/guillermo/anaconda3/envs/skoltech/lib/python3.6/site-packages/skimage/exposure/exposure.py:297: RuntimeWarning: invalid value encountered in true_divide\n",
      "  image = (image - imin) / float(imax - imin)\n",
      "/home/guillermo/Works/Skoltech/forest-inventory-ml/thresholding_watershed.py:41: RuntimeWarning: invalid value encountered in greater\n",
      "  canopy_mask = img_gaussian > threshold_mean(img_gaussian)\n",
      "/home/guillermo/anaconda3/envs/skoltech/lib/python3.6/site-packages/skimage/exposure/exposure.py:297: RuntimeWarning: invalid value encountered in true_divide\n",
      "  image = (image - imin) / float(imax - imin)\n",
      "/home/guillermo/Works/Skoltech/forest-inventory-ml/thresholding_watershed.py:41: RuntimeWarning: invalid value encountered in greater\n",
      "  canopy_mask = img_gaussian > threshold_mean(img_gaussian)\n"
     ]
    },
    {
     "name": "stdout",
     "output_type": "stream",
     "text": [
      "Block: (27, 14), 0 trees found\n",
      "Block: (27, 15), 0 trees found\n",
      "Block: (27, 16), 0 trees found\n",
      "Block: (27, 17), 0 trees found\n",
      "Block: (27, 18), 0 trees found\n"
     ]
    },
    {
     "name": "stderr",
     "output_type": "stream",
     "text": [
      "/home/guillermo/anaconda3/envs/skoltech/lib/python3.6/site-packages/skimage/exposure/exposure.py:297: RuntimeWarning: invalid value encountered in true_divide\n",
      "  image = (image - imin) / float(imax - imin)\n",
      "/home/guillermo/Works/Skoltech/forest-inventory-ml/thresholding_watershed.py:41: RuntimeWarning: invalid value encountered in greater\n",
      "  canopy_mask = img_gaussian > threshold_mean(img_gaussian)\n",
      "/home/guillermo/anaconda3/envs/skoltech/lib/python3.6/site-packages/skimage/exposure/exposure.py:297: RuntimeWarning: invalid value encountered in true_divide\n",
      "  image = (image - imin) / float(imax - imin)\n",
      "/home/guillermo/Works/Skoltech/forest-inventory-ml/thresholding_watershed.py:41: RuntimeWarning: invalid value encountered in greater\n",
      "  canopy_mask = img_gaussian > threshold_mean(img_gaussian)\n",
      "/home/guillermo/anaconda3/envs/skoltech/lib/python3.6/site-packages/skimage/exposure/exposure.py:297: RuntimeWarning: invalid value encountered in true_divide\n",
      "  image = (image - imin) / float(imax - imin)\n",
      "/home/guillermo/Works/Skoltech/forest-inventory-ml/thresholding_watershed.py:41: RuntimeWarning: invalid value encountered in greater\n",
      "  canopy_mask = img_gaussian > threshold_mean(img_gaussian)\n",
      "/home/guillermo/anaconda3/envs/skoltech/lib/python3.6/site-packages/skimage/exposure/exposure.py:297: RuntimeWarning: invalid value encountered in true_divide\n",
      "  image = (image - imin) / float(imax - imin)\n",
      "/home/guillermo/Works/Skoltech/forest-inventory-ml/thresholding_watershed.py:41: RuntimeWarning: invalid value encountered in greater\n",
      "  canopy_mask = img_gaussian > threshold_mean(img_gaussian)\n",
      "/home/guillermo/anaconda3/envs/skoltech/lib/python3.6/site-packages/skimage/exposure/exposure.py:297: RuntimeWarning: invalid value encountered in true_divide\n",
      "  image = (image - imin) / float(imax - imin)\n"
     ]
    },
    {
     "name": "stdout",
     "output_type": "stream",
     "text": [
      "Block: (27, 19), 0 trees found\n",
      "Block: (27, 20), 0 trees found\n",
      "Block: (27, 21), 0 trees found\n",
      "Block: (27, 22), 0 trees found\n",
      "Block: (27, 23), 0 trees found\n"
     ]
    },
    {
     "name": "stderr",
     "output_type": "stream",
     "text": [
      "/home/guillermo/Works/Skoltech/forest-inventory-ml/thresholding_watershed.py:41: RuntimeWarning: invalid value encountered in greater\n",
      "  canopy_mask = img_gaussian > threshold_mean(img_gaussian)\n",
      "/home/guillermo/anaconda3/envs/skoltech/lib/python3.6/site-packages/skimage/exposure/exposure.py:297: RuntimeWarning: invalid value encountered in true_divide\n",
      "  image = (image - imin) / float(imax - imin)\n",
      "/home/guillermo/Works/Skoltech/forest-inventory-ml/thresholding_watershed.py:41: RuntimeWarning: invalid value encountered in greater\n",
      "  canopy_mask = img_gaussian > threshold_mean(img_gaussian)\n",
      "/home/guillermo/anaconda3/envs/skoltech/lib/python3.6/site-packages/skimage/exposure/exposure.py:297: RuntimeWarning: invalid value encountered in true_divide\n",
      "  image = (image - imin) / float(imax - imin)\n",
      "/home/guillermo/Works/Skoltech/forest-inventory-ml/thresholding_watershed.py:41: RuntimeWarning: invalid value encountered in greater\n",
      "  canopy_mask = img_gaussian > threshold_mean(img_gaussian)\n",
      "/home/guillermo/anaconda3/envs/skoltech/lib/python3.6/site-packages/skimage/exposure/exposure.py:297: RuntimeWarning: invalid value encountered in true_divide\n",
      "  image = (image - imin) / float(imax - imin)\n",
      "/home/guillermo/Works/Skoltech/forest-inventory-ml/thresholding_watershed.py:41: RuntimeWarning: invalid value encountered in greater\n",
      "  canopy_mask = img_gaussian > threshold_mean(img_gaussian)\n",
      "/home/guillermo/anaconda3/envs/skoltech/lib/python3.6/site-packages/skimage/exposure/exposure.py:297: RuntimeWarning: invalid value encountered in true_divide\n",
      "  image = (image - imin) / float(imax - imin)\n",
      "/home/guillermo/Works/Skoltech/forest-inventory-ml/thresholding_watershed.py:41: RuntimeWarning: invalid value encountered in greater\n",
      "  canopy_mask = img_gaussian > threshold_mean(img_gaussian)\n"
     ]
    },
    {
     "name": "stdout",
     "output_type": "stream",
     "text": [
      "Block: (27, 24), 0 trees found\n",
      "Block: (27, 25), 0 trees found\n",
      "Block: (27, 26), 0 trees found\n",
      "Block: (27, 27), 0 trees found\n",
      "Block: (27, 28), 0 trees found\n"
     ]
    },
    {
     "name": "stderr",
     "output_type": "stream",
     "text": [
      "/home/guillermo/anaconda3/envs/skoltech/lib/python3.6/site-packages/skimage/exposure/exposure.py:297: RuntimeWarning: invalid value encountered in true_divide\n",
      "  image = (image - imin) / float(imax - imin)\n",
      "/home/guillermo/Works/Skoltech/forest-inventory-ml/thresholding_watershed.py:41: RuntimeWarning: invalid value encountered in greater\n",
      "  canopy_mask = img_gaussian > threshold_mean(img_gaussian)\n",
      "/home/guillermo/anaconda3/envs/skoltech/lib/python3.6/site-packages/skimage/exposure/exposure.py:297: RuntimeWarning: invalid value encountered in true_divide\n",
      "  image = (image - imin) / float(imax - imin)\n",
      "/home/guillermo/Works/Skoltech/forest-inventory-ml/thresholding_watershed.py:41: RuntimeWarning: invalid value encountered in greater\n",
      "  canopy_mask = img_gaussian > threshold_mean(img_gaussian)\n",
      "/home/guillermo/anaconda3/envs/skoltech/lib/python3.6/site-packages/skimage/exposure/exposure.py:297: RuntimeWarning: invalid value encountered in true_divide\n",
      "  image = (image - imin) / float(imax - imin)\n",
      "/home/guillermo/anaconda3/envs/skoltech/lib/python3.6/site-packages/skimage/exposure/exposure.py:297: RuntimeWarning: invalid value encountered in true_divide\n",
      "  image = (image - imin) / float(imax - imin)\n",
      "/home/guillermo/Works/Skoltech/forest-inventory-ml/thresholding_watershed.py:41: RuntimeWarning: invalid value encountered in greater\n",
      "  canopy_mask = img_gaussian > threshold_mean(img_gaussian)\n",
      "/home/guillermo/anaconda3/envs/skoltech/lib/python3.6/site-packages/skimage/exposure/exposure.py:297: RuntimeWarning: invalid value encountered in true_divide\n",
      "  image = (image - imin) / float(imax - imin)\n"
     ]
    },
    {
     "name": "stdout",
     "output_type": "stream",
     "text": [
      "Block: (27, 29), 0 trees found\n",
      "Block: (27, 30), 0 trees found\n",
      "Block: (28, 0), 0 trees found\n",
      "Block: (28, 1), 0 trees found\n",
      "Block: (28, 2), 0 trees found\n"
     ]
    },
    {
     "name": "stderr",
     "output_type": "stream",
     "text": [
      "/home/guillermo/Works/Skoltech/forest-inventory-ml/thresholding_watershed.py:41: RuntimeWarning: invalid value encountered in greater\n",
      "  canopy_mask = img_gaussian > threshold_mean(img_gaussian)\n",
      "/home/guillermo/anaconda3/envs/skoltech/lib/python3.6/site-packages/skimage/exposure/exposure.py:297: RuntimeWarning: invalid value encountered in true_divide\n",
      "  image = (image - imin) / float(imax - imin)\n",
      "/home/guillermo/Works/Skoltech/forest-inventory-ml/thresholding_watershed.py:41: RuntimeWarning: invalid value encountered in greater\n",
      "  canopy_mask = img_gaussian > threshold_mean(img_gaussian)\n",
      "/home/guillermo/anaconda3/envs/skoltech/lib/python3.6/site-packages/skimage/exposure/exposure.py:297: RuntimeWarning: invalid value encountered in true_divide\n",
      "  image = (image - imin) / float(imax - imin)\n",
      "/home/guillermo/Works/Skoltech/forest-inventory-ml/thresholding_watershed.py:41: RuntimeWarning: invalid value encountered in greater\n",
      "  canopy_mask = img_gaussian > threshold_mean(img_gaussian)\n",
      "/home/guillermo/anaconda3/envs/skoltech/lib/python3.6/site-packages/skimage/exposure/exposure.py:297: RuntimeWarning: invalid value encountered in true_divide\n",
      "  image = (image - imin) / float(imax - imin)\n",
      "/home/guillermo/Works/Skoltech/forest-inventory-ml/thresholding_watershed.py:41: RuntimeWarning: invalid value encountered in greater\n",
      "  canopy_mask = img_gaussian > threshold_mean(img_gaussian)\n",
      "/home/guillermo/anaconda3/envs/skoltech/lib/python3.6/site-packages/skimage/exposure/exposure.py:297: RuntimeWarning: invalid value encountered in true_divide\n",
      "  image = (image - imin) / float(imax - imin)\n"
     ]
    },
    {
     "name": "stdout",
     "output_type": "stream",
     "text": [
      "Block: (28, 3), 0 trees found\n",
      "Block: (28, 4), 0 trees found\n",
      "Block: (28, 5), 0 trees found\n",
      "Block: (28, 6), 0 trees found\n",
      "Block: (28, 7), 0 trees found\n"
     ]
    },
    {
     "name": "stderr",
     "output_type": "stream",
     "text": [
      "/home/guillermo/Works/Skoltech/forest-inventory-ml/thresholding_watershed.py:41: RuntimeWarning: invalid value encountered in greater\n",
      "  canopy_mask = img_gaussian > threshold_mean(img_gaussian)\n",
      "/home/guillermo/anaconda3/envs/skoltech/lib/python3.6/site-packages/skimage/exposure/exposure.py:297: RuntimeWarning: invalid value encountered in true_divide\n",
      "  image = (image - imin) / float(imax - imin)\n",
      "/home/guillermo/Works/Skoltech/forest-inventory-ml/thresholding_watershed.py:41: RuntimeWarning: invalid value encountered in greater\n",
      "  canopy_mask = img_gaussian > threshold_mean(img_gaussian)\n",
      "/home/guillermo/anaconda3/envs/skoltech/lib/python3.6/site-packages/skimage/exposure/exposure.py:297: RuntimeWarning: invalid value encountered in true_divide\n",
      "  image = (image - imin) / float(imax - imin)\n",
      "/home/guillermo/Works/Skoltech/forest-inventory-ml/thresholding_watershed.py:41: RuntimeWarning: invalid value encountered in greater\n",
      "  canopy_mask = img_gaussian > threshold_mean(img_gaussian)\n",
      "/home/guillermo/anaconda3/envs/skoltech/lib/python3.6/site-packages/skimage/exposure/exposure.py:297: RuntimeWarning: invalid value encountered in true_divide\n",
      "  image = (image - imin) / float(imax - imin)\n",
      "/home/guillermo/Works/Skoltech/forest-inventory-ml/thresholding_watershed.py:41: RuntimeWarning: invalid value encountered in greater\n",
      "  canopy_mask = img_gaussian > threshold_mean(img_gaussian)\n",
      "/home/guillermo/anaconda3/envs/skoltech/lib/python3.6/site-packages/skimage/exposure/exposure.py:297: RuntimeWarning: invalid value encountered in true_divide\n",
      "  image = (image - imin) / float(imax - imin)\n",
      "/home/guillermo/Works/Skoltech/forest-inventory-ml/thresholding_watershed.py:41: RuntimeWarning: invalid value encountered in greater\n",
      "  canopy_mask = img_gaussian > threshold_mean(img_gaussian)\n"
     ]
    },
    {
     "name": "stdout",
     "output_type": "stream",
     "text": [
      "Block: (28, 8), 0 trees found\n",
      "Block: (28, 9), 0 trees found\n",
      "Block: (28, 10), 0 trees found\n",
      "Block: (28, 11), 0 trees found\n",
      "Block: (28, 12), 0 trees found\n"
     ]
    },
    {
     "name": "stderr",
     "output_type": "stream",
     "text": [
      "/home/guillermo/anaconda3/envs/skoltech/lib/python3.6/site-packages/skimage/exposure/exposure.py:297: RuntimeWarning: invalid value encountered in true_divide\n",
      "  image = (image - imin) / float(imax - imin)\n",
      "/home/guillermo/Works/Skoltech/forest-inventory-ml/thresholding_watershed.py:41: RuntimeWarning: invalid value encountered in greater\n",
      "  canopy_mask = img_gaussian > threshold_mean(img_gaussian)\n",
      "/home/guillermo/anaconda3/envs/skoltech/lib/python3.6/site-packages/skimage/exposure/exposure.py:297: RuntimeWarning: invalid value encountered in true_divide\n",
      "  image = (image - imin) / float(imax - imin)\n",
      "/home/guillermo/Works/Skoltech/forest-inventory-ml/thresholding_watershed.py:41: RuntimeWarning: invalid value encountered in greater\n",
      "  canopy_mask = img_gaussian > threshold_mean(img_gaussian)\n",
      "/home/guillermo/anaconda3/envs/skoltech/lib/python3.6/site-packages/skimage/exposure/exposure.py:297: RuntimeWarning: invalid value encountered in true_divide\n",
      "  image = (image - imin) / float(imax - imin)\n",
      "/home/guillermo/Works/Skoltech/forest-inventory-ml/thresholding_watershed.py:41: RuntimeWarning: invalid value encountered in greater\n",
      "  canopy_mask = img_gaussian > threshold_mean(img_gaussian)\n",
      "/home/guillermo/anaconda3/envs/skoltech/lib/python3.6/site-packages/skimage/exposure/exposure.py:297: RuntimeWarning: invalid value encountered in true_divide\n",
      "  image = (image - imin) / float(imax - imin)\n",
      "/home/guillermo/Works/Skoltech/forest-inventory-ml/thresholding_watershed.py:41: RuntimeWarning: invalid value encountered in greater\n",
      "  canopy_mask = img_gaussian > threshold_mean(img_gaussian)\n",
      "/home/guillermo/anaconda3/envs/skoltech/lib/python3.6/site-packages/skimage/exposure/exposure.py:297: RuntimeWarning: invalid value encountered in true_divide\n",
      "  image = (image - imin) / float(imax - imin)\n"
     ]
    },
    {
     "name": "stdout",
     "output_type": "stream",
     "text": [
      "Block: (28, 13), 0 trees found\n",
      "Block: (28, 14), 0 trees found\n",
      "Block: (28, 15), 0 trees found\n",
      "Block: (28, 16), 0 trees found\n",
      "Block: (28, 17), 0 trees found\n"
     ]
    },
    {
     "name": "stderr",
     "output_type": "stream",
     "text": [
      "/home/guillermo/Works/Skoltech/forest-inventory-ml/thresholding_watershed.py:41: RuntimeWarning: invalid value encountered in greater\n",
      "  canopy_mask = img_gaussian > threshold_mean(img_gaussian)\n",
      "/home/guillermo/anaconda3/envs/skoltech/lib/python3.6/site-packages/skimage/exposure/exposure.py:297: RuntimeWarning: invalid value encountered in true_divide\n",
      "  image = (image - imin) / float(imax - imin)\n",
      "/home/guillermo/Works/Skoltech/forest-inventory-ml/thresholding_watershed.py:41: RuntimeWarning: invalid value encountered in greater\n",
      "  canopy_mask = img_gaussian > threshold_mean(img_gaussian)\n",
      "/home/guillermo/anaconda3/envs/skoltech/lib/python3.6/site-packages/skimage/exposure/exposure.py:297: RuntimeWarning: invalid value encountered in true_divide\n",
      "  image = (image - imin) / float(imax - imin)\n",
      "/home/guillermo/Works/Skoltech/forest-inventory-ml/thresholding_watershed.py:41: RuntimeWarning: invalid value encountered in greater\n",
      "  canopy_mask = img_gaussian > threshold_mean(img_gaussian)\n",
      "/home/guillermo/anaconda3/envs/skoltech/lib/python3.6/site-packages/skimage/exposure/exposure.py:297: RuntimeWarning: invalid value encountered in true_divide\n",
      "  image = (image - imin) / float(imax - imin)\n",
      "/home/guillermo/Works/Skoltech/forest-inventory-ml/thresholding_watershed.py:41: RuntimeWarning: invalid value encountered in greater\n",
      "  canopy_mask = img_gaussian > threshold_mean(img_gaussian)\n",
      "/home/guillermo/anaconda3/envs/skoltech/lib/python3.6/site-packages/skimage/exposure/exposure.py:297: RuntimeWarning: invalid value encountered in true_divide\n",
      "  image = (image - imin) / float(imax - imin)\n",
      "/home/guillermo/Works/Skoltech/forest-inventory-ml/thresholding_watershed.py:41: RuntimeWarning: invalid value encountered in greater\n",
      "  canopy_mask = img_gaussian > threshold_mean(img_gaussian)\n"
     ]
    },
    {
     "name": "stdout",
     "output_type": "stream",
     "text": [
      "Block: (28, 18), 0 trees found\n",
      "Block: (28, 19), 0 trees found\n",
      "Block: (28, 20), 0 trees found\n",
      "Block: (28, 21), 0 trees found\n",
      "Block: (28, 22), 0 trees found\n"
     ]
    },
    {
     "name": "stderr",
     "output_type": "stream",
     "text": [
      "/home/guillermo/anaconda3/envs/skoltech/lib/python3.6/site-packages/skimage/exposure/exposure.py:297: RuntimeWarning: invalid value encountered in true_divide\n",
      "  image = (image - imin) / float(imax - imin)\n",
      "/home/guillermo/Works/Skoltech/forest-inventory-ml/thresholding_watershed.py:41: RuntimeWarning: invalid value encountered in greater\n",
      "  canopy_mask = img_gaussian > threshold_mean(img_gaussian)\n",
      "/home/guillermo/anaconda3/envs/skoltech/lib/python3.6/site-packages/skimage/exposure/exposure.py:297: RuntimeWarning: invalid value encountered in true_divide\n",
      "  image = (image - imin) / float(imax - imin)\n",
      "/home/guillermo/Works/Skoltech/forest-inventory-ml/thresholding_watershed.py:41: RuntimeWarning: invalid value encountered in greater\n",
      "  canopy_mask = img_gaussian > threshold_mean(img_gaussian)\n",
      "/home/guillermo/anaconda3/envs/skoltech/lib/python3.6/site-packages/skimage/exposure/exposure.py:297: RuntimeWarning: invalid value encountered in true_divide\n",
      "  image = (image - imin) / float(imax - imin)\n",
      "/home/guillermo/Works/Skoltech/forest-inventory-ml/thresholding_watershed.py:41: RuntimeWarning: invalid value encountered in greater\n",
      "  canopy_mask = img_gaussian > threshold_mean(img_gaussian)\n",
      "/home/guillermo/anaconda3/envs/skoltech/lib/python3.6/site-packages/skimage/exposure/exposure.py:297: RuntimeWarning: invalid value encountered in true_divide\n",
      "  image = (image - imin) / float(imax - imin)\n",
      "/home/guillermo/Works/Skoltech/forest-inventory-ml/thresholding_watershed.py:41: RuntimeWarning: invalid value encountered in greater\n",
      "  canopy_mask = img_gaussian > threshold_mean(img_gaussian)\n",
      "/home/guillermo/anaconda3/envs/skoltech/lib/python3.6/site-packages/skimage/exposure/exposure.py:297: RuntimeWarning: invalid value encountered in true_divide\n",
      "  image = (image - imin) / float(imax - imin)\n",
      "/home/guillermo/Works/Skoltech/forest-inventory-ml/thresholding_watershed.py:41: RuntimeWarning: invalid value encountered in greater\n",
      "  canopy_mask = img_gaussian > threshold_mean(img_gaussian)\n",
      "/home/guillermo/anaconda3/envs/skoltech/lib/python3.6/site-packages/skimage/exposure/exposure.py:297: RuntimeWarning: invalid value encountered in true_divide\n",
      "  image = (image - imin) / float(imax - imin)\n",
      "/home/guillermo/Works/Skoltech/forest-inventory-ml/thresholding_watershed.py:41: RuntimeWarning: invalid value encountered in greater\n",
      "  canopy_mask = img_gaussian > threshold_mean(img_gaussian)\n",
      "/home/guillermo/anaconda3/envs/skoltech/lib/python3.6/site-packages/skimage/exposure/exposure.py:297: RuntimeWarning: invalid value encountered in true_divide\n",
      "  image = (image - imin) / float(imax - imin)\n",
      "/home/guillermo/Works/Skoltech/forest-inventory-ml/thresholding_watershed.py:41: RuntimeWarning: invalid value encountered in greater\n",
      "  canopy_mask = img_gaussian > threshold_mean(img_gaussian)\n",
      "/home/guillermo/anaconda3/envs/skoltech/lib/python3.6/site-packages/skimage/exposure/exposure.py:297: RuntimeWarning: invalid value encountered in true_divide\n",
      "  image = (image - imin) / float(imax - imin)\n",
      "/home/guillermo/Works/Skoltech/forest-inventory-ml/thresholding_watershed.py:41: RuntimeWarning: invalid value encountered in greater\n",
      "  canopy_mask = img_gaussian > threshold_mean(img_gaussian)\n",
      "/home/guillermo/anaconda3/envs/skoltech/lib/python3.6/site-packages/skimage/exposure/exposure.py:297: RuntimeWarning: invalid value encountered in true_divide\n",
      "  image = (image - imin) / float(imax - imin)\n"
     ]
    },
    {
     "name": "stdout",
     "output_type": "stream",
     "text": [
      "Block: (28, 23), 0 trees found\n",
      "Block: (28, 24), 0 trees found\n",
      "Block: (28, 25), 0 trees found\n",
      "Block: (28, 26), 0 trees found\n"
     ]
    },
    {
     "name": "stderr",
     "output_type": "stream",
     "text": [
      "/home/guillermo/Works/Skoltech/forest-inventory-ml/thresholding_watershed.py:41: RuntimeWarning: invalid value encountered in greater\n",
      "  canopy_mask = img_gaussian > threshold_mean(img_gaussian)\n",
      "/home/guillermo/anaconda3/envs/skoltech/lib/python3.6/site-packages/skimage/exposure/exposure.py:297: RuntimeWarning: invalid value encountered in true_divide\n",
      "  image = (image - imin) / float(imax - imin)\n",
      "/home/guillermo/Works/Skoltech/forest-inventory-ml/thresholding_watershed.py:41: RuntimeWarning: invalid value encountered in greater\n",
      "  canopy_mask = img_gaussian > threshold_mean(img_gaussian)\n",
      "/home/guillermo/anaconda3/envs/skoltech/lib/python3.6/site-packages/skimage/exposure/exposure.py:297: RuntimeWarning: invalid value encountered in true_divide\n",
      "  image = (image - imin) / float(imax - imin)\n",
      "/home/guillermo/Works/Skoltech/forest-inventory-ml/thresholding_watershed.py:41: RuntimeWarning: invalid value encountered in greater\n",
      "  canopy_mask = img_gaussian > threshold_mean(img_gaussian)\n",
      "/home/guillermo/anaconda3/envs/skoltech/lib/python3.6/site-packages/skimage/exposure/exposure.py:297: RuntimeWarning: invalid value encountered in true_divide\n",
      "  image = (image - imin) / float(imax - imin)\n",
      "/home/guillermo/anaconda3/envs/skoltech/lib/python3.6/site-packages/skimage/exposure/exposure.py:297: RuntimeWarning: invalid value encountered in true_divide\n",
      "  image = (image - imin) / float(imax - imin)\n"
     ]
    },
    {
     "name": "stdout",
     "output_type": "stream",
     "text": [
      "Block: (28, 27), 0 trees found\n",
      "Block: (28, 28), 0 trees found\n",
      "Block: (28, 29), 0 trees found\n",
      "Block: (28, 30), 0 trees found\n"
     ]
    },
    {
     "name": "stderr",
     "output_type": "stream",
     "text": [
      "/home/guillermo/Works/Skoltech/forest-inventory-ml/thresholding_watershed.py:41: RuntimeWarning: invalid value encountered in greater\n",
      "  canopy_mask = img_gaussian > threshold_mean(img_gaussian)\n",
      "/home/guillermo/anaconda3/envs/skoltech/lib/python3.6/site-packages/skimage/exposure/exposure.py:297: RuntimeWarning: invalid value encountered in true_divide\n",
      "  image = (image - imin) / float(imax - imin)\n",
      "/home/guillermo/Works/Skoltech/forest-inventory-ml/thresholding_watershed.py:41: RuntimeWarning: invalid value encountered in greater\n",
      "  canopy_mask = img_gaussian > threshold_mean(img_gaussian)\n",
      "/home/guillermo/anaconda3/envs/skoltech/lib/python3.6/site-packages/skimage/exposure/exposure.py:297: RuntimeWarning: invalid value encountered in true_divide\n",
      "  image = (image - imin) / float(imax - imin)\n",
      "/home/guillermo/Works/Skoltech/forest-inventory-ml/thresholding_watershed.py:41: RuntimeWarning: invalid value encountered in greater\n",
      "  canopy_mask = img_gaussian > threshold_mean(img_gaussian)\n",
      "/home/guillermo/anaconda3/envs/skoltech/lib/python3.6/site-packages/skimage/exposure/exposure.py:297: RuntimeWarning: invalid value encountered in true_divide\n",
      "  image = (image - imin) / float(imax - imin)\n",
      "/home/guillermo/Works/Skoltech/forest-inventory-ml/thresholding_watershed.py:41: RuntimeWarning: invalid value encountered in greater\n",
      "  canopy_mask = img_gaussian > threshold_mean(img_gaussian)\n",
      "/home/guillermo/anaconda3/envs/skoltech/lib/python3.6/site-packages/skimage/exposure/exposure.py:297: RuntimeWarning: invalid value encountered in true_divide\n",
      "  image = (image - imin) / float(imax - imin)\n",
      "/home/guillermo/Works/Skoltech/forest-inventory-ml/thresholding_watershed.py:41: RuntimeWarning: invalid value encountered in greater\n",
      "  canopy_mask = img_gaussian > threshold_mean(img_gaussian)\n"
     ]
    },
    {
     "name": "stdout",
     "output_type": "stream",
     "text": [
      "Block: (29, 0), 0 trees found\n",
      "Block: (29, 1), 0 trees found\n",
      "Block: (29, 2), 0 trees found\n",
      "Block: (29, 3), 0 trees found\n",
      "Block: (29, 4), 0 trees found\n"
     ]
    },
    {
     "name": "stderr",
     "output_type": "stream",
     "text": [
      "/home/guillermo/anaconda3/envs/skoltech/lib/python3.6/site-packages/skimage/exposure/exposure.py:297: RuntimeWarning: invalid value encountered in true_divide\n",
      "  image = (image - imin) / float(imax - imin)\n",
      "/home/guillermo/Works/Skoltech/forest-inventory-ml/thresholding_watershed.py:41: RuntimeWarning: invalid value encountered in greater\n",
      "  canopy_mask = img_gaussian > threshold_mean(img_gaussian)\n",
      "/home/guillermo/anaconda3/envs/skoltech/lib/python3.6/site-packages/skimage/exposure/exposure.py:297: RuntimeWarning: invalid value encountered in true_divide\n",
      "  image = (image - imin) / float(imax - imin)\n",
      "/home/guillermo/Works/Skoltech/forest-inventory-ml/thresholding_watershed.py:41: RuntimeWarning: invalid value encountered in greater\n",
      "  canopy_mask = img_gaussian > threshold_mean(img_gaussian)\n",
      "/home/guillermo/anaconda3/envs/skoltech/lib/python3.6/site-packages/skimage/exposure/exposure.py:297: RuntimeWarning: invalid value encountered in true_divide\n",
      "  image = (image - imin) / float(imax - imin)\n",
      "/home/guillermo/Works/Skoltech/forest-inventory-ml/thresholding_watershed.py:41: RuntimeWarning: invalid value encountered in greater\n",
      "  canopy_mask = img_gaussian > threshold_mean(img_gaussian)\n",
      "/home/guillermo/anaconda3/envs/skoltech/lib/python3.6/site-packages/skimage/exposure/exposure.py:297: RuntimeWarning: invalid value encountered in true_divide\n",
      "  image = (image - imin) / float(imax - imin)\n",
      "/home/guillermo/Works/Skoltech/forest-inventory-ml/thresholding_watershed.py:41: RuntimeWarning: invalid value encountered in greater\n",
      "  canopy_mask = img_gaussian > threshold_mean(img_gaussian)\n",
      "/home/guillermo/anaconda3/envs/skoltech/lib/python3.6/site-packages/skimage/exposure/exposure.py:297: RuntimeWarning: invalid value encountered in true_divide\n",
      "  image = (image - imin) / float(imax - imin)\n"
     ]
    },
    {
     "name": "stdout",
     "output_type": "stream",
     "text": [
      "Block: (29, 5), 0 trees found\n",
      "Block: (29, 6), 0 trees found\n",
      "Block: (29, 7), 0 trees found\n",
      "Block: (29, 8), 0 trees found\n",
      "Block: (29, 9), 0 trees found\n"
     ]
    },
    {
     "name": "stderr",
     "output_type": "stream",
     "text": [
      "/home/guillermo/Works/Skoltech/forest-inventory-ml/thresholding_watershed.py:41: RuntimeWarning: invalid value encountered in greater\n",
      "  canopy_mask = img_gaussian > threshold_mean(img_gaussian)\n",
      "/home/guillermo/anaconda3/envs/skoltech/lib/python3.6/site-packages/skimage/exposure/exposure.py:297: RuntimeWarning: invalid value encountered in true_divide\n",
      "  image = (image - imin) / float(imax - imin)\n",
      "/home/guillermo/Works/Skoltech/forest-inventory-ml/thresholding_watershed.py:41: RuntimeWarning: invalid value encountered in greater\n",
      "  canopy_mask = img_gaussian > threshold_mean(img_gaussian)\n",
      "/home/guillermo/anaconda3/envs/skoltech/lib/python3.6/site-packages/skimage/exposure/exposure.py:297: RuntimeWarning: invalid value encountered in true_divide\n",
      "  image = (image - imin) / float(imax - imin)\n",
      "/home/guillermo/Works/Skoltech/forest-inventory-ml/thresholding_watershed.py:41: RuntimeWarning: invalid value encountered in greater\n",
      "  canopy_mask = img_gaussian > threshold_mean(img_gaussian)\n",
      "/home/guillermo/anaconda3/envs/skoltech/lib/python3.6/site-packages/skimage/exposure/exposure.py:297: RuntimeWarning: invalid value encountered in true_divide\n",
      "  image = (image - imin) / float(imax - imin)\n",
      "/home/guillermo/Works/Skoltech/forest-inventory-ml/thresholding_watershed.py:41: RuntimeWarning: invalid value encountered in greater\n",
      "  canopy_mask = img_gaussian > threshold_mean(img_gaussian)\n",
      "/home/guillermo/anaconda3/envs/skoltech/lib/python3.6/site-packages/skimage/exposure/exposure.py:297: RuntimeWarning: invalid value encountered in true_divide\n",
      "  image = (image - imin) / float(imax - imin)\n",
      "/home/guillermo/Works/Skoltech/forest-inventory-ml/thresholding_watershed.py:41: RuntimeWarning: invalid value encountered in greater\n",
      "  canopy_mask = img_gaussian > threshold_mean(img_gaussian)\n"
     ]
    },
    {
     "name": "stdout",
     "output_type": "stream",
     "text": [
      "Block: (29, 10), 0 trees found\n",
      "Block: (29, 11), 0 trees found\n",
      "Block: (29, 12), 0 trees found\n",
      "Block: (29, 13), 0 trees found\n",
      "Block: (29, 14), 0 trees found\n"
     ]
    },
    {
     "name": "stderr",
     "output_type": "stream",
     "text": [
      "/home/guillermo/anaconda3/envs/skoltech/lib/python3.6/site-packages/skimage/exposure/exposure.py:297: RuntimeWarning: invalid value encountered in true_divide\n",
      "  image = (image - imin) / float(imax - imin)\n",
      "/home/guillermo/Works/Skoltech/forest-inventory-ml/thresholding_watershed.py:41: RuntimeWarning: invalid value encountered in greater\n",
      "  canopy_mask = img_gaussian > threshold_mean(img_gaussian)\n",
      "/home/guillermo/anaconda3/envs/skoltech/lib/python3.6/site-packages/skimage/exposure/exposure.py:297: RuntimeWarning: invalid value encountered in true_divide\n",
      "  image = (image - imin) / float(imax - imin)\n",
      "/home/guillermo/Works/Skoltech/forest-inventory-ml/thresholding_watershed.py:41: RuntimeWarning: invalid value encountered in greater\n",
      "  canopy_mask = img_gaussian > threshold_mean(img_gaussian)\n",
      "/home/guillermo/anaconda3/envs/skoltech/lib/python3.6/site-packages/skimage/exposure/exposure.py:297: RuntimeWarning: invalid value encountered in true_divide\n",
      "  image = (image - imin) / float(imax - imin)\n",
      "/home/guillermo/Works/Skoltech/forest-inventory-ml/thresholding_watershed.py:41: RuntimeWarning: invalid value encountered in greater\n",
      "  canopy_mask = img_gaussian > threshold_mean(img_gaussian)\n",
      "/home/guillermo/anaconda3/envs/skoltech/lib/python3.6/site-packages/skimage/exposure/exposure.py:297: RuntimeWarning: invalid value encountered in true_divide\n",
      "  image = (image - imin) / float(imax - imin)\n",
      "/home/guillermo/Works/Skoltech/forest-inventory-ml/thresholding_watershed.py:41: RuntimeWarning: invalid value encountered in greater\n",
      "  canopy_mask = img_gaussian > threshold_mean(img_gaussian)\n"
     ]
    },
    {
     "name": "stdout",
     "output_type": "stream",
     "text": [
      "Block: (29, 15), 0 trees found\n",
      "Block: (29, 16), 0 trees found\n",
      "Block: (29, 17), 0 trees found\n",
      "Block: (29, 18), 0 trees found\n"
     ]
    },
    {
     "name": "stderr",
     "output_type": "stream",
     "text": [
      "/home/guillermo/anaconda3/envs/skoltech/lib/python3.6/site-packages/skimage/exposure/exposure.py:297: RuntimeWarning: invalid value encountered in true_divide\n",
      "  image = (image - imin) / float(imax - imin)\n",
      "/home/guillermo/Works/Skoltech/forest-inventory-ml/thresholding_watershed.py:41: RuntimeWarning: invalid value encountered in greater\n",
      "  canopy_mask = img_gaussian > threshold_mean(img_gaussian)\n",
      "/home/guillermo/anaconda3/envs/skoltech/lib/python3.6/site-packages/skimage/exposure/exposure.py:297: RuntimeWarning: invalid value encountered in true_divide\n",
      "  image = (image - imin) / float(imax - imin)\n",
      "/home/guillermo/Works/Skoltech/forest-inventory-ml/thresholding_watershed.py:41: RuntimeWarning: invalid value encountered in greater\n",
      "  canopy_mask = img_gaussian > threshold_mean(img_gaussian)\n",
      "/home/guillermo/anaconda3/envs/skoltech/lib/python3.6/site-packages/skimage/exposure/exposure.py:297: RuntimeWarning: invalid value encountered in true_divide\n",
      "  image = (image - imin) / float(imax - imin)\n",
      "/home/guillermo/Works/Skoltech/forest-inventory-ml/thresholding_watershed.py:41: RuntimeWarning: invalid value encountered in greater\n",
      "  canopy_mask = img_gaussian > threshold_mean(img_gaussian)\n",
      "/home/guillermo/anaconda3/envs/skoltech/lib/python3.6/site-packages/skimage/exposure/exposure.py:297: RuntimeWarning: invalid value encountered in true_divide\n",
      "  image = (image - imin) / float(imax - imin)\n",
      "/home/guillermo/Works/Skoltech/forest-inventory-ml/thresholding_watershed.py:41: RuntimeWarning: invalid value encountered in greater\n",
      "  canopy_mask = img_gaussian > threshold_mean(img_gaussian)\n"
     ]
    },
    {
     "name": "stdout",
     "output_type": "stream",
     "text": [
      "Block: (29, 19), 0 trees found\n",
      "Block: (29, 20), 0 trees found\n",
      "Block: (29, 21), 0 trees found\n",
      "Block: (29, 22), 0 trees found\n"
     ]
    },
    {
     "name": "stderr",
     "output_type": "stream",
     "text": [
      "/home/guillermo/anaconda3/envs/skoltech/lib/python3.6/site-packages/skimage/exposure/exposure.py:297: RuntimeWarning: invalid value encountered in true_divide\n",
      "  image = (image - imin) / float(imax - imin)\n",
      "/home/guillermo/Works/Skoltech/forest-inventory-ml/thresholding_watershed.py:41: RuntimeWarning: invalid value encountered in greater\n",
      "  canopy_mask = img_gaussian > threshold_mean(img_gaussian)\n",
      "/home/guillermo/anaconda3/envs/skoltech/lib/python3.6/site-packages/skimage/exposure/exposure.py:297: RuntimeWarning: invalid value encountered in true_divide\n",
      "  image = (image - imin) / float(imax - imin)\n",
      "/home/guillermo/Works/Skoltech/forest-inventory-ml/thresholding_watershed.py:41: RuntimeWarning: invalid value encountered in greater\n",
      "  canopy_mask = img_gaussian > threshold_mean(img_gaussian)\n",
      "/home/guillermo/anaconda3/envs/skoltech/lib/python3.6/site-packages/skimage/exposure/exposure.py:297: RuntimeWarning: invalid value encountered in true_divide\n",
      "  image = (image - imin) / float(imax - imin)\n",
      "/home/guillermo/Works/Skoltech/forest-inventory-ml/thresholding_watershed.py:41: RuntimeWarning: invalid value encountered in greater\n",
      "  canopy_mask = img_gaussian > threshold_mean(img_gaussian)\n",
      "/home/guillermo/anaconda3/envs/skoltech/lib/python3.6/site-packages/skimage/exposure/exposure.py:297: RuntimeWarning: invalid value encountered in true_divide\n",
      "  image = (image - imin) / float(imax - imin)\n",
      "/home/guillermo/Works/Skoltech/forest-inventory-ml/thresholding_watershed.py:41: RuntimeWarning: invalid value encountered in greater\n",
      "  canopy_mask = img_gaussian > threshold_mean(img_gaussian)\n"
     ]
    },
    {
     "name": "stdout",
     "output_type": "stream",
     "text": [
      "Block: (29, 23), 0 trees found\n",
      "Block: (29, 24), 0 trees found\n",
      "Block: (29, 25), 0 trees found\n",
      "Block: (29, 26), 0 trees found\n"
     ]
    },
    {
     "name": "stderr",
     "output_type": "stream",
     "text": [
      "/home/guillermo/anaconda3/envs/skoltech/lib/python3.6/site-packages/skimage/exposure/exposure.py:297: RuntimeWarning: invalid value encountered in true_divide\n",
      "  image = (image - imin) / float(imax - imin)\n",
      "/home/guillermo/Works/Skoltech/forest-inventory-ml/thresholding_watershed.py:41: RuntimeWarning: invalid value encountered in greater\n",
      "  canopy_mask = img_gaussian > threshold_mean(img_gaussian)\n",
      "/home/guillermo/anaconda3/envs/skoltech/lib/python3.6/site-packages/skimage/exposure/exposure.py:297: RuntimeWarning: invalid value encountered in true_divide\n",
      "  image = (image - imin) / float(imax - imin)\n",
      "/home/guillermo/Works/Skoltech/forest-inventory-ml/thresholding_watershed.py:41: RuntimeWarning: invalid value encountered in greater\n",
      "  canopy_mask = img_gaussian > threshold_mean(img_gaussian)\n",
      "/home/guillermo/anaconda3/envs/skoltech/lib/python3.6/site-packages/skimage/exposure/exposure.py:297: RuntimeWarning: invalid value encountered in true_divide\n",
      "  image = (image - imin) / float(imax - imin)\n",
      "/home/guillermo/Works/Skoltech/forest-inventory-ml/thresholding_watershed.py:41: RuntimeWarning: invalid value encountered in greater\n",
      "  canopy_mask = img_gaussian > threshold_mean(img_gaussian)\n",
      "/home/guillermo/anaconda3/envs/skoltech/lib/python3.6/site-packages/skimage/exposure/exposure.py:297: RuntimeWarning: invalid value encountered in true_divide\n",
      "  image = (image - imin) / float(imax - imin)\n",
      "/home/guillermo/Works/Skoltech/forest-inventory-ml/thresholding_watershed.py:41: RuntimeWarning: invalid value encountered in greater\n",
      "  canopy_mask = img_gaussian > threshold_mean(img_gaussian)\n"
     ]
    },
    {
     "name": "stdout",
     "output_type": "stream",
     "text": [
      "Block: (29, 27), 0 trees found\n",
      "Block: (29, 28), 0 trees found\n",
      "Block: (29, 29), 0 trees found\n",
      "Block: (29, 30), 0 trees found\n"
     ]
    },
    {
     "name": "stderr",
     "output_type": "stream",
     "text": [
      "/home/guillermo/anaconda3/envs/skoltech/lib/python3.6/site-packages/skimage/exposure/exposure.py:297: RuntimeWarning: invalid value encountered in true_divide\n",
      "  image = (image - imin) / float(imax - imin)\n",
      "/home/guillermo/anaconda3/envs/skoltech/lib/python3.6/site-packages/skimage/exposure/exposure.py:297: RuntimeWarning: invalid value encountered in true_divide\n",
      "  image = (image - imin) / float(imax - imin)\n",
      "/home/guillermo/Works/Skoltech/forest-inventory-ml/thresholding_watershed.py:41: RuntimeWarning: invalid value encountered in greater\n",
      "  canopy_mask = img_gaussian > threshold_mean(img_gaussian)\n",
      "/home/guillermo/anaconda3/envs/skoltech/lib/python3.6/site-packages/skimage/exposure/exposure.py:297: RuntimeWarning: invalid value encountered in true_divide\n",
      "  image = (image - imin) / float(imax - imin)\n",
      "/home/guillermo/Works/Skoltech/forest-inventory-ml/thresholding_watershed.py:41: RuntimeWarning: invalid value encountered in greater\n",
      "  canopy_mask = img_gaussian > threshold_mean(img_gaussian)\n",
      "/home/guillermo/anaconda3/envs/skoltech/lib/python3.6/site-packages/skimage/exposure/exposure.py:297: RuntimeWarning: invalid value encountered in true_divide\n",
      "  image = (image - imin) / float(imax - imin)\n",
      "/home/guillermo/Works/Skoltech/forest-inventory-ml/thresholding_watershed.py:41: RuntimeWarning: invalid value encountered in greater\n",
      "  canopy_mask = img_gaussian > threshold_mean(img_gaussian)\n"
     ]
    },
    {
     "name": "stdout",
     "output_type": "stream",
     "text": [
      "Block: (30, 0), 0 trees found\n",
      "Block: (30, 1), 0 trees found\n",
      "Block: (30, 2), 0 trees found\n",
      "Block: (30, 3), 0 trees found\n"
     ]
    },
    {
     "name": "stderr",
     "output_type": "stream",
     "text": [
      "/home/guillermo/anaconda3/envs/skoltech/lib/python3.6/site-packages/skimage/exposure/exposure.py:297: RuntimeWarning: invalid value encountered in true_divide\n",
      "  image = (image - imin) / float(imax - imin)\n",
      "/home/guillermo/Works/Skoltech/forest-inventory-ml/thresholding_watershed.py:41: RuntimeWarning: invalid value encountered in greater\n",
      "  canopy_mask = img_gaussian > threshold_mean(img_gaussian)\n",
      "/home/guillermo/anaconda3/envs/skoltech/lib/python3.6/site-packages/skimage/exposure/exposure.py:297: RuntimeWarning: invalid value encountered in true_divide\n",
      "  image = (image - imin) / float(imax - imin)\n",
      "/home/guillermo/Works/Skoltech/forest-inventory-ml/thresholding_watershed.py:41: RuntimeWarning: invalid value encountered in greater\n",
      "  canopy_mask = img_gaussian > threshold_mean(img_gaussian)\n",
      "/home/guillermo/anaconda3/envs/skoltech/lib/python3.6/site-packages/skimage/exposure/exposure.py:297: RuntimeWarning: invalid value encountered in true_divide\n",
      "  image = (image - imin) / float(imax - imin)\n",
      "/home/guillermo/Works/Skoltech/forest-inventory-ml/thresholding_watershed.py:41: RuntimeWarning: invalid value encountered in greater\n",
      "  canopy_mask = img_gaussian > threshold_mean(img_gaussian)\n",
      "/home/guillermo/anaconda3/envs/skoltech/lib/python3.6/site-packages/skimage/exposure/exposure.py:297: RuntimeWarning: invalid value encountered in true_divide\n",
      "  image = (image - imin) / float(imax - imin)\n"
     ]
    },
    {
     "name": "stdout",
     "output_type": "stream",
     "text": [
      "Block: (30, 4), 0 trees found\n",
      "Block: (30, 5), 0 trees found\n",
      "Block: (30, 6), 0 trees found\n",
      "Block: (30, 7), 0 trees found\n"
     ]
    },
    {
     "name": "stderr",
     "output_type": "stream",
     "text": [
      "/home/guillermo/Works/Skoltech/forest-inventory-ml/thresholding_watershed.py:41: RuntimeWarning: invalid value encountered in greater\n",
      "  canopy_mask = img_gaussian > threshold_mean(img_gaussian)\n",
      "/home/guillermo/anaconda3/envs/skoltech/lib/python3.6/site-packages/skimage/exposure/exposure.py:297: RuntimeWarning: invalid value encountered in true_divide\n",
      "  image = (image - imin) / float(imax - imin)\n",
      "/home/guillermo/Works/Skoltech/forest-inventory-ml/thresholding_watershed.py:41: RuntimeWarning: invalid value encountered in greater\n",
      "  canopy_mask = img_gaussian > threshold_mean(img_gaussian)\n",
      "/home/guillermo/anaconda3/envs/skoltech/lib/python3.6/site-packages/skimage/exposure/exposure.py:297: RuntimeWarning: invalid value encountered in true_divide\n",
      "  image = (image - imin) / float(imax - imin)\n",
      "/home/guillermo/Works/Skoltech/forest-inventory-ml/thresholding_watershed.py:41: RuntimeWarning: invalid value encountered in greater\n",
      "  canopy_mask = img_gaussian > threshold_mean(img_gaussian)\n",
      "/home/guillermo/anaconda3/envs/skoltech/lib/python3.6/site-packages/skimage/exposure/exposure.py:297: RuntimeWarning: invalid value encountered in true_divide\n",
      "  image = (image - imin) / float(imax - imin)\n",
      "/home/guillermo/Works/Skoltech/forest-inventory-ml/thresholding_watershed.py:41: RuntimeWarning: invalid value encountered in greater\n",
      "  canopy_mask = img_gaussian > threshold_mean(img_gaussian)\n",
      "/home/guillermo/anaconda3/envs/skoltech/lib/python3.6/site-packages/skimage/exposure/exposure.py:297: RuntimeWarning: invalid value encountered in true_divide\n",
      "  image = (image - imin) / float(imax - imin)\n",
      "/home/guillermo/Works/Skoltech/forest-inventory-ml/thresholding_watershed.py:41: RuntimeWarning: invalid value encountered in greater\n",
      "  canopy_mask = img_gaussian > threshold_mean(img_gaussian)\n"
     ]
    },
    {
     "name": "stdout",
     "output_type": "stream",
     "text": [
      "Block: (30, 8), 0 trees found\n",
      "Block: (30, 9), 0 trees found\n",
      "Block: (30, 10), 0 trees found\n",
      "Block: (30, 11), 0 trees found\n"
     ]
    },
    {
     "name": "stderr",
     "output_type": "stream",
     "text": [
      "/home/guillermo/anaconda3/envs/skoltech/lib/python3.6/site-packages/skimage/exposure/exposure.py:297: RuntimeWarning: invalid value encountered in true_divide\n",
      "  image = (image - imin) / float(imax - imin)\n",
      "/home/guillermo/Works/Skoltech/forest-inventory-ml/thresholding_watershed.py:41: RuntimeWarning: invalid value encountered in greater\n",
      "  canopy_mask = img_gaussian > threshold_mean(img_gaussian)\n",
      "/home/guillermo/anaconda3/envs/skoltech/lib/python3.6/site-packages/skimage/exposure/exposure.py:297: RuntimeWarning: invalid value encountered in true_divide\n",
      "  image = (image - imin) / float(imax - imin)\n",
      "/home/guillermo/Works/Skoltech/forest-inventory-ml/thresholding_watershed.py:41: RuntimeWarning: invalid value encountered in greater\n",
      "  canopy_mask = img_gaussian > threshold_mean(img_gaussian)\n",
      "/home/guillermo/anaconda3/envs/skoltech/lib/python3.6/site-packages/skimage/exposure/exposure.py:297: RuntimeWarning: invalid value encountered in true_divide\n",
      "  image = (image - imin) / float(imax - imin)\n",
      "/home/guillermo/Works/Skoltech/forest-inventory-ml/thresholding_watershed.py:41: RuntimeWarning: invalid value encountered in greater\n",
      "  canopy_mask = img_gaussian > threshold_mean(img_gaussian)\n",
      "/home/guillermo/anaconda3/envs/skoltech/lib/python3.6/site-packages/skimage/exposure/exposure.py:297: RuntimeWarning: invalid value encountered in true_divide\n",
      "  image = (image - imin) / float(imax - imin)\n",
      "/home/guillermo/Works/Skoltech/forest-inventory-ml/thresholding_watershed.py:41: RuntimeWarning: invalid value encountered in greater\n",
      "  canopy_mask = img_gaussian > threshold_mean(img_gaussian)\n"
     ]
    },
    {
     "name": "stdout",
     "output_type": "stream",
     "text": [
      "Block: (30, 12), 0 trees found\n",
      "Block: (30, 13), 0 trees found\n",
      "Block: (30, 14), 0 trees found\n",
      "Block: (30, 15), 0 trees found\n",
      "Block: (30, 16), 0 trees found\n"
     ]
    },
    {
     "name": "stderr",
     "output_type": "stream",
     "text": [
      "/home/guillermo/anaconda3/envs/skoltech/lib/python3.6/site-packages/skimage/exposure/exposure.py:297: RuntimeWarning: invalid value encountered in true_divide\n",
      "  image = (image - imin) / float(imax - imin)\n",
      "/home/guillermo/Works/Skoltech/forest-inventory-ml/thresholding_watershed.py:41: RuntimeWarning: invalid value encountered in greater\n",
      "  canopy_mask = img_gaussian > threshold_mean(img_gaussian)\n",
      "/home/guillermo/anaconda3/envs/skoltech/lib/python3.6/site-packages/skimage/exposure/exposure.py:297: RuntimeWarning: invalid value encountered in true_divide\n",
      "  image = (image - imin) / float(imax - imin)\n",
      "/home/guillermo/Works/Skoltech/forest-inventory-ml/thresholding_watershed.py:41: RuntimeWarning: invalid value encountered in greater\n",
      "  canopy_mask = img_gaussian > threshold_mean(img_gaussian)\n",
      "/home/guillermo/anaconda3/envs/skoltech/lib/python3.6/site-packages/skimage/exposure/exposure.py:297: RuntimeWarning: invalid value encountered in true_divide\n",
      "  image = (image - imin) / float(imax - imin)\n",
      "/home/guillermo/Works/Skoltech/forest-inventory-ml/thresholding_watershed.py:41: RuntimeWarning: invalid value encountered in greater\n",
      "  canopy_mask = img_gaussian > threshold_mean(img_gaussian)\n",
      "/home/guillermo/anaconda3/envs/skoltech/lib/python3.6/site-packages/skimage/exposure/exposure.py:297: RuntimeWarning: invalid value encountered in true_divide\n",
      "  image = (image - imin) / float(imax - imin)\n",
      "/home/guillermo/Works/Skoltech/forest-inventory-ml/thresholding_watershed.py:41: RuntimeWarning: invalid value encountered in greater\n",
      "  canopy_mask = img_gaussian > threshold_mean(img_gaussian)\n"
     ]
    },
    {
     "name": "stdout",
     "output_type": "stream",
     "text": [
      "Block: (30, 17), 0 trees found\n",
      "Block: (30, 18), 0 trees found\n",
      "Block: (30, 19), 0 trees found\n",
      "Block: (30, 20), 0 trees found\n",
      "Block: (30, 21), 0 trees found\n"
     ]
    },
    {
     "name": "stderr",
     "output_type": "stream",
     "text": [
      "/home/guillermo/anaconda3/envs/skoltech/lib/python3.6/site-packages/skimage/exposure/exposure.py:297: RuntimeWarning: invalid value encountered in true_divide\n",
      "  image = (image - imin) / float(imax - imin)\n",
      "/home/guillermo/Works/Skoltech/forest-inventory-ml/thresholding_watershed.py:41: RuntimeWarning: invalid value encountered in greater\n",
      "  canopy_mask = img_gaussian > threshold_mean(img_gaussian)\n",
      "/home/guillermo/anaconda3/envs/skoltech/lib/python3.6/site-packages/skimage/exposure/exposure.py:297: RuntimeWarning: invalid value encountered in true_divide\n",
      "  image = (image - imin) / float(imax - imin)\n",
      "/home/guillermo/Works/Skoltech/forest-inventory-ml/thresholding_watershed.py:41: RuntimeWarning: invalid value encountered in greater\n",
      "  canopy_mask = img_gaussian > threshold_mean(img_gaussian)\n",
      "/home/guillermo/anaconda3/envs/skoltech/lib/python3.6/site-packages/skimage/exposure/exposure.py:297: RuntimeWarning: invalid value encountered in true_divide\n",
      "  image = (image - imin) / float(imax - imin)\n",
      "/home/guillermo/Works/Skoltech/forest-inventory-ml/thresholding_watershed.py:41: RuntimeWarning: invalid value encountered in greater\n",
      "  canopy_mask = img_gaussian > threshold_mean(img_gaussian)\n",
      "/home/guillermo/anaconda3/envs/skoltech/lib/python3.6/site-packages/skimage/exposure/exposure.py:297: RuntimeWarning: invalid value encountered in true_divide\n",
      "  image = (image - imin) / float(imax - imin)\n",
      "/home/guillermo/Works/Skoltech/forest-inventory-ml/thresholding_watershed.py:41: RuntimeWarning: invalid value encountered in greater\n",
      "  canopy_mask = img_gaussian > threshold_mean(img_gaussian)\n",
      "/home/guillermo/anaconda3/envs/skoltech/lib/python3.6/site-packages/skimage/exposure/exposure.py:297: RuntimeWarning: invalid value encountered in true_divide\n",
      "  image = (image - imin) / float(imax - imin)\n"
     ]
    },
    {
     "name": "stdout",
     "output_type": "stream",
     "text": [
      "Block: (30, 22), 0 trees found\n",
      "Block: (30, 23), 0 trees found\n",
      "Block: (30, 24), 0 trees found\n",
      "Block: (30, 25), 0 trees found\n",
      "Block: (30, 26), 0 trees found\n"
     ]
    },
    {
     "name": "stderr",
     "output_type": "stream",
     "text": [
      "/home/guillermo/Works/Skoltech/forest-inventory-ml/thresholding_watershed.py:41: RuntimeWarning: invalid value encountered in greater\n",
      "  canopy_mask = img_gaussian > threshold_mean(img_gaussian)\n",
      "/home/guillermo/anaconda3/envs/skoltech/lib/python3.6/site-packages/skimage/exposure/exposure.py:297: RuntimeWarning: invalid value encountered in true_divide\n",
      "  image = (image - imin) / float(imax - imin)\n",
      "/home/guillermo/Works/Skoltech/forest-inventory-ml/thresholding_watershed.py:41: RuntimeWarning: invalid value encountered in greater\n",
      "  canopy_mask = img_gaussian > threshold_mean(img_gaussian)\n",
      "/home/guillermo/anaconda3/envs/skoltech/lib/python3.6/site-packages/skimage/exposure/exposure.py:297: RuntimeWarning: invalid value encountered in true_divide\n",
      "  image = (image - imin) / float(imax - imin)\n",
      "/home/guillermo/Works/Skoltech/forest-inventory-ml/thresholding_watershed.py:41: RuntimeWarning: invalid value encountered in greater\n",
      "  canopy_mask = img_gaussian > threshold_mean(img_gaussian)\n",
      "/home/guillermo/anaconda3/envs/skoltech/lib/python3.6/site-packages/skimage/exposure/exposure.py:297: RuntimeWarning: invalid value encountered in true_divide\n",
      "  image = (image - imin) / float(imax - imin)\n",
      "/home/guillermo/Works/Skoltech/forest-inventory-ml/thresholding_watershed.py:41: RuntimeWarning: invalid value encountered in greater\n",
      "  canopy_mask = img_gaussian > threshold_mean(img_gaussian)\n",
      "/home/guillermo/anaconda3/envs/skoltech/lib/python3.6/site-packages/skimage/exposure/exposure.py:297: RuntimeWarning: invalid value encountered in true_divide\n",
      "  image = (image - imin) / float(imax - imin)\n",
      "/home/guillermo/Works/Skoltech/forest-inventory-ml/thresholding_watershed.py:41: RuntimeWarning: invalid value encountered in greater\n",
      "  canopy_mask = img_gaussian > threshold_mean(img_gaussian)\n"
     ]
    },
    {
     "name": "stdout",
     "output_type": "stream",
     "text": [
      "Block: (30, 27), 0 trees found\n",
      "Block: (30, 28), 0 trees found\n",
      "Block: (30, 29), 0 trees found\n",
      "Block: (30, 30), 0 trees found\n",
      "Block: (31, 0), 0 trees found\n",
      "Block: (31, 1), 0 trees found\n"
     ]
    },
    {
     "name": "stderr",
     "output_type": "stream",
     "text": [
      "/home/guillermo/anaconda3/envs/skoltech/lib/python3.6/site-packages/skimage/exposure/exposure.py:297: RuntimeWarning: invalid value encountered in true_divide\n",
      "  image = (image - imin) / float(imax - imin)\n",
      "/home/guillermo/Works/Skoltech/forest-inventory-ml/thresholding_watershed.py:41: RuntimeWarning: invalid value encountered in greater\n",
      "  canopy_mask = img_gaussian > threshold_mean(img_gaussian)\n",
      "/home/guillermo/anaconda3/envs/skoltech/lib/python3.6/site-packages/skimage/exposure/exposure.py:297: RuntimeWarning: invalid value encountered in true_divide\n",
      "  image = (image - imin) / float(imax - imin)\n",
      "/home/guillermo/Works/Skoltech/forest-inventory-ml/thresholding_watershed.py:41: RuntimeWarning: invalid value encountered in greater\n",
      "  canopy_mask = img_gaussian > threshold_mean(img_gaussian)\n",
      "/home/guillermo/anaconda3/envs/skoltech/lib/python3.6/site-packages/skimage/exposure/exposure.py:297: RuntimeWarning: invalid value encountered in true_divide\n",
      "  image = (image - imin) / float(imax - imin)\n",
      "/home/guillermo/anaconda3/envs/skoltech/lib/python3.6/site-packages/skimage/exposure/exposure.py:297: RuntimeWarning: invalid value encountered in true_divide\n",
      "  image = (image - imin) / float(imax - imin)\n",
      "/home/guillermo/Works/Skoltech/forest-inventory-ml/thresholding_watershed.py:41: RuntimeWarning: invalid value encountered in greater\n",
      "  canopy_mask = img_gaussian > threshold_mean(img_gaussian)\n",
      "/home/guillermo/anaconda3/envs/skoltech/lib/python3.6/site-packages/skimage/exposure/exposure.py:297: RuntimeWarning: invalid value encountered in true_divide\n",
      "  image = (image - imin) / float(imax - imin)\n",
      "/home/guillermo/Works/Skoltech/forest-inventory-ml/thresholding_watershed.py:41: RuntimeWarning: invalid value encountered in greater\n",
      "  canopy_mask = img_gaussian > threshold_mean(img_gaussian)\n",
      "/home/guillermo/anaconda3/envs/skoltech/lib/python3.6/site-packages/skimage/exposure/exposure.py:297: RuntimeWarning: invalid value encountered in true_divide\n",
      "  image = (image - imin) / float(imax - imin)\n",
      "/home/guillermo/Works/Skoltech/forest-inventory-ml/thresholding_watershed.py:41: RuntimeWarning: invalid value encountered in greater\n",
      "  canopy_mask = img_gaussian > threshold_mean(img_gaussian)\n"
     ]
    },
    {
     "name": "stdout",
     "output_type": "stream",
     "text": [
      "Block: (31, 2), 0 trees found\n",
      "Block: (31, 3), 0 trees found\n",
      "Block: (31, 4), 0 trees found\n",
      "Block: (31, 5), 0 trees found\n",
      "Block: (31, 6), 0 trees found\n",
      "Block: (31, 7), 0 trees found\n",
      "Block: (31, 8), 0 trees found\n",
      "Block: (31, 9), 0 trees found\n"
     ]
    },
    {
     "name": "stderr",
     "output_type": "stream",
     "text": [
      "/home/guillermo/anaconda3/envs/skoltech/lib/python3.6/site-packages/skimage/exposure/exposure.py:297: RuntimeWarning: invalid value encountered in true_divide\n",
      "  image = (image - imin) / float(imax - imin)\n",
      "/home/guillermo/Works/Skoltech/forest-inventory-ml/thresholding_watershed.py:41: RuntimeWarning: invalid value encountered in greater\n",
      "  canopy_mask = img_gaussian > threshold_mean(img_gaussian)\n",
      "/home/guillermo/anaconda3/envs/skoltech/lib/python3.6/site-packages/skimage/exposure/exposure.py:297: RuntimeWarning: invalid value encountered in true_divide\n",
      "  image = (image - imin) / float(imax - imin)\n",
      "/home/guillermo/Works/Skoltech/forest-inventory-ml/thresholding_watershed.py:41: RuntimeWarning: invalid value encountered in greater\n",
      "  canopy_mask = img_gaussian > threshold_mean(img_gaussian)\n",
      "/home/guillermo/anaconda3/envs/skoltech/lib/python3.6/site-packages/skimage/exposure/exposure.py:297: RuntimeWarning: invalid value encountered in true_divide\n",
      "  image = (image - imin) / float(imax - imin)\n",
      "/home/guillermo/Works/Skoltech/forest-inventory-ml/thresholding_watershed.py:41: RuntimeWarning: invalid value encountered in greater\n",
      "  canopy_mask = img_gaussian > threshold_mean(img_gaussian)\n",
      "/home/guillermo/anaconda3/envs/skoltech/lib/python3.6/site-packages/skimage/exposure/exposure.py:297: RuntimeWarning: invalid value encountered in true_divide\n",
      "  image = (image - imin) / float(imax - imin)\n",
      "/home/guillermo/Works/Skoltech/forest-inventory-ml/thresholding_watershed.py:41: RuntimeWarning: invalid value encountered in greater\n",
      "  canopy_mask = img_gaussian > threshold_mean(img_gaussian)\n",
      "/home/guillermo/anaconda3/envs/skoltech/lib/python3.6/site-packages/skimage/exposure/exposure.py:297: RuntimeWarning: invalid value encountered in true_divide\n",
      "  image = (image - imin) / float(imax - imin)\n",
      "/home/guillermo/Works/Skoltech/forest-inventory-ml/thresholding_watershed.py:41: RuntimeWarning: invalid value encountered in greater\n",
      "  canopy_mask = img_gaussian > threshold_mean(img_gaussian)\n",
      "/home/guillermo/anaconda3/envs/skoltech/lib/python3.6/site-packages/skimage/exposure/exposure.py:297: RuntimeWarning: invalid value encountered in true_divide\n",
      "  image = (image - imin) / float(imax - imin)\n",
      "/home/guillermo/Works/Skoltech/forest-inventory-ml/thresholding_watershed.py:41: RuntimeWarning: invalid value encountered in greater\n",
      "  canopy_mask = img_gaussian > threshold_mean(img_gaussian)\n",
      "/home/guillermo/anaconda3/envs/skoltech/lib/python3.6/site-packages/skimage/exposure/exposure.py:297: RuntimeWarning: invalid value encountered in true_divide\n",
      "  image = (image - imin) / float(imax - imin)\n",
      "/home/guillermo/Works/Skoltech/forest-inventory-ml/thresholding_watershed.py:41: RuntimeWarning: invalid value encountered in greater\n",
      "  canopy_mask = img_gaussian > threshold_mean(img_gaussian)\n",
      "/home/guillermo/anaconda3/envs/skoltech/lib/python3.6/site-packages/skimage/exposure/exposure.py:297: RuntimeWarning: invalid value encountered in true_divide\n",
      "  image = (image - imin) / float(imax - imin)\n",
      "/home/guillermo/Works/Skoltech/forest-inventory-ml/thresholding_watershed.py:41: RuntimeWarning: invalid value encountered in greater\n",
      "  canopy_mask = img_gaussian > threshold_mean(img_gaussian)\n",
      "/home/guillermo/anaconda3/envs/skoltech/lib/python3.6/site-packages/skimage/exposure/exposure.py:297: RuntimeWarning: invalid value encountered in true_divide\n",
      "  image = (image - imin) / float(imax - imin)\n",
      "/home/guillermo/Works/Skoltech/forest-inventory-ml/thresholding_watershed.py:41: RuntimeWarning: invalid value encountered in greater\n",
      "  canopy_mask = img_gaussian > threshold_mean(img_gaussian)\n",
      "/home/guillermo/anaconda3/envs/skoltech/lib/python3.6/site-packages/skimage/exposure/exposure.py:297: RuntimeWarning: invalid value encountered in true_divide\n",
      "  image = (image - imin) / float(imax - imin)\n",
      "/home/guillermo/Works/Skoltech/forest-inventory-ml/thresholding_watershed.py:41: RuntimeWarning: invalid value encountered in greater\n",
      "  canopy_mask = img_gaussian > threshold_mean(img_gaussian)\n",
      "/home/guillermo/anaconda3/envs/skoltech/lib/python3.6/site-packages/skimage/exposure/exposure.py:297: RuntimeWarning: invalid value encountered in true_divide\n",
      "  image = (image - imin) / float(imax - imin)\n",
      "/home/guillermo/Works/Skoltech/forest-inventory-ml/thresholding_watershed.py:41: RuntimeWarning: invalid value encountered in greater\n",
      "  canopy_mask = img_gaussian > threshold_mean(img_gaussian)\n",
      "/home/guillermo/anaconda3/envs/skoltech/lib/python3.6/site-packages/skimage/exposure/exposure.py:297: RuntimeWarning: invalid value encountered in true_divide\n",
      "  image = (image - imin) / float(imax - imin)\n",
      "/home/guillermo/Works/Skoltech/forest-inventory-ml/thresholding_watershed.py:41: RuntimeWarning: invalid value encountered in greater\n",
      "  canopy_mask = img_gaussian > threshold_mean(img_gaussian)\n",
      "/home/guillermo/anaconda3/envs/skoltech/lib/python3.6/site-packages/skimage/exposure/exposure.py:297: RuntimeWarning: invalid value encountered in true_divide\n",
      "  image = (image - imin) / float(imax - imin)\n",
      "/home/guillermo/Works/Skoltech/forest-inventory-ml/thresholding_watershed.py:41: RuntimeWarning: invalid value encountered in greater\n",
      "  canopy_mask = img_gaussian > threshold_mean(img_gaussian)\n",
      "/home/guillermo/anaconda3/envs/skoltech/lib/python3.6/site-packages/skimage/exposure/exposure.py:297: RuntimeWarning: invalid value encountered in true_divide\n",
      "  image = (image - imin) / float(imax - imin)\n",
      "/home/guillermo/Works/Skoltech/forest-inventory-ml/thresholding_watershed.py:41: RuntimeWarning: invalid value encountered in greater\n",
      "  canopy_mask = img_gaussian > threshold_mean(img_gaussian)\n"
     ]
    },
    {
     "name": "stdout",
     "output_type": "stream",
     "text": [
      "Block: (31, 10), 0 trees found\n",
      "Block: (31, 11), 0 trees found\n",
      "Block: (31, 12), 0 trees found\n",
      "Block: (31, 13), 0 trees found\n",
      "Block: (31, 14), 0 trees found\n",
      "Block: (31, 15), 0 trees found\n",
      "Block: (31, 16), 0 trees found\n"
     ]
    },
    {
     "name": "stderr",
     "output_type": "stream",
     "text": [
      "/home/guillermo/anaconda3/envs/skoltech/lib/python3.6/site-packages/skimage/exposure/exposure.py:297: RuntimeWarning: invalid value encountered in true_divide\n",
      "  image = (image - imin) / float(imax - imin)\n",
      "/home/guillermo/Works/Skoltech/forest-inventory-ml/thresholding_watershed.py:41: RuntimeWarning: invalid value encountered in greater\n",
      "  canopy_mask = img_gaussian > threshold_mean(img_gaussian)\n",
      "/home/guillermo/anaconda3/envs/skoltech/lib/python3.6/site-packages/skimage/exposure/exposure.py:297: RuntimeWarning: invalid value encountered in true_divide\n",
      "  image = (image - imin) / float(imax - imin)\n",
      "/home/guillermo/Works/Skoltech/forest-inventory-ml/thresholding_watershed.py:41: RuntimeWarning: invalid value encountered in greater\n",
      "  canopy_mask = img_gaussian > threshold_mean(img_gaussian)\n",
      "/home/guillermo/anaconda3/envs/skoltech/lib/python3.6/site-packages/skimage/exposure/exposure.py:297: RuntimeWarning: invalid value encountered in true_divide\n",
      "  image = (image - imin) / float(imax - imin)\n",
      "/home/guillermo/Works/Skoltech/forest-inventory-ml/thresholding_watershed.py:41: RuntimeWarning: invalid value encountered in greater\n",
      "  canopy_mask = img_gaussian > threshold_mean(img_gaussian)\n",
      "/home/guillermo/anaconda3/envs/skoltech/lib/python3.6/site-packages/skimage/exposure/exposure.py:297: RuntimeWarning: invalid value encountered in true_divide\n",
      "  image = (image - imin) / float(imax - imin)\n",
      "/home/guillermo/Works/Skoltech/forest-inventory-ml/thresholding_watershed.py:41: RuntimeWarning: invalid value encountered in greater\n",
      "  canopy_mask = img_gaussian > threshold_mean(img_gaussian)\n",
      "/home/guillermo/anaconda3/envs/skoltech/lib/python3.6/site-packages/skimage/exposure/exposure.py:297: RuntimeWarning: invalid value encountered in true_divide\n",
      "  image = (image - imin) / float(imax - imin)\n",
      "/home/guillermo/Works/Skoltech/forest-inventory-ml/thresholding_watershed.py:41: RuntimeWarning: invalid value encountered in greater\n",
      "  canopy_mask = img_gaussian > threshold_mean(img_gaussian)\n",
      "/home/guillermo/anaconda3/envs/skoltech/lib/python3.6/site-packages/skimage/exposure/exposure.py:297: RuntimeWarning: invalid value encountered in true_divide\n",
      "  image = (image - imin) / float(imax - imin)\n",
      "/home/guillermo/Works/Skoltech/forest-inventory-ml/thresholding_watershed.py:41: RuntimeWarning: invalid value encountered in greater\n",
      "  canopy_mask = img_gaussian > threshold_mean(img_gaussian)\n"
     ]
    },
    {
     "name": "stdout",
     "output_type": "stream",
     "text": [
      "Block: (31, 17), 0 trees found\n",
      "Block: (31, 18), 0 trees found\n",
      "Block: (31, 19), 0 trees found\n",
      "Block: (31, 20), 0 trees found\n",
      "Block: (31, 21), 0 trees found\n",
      "Block: (31, 22), 0 trees found\n",
      "Block: (31, 23), 0 trees found\n"
     ]
    },
    {
     "name": "stderr",
     "output_type": "stream",
     "text": [
      "/home/guillermo/anaconda3/envs/skoltech/lib/python3.6/site-packages/skimage/exposure/exposure.py:297: RuntimeWarning: invalid value encountered in true_divide\n",
      "  image = (image - imin) / float(imax - imin)\n",
      "/home/guillermo/Works/Skoltech/forest-inventory-ml/thresholding_watershed.py:41: RuntimeWarning: invalid value encountered in greater\n",
      "  canopy_mask = img_gaussian > threshold_mean(img_gaussian)\n",
      "/home/guillermo/anaconda3/envs/skoltech/lib/python3.6/site-packages/skimage/exposure/exposure.py:297: RuntimeWarning: invalid value encountered in true_divide\n",
      "  image = (image - imin) / float(imax - imin)\n",
      "/home/guillermo/Works/Skoltech/forest-inventory-ml/thresholding_watershed.py:41: RuntimeWarning: invalid value encountered in greater\n",
      "  canopy_mask = img_gaussian > threshold_mean(img_gaussian)\n",
      "/home/guillermo/anaconda3/envs/skoltech/lib/python3.6/site-packages/skimage/exposure/exposure.py:297: RuntimeWarning: invalid value encountered in true_divide\n",
      "  image = (image - imin) / float(imax - imin)\n",
      "/home/guillermo/Works/Skoltech/forest-inventory-ml/thresholding_watershed.py:41: RuntimeWarning: invalid value encountered in greater\n",
      "  canopy_mask = img_gaussian > threshold_mean(img_gaussian)\n",
      "/home/guillermo/anaconda3/envs/skoltech/lib/python3.6/site-packages/skimage/exposure/exposure.py:297: RuntimeWarning: invalid value encountered in true_divide\n",
      "  image = (image - imin) / float(imax - imin)\n",
      "/home/guillermo/Works/Skoltech/forest-inventory-ml/thresholding_watershed.py:41: RuntimeWarning: invalid value encountered in greater\n",
      "  canopy_mask = img_gaussian > threshold_mean(img_gaussian)\n",
      "/home/guillermo/anaconda3/envs/skoltech/lib/python3.6/site-packages/skimage/exposure/exposure.py:297: RuntimeWarning: invalid value encountered in true_divide\n",
      "  image = (image - imin) / float(imax - imin)\n",
      "/home/guillermo/Works/Skoltech/forest-inventory-ml/thresholding_watershed.py:41: RuntimeWarning: invalid value encountered in greater\n",
      "  canopy_mask = img_gaussian > threshold_mean(img_gaussian)\n",
      "/home/guillermo/anaconda3/envs/skoltech/lib/python3.6/site-packages/skimage/exposure/exposure.py:297: RuntimeWarning: invalid value encountered in true_divide\n",
      "  image = (image - imin) / float(imax - imin)\n",
      "/home/guillermo/Works/Skoltech/forest-inventory-ml/thresholding_watershed.py:41: RuntimeWarning: invalid value encountered in greater\n",
      "  canopy_mask = img_gaussian > threshold_mean(img_gaussian)\n",
      "/home/guillermo/anaconda3/envs/skoltech/lib/python3.6/site-packages/skimage/exposure/exposure.py:297: RuntimeWarning: invalid value encountered in true_divide\n",
      "  image = (image - imin) / float(imax - imin)\n"
     ]
    },
    {
     "name": "stdout",
     "output_type": "stream",
     "text": [
      "Block: (31, 24), 0 trees found\n",
      "Block: (31, 25), 0 trees found\n",
      "Block: (31, 26), 0 trees found\n",
      "Block: (31, 27), 0 trees found\n",
      "Block: (31, 28), 0 trees found\n",
      "Block: (31, 29), 0 trees found\n",
      "Block: (31, 30), 0 trees found\n"
     ]
    },
    {
     "name": "stderr",
     "output_type": "stream",
     "text": [
      "/home/guillermo/Works/Skoltech/forest-inventory-ml/thresholding_watershed.py:41: RuntimeWarning: invalid value encountered in greater\n",
      "  canopy_mask = img_gaussian > threshold_mean(img_gaussian)\n",
      "/home/guillermo/anaconda3/envs/skoltech/lib/python3.6/site-packages/skimage/exposure/exposure.py:297: RuntimeWarning: invalid value encountered in true_divide\n",
      "  image = (image - imin) / float(imax - imin)\n",
      "/home/guillermo/Works/Skoltech/forest-inventory-ml/thresholding_watershed.py:41: RuntimeWarning: invalid value encountered in greater\n",
      "  canopy_mask = img_gaussian > threshold_mean(img_gaussian)\n"
     ]
    }
   ],
   "source": [
    "dataset_VIS_filename = '../DATA/Flight_01-08_OrthoVIS16_/OrthoVIS16.tif'\n",
    "\n",
    "polys = dict()\n",
    "features = dict()\n",
    "        \n",
    "with rasterio.open(dataset_VIS_filename) as src:\n",
    "    assert len(set(src.block_shapes)) == 1\n",
    "    for window_id, window in src.block_windows():\n",
    "        \n",
    "        trees_VIS = src.read(src.indexes, window=window)\n",
    "        \n",
    "        selected_band = 8\n",
    "\n",
    "        trees_mono = trees_VIS[selected_band]\n",
    "\n",
    "        # Scale image\n",
    "        trees_mono_n = rescale_intensity(trees_mono,out_range='uint8')\n",
    "\n",
    "        # Compute ITCD\n",
    "        polys[window_id] = itcd_tw(trees_mono_n, smoothing=2, rgb=False, n_dilation=0)\n",
    "        \n",
    "        # Extract HSI features\n",
    "        features_block = np.zeros((len(polys[window_id]),17*3))\n",
    "        \n",
    "        polys_t = translate(polys[window_id],xoff=256*window_id[1],yoff=256*window_id[0])\n",
    "        polys_tt = affine_transform(polys_t,affine_matrix)\n",
    "\n",
    "        for i, pol_tt in enumerate(polys_tt):\n",
    "            \n",
    "            tree, tree_transform = mask(src,[mapping(pol_tt)],crop=True,all_touched=True,filled=False,invert=False)\n",
    "\n",
    "            tree_p_b = tree.reshape(tree.shape[0],-1)[:-1]\n",
    "\n",
    "            tree_avg = np.ma.average(tree_p_b,axis=1)\n",
    "            tree_min = np.ma.min(tree_p_b,axis=1)\n",
    "            tree_max = np.ma.max(tree_p_b,axis=1)\n",
    "\n",
    "            features_block[i,:] = np.hstack((tree_avg,tree_min,tree_max))\n",
    "        \n",
    "        features[window_id] = features_block\n",
    "        \n",
    "        print(f'Block: {window_id}, {len(polys[window_id])} trees found')\n",
    "\n",
    "total_found = sum([len(poly) for block, poly in polys.items()])"
   ]
  },
  {
   "cell_type": "code",
   "execution_count": 109,
   "metadata": {},
   "outputs": [],
   "source": [
    "t1 = np.ones(array.shape[0])[None,:]"
   ]
  },
  {
   "cell_type": "code",
   "execution_count": 110,
   "metadata": {},
   "outputs": [
    {
     "data": {
      "text/plain": [
       "(1, 4)"
      ]
     },
     "execution_count": 110,
     "metadata": {},
     "output_type": "execute_result"
    }
   ],
   "source": [
    "t1.shape"
   ]
  },
  {
   "cell_type": "code",
   "execution_count": 100,
   "metadata": {},
   "outputs": [],
   "source": [
    "ids = array.shape"
   ]
  },
  {
   "cell_type": "code",
   "execution_count": 104,
   "metadata": {},
   "outputs": [
    {
     "data": {
      "text/plain": [
       "(4, 51)"
      ]
     },
     "execution_count": 104,
     "metadata": {},
     "output_type": "execute_result"
    }
   ],
   "source": [
    "array.shape"
   ]
  },
  {
   "cell_type": "code",
   "execution_count": 111,
   "metadata": {},
   "outputs": [
    {
     "data": {
      "text/plain": [
       "(4, 53)"
      ]
     },
     "execution_count": 111,
     "metadata": {},
     "output_type": "execute_result"
    }
   ],
   "source": [
    "np.hstack([ids[0]*np.ones(array.shape[0])[:,None],ids[1]*np.ones(array.shape[0])[:,None], array]).shape"
   ]
  },
  {
   "cell_type": "code",
   "execution_count": 112,
   "metadata": {},
   "outputs": [],
   "source": [
    "import pandas as pd\n",
    "\n",
    "features_pd = pd.DataFrame(np.vstack([np.hstack([ids[0]*np.ones(array.shape[0])[:,None],ids[1]*np.ones(array.shape[0])[:,None], array]) for ids, array in features.items()]))"
   ]
  },
  {
   "cell_type": "code",
   "execution_count": 114,
   "metadata": {},
   "outputs": [],
   "source": [
    "features_pd.to_csv(\"../features/features_all.csv\")"
   ]
  },
  {
   "cell_type": "code",
   "execution_count": 77,
   "metadata": {},
   "outputs": [
    {
     "data": {
      "text/plain": [
       "(4, 51)"
      ]
     },
     "execution_count": 77,
     "metadata": {},
     "output_type": "execute_result"
    }
   ],
   "source": [
    "array.shape"
   ]
  },
  {
   "cell_type": "code",
   "execution_count": 79,
   "metadata": {},
   "outputs": [
    {
     "ename": "ValueError",
     "evalue": "operands could not be broadcast together with shapes (2,) (51,) ",
     "output_type": "error",
     "traceback": [
      "\u001b[0;31m---------------------------------------------------------------------------\u001b[0m",
      "\u001b[0;31mValueError\u001b[0m                                Traceback (most recent call last)",
      "\u001b[0;32m<ipython-input-79-12e93d2400dd>\u001b[0m in \u001b[0;36m<module>\u001b[0;34m()\u001b[0m\n\u001b[0;32m----> 1\u001b[0;31m \u001b[0mnp\u001b[0m\u001b[0;34m.\u001b[0m\u001b[0mvstack\u001b[0m\u001b[0;34m(\u001b[0m\u001b[0;34m[\u001b[0m\u001b[0;34m(\u001b[0m\u001b[0;36m1\u001b[0m\u001b[0;34m,\u001b[0m\u001b[0;36m0\u001b[0m\u001b[0;34m)\u001b[0m\u001b[0;34m*\u001b[0m\u001b[0mnp\u001b[0m\u001b[0;34m.\u001b[0m\u001b[0mones\u001b[0m\u001b[0;34m(\u001b[0m\u001b[0marray\u001b[0m\u001b[0;34m.\u001b[0m\u001b[0mshape\u001b[0m\u001b[0;34m[\u001b[0m\u001b[0;36m1\u001b[0m\u001b[0;34m]\u001b[0m\u001b[0;34m)\u001b[0m\u001b[0;34m,\u001b[0m \u001b[0marray\u001b[0m\u001b[0;34m]\u001b[0m\u001b[0;34m)\u001b[0m\u001b[0;34m.\u001b[0m\u001b[0mshape\u001b[0m\u001b[0;34m\u001b[0m\u001b[0m\n\u001b[0m",
      "\u001b[0;31mValueError\u001b[0m: operands could not be broadcast together with shapes (2,) (51,) "
     ]
    }
   ],
   "source": [
    "np.vstack([(1,0)*np.ones(array.shape[1]), array]).shape"
   ]
  },
  {
   "cell_type": "code",
   "execution_count": 73,
   "metadata": {},
   "outputs": [],
   "source": [
    "def plot_block_polys(block,polys_dict,selected_band=8):\n",
    "    polys = polys_dict[block]\n",
    "    with rasterio.open(dataset_VIS_filename) as src:\n",
    "        assert len(set(src.block_shapes)) == 1\n",
    "        \n",
    "        image = src.read(src.indexes, window=src.block_window(selected_band,block[0],block[1]))\n",
    "    \n",
    "        plt.figure()\n",
    "        plt.imshow(image[selected_band])\n",
    "        plt.title(f'Block {block}, band {selected_band}, found {len(polys)}')\n",
    "        plt.colorbar()\n",
    "        # Plot\n",
    "        for n, pol in enumerate(polys):\n",
    "            x,y = pol.exterior.xy if pol.geom_type == 'Polygon' else pol.coords\n",
    "            plt.plot(x,y)\n",
    "            xc,yc = pol.centroid.xy\n",
    "            plt.text(xc[0],yc[0],n,ha=\"center\", va=\"center\", color=\"w\",size=10)"
   ]
  },
  {
   "cell_type": "code",
   "execution_count": 46,
   "metadata": {},
   "outputs": [
    {
     "data": {
      "application/javascript": [
       "/* Put everything inside the global mpl namespace */\n",
       "window.mpl = {};\n",
       "\n",
       "\n",
       "mpl.get_websocket_type = function() {\n",
       "    if (typeof(WebSocket) !== 'undefined') {\n",
       "        return WebSocket;\n",
       "    } else if (typeof(MozWebSocket) !== 'undefined') {\n",
       "        return MozWebSocket;\n",
       "    } else {\n",
       "        alert('Your browser does not have WebSocket support.' +\n",
       "              'Please try Chrome, Safari or Firefox ≥ 6. ' +\n",
       "              'Firefox 4 and 5 are also supported but you ' +\n",
       "              'have to enable WebSockets in about:config.');\n",
       "    };\n",
       "}\n",
       "\n",
       "mpl.figure = function(figure_id, websocket, ondownload, parent_element) {\n",
       "    this.id = figure_id;\n",
       "\n",
       "    this.ws = websocket;\n",
       "\n",
       "    this.supports_binary = (this.ws.binaryType != undefined);\n",
       "\n",
       "    if (!this.supports_binary) {\n",
       "        var warnings = document.getElementById(\"mpl-warnings\");\n",
       "        if (warnings) {\n",
       "            warnings.style.display = 'block';\n",
       "            warnings.textContent = (\n",
       "                \"This browser does not support binary websocket messages. \" +\n",
       "                    \"Performance may be slow.\");\n",
       "        }\n",
       "    }\n",
       "\n",
       "    this.imageObj = new Image();\n",
       "\n",
       "    this.context = undefined;\n",
       "    this.message = undefined;\n",
       "    this.canvas = undefined;\n",
       "    this.rubberband_canvas = undefined;\n",
       "    this.rubberband_context = undefined;\n",
       "    this.format_dropdown = undefined;\n",
       "\n",
       "    this.image_mode = 'full';\n",
       "\n",
       "    this.root = $('<div/>');\n",
       "    this._root_extra_style(this.root)\n",
       "    this.root.attr('style', 'display: inline-block');\n",
       "\n",
       "    $(parent_element).append(this.root);\n",
       "\n",
       "    this._init_header(this);\n",
       "    this._init_canvas(this);\n",
       "    this._init_toolbar(this);\n",
       "\n",
       "    var fig = this;\n",
       "\n",
       "    this.waiting = false;\n",
       "\n",
       "    this.ws.onopen =  function () {\n",
       "            fig.send_message(\"supports_binary\", {value: fig.supports_binary});\n",
       "            fig.send_message(\"send_image_mode\", {});\n",
       "            if (mpl.ratio != 1) {\n",
       "                fig.send_message(\"set_dpi_ratio\", {'dpi_ratio': mpl.ratio});\n",
       "            }\n",
       "            fig.send_message(\"refresh\", {});\n",
       "        }\n",
       "\n",
       "    this.imageObj.onload = function() {\n",
       "            if (fig.image_mode == 'full') {\n",
       "                // Full images could contain transparency (where diff images\n",
       "                // almost always do), so we need to clear the canvas so that\n",
       "                // there is no ghosting.\n",
       "                fig.context.clearRect(0, 0, fig.canvas.width, fig.canvas.height);\n",
       "            }\n",
       "            fig.context.drawImage(fig.imageObj, 0, 0);\n",
       "        };\n",
       "\n",
       "    this.imageObj.onunload = function() {\n",
       "        fig.ws.close();\n",
       "    }\n",
       "\n",
       "    this.ws.onmessage = this._make_on_message_function(this);\n",
       "\n",
       "    this.ondownload = ondownload;\n",
       "}\n",
       "\n",
       "mpl.figure.prototype._init_header = function() {\n",
       "    var titlebar = $(\n",
       "        '<div class=\"ui-dialog-titlebar ui-widget-header ui-corner-all ' +\n",
       "        'ui-helper-clearfix\"/>');\n",
       "    var titletext = $(\n",
       "        '<div class=\"ui-dialog-title\" style=\"width: 100%; ' +\n",
       "        'text-align: center; padding: 3px;\"/>');\n",
       "    titlebar.append(titletext)\n",
       "    this.root.append(titlebar);\n",
       "    this.header = titletext[0];\n",
       "}\n",
       "\n",
       "\n",
       "\n",
       "mpl.figure.prototype._canvas_extra_style = function(canvas_div) {\n",
       "\n",
       "}\n",
       "\n",
       "\n",
       "mpl.figure.prototype._root_extra_style = function(canvas_div) {\n",
       "\n",
       "}\n",
       "\n",
       "mpl.figure.prototype._init_canvas = function() {\n",
       "    var fig = this;\n",
       "\n",
       "    var canvas_div = $('<div/>');\n",
       "\n",
       "    canvas_div.attr('style', 'position: relative; clear: both; outline: 0');\n",
       "\n",
       "    function canvas_keyboard_event(event) {\n",
       "        return fig.key_event(event, event['data']);\n",
       "    }\n",
       "\n",
       "    canvas_div.keydown('key_press', canvas_keyboard_event);\n",
       "    canvas_div.keyup('key_release', canvas_keyboard_event);\n",
       "    this.canvas_div = canvas_div\n",
       "    this._canvas_extra_style(canvas_div)\n",
       "    this.root.append(canvas_div);\n",
       "\n",
       "    var canvas = $('<canvas/>');\n",
       "    canvas.addClass('mpl-canvas');\n",
       "    canvas.attr('style', \"left: 0; top: 0; z-index: 0; outline: 0\")\n",
       "\n",
       "    this.canvas = canvas[0];\n",
       "    this.context = canvas[0].getContext(\"2d\");\n",
       "\n",
       "    var backingStore = this.context.backingStorePixelRatio ||\n",
       "\tthis.context.webkitBackingStorePixelRatio ||\n",
       "\tthis.context.mozBackingStorePixelRatio ||\n",
       "\tthis.context.msBackingStorePixelRatio ||\n",
       "\tthis.context.oBackingStorePixelRatio ||\n",
       "\tthis.context.backingStorePixelRatio || 1;\n",
       "\n",
       "    mpl.ratio = (window.devicePixelRatio || 1) / backingStore;\n",
       "\n",
       "    var rubberband = $('<canvas/>');\n",
       "    rubberband.attr('style', \"position: absolute; left: 0; top: 0; z-index: 1;\")\n",
       "\n",
       "    var pass_mouse_events = true;\n",
       "\n",
       "    canvas_div.resizable({\n",
       "        start: function(event, ui) {\n",
       "            pass_mouse_events = false;\n",
       "        },\n",
       "        resize: function(event, ui) {\n",
       "            fig.request_resize(ui.size.width, ui.size.height);\n",
       "        },\n",
       "        stop: function(event, ui) {\n",
       "            pass_mouse_events = true;\n",
       "            fig.request_resize(ui.size.width, ui.size.height);\n",
       "        },\n",
       "    });\n",
       "\n",
       "    function mouse_event_fn(event) {\n",
       "        if (pass_mouse_events)\n",
       "            return fig.mouse_event(event, event['data']);\n",
       "    }\n",
       "\n",
       "    rubberband.mousedown('button_press', mouse_event_fn);\n",
       "    rubberband.mouseup('button_release', mouse_event_fn);\n",
       "    // Throttle sequential mouse events to 1 every 20ms.\n",
       "    rubberband.mousemove('motion_notify', mouse_event_fn);\n",
       "\n",
       "    rubberband.mouseenter('figure_enter', mouse_event_fn);\n",
       "    rubberband.mouseleave('figure_leave', mouse_event_fn);\n",
       "\n",
       "    canvas_div.on(\"wheel\", function (event) {\n",
       "        event = event.originalEvent;\n",
       "        event['data'] = 'scroll'\n",
       "        if (event.deltaY < 0) {\n",
       "            event.step = 1;\n",
       "        } else {\n",
       "            event.step = -1;\n",
       "        }\n",
       "        mouse_event_fn(event);\n",
       "    });\n",
       "\n",
       "    canvas_div.append(canvas);\n",
       "    canvas_div.append(rubberband);\n",
       "\n",
       "    this.rubberband = rubberband;\n",
       "    this.rubberband_canvas = rubberband[0];\n",
       "    this.rubberband_context = rubberband[0].getContext(\"2d\");\n",
       "    this.rubberband_context.strokeStyle = \"#000000\";\n",
       "\n",
       "    this._resize_canvas = function(width, height) {\n",
       "        // Keep the size of the canvas, canvas container, and rubber band\n",
       "        // canvas in synch.\n",
       "        canvas_div.css('width', width)\n",
       "        canvas_div.css('height', height)\n",
       "\n",
       "        canvas.attr('width', width * mpl.ratio);\n",
       "        canvas.attr('height', height * mpl.ratio);\n",
       "        canvas.attr('style', 'width: ' + width + 'px; height: ' + height + 'px;');\n",
       "\n",
       "        rubberband.attr('width', width);\n",
       "        rubberband.attr('height', height);\n",
       "    }\n",
       "\n",
       "    // Set the figure to an initial 600x600px, this will subsequently be updated\n",
       "    // upon first draw.\n",
       "    this._resize_canvas(600, 600);\n",
       "\n",
       "    // Disable right mouse context menu.\n",
       "    $(this.rubberband_canvas).bind(\"contextmenu\",function(e){\n",
       "        return false;\n",
       "    });\n",
       "\n",
       "    function set_focus () {\n",
       "        canvas.focus();\n",
       "        canvas_div.focus();\n",
       "    }\n",
       "\n",
       "    window.setTimeout(set_focus, 100);\n",
       "}\n",
       "\n",
       "mpl.figure.prototype._init_toolbar = function() {\n",
       "    var fig = this;\n",
       "\n",
       "    var nav_element = $('<div/>')\n",
       "    nav_element.attr('style', 'width: 100%');\n",
       "    this.root.append(nav_element);\n",
       "\n",
       "    // Define a callback function for later on.\n",
       "    function toolbar_event(event) {\n",
       "        return fig.toolbar_button_onclick(event['data']);\n",
       "    }\n",
       "    function toolbar_mouse_event(event) {\n",
       "        return fig.toolbar_button_onmouseover(event['data']);\n",
       "    }\n",
       "\n",
       "    for(var toolbar_ind in mpl.toolbar_items) {\n",
       "        var name = mpl.toolbar_items[toolbar_ind][0];\n",
       "        var tooltip = mpl.toolbar_items[toolbar_ind][1];\n",
       "        var image = mpl.toolbar_items[toolbar_ind][2];\n",
       "        var method_name = mpl.toolbar_items[toolbar_ind][3];\n",
       "\n",
       "        if (!name) {\n",
       "            // put a spacer in here.\n",
       "            continue;\n",
       "        }\n",
       "        var button = $('<button/>');\n",
       "        button.addClass('ui-button ui-widget ui-state-default ui-corner-all ' +\n",
       "                        'ui-button-icon-only');\n",
       "        button.attr('role', 'button');\n",
       "        button.attr('aria-disabled', 'false');\n",
       "        button.click(method_name, toolbar_event);\n",
       "        button.mouseover(tooltip, toolbar_mouse_event);\n",
       "\n",
       "        var icon_img = $('<span/>');\n",
       "        icon_img.addClass('ui-button-icon-primary ui-icon');\n",
       "        icon_img.addClass(image);\n",
       "        icon_img.addClass('ui-corner-all');\n",
       "\n",
       "        var tooltip_span = $('<span/>');\n",
       "        tooltip_span.addClass('ui-button-text');\n",
       "        tooltip_span.html(tooltip);\n",
       "\n",
       "        button.append(icon_img);\n",
       "        button.append(tooltip_span);\n",
       "\n",
       "        nav_element.append(button);\n",
       "    }\n",
       "\n",
       "    var fmt_picker_span = $('<span/>');\n",
       "\n",
       "    var fmt_picker = $('<select/>');\n",
       "    fmt_picker.addClass('mpl-toolbar-option ui-widget ui-widget-content');\n",
       "    fmt_picker_span.append(fmt_picker);\n",
       "    nav_element.append(fmt_picker_span);\n",
       "    this.format_dropdown = fmt_picker[0];\n",
       "\n",
       "    for (var ind in mpl.extensions) {\n",
       "        var fmt = mpl.extensions[ind];\n",
       "        var option = $(\n",
       "            '<option/>', {selected: fmt === mpl.default_extension}).html(fmt);\n",
       "        fmt_picker.append(option)\n",
       "    }\n",
       "\n",
       "    // Add hover states to the ui-buttons\n",
       "    $( \".ui-button\" ).hover(\n",
       "        function() { $(this).addClass(\"ui-state-hover\");},\n",
       "        function() { $(this).removeClass(\"ui-state-hover\");}\n",
       "    );\n",
       "\n",
       "    var status_bar = $('<span class=\"mpl-message\"/>');\n",
       "    nav_element.append(status_bar);\n",
       "    this.message = status_bar[0];\n",
       "}\n",
       "\n",
       "mpl.figure.prototype.request_resize = function(x_pixels, y_pixels) {\n",
       "    // Request matplotlib to resize the figure. Matplotlib will then trigger a resize in the client,\n",
       "    // which will in turn request a refresh of the image.\n",
       "    this.send_message('resize', {'width': x_pixels, 'height': y_pixels});\n",
       "}\n",
       "\n",
       "mpl.figure.prototype.send_message = function(type, properties) {\n",
       "    properties['type'] = type;\n",
       "    properties['figure_id'] = this.id;\n",
       "    this.ws.send(JSON.stringify(properties));\n",
       "}\n",
       "\n",
       "mpl.figure.prototype.send_draw_message = function() {\n",
       "    if (!this.waiting) {\n",
       "        this.waiting = true;\n",
       "        this.ws.send(JSON.stringify({type: \"draw\", figure_id: this.id}));\n",
       "    }\n",
       "}\n",
       "\n",
       "\n",
       "mpl.figure.prototype.handle_save = function(fig, msg) {\n",
       "    var format_dropdown = fig.format_dropdown;\n",
       "    var format = format_dropdown.options[format_dropdown.selectedIndex].value;\n",
       "    fig.ondownload(fig, format);\n",
       "}\n",
       "\n",
       "\n",
       "mpl.figure.prototype.handle_resize = function(fig, msg) {\n",
       "    var size = msg['size'];\n",
       "    if (size[0] != fig.canvas.width || size[1] != fig.canvas.height) {\n",
       "        fig._resize_canvas(size[0], size[1]);\n",
       "        fig.send_message(\"refresh\", {});\n",
       "    };\n",
       "}\n",
       "\n",
       "mpl.figure.prototype.handle_rubberband = function(fig, msg) {\n",
       "    var x0 = msg['x0'] / mpl.ratio;\n",
       "    var y0 = (fig.canvas.height - msg['y0']) / mpl.ratio;\n",
       "    var x1 = msg['x1'] / mpl.ratio;\n",
       "    var y1 = (fig.canvas.height - msg['y1']) / mpl.ratio;\n",
       "    x0 = Math.floor(x0) + 0.5;\n",
       "    y0 = Math.floor(y0) + 0.5;\n",
       "    x1 = Math.floor(x1) + 0.5;\n",
       "    y1 = Math.floor(y1) + 0.5;\n",
       "    var min_x = Math.min(x0, x1);\n",
       "    var min_y = Math.min(y0, y1);\n",
       "    var width = Math.abs(x1 - x0);\n",
       "    var height = Math.abs(y1 - y0);\n",
       "\n",
       "    fig.rubberband_context.clearRect(\n",
       "        0, 0, fig.canvas.width, fig.canvas.height);\n",
       "\n",
       "    fig.rubberband_context.strokeRect(min_x, min_y, width, height);\n",
       "}\n",
       "\n",
       "mpl.figure.prototype.handle_figure_label = function(fig, msg) {\n",
       "    // Updates the figure title.\n",
       "    fig.header.textContent = msg['label'];\n",
       "}\n",
       "\n",
       "mpl.figure.prototype.handle_cursor = function(fig, msg) {\n",
       "    var cursor = msg['cursor'];\n",
       "    switch(cursor)\n",
       "    {\n",
       "    case 0:\n",
       "        cursor = 'pointer';\n",
       "        break;\n",
       "    case 1:\n",
       "        cursor = 'default';\n",
       "        break;\n",
       "    case 2:\n",
       "        cursor = 'crosshair';\n",
       "        break;\n",
       "    case 3:\n",
       "        cursor = 'move';\n",
       "        break;\n",
       "    }\n",
       "    fig.rubberband_canvas.style.cursor = cursor;\n",
       "}\n",
       "\n",
       "mpl.figure.prototype.handle_message = function(fig, msg) {\n",
       "    fig.message.textContent = msg['message'];\n",
       "}\n",
       "\n",
       "mpl.figure.prototype.handle_draw = function(fig, msg) {\n",
       "    // Request the server to send over a new figure.\n",
       "    fig.send_draw_message();\n",
       "}\n",
       "\n",
       "mpl.figure.prototype.handle_image_mode = function(fig, msg) {\n",
       "    fig.image_mode = msg['mode'];\n",
       "}\n",
       "\n",
       "mpl.figure.prototype.updated_canvas_event = function() {\n",
       "    // Called whenever the canvas gets updated.\n",
       "    this.send_message(\"ack\", {});\n",
       "}\n",
       "\n",
       "// A function to construct a web socket function for onmessage handling.\n",
       "// Called in the figure constructor.\n",
       "mpl.figure.prototype._make_on_message_function = function(fig) {\n",
       "    return function socket_on_message(evt) {\n",
       "        if (evt.data instanceof Blob) {\n",
       "            /* FIXME: We get \"Resource interpreted as Image but\n",
       "             * transferred with MIME type text/plain:\" errors on\n",
       "             * Chrome.  But how to set the MIME type?  It doesn't seem\n",
       "             * to be part of the websocket stream */\n",
       "            evt.data.type = \"image/png\";\n",
       "\n",
       "            /* Free the memory for the previous frames */\n",
       "            if (fig.imageObj.src) {\n",
       "                (window.URL || window.webkitURL).revokeObjectURL(\n",
       "                    fig.imageObj.src);\n",
       "            }\n",
       "\n",
       "            fig.imageObj.src = (window.URL || window.webkitURL).createObjectURL(\n",
       "                evt.data);\n",
       "            fig.updated_canvas_event();\n",
       "            fig.waiting = false;\n",
       "            return;\n",
       "        }\n",
       "        else if (typeof evt.data === 'string' && evt.data.slice(0, 21) == \"data:image/png;base64\") {\n",
       "            fig.imageObj.src = evt.data;\n",
       "            fig.updated_canvas_event();\n",
       "            fig.waiting = false;\n",
       "            return;\n",
       "        }\n",
       "\n",
       "        var msg = JSON.parse(evt.data);\n",
       "        var msg_type = msg['type'];\n",
       "\n",
       "        // Call the  \"handle_{type}\" callback, which takes\n",
       "        // the figure and JSON message as its only arguments.\n",
       "        try {\n",
       "            var callback = fig[\"handle_\" + msg_type];\n",
       "        } catch (e) {\n",
       "            console.log(\"No handler for the '\" + msg_type + \"' message type: \", msg);\n",
       "            return;\n",
       "        }\n",
       "\n",
       "        if (callback) {\n",
       "            try {\n",
       "                // console.log(\"Handling '\" + msg_type + \"' message: \", msg);\n",
       "                callback(fig, msg);\n",
       "            } catch (e) {\n",
       "                console.log(\"Exception inside the 'handler_\" + msg_type + \"' callback:\", e, e.stack, msg);\n",
       "            }\n",
       "        }\n",
       "    };\n",
       "}\n",
       "\n",
       "// from http://stackoverflow.com/questions/1114465/getting-mouse-location-in-canvas\n",
       "mpl.findpos = function(e) {\n",
       "    //this section is from http://www.quirksmode.org/js/events_properties.html\n",
       "    var targ;\n",
       "    if (!e)\n",
       "        e = window.event;\n",
       "    if (e.target)\n",
       "        targ = e.target;\n",
       "    else if (e.srcElement)\n",
       "        targ = e.srcElement;\n",
       "    if (targ.nodeType == 3) // defeat Safari bug\n",
       "        targ = targ.parentNode;\n",
       "\n",
       "    // jQuery normalizes the pageX and pageY\n",
       "    // pageX,Y are the mouse positions relative to the document\n",
       "    // offset() returns the position of the element relative to the document\n",
       "    var x = e.pageX - $(targ).offset().left;\n",
       "    var y = e.pageY - $(targ).offset().top;\n",
       "\n",
       "    return {\"x\": x, \"y\": y};\n",
       "};\n",
       "\n",
       "/*\n",
       " * return a copy of an object with only non-object keys\n",
       " * we need this to avoid circular references\n",
       " * http://stackoverflow.com/a/24161582/3208463\n",
       " */\n",
       "function simpleKeys (original) {\n",
       "  return Object.keys(original).reduce(function (obj, key) {\n",
       "    if (typeof original[key] !== 'object')\n",
       "        obj[key] = original[key]\n",
       "    return obj;\n",
       "  }, {});\n",
       "}\n",
       "\n",
       "mpl.figure.prototype.mouse_event = function(event, name) {\n",
       "    var canvas_pos = mpl.findpos(event)\n",
       "\n",
       "    if (name === 'button_press')\n",
       "    {\n",
       "        this.canvas.focus();\n",
       "        this.canvas_div.focus();\n",
       "    }\n",
       "\n",
       "    var x = canvas_pos.x * mpl.ratio;\n",
       "    var y = canvas_pos.y * mpl.ratio;\n",
       "\n",
       "    this.send_message(name, {x: x, y: y, button: event.button,\n",
       "                             step: event.step,\n",
       "                             guiEvent: simpleKeys(event)});\n",
       "\n",
       "    /* This prevents the web browser from automatically changing to\n",
       "     * the text insertion cursor when the button is pressed.  We want\n",
       "     * to control all of the cursor setting manually through the\n",
       "     * 'cursor' event from matplotlib */\n",
       "    event.preventDefault();\n",
       "    return false;\n",
       "}\n",
       "\n",
       "mpl.figure.prototype._key_event_extra = function(event, name) {\n",
       "    // Handle any extra behaviour associated with a key event\n",
       "}\n",
       "\n",
       "mpl.figure.prototype.key_event = function(event, name) {\n",
       "\n",
       "    // Prevent repeat events\n",
       "    if (name == 'key_press')\n",
       "    {\n",
       "        if (event.which === this._key)\n",
       "            return;\n",
       "        else\n",
       "            this._key = event.which;\n",
       "    }\n",
       "    if (name == 'key_release')\n",
       "        this._key = null;\n",
       "\n",
       "    var value = '';\n",
       "    if (event.ctrlKey && event.which != 17)\n",
       "        value += \"ctrl+\";\n",
       "    if (event.altKey && event.which != 18)\n",
       "        value += \"alt+\";\n",
       "    if (event.shiftKey && event.which != 16)\n",
       "        value += \"shift+\";\n",
       "\n",
       "    value += 'k';\n",
       "    value += event.which.toString();\n",
       "\n",
       "    this._key_event_extra(event, name);\n",
       "\n",
       "    this.send_message(name, {key: value,\n",
       "                             guiEvent: simpleKeys(event)});\n",
       "    return false;\n",
       "}\n",
       "\n",
       "mpl.figure.prototype.toolbar_button_onclick = function(name) {\n",
       "    if (name == 'download') {\n",
       "        this.handle_save(this, null);\n",
       "    } else {\n",
       "        this.send_message(\"toolbar_button\", {name: name});\n",
       "    }\n",
       "};\n",
       "\n",
       "mpl.figure.prototype.toolbar_button_onmouseover = function(tooltip) {\n",
       "    this.message.textContent = tooltip;\n",
       "};\n",
       "mpl.toolbar_items = [[\"Home\", \"Reset original view\", \"fa fa-home icon-home\", \"home\"], [\"Back\", \"Back to previous view\", \"fa fa-arrow-left icon-arrow-left\", \"back\"], [\"Forward\", \"Forward to next view\", \"fa fa-arrow-right icon-arrow-right\", \"forward\"], [\"\", \"\", \"\", \"\"], [\"Pan\", \"Pan axes with left mouse, zoom with right\", \"fa fa-arrows icon-move\", \"pan\"], [\"Zoom\", \"Zoom to rectangle\", \"fa fa-square-o icon-check-empty\", \"zoom\"], [\"\", \"\", \"\", \"\"], [\"Download\", \"Download plot\", \"fa fa-floppy-o icon-save\", \"download\"]];\n",
       "\n",
       "mpl.extensions = [\"eps\", \"jpeg\", \"pdf\", \"png\", \"ps\", \"raw\", \"svg\", \"tif\"];\n",
       "\n",
       "mpl.default_extension = \"png\";var comm_websocket_adapter = function(comm) {\n",
       "    // Create a \"websocket\"-like object which calls the given IPython comm\n",
       "    // object with the appropriate methods. Currently this is a non binary\n",
       "    // socket, so there is still some room for performance tuning.\n",
       "    var ws = {};\n",
       "\n",
       "    ws.close = function() {\n",
       "        comm.close()\n",
       "    };\n",
       "    ws.send = function(m) {\n",
       "        //console.log('sending', m);\n",
       "        comm.send(m);\n",
       "    };\n",
       "    // Register the callback with on_msg.\n",
       "    comm.on_msg(function(msg) {\n",
       "        //console.log('receiving', msg['content']['data'], msg);\n",
       "        // Pass the mpl event to the overridden (by mpl) onmessage function.\n",
       "        ws.onmessage(msg['content']['data'])\n",
       "    });\n",
       "    return ws;\n",
       "}\n",
       "\n",
       "mpl.mpl_figure_comm = function(comm, msg) {\n",
       "    // This is the function which gets called when the mpl process\n",
       "    // starts-up an IPython Comm through the \"matplotlib\" channel.\n",
       "\n",
       "    var id = msg.content.data.id;\n",
       "    // Get hold of the div created by the display call when the Comm\n",
       "    // socket was opened in Python.\n",
       "    var element = $(\"#\" + id);\n",
       "    var ws_proxy = comm_websocket_adapter(comm)\n",
       "\n",
       "    function ondownload(figure, format) {\n",
       "        window.open(figure.imageObj.src);\n",
       "    }\n",
       "\n",
       "    var fig = new mpl.figure(id, ws_proxy,\n",
       "                           ondownload,\n",
       "                           element.get(0));\n",
       "\n",
       "    // Call onopen now - mpl needs it, as it is assuming we've passed it a real\n",
       "    // web socket which is closed, not our websocket->open comm proxy.\n",
       "    ws_proxy.onopen();\n",
       "\n",
       "    fig.parent_element = element.get(0);\n",
       "    fig.cell_info = mpl.find_output_cell(\"<div id='\" + id + \"'></div>\");\n",
       "    if (!fig.cell_info) {\n",
       "        console.error(\"Failed to find cell for figure\", id, fig);\n",
       "        return;\n",
       "    }\n",
       "\n",
       "    var output_index = fig.cell_info[2]\n",
       "    var cell = fig.cell_info[0];\n",
       "\n",
       "};\n",
       "\n",
       "mpl.figure.prototype.handle_close = function(fig, msg) {\n",
       "    var width = fig.canvas.width/mpl.ratio\n",
       "    fig.root.unbind('remove')\n",
       "\n",
       "    // Update the output cell to use the data from the current canvas.\n",
       "    fig.push_to_output();\n",
       "    var dataURL = fig.canvas.toDataURL();\n",
       "    // Re-enable the keyboard manager in IPython - without this line, in FF,\n",
       "    // the notebook keyboard shortcuts fail.\n",
       "    IPython.keyboard_manager.enable()\n",
       "    $(fig.parent_element).html('<img src=\"' + dataURL + '\" width=\"' + width + '\">');\n",
       "    fig.close_ws(fig, msg);\n",
       "}\n",
       "\n",
       "mpl.figure.prototype.close_ws = function(fig, msg){\n",
       "    fig.send_message('closing', msg);\n",
       "    // fig.ws.close()\n",
       "}\n",
       "\n",
       "mpl.figure.prototype.push_to_output = function(remove_interactive) {\n",
       "    // Turn the data on the canvas into data in the output cell.\n",
       "    var width = this.canvas.width/mpl.ratio\n",
       "    var dataURL = this.canvas.toDataURL();\n",
       "    this.cell_info[1]['text/html'] = '<img src=\"' + dataURL + '\" width=\"' + width + '\">';\n",
       "}\n",
       "\n",
       "mpl.figure.prototype.updated_canvas_event = function() {\n",
       "    // Tell IPython that the notebook contents must change.\n",
       "    IPython.notebook.set_dirty(true);\n",
       "    this.send_message(\"ack\", {});\n",
       "    var fig = this;\n",
       "    // Wait a second, then push the new image to the DOM so\n",
       "    // that it is saved nicely (might be nice to debounce this).\n",
       "    setTimeout(function () { fig.push_to_output() }, 1000);\n",
       "}\n",
       "\n",
       "mpl.figure.prototype._init_toolbar = function() {\n",
       "    var fig = this;\n",
       "\n",
       "    var nav_element = $('<div/>')\n",
       "    nav_element.attr('style', 'width: 100%');\n",
       "    this.root.append(nav_element);\n",
       "\n",
       "    // Define a callback function for later on.\n",
       "    function toolbar_event(event) {\n",
       "        return fig.toolbar_button_onclick(event['data']);\n",
       "    }\n",
       "    function toolbar_mouse_event(event) {\n",
       "        return fig.toolbar_button_onmouseover(event['data']);\n",
       "    }\n",
       "\n",
       "    for(var toolbar_ind in mpl.toolbar_items){\n",
       "        var name = mpl.toolbar_items[toolbar_ind][0];\n",
       "        var tooltip = mpl.toolbar_items[toolbar_ind][1];\n",
       "        var image = mpl.toolbar_items[toolbar_ind][2];\n",
       "        var method_name = mpl.toolbar_items[toolbar_ind][3];\n",
       "\n",
       "        if (!name) { continue; };\n",
       "\n",
       "        var button = $('<button class=\"btn btn-default\" href=\"#\" title=\"' + name + '\"><i class=\"fa ' + image + ' fa-lg\"></i></button>');\n",
       "        button.click(method_name, toolbar_event);\n",
       "        button.mouseover(tooltip, toolbar_mouse_event);\n",
       "        nav_element.append(button);\n",
       "    }\n",
       "\n",
       "    // Add the status bar.\n",
       "    var status_bar = $('<span class=\"mpl-message\" style=\"text-align:right; float: right;\"/>');\n",
       "    nav_element.append(status_bar);\n",
       "    this.message = status_bar[0];\n",
       "\n",
       "    // Add the close button to the window.\n",
       "    var buttongrp = $('<div class=\"btn-group inline pull-right\"></div>');\n",
       "    var button = $('<button class=\"btn btn-mini btn-primary\" href=\"#\" title=\"Stop Interaction\"><i class=\"fa fa-power-off icon-remove icon-large\"></i></button>');\n",
       "    button.click(function (evt) { fig.handle_close(fig, {}); } );\n",
       "    button.mouseover('Stop Interaction', toolbar_mouse_event);\n",
       "    buttongrp.append(button);\n",
       "    var titlebar = this.root.find($('.ui-dialog-titlebar'));\n",
       "    titlebar.prepend(buttongrp);\n",
       "}\n",
       "\n",
       "mpl.figure.prototype._root_extra_style = function(el){\n",
       "    var fig = this\n",
       "    el.on(\"remove\", function(){\n",
       "\tfig.close_ws(fig, {});\n",
       "    });\n",
       "}\n",
       "\n",
       "mpl.figure.prototype._canvas_extra_style = function(el){\n",
       "    // this is important to make the div 'focusable\n",
       "    el.attr('tabindex', 0)\n",
       "    // reach out to IPython and tell the keyboard manager to turn it's self\n",
       "    // off when our div gets focus\n",
       "\n",
       "    // location in version 3\n",
       "    if (IPython.notebook.keyboard_manager) {\n",
       "        IPython.notebook.keyboard_manager.register_events(el);\n",
       "    }\n",
       "    else {\n",
       "        // location in version 2\n",
       "        IPython.keyboard_manager.register_events(el);\n",
       "    }\n",
       "\n",
       "}\n",
       "\n",
       "mpl.figure.prototype._key_event_extra = function(event, name) {\n",
       "    var manager = IPython.notebook.keyboard_manager;\n",
       "    if (!manager)\n",
       "        manager = IPython.keyboard_manager;\n",
       "\n",
       "    // Check for shift+enter\n",
       "    if (event.shiftKey && event.which == 13) {\n",
       "        this.canvas_div.blur();\n",
       "        event.shiftKey = false;\n",
       "        // Send a \"J\" for go to next cell\n",
       "        event.which = 74;\n",
       "        event.keyCode = 74;\n",
       "        manager.command_mode();\n",
       "        manager.handle_keydown(event);\n",
       "    }\n",
       "}\n",
       "\n",
       "mpl.figure.prototype.handle_save = function(fig, msg) {\n",
       "    fig.ondownload(fig, null);\n",
       "}\n",
       "\n",
       "\n",
       "mpl.find_output_cell = function(html_output) {\n",
       "    // Return the cell and output element which can be found *uniquely* in the notebook.\n",
       "    // Note - this is a bit hacky, but it is done because the \"notebook_saving.Notebook\"\n",
       "    // IPython event is triggered only after the cells have been serialised, which for\n",
       "    // our purposes (turning an active figure into a static one), is too late.\n",
       "    var cells = IPython.notebook.get_cells();\n",
       "    var ncells = cells.length;\n",
       "    for (var i=0; i<ncells; i++) {\n",
       "        var cell = cells[i];\n",
       "        if (cell.cell_type === 'code'){\n",
       "            for (var j=0; j<cell.output_area.outputs.length; j++) {\n",
       "                var data = cell.output_area.outputs[j];\n",
       "                if (data.data) {\n",
       "                    // IPython >= 3 moved mimebundle to data attribute of output\n",
       "                    data = data.data;\n",
       "                }\n",
       "                if (data['text/html'] == html_output) {\n",
       "                    return [cell, data, j];\n",
       "                }\n",
       "            }\n",
       "        }\n",
       "    }\n",
       "}\n",
       "\n",
       "// Register the function which deals with the matplotlib target/channel.\n",
       "// The kernel may be null if the page has been refreshed.\n",
       "if (IPython.notebook.kernel != null) {\n",
       "    IPython.notebook.kernel.comm_manager.register_target('matplotlib', mpl.mpl_figure_comm);\n",
       "}\n"
      ],
      "text/plain": [
       "<IPython.core.display.Javascript object>"
      ]
     },
     "metadata": {},
     "output_type": "display_data"
    },
    {
     "data": {
      "text/html": [
       "<img src=\"data:image/png;base64,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\" width=\"875\">"
      ],
      "text/plain": [
       "<IPython.core.display.HTML object>"
      ]
     },
     "metadata": {},
     "output_type": "display_data"
    }
   ],
   "source": [
    "plot_block_polys((9,10),polys)"
   ]
  },
  {
   "cell_type": "code",
   "execution_count": 45,
   "metadata": {},
   "outputs": [
    {
     "data": {
      "text/plain": [
       "69211"
      ]
     },
     "execution_count": 45,
     "metadata": {},
     "output_type": "execute_result"
    }
   ],
   "source": [
    "sum([len(poly) for block, poly in polys.items()])"
   ]
  },
  {
   "cell_type": "markdown",
   "metadata": {},
   "source": [
    "## Save all polygons to shapefile"
   ]
  },
  {
   "cell_type": "code",
   "execution_count": 59,
   "metadata": {},
   "outputs": [],
   "source": [
    "import fiona\n",
    "\n",
    "shape_file = '../test_shape/my_shp_all.shp'"
   ]
  },
  {
   "cell_type": "code",
   "execution_count": 58,
   "metadata": {},
   "outputs": [
    {
     "name": "stdout",
     "output_type": "stream",
     "text": [
      "18\n"
     ]
    }
   ],
   "source": [
    "\n",
    "    print(len(src.block_shapes))"
   ]
  },
  {
   "cell_type": "code",
   "execution_count": 61,
   "metadata": {},
   "outputs": [],
   "source": [
    "with rasterio.open(dataset_VIS_filename) as dataset:\n",
    "    affine_matrix = [dataset.transform.a,\n",
    "                     dataset.transform.b,\n",
    "                     dataset.transform.d,\n",
    "                     dataset.transform.e,\n",
    "                     dataset.transform.c,\n",
    "                     dataset.transform.f]\n",
    "\n",
    "\n",
    "schema = {'geometry': 'Polygon', 'properties': {'id': 'int'},}\n",
    "\n",
    "with fiona.open(shape_file, 'w', 'ESRI Shapefile', schema, dataset.crs) as c:\n",
    "    for block, polys in polys.items():\n",
    "        polys_t = translate(polys,xoff=256*block[1],yoff=256*block[0])\n",
    "        polys_tt = affine_transform(polys_t,affine_matrix)\n",
    "        \n",
    "        for i, poly_tt in enumerate(polys_tt):\n",
    "            c.write({'geometry': mapping(poly_tt),'properties': {'id': i},})"
   ]
  },
  {
   "cell_type": "markdown",
   "metadata": {},
   "source": [
    "# Watershed ITCD"
   ]
  },
  {
   "cell_type": "code",
   "execution_count": 7,
   "metadata": {},
   "outputs": [],
   "source": [
    "from thresholding_watershed import itcd as itcd_tw\n",
    "#from local_maxima import itcd as itcd_lm\n",
    "from skimage.color import gray2rgb\n",
    "\n",
    "from skimage.exposure import rescale_intensity\n",
    "\n",
    "from rasterio.mask import mask\n",
    "from shapely.affinity import translate,affine_transform\n",
    "from shapely.geometry import mapping"
   ]
  },
  {
   "cell_type": "code",
   "execution_count": 8,
   "metadata": {},
   "outputs": [],
   "source": [
    "selected_band = 8\n",
    "\n",
    "trees_mono = trees_VIS[selected_band]\n",
    "\n",
    "# Scale image\n",
    "trees_mono_n = rescale_intensity(trees_mono,out_range='uint8')"
   ]
  },
  {
   "cell_type": "code",
   "execution_count": 9,
   "metadata": {},
   "outputs": [
    {
     "ename": "MemoryError",
     "evalue": "",
     "output_type": "error",
     "traceback": [
      "\u001b[0;31m---------------------------------------------------------------------------\u001b[0m",
      "\u001b[0;31mMemoryError\u001b[0m                               Traceback (most recent call last)",
      "\u001b[0;32m<ipython-input-9-1765a3ad9f36>\u001b[0m in \u001b[0;36m<module>\u001b[0;34m()\u001b[0m\n\u001b[1;32m      1\u001b[0m \u001b[0;31m# Compute ITCD\u001b[0m\u001b[0;34m\u001b[0m\u001b[0;34m\u001b[0m\u001b[0m\n\u001b[0;32m----> 2\u001b[0;31m \u001b[0mpolys\u001b[0m \u001b[0;34m=\u001b[0m \u001b[0mitcd_tw\u001b[0m\u001b[0;34m(\u001b[0m\u001b[0mtrees_mono_n\u001b[0m\u001b[0;34m,\u001b[0m \u001b[0msmoothing\u001b[0m\u001b[0;34m=\u001b[0m\u001b[0;36m2\u001b[0m\u001b[0;34m,\u001b[0m \u001b[0mrgb\u001b[0m\u001b[0;34m=\u001b[0m\u001b[0;32mFalse\u001b[0m\u001b[0;34m,\u001b[0m \u001b[0mn_dilation\u001b[0m\u001b[0;34m=\u001b[0m\u001b[0;36m0\u001b[0m\u001b[0;34m)\u001b[0m\u001b[0;34m\u001b[0m\u001b[0m\n\u001b[0m\u001b[1;32m      3\u001b[0m \u001b[0;34m\u001b[0m\u001b[0m\n\u001b[1;32m      4\u001b[0m \u001b[0mplt\u001b[0m\u001b[0;34m.\u001b[0m\u001b[0mfigure\u001b[0m\u001b[0;34m(\u001b[0m\u001b[0;34m)\u001b[0m\u001b[0;34m\u001b[0m\u001b[0m\n\u001b[1;32m      5\u001b[0m \u001b[0mplt\u001b[0m\u001b[0;34m.\u001b[0m\u001b[0mimshow\u001b[0m\u001b[0;34m(\u001b[0m\u001b[0mtrees_mono_n\u001b[0m\u001b[0;34m)\u001b[0m\u001b[0;34m\u001b[0m\u001b[0m\n",
      "\u001b[0;32m~/Works/Skoltech/forest-inventory-ml/thresholding_watershed.py\u001b[0m in \u001b[0;36mitcd\u001b[0;34m(input_img, smoothing, rgb, n_dilation)\u001b[0m\n\u001b[1;32m     47\u001b[0m     \u001b[0mmarkers\u001b[0m\u001b[0;34m,\u001b[0m \u001b[0mn_labels\u001b[0m \u001b[0;34m=\u001b[0m \u001b[0mndi\u001b[0m\u001b[0;34m.\u001b[0m\u001b[0mlabel\u001b[0m\u001b[0;34m(\u001b[0m\u001b[0mlocal_maxima\u001b[0m\u001b[0;34m)\u001b[0m\u001b[0;34m\u001b[0m\u001b[0m\n\u001b[1;32m     48\u001b[0m \u001b[0;34m\u001b[0m\u001b[0m\n\u001b[0;32m---> 49\u001b[0;31m     \u001b[0msegments\u001b[0m \u001b[0;34m=\u001b[0m \u001b[0mwatershed\u001b[0m\u001b[0;34m(\u001b[0m\u001b[0;34m-\u001b[0m\u001b[0mimg_gaussian\u001b[0m\u001b[0;34m,\u001b[0m \u001b[0mmarkers\u001b[0m\u001b[0;34m,\u001b[0m \u001b[0mmask\u001b[0m\u001b[0;34m=\u001b[0m\u001b[0mcanopy_mask\u001b[0m\u001b[0;34m)\u001b[0m\u001b[0;34m\u001b[0m\u001b[0m\n\u001b[0m\u001b[1;32m     50\u001b[0m     \u001b[0msegments\u001b[0m\u001b[0;34m[\u001b[0m\u001b[0mnp\u001b[0m\u001b[0;34m.\u001b[0m\u001b[0mwhere\u001b[0m\u001b[0;34m(\u001b[0m\u001b[0;34m(\u001b[0m\u001b[0msegments\u001b[0m\u001b[0;34m==\u001b[0m\u001b[0;36m0\u001b[0m\u001b[0;34m)\u001b[0m \u001b[0;34m&\u001b[0m \u001b[0;34m(\u001b[0m\u001b[0mcanopy_mask\u001b[0m\u001b[0;34m==\u001b[0m\u001b[0;32mTrue\u001b[0m\u001b[0;34m)\u001b[0m\u001b[0;34m)\u001b[0m\u001b[0;34m]\u001b[0m \u001b[0;34m=\u001b[0m \u001b[0mn_labels\u001b[0m\u001b[0;34m+\u001b[0m\u001b[0;36m1\u001b[0m\u001b[0;34m\u001b[0m\u001b[0m\n\u001b[1;32m     51\u001b[0m \u001b[0;34m\u001b[0m\u001b[0m\n",
      "\u001b[0;32m~/anaconda3/envs/skoltech/lib/python3.6/site-packages/skimage/morphology/watershed.py\u001b[0m in \u001b[0;36mwatershed\u001b[0;34m(image, markers, connectivity, offset, mask, compactness, watershed_line)\u001b[0m\n\u001b[1;32m    250\u001b[0m     \u001b[0;31m# keep from running off the edges\u001b[0m\u001b[0;34m\u001b[0m\u001b[0;34m\u001b[0m\u001b[0m\n\u001b[1;32m    251\u001b[0m     \u001b[0mpad_width\u001b[0m \u001b[0;34m=\u001b[0m \u001b[0;34m[\u001b[0m\u001b[0;34m(\u001b[0m\u001b[0mp\u001b[0m\u001b[0;34m,\u001b[0m \u001b[0mp\u001b[0m\u001b[0;34m)\u001b[0m \u001b[0;32mfor\u001b[0m \u001b[0mp\u001b[0m \u001b[0;32min\u001b[0m \u001b[0moffset\u001b[0m\u001b[0;34m]\u001b[0m\u001b[0;34m\u001b[0m\u001b[0m\n\u001b[0;32m--> 252\u001b[0;31m     \u001b[0mimage\u001b[0m \u001b[0;34m=\u001b[0m \u001b[0mnp\u001b[0m\u001b[0;34m.\u001b[0m\u001b[0mpad\u001b[0m\u001b[0;34m(\u001b[0m\u001b[0mimage\u001b[0m\u001b[0;34m,\u001b[0m \u001b[0mpad_width\u001b[0m\u001b[0;34m,\u001b[0m \u001b[0mmode\u001b[0m\u001b[0;34m=\u001b[0m\u001b[0;34m'constant'\u001b[0m\u001b[0;34m)\u001b[0m\u001b[0;34m\u001b[0m\u001b[0m\n\u001b[0m\u001b[1;32m    253\u001b[0m     \u001b[0mmask\u001b[0m \u001b[0;34m=\u001b[0m \u001b[0mnp\u001b[0m\u001b[0;34m.\u001b[0m\u001b[0mpad\u001b[0m\u001b[0;34m(\u001b[0m\u001b[0mmask\u001b[0m\u001b[0;34m,\u001b[0m \u001b[0mpad_width\u001b[0m\u001b[0;34m,\u001b[0m \u001b[0mmode\u001b[0m\u001b[0;34m=\u001b[0m\u001b[0;34m'constant'\u001b[0m\u001b[0;34m)\u001b[0m\u001b[0;34m.\u001b[0m\u001b[0mravel\u001b[0m\u001b[0;34m(\u001b[0m\u001b[0;34m)\u001b[0m\u001b[0;34m\u001b[0m\u001b[0m\n\u001b[1;32m    254\u001b[0m     \u001b[0moutput\u001b[0m \u001b[0;34m=\u001b[0m \u001b[0mnp\u001b[0m\u001b[0;34m.\u001b[0m\u001b[0mpad\u001b[0m\u001b[0;34m(\u001b[0m\u001b[0mmarkers\u001b[0m\u001b[0;34m,\u001b[0m \u001b[0mpad_width\u001b[0m\u001b[0;34m,\u001b[0m \u001b[0mmode\u001b[0m\u001b[0;34m=\u001b[0m\u001b[0;34m'constant'\u001b[0m\u001b[0;34m)\u001b[0m\u001b[0;34m\u001b[0m\u001b[0m\n",
      "\u001b[0;32m~/anaconda3/envs/skoltech/lib/python3.6/site-packages/numpy/lib/arraypad.py\u001b[0m in \u001b[0;36mpad\u001b[0;34m(array, pad_width, mode, **kwargs)\u001b[0m\n\u001b[1;32m   1266\u001b[0m \u001b[0;34m\u001b[0m\u001b[0m\n\u001b[1;32m   1267\u001b[0m     \u001b[0;31m# If we get here, use new padding method\u001b[0m\u001b[0;34m\u001b[0m\u001b[0;34m\u001b[0m\u001b[0m\n\u001b[0;32m-> 1268\u001b[0;31m     \u001b[0mnewmat\u001b[0m \u001b[0;34m=\u001b[0m \u001b[0mnarray\u001b[0m\u001b[0;34m.\u001b[0m\u001b[0mcopy\u001b[0m\u001b[0;34m(\u001b[0m\u001b[0;34m)\u001b[0m\u001b[0;34m\u001b[0m\u001b[0m\n\u001b[0m\u001b[1;32m   1269\u001b[0m \u001b[0;34m\u001b[0m\u001b[0m\n\u001b[1;32m   1270\u001b[0m     \u001b[0;31m# API preserved, but completely new algorithm which pads by building the\u001b[0m\u001b[0;34m\u001b[0m\u001b[0;34m\u001b[0m\u001b[0m\n",
      "\u001b[0;31mMemoryError\u001b[0m: "
     ]
    }
   ],
   "source": [
    "# Compute ITCD\n",
    "polys = itcd_tw(trees_mono_n, smoothing=2, rgb=False, n_dilation=0)"
   ]
  },
  {
   "cell_type": "code",
   "execution_count": null,
   "metadata": {},
   "outputs": [],
   "source": []
  }
 ],
 "metadata": {
  "kernelspec": {
   "display_name": "Python [conda env:skoltech]",
   "language": "python",
   "name": "conda-env-skoltech-py"
  },
  "language_info": {
   "codemirror_mode": {
    "name": "ipython",
    "version": 3
   },
   "file_extension": ".py",
   "mimetype": "text/x-python",
   "name": "python",
   "nbconvert_exporter": "python",
   "pygments_lexer": "ipython3",
   "version": "3.6.5"
  },
  "toc": {
   "base_numbering": 1,
   "nav_menu": {},
   "number_sections": true,
   "sideBar": true,
   "skip_h1_title": false,
   "title_cell": "Table of Contents",
   "title_sidebar": "Contents",
   "toc_cell": false,
   "toc_position": {},
   "toc_section_display": true,
   "toc_window_display": false
  }
 },
 "nbformat": 4,
 "nbformat_minor": 2
}
